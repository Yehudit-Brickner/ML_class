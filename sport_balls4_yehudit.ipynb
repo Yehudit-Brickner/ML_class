{
 "cells": [
  {
   "cell_type": "markdown",
   "metadata": {},
   "source": [
    "# ML class final project part1\n",
    "##  Almog Shor\n",
    "## Yehudit Brickner"
   ]
  },
  {
   "cell_type": "markdown",
   "metadata": {},
   "source": [
    "imports"
   ]
  },
  {
   "cell_type": "code",
   "execution_count": 1,
   "metadata": {},
   "outputs": [],
   "source": [
    "import os\n",
    "import cv2 \n",
    "import numpy as np\n",
    "import matplotlib.pyplot as plt \n",
    "import pandas as pd\n",
    "import seaborn as sns\n",
    "import time\n",
    "import pickle\n",
    "from collections import Counter\n",
    "\n",
    "from sklearn.metrics import confusion_matrix\n",
    "from sklearn.model_selection import train_test_split\n",
    "from sklearn.metrics import classification_report\n",
    "\n",
    "import warnings\n",
    "warnings.filterwarnings(action='ignore', category=UserWarning)"
   ]
  },
  {
   "cell_type": "markdown",
   "metadata": {},
   "source": [
    "create the data set with all of the features"
   ]
  },
  {
   "cell_type": "code",
   "execution_count": 2,
   "metadata": {},
   "outputs": [],
   "source": [
    "def create_df1(folder):\n",
    "\n",
    "    folder_dir= os.listdir(folder)\n",
    "    sphere_balls=['basketball','baseball','football','volley_ball'] # change to the balls u want...\n",
    "    non_sphere_balls=['american_football','shuttlecock','rugby','hockey_puck'] # change to the balls u want...\n",
    "    big_list=[]\n",
    "    my_list=[]\n",
    "    count=0\n",
    "    c=0\n",
    "    for i in folder_dir:\n",
    "        print(i)\n",
    "        j = os.listdir(folder+\"/\"+i)\n",
    "        if i in sphere_balls or i in non_sphere_balls:\n",
    "            for k in range(len(j)):\n",
    "                try:\n",
    "                    img = cv2.imread(folder+\"/\"+i+\"/\"+j[k], cv2.COLOR_BGR2RGB)\n",
    "                    img = cv2.resize(img,(200,200), interpolation = cv2.INTER_AREA)\n",
    "                    \n",
    "                    histogram_r, bin_edges = np.histogram(img[:, :, 0], bins=256, range=(0, 256)) \n",
    "                    histogram_g, bin_edges = np.histogram(img[:, :, 1], bins=256, range=(0, 256)) \n",
    "                    histogram_b, bin_edges = np.histogram(img[:, :, 2], bins=256, range=(0, 256)) \n",
    "                    \n",
    "                    dst = cv2.Canny(img, 50, 200, None, 3)\n",
    "                    dst1 = cv2.Canny(img, 50, 200, None, 3)\n",
    "                    lines = cv2.HoughLines(dst1, 1, np.pi / 180, 50, None, 0, 0)\n",
    "                    \n",
    "                    gray = cv2.imread(folder+\"/\"+i+\"/\"+j[k],cv2.IMREAD_GRAYSCALE)\n",
    "                    gray =  cv2.resize(gray,(200,200), interpolation = cv2.INTER_AREA)\n",
    "                    gray = cv2.medianBlur(gray, 5)\n",
    "                    rows = gray.shape[0]\n",
    "                    circles = cv2.HoughCircles(gray, cv2.HOUGH_GRADIENT, 1, rows / 8,\n",
    "                                    param1=100, param2=30,\n",
    "                                    minRadius=10, maxRadius=100)\n",
    "                    \n",
    "                    my_list=[]\n",
    "                    my_list.append(folder+\"/\"+i+\"/\"+j[k])\n",
    "                    my_list.append(i)\n",
    "                    my_list.append(c)\n",
    "                    if i in sphere_balls:\n",
    "                        my_list.append(0) # ball is sphere\n",
    "                    elif i in non_sphere_balls:\n",
    "                        my_list.append(1) # ball is non sphere\n",
    "                    else:\n",
    "                        my_list.append(-1) # not in either list - shoudnt get here\n",
    "                    if lines is None:\n",
    "                        my_list.append(0)\n",
    "                        my_list.append(0)   \n",
    "                    else:\n",
    "                        my_list.append(1)\n",
    "                        my_list.append(len(lines))\n",
    "                    if circles is None:\n",
    "                        my_list.append(0)\n",
    "                        my_list.append(0)   \n",
    "                    else:\n",
    "                        my_list.append(1)\n",
    "                        my_list.append(circles.shape[1])\n",
    "                    \n",
    "                    my_list.extend(histogram_r)\n",
    "                    my_list.extend(histogram_g)\n",
    "                    my_list.extend(histogram_b)\n",
    "                    my_list.extend(img.flatten())\n",
    "                    my_list.extend(dst.flatten())\n",
    "\n",
    "                    big_list.append(my_list)\n",
    "                    count+=1\n",
    "                    \n",
    "                except:\n",
    "                    print(\"there was an error with count \",count)\n",
    "\n",
    "        c+=1\n",
    "\n",
    "    \n",
    "    print(\"creating df\")\n",
    "    cols = ['path','class_name','class_number','type','lines?','#lines','circles?','#circles']\n",
    "    for h in range(256):\n",
    "        cols.append(\"r\"+str(h))\n",
    "    for h in range(256):\n",
    "        cols.append(\"g\"+str(h))\n",
    "    for h in range(256):\n",
    "        cols.append(\"b\"+str(h))\n",
    "    for h in range(200*200*3):\n",
    "        cols.append(\"i\"+str(h))\n",
    "    for h in range(200*200):\n",
    "        cols.append(\"e\"+str(h))\n",
    "\n",
    "    df = pd.DataFrame(big_list, columns = cols) \n",
    "\n",
    "    print(\"created df\")\n",
    "              \n",
    "    return df"
   ]
  },
  {
   "cell_type": "code",
   "execution_count": 3,
   "metadata": {},
   "outputs": [],
   "source": [
    "# folder =\"C:/Users/nechd/Downloads/ball_classification/train\"\n",
    "# start_time = time.time()\n",
    "# full_ball_df = create_df1(folder) \n",
    "# end_time = time.time()\n",
    "# print(\"time taken: \",end_time - start_time)"
   ]
  },
  {
   "cell_type": "code",
   "execution_count": 4,
   "metadata": {},
   "outputs": [],
   "source": [
    "# full_ball_df.shape\n",
    "# full_ball_df.head()"
   ]
  },
  {
   "cell_type": "code",
   "execution_count": 5,
   "metadata": {},
   "outputs": [],
   "source": [
    "# full_ball_df.to_csv('sphere_nonsphere_full.csv', index=False)"
   ]
  },
  {
   "cell_type": "code",
   "execution_count": 6,
   "metadata": {},
   "outputs": [],
   "source": [
    "# folder =\"C:/Users/nechd/Downloads/ball_classification/test\"\n",
    "# start_time = time.time()\n",
    "# full_test_df = create_df1(folder) \n",
    "# end_time = time.time()\n",
    "# print(\"time taken: \",end_time - start_time)\n"
   ]
  },
  {
   "cell_type": "code",
   "execution_count": 7,
   "metadata": {},
   "outputs": [],
   "source": [
    "# full_test_df.to_csv('final_test_data_sphere_nonsphere_full.csv', index=False)"
   ]
  },
  {
   "cell_type": "code",
   "execution_count": null,
   "metadata": {},
   "outputs": [],
   "source": []
  },
  {
   "cell_type": "markdown",
   "metadata": {},
   "source": [
    "import the data with some/all features"
   ]
  },
  {
   "cell_type": "code",
   "execution_count": 8,
   "metadata": {},
   "outputs": [],
   "source": [
    "data = pd.read_csv('sphere_nonsphere_full.csv')\n",
    "del data['path']\n",
    "del data['class_name']\n",
    "del data['class_number']\n",
    "# ball_type = [0,2,9,11]\n",
    "# small_hist_4balls = data.loc[data['class_number'].isin(ball_type)]\n",
    "# small_hist_4balls.shape"
   ]
  },
  {
   "cell_type": "code",
   "execution_count": 9,
   "metadata": {},
   "outputs": [
    {
     "data": {
      "text/html": [
       "<div>\n",
       "<style scoped>\n",
       "    .dataframe tbody tr th:only-of-type {\n",
       "        vertical-align: middle;\n",
       "    }\n",
       "\n",
       "    .dataframe tbody tr th {\n",
       "        vertical-align: top;\n",
       "    }\n",
       "\n",
       "    .dataframe thead th {\n",
       "        text-align: right;\n",
       "    }\n",
       "</style>\n",
       "<table border=\"1\" class=\"dataframe\">\n",
       "  <thead>\n",
       "    <tr style=\"text-align: right;\">\n",
       "      <th></th>\n",
       "      <th>type</th>\n",
       "      <th>lines?</th>\n",
       "      <th>#lines</th>\n",
       "      <th>circles?</th>\n",
       "      <th>#circles</th>\n",
       "      <th>r0</th>\n",
       "      <th>r1</th>\n",
       "      <th>r2</th>\n",
       "      <th>r3</th>\n",
       "      <th>r4</th>\n",
       "      <th>...</th>\n",
       "      <th>e39990</th>\n",
       "      <th>e39991</th>\n",
       "      <th>e39992</th>\n",
       "      <th>e39993</th>\n",
       "      <th>e39994</th>\n",
       "      <th>e39995</th>\n",
       "      <th>e39996</th>\n",
       "      <th>e39997</th>\n",
       "      <th>e39998</th>\n",
       "      <th>e39999</th>\n",
       "    </tr>\n",
       "  </thead>\n",
       "  <tbody>\n",
       "    <tr>\n",
       "      <th>0</th>\n",
       "      <td>1</td>\n",
       "      <td>1</td>\n",
       "      <td>36</td>\n",
       "      <td>1</td>\n",
       "      <td>5</td>\n",
       "      <td>2</td>\n",
       "      <td>3</td>\n",
       "      <td>9</td>\n",
       "      <td>16</td>\n",
       "      <td>12</td>\n",
       "      <td>...</td>\n",
       "      <td>0</td>\n",
       "      <td>0</td>\n",
       "      <td>0</td>\n",
       "      <td>0</td>\n",
       "      <td>0</td>\n",
       "      <td>0</td>\n",
       "      <td>0</td>\n",
       "      <td>0</td>\n",
       "      <td>0</td>\n",
       "      <td>0</td>\n",
       "    </tr>\n",
       "    <tr>\n",
       "      <th>1</th>\n",
       "      <td>1</td>\n",
       "      <td>1</td>\n",
       "      <td>207</td>\n",
       "      <td>1</td>\n",
       "      <td>6</td>\n",
       "      <td>2</td>\n",
       "      <td>4</td>\n",
       "      <td>28</td>\n",
       "      <td>29</td>\n",
       "      <td>60</td>\n",
       "      <td>...</td>\n",
       "      <td>0</td>\n",
       "      <td>0</td>\n",
       "      <td>0</td>\n",
       "      <td>0</td>\n",
       "      <td>0</td>\n",
       "      <td>0</td>\n",
       "      <td>0</td>\n",
       "      <td>0</td>\n",
       "      <td>0</td>\n",
       "      <td>0</td>\n",
       "    </tr>\n",
       "    <tr>\n",
       "      <th>2</th>\n",
       "      <td>1</td>\n",
       "      <td>1</td>\n",
       "      <td>55</td>\n",
       "      <td>1</td>\n",
       "      <td>5</td>\n",
       "      <td>0</td>\n",
       "      <td>0</td>\n",
       "      <td>2</td>\n",
       "      <td>6</td>\n",
       "      <td>13</td>\n",
       "      <td>...</td>\n",
       "      <td>0</td>\n",
       "      <td>0</td>\n",
       "      <td>0</td>\n",
       "      <td>0</td>\n",
       "      <td>0</td>\n",
       "      <td>0</td>\n",
       "      <td>0</td>\n",
       "      <td>0</td>\n",
       "      <td>0</td>\n",
       "      <td>0</td>\n",
       "    </tr>\n",
       "    <tr>\n",
       "      <th>3</th>\n",
       "      <td>1</td>\n",
       "      <td>1</td>\n",
       "      <td>196</td>\n",
       "      <td>1</td>\n",
       "      <td>1</td>\n",
       "      <td>0</td>\n",
       "      <td>0</td>\n",
       "      <td>0</td>\n",
       "      <td>0</td>\n",
       "      <td>0</td>\n",
       "      <td>...</td>\n",
       "      <td>0</td>\n",
       "      <td>0</td>\n",
       "      <td>0</td>\n",
       "      <td>0</td>\n",
       "      <td>0</td>\n",
       "      <td>0</td>\n",
       "      <td>0</td>\n",
       "      <td>0</td>\n",
       "      <td>0</td>\n",
       "      <td>0</td>\n",
       "    </tr>\n",
       "    <tr>\n",
       "      <th>4</th>\n",
       "      <td>1</td>\n",
       "      <td>1</td>\n",
       "      <td>291</td>\n",
       "      <td>1</td>\n",
       "      <td>12</td>\n",
       "      <td>4529</td>\n",
       "      <td>4546</td>\n",
       "      <td>1537</td>\n",
       "      <td>812</td>\n",
       "      <td>577</td>\n",
       "      <td>...</td>\n",
       "      <td>0</td>\n",
       "      <td>0</td>\n",
       "      <td>0</td>\n",
       "      <td>0</td>\n",
       "      <td>0</td>\n",
       "      <td>0</td>\n",
       "      <td>0</td>\n",
       "      <td>0</td>\n",
       "      <td>0</td>\n",
       "      <td>0</td>\n",
       "    </tr>\n",
       "  </tbody>\n",
       "</table>\n",
       "<p>5 rows × 160773 columns</p>\n",
       "</div>"
      ],
      "text/plain": [
       "   type  lines?  #lines  circles?  #circles    r0    r1    r2   r3   r4  ...  \\\n",
       "0     1       1      36         1         5     2     3     9   16   12  ...   \n",
       "1     1       1     207         1         6     2     4    28   29   60  ...   \n",
       "2     1       1      55         1         5     0     0     2    6   13  ...   \n",
       "3     1       1     196         1         1     0     0     0    0    0  ...   \n",
       "4     1       1     291         1        12  4529  4546  1537  812  577  ...   \n",
       "\n",
       "   e39990  e39991  e39992  e39993  e39994  e39995  e39996  e39997  e39998  \\\n",
       "0       0       0       0       0       0       0       0       0       0   \n",
       "1       0       0       0       0       0       0       0       0       0   \n",
       "2       0       0       0       0       0       0       0       0       0   \n",
       "3       0       0       0       0       0       0       0       0       0   \n",
       "4       0       0       0       0       0       0       0       0       0   \n",
       "\n",
       "   e39999  \n",
       "0       0  \n",
       "1       0  \n",
       "2       0  \n",
       "3       0  \n",
       "4       0  \n",
       "\n",
       "[5 rows x 160773 columns]"
      ]
     },
     "execution_count": 9,
     "metadata": {},
     "output_type": "execute_result"
    }
   ],
   "source": [
    "data.head()"
   ]
  },
  {
   "cell_type": "code",
   "execution_count": 10,
   "metadata": {},
   "outputs": [],
   "source": [
    "test_data = pd.read_csv('final_test_data_sphere_nonsphere_full.csv')\n",
    "del test_data['path']\n",
    "del test_data['class_name']\n",
    "del test_data['class_number']\n",
    "final_test_y = test_data['type']\n",
    "# print(final_test_y)\n",
    "final_test_X = test_data.drop(['type'], axis=1)"
   ]
  },
  {
   "cell_type": "code",
   "execution_count": 11,
   "metadata": {},
   "outputs": [
    {
     "data": {
      "text/html": [
       "<div>\n",
       "<style scoped>\n",
       "    .dataframe tbody tr th:only-of-type {\n",
       "        vertical-align: middle;\n",
       "    }\n",
       "\n",
       "    .dataframe tbody tr th {\n",
       "        vertical-align: top;\n",
       "    }\n",
       "\n",
       "    .dataframe thead th {\n",
       "        text-align: right;\n",
       "    }\n",
       "</style>\n",
       "<table border=\"1\" class=\"dataframe\">\n",
       "  <thead>\n",
       "    <tr style=\"text-align: right;\">\n",
       "      <th></th>\n",
       "      <th>type</th>\n",
       "      <th>lines?</th>\n",
       "      <th>#lines</th>\n",
       "      <th>circles?</th>\n",
       "      <th>#circles</th>\n",
       "      <th>r0</th>\n",
       "      <th>r1</th>\n",
       "      <th>r2</th>\n",
       "      <th>r3</th>\n",
       "      <th>r4</th>\n",
       "      <th>...</th>\n",
       "      <th>e39990</th>\n",
       "      <th>e39991</th>\n",
       "      <th>e39992</th>\n",
       "      <th>e39993</th>\n",
       "      <th>e39994</th>\n",
       "      <th>e39995</th>\n",
       "      <th>e39996</th>\n",
       "      <th>e39997</th>\n",
       "      <th>e39998</th>\n",
       "      <th>e39999</th>\n",
       "    </tr>\n",
       "  </thead>\n",
       "  <tbody>\n",
       "    <tr>\n",
       "      <th>0</th>\n",
       "      <td>1</td>\n",
       "      <td>0</td>\n",
       "      <td>0</td>\n",
       "      <td>1</td>\n",
       "      <td>1</td>\n",
       "      <td>0</td>\n",
       "      <td>0</td>\n",
       "      <td>0</td>\n",
       "      <td>0</td>\n",
       "      <td>0</td>\n",
       "      <td>...</td>\n",
       "      <td>0</td>\n",
       "      <td>0</td>\n",
       "      <td>0</td>\n",
       "      <td>0</td>\n",
       "      <td>0</td>\n",
       "      <td>0</td>\n",
       "      <td>0</td>\n",
       "      <td>0</td>\n",
       "      <td>0</td>\n",
       "      <td>0</td>\n",
       "    </tr>\n",
       "    <tr>\n",
       "      <th>1</th>\n",
       "      <td>1</td>\n",
       "      <td>1</td>\n",
       "      <td>759</td>\n",
       "      <td>1</td>\n",
       "      <td>8</td>\n",
       "      <td>182</td>\n",
       "      <td>184</td>\n",
       "      <td>170</td>\n",
       "      <td>223</td>\n",
       "      <td>353</td>\n",
       "      <td>...</td>\n",
       "      <td>0</td>\n",
       "      <td>0</td>\n",
       "      <td>0</td>\n",
       "      <td>255</td>\n",
       "      <td>0</td>\n",
       "      <td>0</td>\n",
       "      <td>0</td>\n",
       "      <td>0</td>\n",
       "      <td>0</td>\n",
       "      <td>0</td>\n",
       "    </tr>\n",
       "    <tr>\n",
       "      <th>2</th>\n",
       "      <td>1</td>\n",
       "      <td>1</td>\n",
       "      <td>445</td>\n",
       "      <td>1</td>\n",
       "      <td>10</td>\n",
       "      <td>0</td>\n",
       "      <td>0</td>\n",
       "      <td>0</td>\n",
       "      <td>0</td>\n",
       "      <td>0</td>\n",
       "      <td>...</td>\n",
       "      <td>0</td>\n",
       "      <td>0</td>\n",
       "      <td>0</td>\n",
       "      <td>0</td>\n",
       "      <td>0</td>\n",
       "      <td>0</td>\n",
       "      <td>0</td>\n",
       "      <td>0</td>\n",
       "      <td>0</td>\n",
       "      <td>0</td>\n",
       "    </tr>\n",
       "    <tr>\n",
       "      <th>3</th>\n",
       "      <td>1</td>\n",
       "      <td>0</td>\n",
       "      <td>0</td>\n",
       "      <td>1</td>\n",
       "      <td>4</td>\n",
       "      <td>0</td>\n",
       "      <td>0</td>\n",
       "      <td>0</td>\n",
       "      <td>0</td>\n",
       "      <td>0</td>\n",
       "      <td>...</td>\n",
       "      <td>0</td>\n",
       "      <td>0</td>\n",
       "      <td>0</td>\n",
       "      <td>0</td>\n",
       "      <td>0</td>\n",
       "      <td>0</td>\n",
       "      <td>0</td>\n",
       "      <td>0</td>\n",
       "      <td>0</td>\n",
       "      <td>0</td>\n",
       "    </tr>\n",
       "    <tr>\n",
       "      <th>4</th>\n",
       "      <td>1</td>\n",
       "      <td>1</td>\n",
       "      <td>27</td>\n",
       "      <td>1</td>\n",
       "      <td>2</td>\n",
       "      <td>1</td>\n",
       "      <td>10</td>\n",
       "      <td>12</td>\n",
       "      <td>31</td>\n",
       "      <td>31</td>\n",
       "      <td>...</td>\n",
       "      <td>0</td>\n",
       "      <td>0</td>\n",
       "      <td>0</td>\n",
       "      <td>0</td>\n",
       "      <td>0</td>\n",
       "      <td>0</td>\n",
       "      <td>0</td>\n",
       "      <td>0</td>\n",
       "      <td>0</td>\n",
       "      <td>0</td>\n",
       "    </tr>\n",
       "  </tbody>\n",
       "</table>\n",
       "<p>5 rows × 160773 columns</p>\n",
       "</div>"
      ],
      "text/plain": [
       "   type  lines?  #lines  circles?  #circles   r0   r1   r2   r3   r4  ...  \\\n",
       "0     1       0       0         1         1    0    0    0    0    0  ...   \n",
       "1     1       1     759         1         8  182  184  170  223  353  ...   \n",
       "2     1       1     445         1        10    0    0    0    0    0  ...   \n",
       "3     1       0       0         1         4    0    0    0    0    0  ...   \n",
       "4     1       1      27         1         2    1   10   12   31   31  ...   \n",
       "\n",
       "   e39990  e39991  e39992  e39993  e39994  e39995  e39996  e39997  e39998  \\\n",
       "0       0       0       0       0       0       0       0       0       0   \n",
       "1       0       0       0     255       0       0       0       0       0   \n",
       "2       0       0       0       0       0       0       0       0       0   \n",
       "3       0       0       0       0       0       0       0       0       0   \n",
       "4       0       0       0       0       0       0       0       0       0   \n",
       "\n",
       "   e39999  \n",
       "0       0  \n",
       "1       0  \n",
       "2       0  \n",
       "3       0  \n",
       "4       0  \n",
       "\n",
       "[5 rows x 160773 columns]"
      ]
     },
     "execution_count": 11,
     "metadata": {},
     "output_type": "execute_result"
    }
   ],
   "source": [
    "test_data.head()"
   ]
  },
  {
   "cell_type": "code",
   "execution_count": 12,
   "metadata": {},
   "outputs": [],
   "source": [
    "X1 = data.iloc[:, 1:5] # small\n",
    "X2 = data.iloc[:, 5:5+256*3]  # hist\n",
    "X3 = data.iloc[:, 5+256*3:5+256*3+200*200*3]\n",
    "X4 = data.iloc[:, 5+256*3+200*200*3:]\n",
    "X5 = data.drop(['type'], axis=1)\n",
    "y = data['type']"
   ]
  },
  {
   "cell_type": "code",
   "execution_count": 13,
   "metadata": {},
   "outputs": [
    {
     "data": {
      "text/html": [
       "<div>\n",
       "<style scoped>\n",
       "    .dataframe tbody tr th:only-of-type {\n",
       "        vertical-align: middle;\n",
       "    }\n",
       "\n",
       "    .dataframe tbody tr th {\n",
       "        vertical-align: top;\n",
       "    }\n",
       "\n",
       "    .dataframe thead th {\n",
       "        text-align: right;\n",
       "    }\n",
       "</style>\n",
       "<table border=\"1\" class=\"dataframe\">\n",
       "  <thead>\n",
       "    <tr style=\"text-align: right;\">\n",
       "      <th></th>\n",
       "      <th>lines?</th>\n",
       "      <th>#lines</th>\n",
       "      <th>circles?</th>\n",
       "      <th>#circles</th>\n",
       "    </tr>\n",
       "  </thead>\n",
       "  <tbody>\n",
       "    <tr>\n",
       "      <th>0</th>\n",
       "      <td>1</td>\n",
       "      <td>36</td>\n",
       "      <td>1</td>\n",
       "      <td>5</td>\n",
       "    </tr>\n",
       "    <tr>\n",
       "      <th>1</th>\n",
       "      <td>1</td>\n",
       "      <td>207</td>\n",
       "      <td>1</td>\n",
       "      <td>6</td>\n",
       "    </tr>\n",
       "    <tr>\n",
       "      <th>2</th>\n",
       "      <td>1</td>\n",
       "      <td>55</td>\n",
       "      <td>1</td>\n",
       "      <td>5</td>\n",
       "    </tr>\n",
       "    <tr>\n",
       "      <th>3</th>\n",
       "      <td>1</td>\n",
       "      <td>196</td>\n",
       "      <td>1</td>\n",
       "      <td>1</td>\n",
       "    </tr>\n",
       "    <tr>\n",
       "      <th>4</th>\n",
       "      <td>1</td>\n",
       "      <td>291</td>\n",
       "      <td>1</td>\n",
       "      <td>12</td>\n",
       "    </tr>\n",
       "  </tbody>\n",
       "</table>\n",
       "</div>"
      ],
      "text/plain": [
       "   lines?  #lines  circles?  #circles\n",
       "0       1      36         1         5\n",
       "1       1     207         1         6\n",
       "2       1      55         1         5\n",
       "3       1     196         1         1\n",
       "4       1     291         1        12"
      ]
     },
     "execution_count": 13,
     "metadata": {},
     "output_type": "execute_result"
    }
   ],
   "source": [
    "X1.head()"
   ]
  },
  {
   "cell_type": "code",
   "execution_count": 14,
   "metadata": {},
   "outputs": [
    {
     "data": {
      "text/html": [
       "<div>\n",
       "<style scoped>\n",
       "    .dataframe tbody tr th:only-of-type {\n",
       "        vertical-align: middle;\n",
       "    }\n",
       "\n",
       "    .dataframe tbody tr th {\n",
       "        vertical-align: top;\n",
       "    }\n",
       "\n",
       "    .dataframe thead th {\n",
       "        text-align: right;\n",
       "    }\n",
       "</style>\n",
       "<table border=\"1\" class=\"dataframe\">\n",
       "  <thead>\n",
       "    <tr style=\"text-align: right;\">\n",
       "      <th></th>\n",
       "      <th>r0</th>\n",
       "      <th>r1</th>\n",
       "      <th>r2</th>\n",
       "      <th>r3</th>\n",
       "      <th>r4</th>\n",
       "      <th>r5</th>\n",
       "      <th>r6</th>\n",
       "      <th>r7</th>\n",
       "      <th>r8</th>\n",
       "      <th>r9</th>\n",
       "      <th>...</th>\n",
       "      <th>b246</th>\n",
       "      <th>b247</th>\n",
       "      <th>b248</th>\n",
       "      <th>b249</th>\n",
       "      <th>b250</th>\n",
       "      <th>b251</th>\n",
       "      <th>b252</th>\n",
       "      <th>b253</th>\n",
       "      <th>b254</th>\n",
       "      <th>b255</th>\n",
       "    </tr>\n",
       "  </thead>\n",
       "  <tbody>\n",
       "    <tr>\n",
       "      <th>0</th>\n",
       "      <td>2</td>\n",
       "      <td>3</td>\n",
       "      <td>9</td>\n",
       "      <td>16</td>\n",
       "      <td>12</td>\n",
       "      <td>17</td>\n",
       "      <td>25</td>\n",
       "      <td>29</td>\n",
       "      <td>32</td>\n",
       "      <td>36</td>\n",
       "      <td>...</td>\n",
       "      <td>184</td>\n",
       "      <td>182</td>\n",
       "      <td>211</td>\n",
       "      <td>246</td>\n",
       "      <td>339</td>\n",
       "      <td>425</td>\n",
       "      <td>438</td>\n",
       "      <td>605</td>\n",
       "      <td>964</td>\n",
       "      <td>16964</td>\n",
       "    </tr>\n",
       "    <tr>\n",
       "      <th>1</th>\n",
       "      <td>2</td>\n",
       "      <td>4</td>\n",
       "      <td>28</td>\n",
       "      <td>29</td>\n",
       "      <td>60</td>\n",
       "      <td>54</td>\n",
       "      <td>112</td>\n",
       "      <td>77</td>\n",
       "      <td>139</td>\n",
       "      <td>153</td>\n",
       "      <td>...</td>\n",
       "      <td>115</td>\n",
       "      <td>77</td>\n",
       "      <td>135</td>\n",
       "      <td>98</td>\n",
       "      <td>192</td>\n",
       "      <td>162</td>\n",
       "      <td>305</td>\n",
       "      <td>285</td>\n",
       "      <td>359</td>\n",
       "      <td>14412</td>\n",
       "    </tr>\n",
       "    <tr>\n",
       "      <th>2</th>\n",
       "      <td>0</td>\n",
       "      <td>0</td>\n",
       "      <td>2</td>\n",
       "      <td>6</td>\n",
       "      <td>13</td>\n",
       "      <td>24</td>\n",
       "      <td>67</td>\n",
       "      <td>100</td>\n",
       "      <td>180</td>\n",
       "      <td>175</td>\n",
       "      <td>...</td>\n",
       "      <td>4</td>\n",
       "      <td>5</td>\n",
       "      <td>0</td>\n",
       "      <td>0</td>\n",
       "      <td>1</td>\n",
       "      <td>0</td>\n",
       "      <td>0</td>\n",
       "      <td>0</td>\n",
       "      <td>0</td>\n",
       "      <td>0</td>\n",
       "    </tr>\n",
       "    <tr>\n",
       "      <th>3</th>\n",
       "      <td>0</td>\n",
       "      <td>0</td>\n",
       "      <td>0</td>\n",
       "      <td>0</td>\n",
       "      <td>0</td>\n",
       "      <td>0</td>\n",
       "      <td>0</td>\n",
       "      <td>0</td>\n",
       "      <td>0</td>\n",
       "      <td>0</td>\n",
       "      <td>...</td>\n",
       "      <td>28</td>\n",
       "      <td>28</td>\n",
       "      <td>28</td>\n",
       "      <td>35</td>\n",
       "      <td>84</td>\n",
       "      <td>113</td>\n",
       "      <td>233</td>\n",
       "      <td>241</td>\n",
       "      <td>515</td>\n",
       "      <td>19743</td>\n",
       "    </tr>\n",
       "    <tr>\n",
       "      <th>4</th>\n",
       "      <td>4529</td>\n",
       "      <td>4546</td>\n",
       "      <td>1537</td>\n",
       "      <td>812</td>\n",
       "      <td>577</td>\n",
       "      <td>463</td>\n",
       "      <td>427</td>\n",
       "      <td>362</td>\n",
       "      <td>255</td>\n",
       "      <td>238</td>\n",
       "      <td>...</td>\n",
       "      <td>126</td>\n",
       "      <td>128</td>\n",
       "      <td>122</td>\n",
       "      <td>123</td>\n",
       "      <td>139</td>\n",
       "      <td>135</td>\n",
       "      <td>161</td>\n",
       "      <td>168</td>\n",
       "      <td>184</td>\n",
       "      <td>130</td>\n",
       "    </tr>\n",
       "  </tbody>\n",
       "</table>\n",
       "<p>5 rows × 768 columns</p>\n",
       "</div>"
      ],
      "text/plain": [
       "     r0    r1    r2   r3   r4   r5   r6   r7   r8   r9  ...  b246  b247  b248  \\\n",
       "0     2     3     9   16   12   17   25   29   32   36  ...   184   182   211   \n",
       "1     2     4    28   29   60   54  112   77  139  153  ...   115    77   135   \n",
       "2     0     0     2    6   13   24   67  100  180  175  ...     4     5     0   \n",
       "3     0     0     0    0    0    0    0    0    0    0  ...    28    28    28   \n",
       "4  4529  4546  1537  812  577  463  427  362  255  238  ...   126   128   122   \n",
       "\n",
       "   b249  b250  b251  b252  b253  b254   b255  \n",
       "0   246   339   425   438   605   964  16964  \n",
       "1    98   192   162   305   285   359  14412  \n",
       "2     0     1     0     0     0     0      0  \n",
       "3    35    84   113   233   241   515  19743  \n",
       "4   123   139   135   161   168   184    130  \n",
       "\n",
       "[5 rows x 768 columns]"
      ]
     },
     "execution_count": 14,
     "metadata": {},
     "output_type": "execute_result"
    }
   ],
   "source": [
    "X2.head()"
   ]
  },
  {
   "cell_type": "code",
   "execution_count": 15,
   "metadata": {},
   "outputs": [
    {
     "data": {
      "text/html": [
       "<div>\n",
       "<style scoped>\n",
       "    .dataframe tbody tr th:only-of-type {\n",
       "        vertical-align: middle;\n",
       "    }\n",
       "\n",
       "    .dataframe tbody tr th {\n",
       "        vertical-align: top;\n",
       "    }\n",
       "\n",
       "    .dataframe thead th {\n",
       "        text-align: right;\n",
       "    }\n",
       "</style>\n",
       "<table border=\"1\" class=\"dataframe\">\n",
       "  <thead>\n",
       "    <tr style=\"text-align: right;\">\n",
       "      <th></th>\n",
       "      <th>i0</th>\n",
       "      <th>i1</th>\n",
       "      <th>i2</th>\n",
       "      <th>i3</th>\n",
       "      <th>i4</th>\n",
       "      <th>i5</th>\n",
       "      <th>i6</th>\n",
       "      <th>i7</th>\n",
       "      <th>i8</th>\n",
       "      <th>i9</th>\n",
       "      <th>...</th>\n",
       "      <th>i119990</th>\n",
       "      <th>i119991</th>\n",
       "      <th>i119992</th>\n",
       "      <th>i119993</th>\n",
       "      <th>i119994</th>\n",
       "      <th>i119995</th>\n",
       "      <th>i119996</th>\n",
       "      <th>i119997</th>\n",
       "      <th>i119998</th>\n",
       "      <th>i119999</th>\n",
       "    </tr>\n",
       "  </thead>\n",
       "  <tbody>\n",
       "    <tr>\n",
       "      <th>0</th>\n",
       "      <td>255</td>\n",
       "      <td>255</td>\n",
       "      <td>255</td>\n",
       "      <td>255</td>\n",
       "      <td>255</td>\n",
       "      <td>255</td>\n",
       "      <td>255</td>\n",
       "      <td>255</td>\n",
       "      <td>255</td>\n",
       "      <td>255</td>\n",
       "      <td>...</td>\n",
       "      <td>246</td>\n",
       "      <td>246</td>\n",
       "      <td>244</td>\n",
       "      <td>247</td>\n",
       "      <td>245</td>\n",
       "      <td>244</td>\n",
       "      <td>246</td>\n",
       "      <td>251</td>\n",
       "      <td>250</td>\n",
       "      <td>252</td>\n",
       "    </tr>\n",
       "    <tr>\n",
       "      <th>1</th>\n",
       "      <td>255</td>\n",
       "      <td>255</td>\n",
       "      <td>255</td>\n",
       "      <td>255</td>\n",
       "      <td>255</td>\n",
       "      <td>255</td>\n",
       "      <td>255</td>\n",
       "      <td>255</td>\n",
       "      <td>255</td>\n",
       "      <td>255</td>\n",
       "      <td>...</td>\n",
       "      <td>255</td>\n",
       "      <td>255</td>\n",
       "      <td>255</td>\n",
       "      <td>255</td>\n",
       "      <td>255</td>\n",
       "      <td>255</td>\n",
       "      <td>255</td>\n",
       "      <td>255</td>\n",
       "      <td>255</td>\n",
       "      <td>255</td>\n",
       "    </tr>\n",
       "    <tr>\n",
       "      <th>2</th>\n",
       "      <td>44</td>\n",
       "      <td>44</td>\n",
       "      <td>44</td>\n",
       "      <td>44</td>\n",
       "      <td>44</td>\n",
       "      <td>44</td>\n",
       "      <td>44</td>\n",
       "      <td>44</td>\n",
       "      <td>44</td>\n",
       "      <td>47</td>\n",
       "      <td>...</td>\n",
       "      <td>51</td>\n",
       "      <td>22</td>\n",
       "      <td>31</td>\n",
       "      <td>51</td>\n",
       "      <td>9</td>\n",
       "      <td>20</td>\n",
       "      <td>36</td>\n",
       "      <td>6</td>\n",
       "      <td>17</td>\n",
       "      <td>30</td>\n",
       "    </tr>\n",
       "    <tr>\n",
       "      <th>3</th>\n",
       "      <td>255</td>\n",
       "      <td>255</td>\n",
       "      <td>255</td>\n",
       "      <td>255</td>\n",
       "      <td>255</td>\n",
       "      <td>255</td>\n",
       "      <td>255</td>\n",
       "      <td>255</td>\n",
       "      <td>255</td>\n",
       "      <td>255</td>\n",
       "      <td>...</td>\n",
       "      <td>255</td>\n",
       "      <td>255</td>\n",
       "      <td>255</td>\n",
       "      <td>255</td>\n",
       "      <td>255</td>\n",
       "      <td>255</td>\n",
       "      <td>255</td>\n",
       "      <td>255</td>\n",
       "      <td>255</td>\n",
       "      <td>255</td>\n",
       "    </tr>\n",
       "    <tr>\n",
       "      <th>4</th>\n",
       "      <td>183</td>\n",
       "      <td>175</td>\n",
       "      <td>162</td>\n",
       "      <td>179</td>\n",
       "      <td>171</td>\n",
       "      <td>158</td>\n",
       "      <td>180</td>\n",
       "      <td>172</td>\n",
       "      <td>159</td>\n",
       "      <td>185</td>\n",
       "      <td>...</td>\n",
       "      <td>166</td>\n",
       "      <td>173</td>\n",
       "      <td>165</td>\n",
       "      <td>152</td>\n",
       "      <td>160</td>\n",
       "      <td>152</td>\n",
       "      <td>139</td>\n",
       "      <td>152</td>\n",
       "      <td>144</td>\n",
       "      <td>131</td>\n",
       "    </tr>\n",
       "  </tbody>\n",
       "</table>\n",
       "<p>5 rows × 120000 columns</p>\n",
       "</div>"
      ],
      "text/plain": [
       "    i0   i1   i2   i3   i4   i5   i6   i7   i8   i9  ...  i119990  i119991  \\\n",
       "0  255  255  255  255  255  255  255  255  255  255  ...      246      246   \n",
       "1  255  255  255  255  255  255  255  255  255  255  ...      255      255   \n",
       "2   44   44   44   44   44   44   44   44   44   47  ...       51       22   \n",
       "3  255  255  255  255  255  255  255  255  255  255  ...      255      255   \n",
       "4  183  175  162  179  171  158  180  172  159  185  ...      166      173   \n",
       "\n",
       "   i119992  i119993  i119994  i119995  i119996  i119997  i119998  i119999  \n",
       "0      244      247      245      244      246      251      250      252  \n",
       "1      255      255      255      255      255      255      255      255  \n",
       "2       31       51        9       20       36        6       17       30  \n",
       "3      255      255      255      255      255      255      255      255  \n",
       "4      165      152      160      152      139      152      144      131  \n",
       "\n",
       "[5 rows x 120000 columns]"
      ]
     },
     "execution_count": 15,
     "metadata": {},
     "output_type": "execute_result"
    }
   ],
   "source": [
    "X3.head()"
   ]
  },
  {
   "cell_type": "code",
   "execution_count": 16,
   "metadata": {},
   "outputs": [
    {
     "data": {
      "text/html": [
       "<div>\n",
       "<style scoped>\n",
       "    .dataframe tbody tr th:only-of-type {\n",
       "        vertical-align: middle;\n",
       "    }\n",
       "\n",
       "    .dataframe tbody tr th {\n",
       "        vertical-align: top;\n",
       "    }\n",
       "\n",
       "    .dataframe thead th {\n",
       "        text-align: right;\n",
       "    }\n",
       "</style>\n",
       "<table border=\"1\" class=\"dataframe\">\n",
       "  <thead>\n",
       "    <tr style=\"text-align: right;\">\n",
       "      <th></th>\n",
       "      <th>e0</th>\n",
       "      <th>e1</th>\n",
       "      <th>e2</th>\n",
       "      <th>e3</th>\n",
       "      <th>e4</th>\n",
       "      <th>e5</th>\n",
       "      <th>e6</th>\n",
       "      <th>e7</th>\n",
       "      <th>e8</th>\n",
       "      <th>e9</th>\n",
       "      <th>...</th>\n",
       "      <th>e39990</th>\n",
       "      <th>e39991</th>\n",
       "      <th>e39992</th>\n",
       "      <th>e39993</th>\n",
       "      <th>e39994</th>\n",
       "      <th>e39995</th>\n",
       "      <th>e39996</th>\n",
       "      <th>e39997</th>\n",
       "      <th>e39998</th>\n",
       "      <th>e39999</th>\n",
       "    </tr>\n",
       "  </thead>\n",
       "  <tbody>\n",
       "    <tr>\n",
       "      <th>0</th>\n",
       "      <td>0</td>\n",
       "      <td>0</td>\n",
       "      <td>0</td>\n",
       "      <td>0</td>\n",
       "      <td>0</td>\n",
       "      <td>0</td>\n",
       "      <td>0</td>\n",
       "      <td>0</td>\n",
       "      <td>0</td>\n",
       "      <td>0</td>\n",
       "      <td>...</td>\n",
       "      <td>0</td>\n",
       "      <td>0</td>\n",
       "      <td>0</td>\n",
       "      <td>0</td>\n",
       "      <td>0</td>\n",
       "      <td>0</td>\n",
       "      <td>0</td>\n",
       "      <td>0</td>\n",
       "      <td>0</td>\n",
       "      <td>0</td>\n",
       "    </tr>\n",
       "    <tr>\n",
       "      <th>1</th>\n",
       "      <td>0</td>\n",
       "      <td>0</td>\n",
       "      <td>0</td>\n",
       "      <td>0</td>\n",
       "      <td>0</td>\n",
       "      <td>0</td>\n",
       "      <td>0</td>\n",
       "      <td>0</td>\n",
       "      <td>0</td>\n",
       "      <td>0</td>\n",
       "      <td>...</td>\n",
       "      <td>0</td>\n",
       "      <td>0</td>\n",
       "      <td>0</td>\n",
       "      <td>0</td>\n",
       "      <td>0</td>\n",
       "      <td>0</td>\n",
       "      <td>0</td>\n",
       "      <td>0</td>\n",
       "      <td>0</td>\n",
       "      <td>0</td>\n",
       "    </tr>\n",
       "    <tr>\n",
       "      <th>2</th>\n",
       "      <td>0</td>\n",
       "      <td>0</td>\n",
       "      <td>0</td>\n",
       "      <td>0</td>\n",
       "      <td>0</td>\n",
       "      <td>0</td>\n",
       "      <td>0</td>\n",
       "      <td>0</td>\n",
       "      <td>0</td>\n",
       "      <td>0</td>\n",
       "      <td>...</td>\n",
       "      <td>0</td>\n",
       "      <td>0</td>\n",
       "      <td>0</td>\n",
       "      <td>0</td>\n",
       "      <td>0</td>\n",
       "      <td>0</td>\n",
       "      <td>0</td>\n",
       "      <td>0</td>\n",
       "      <td>0</td>\n",
       "      <td>0</td>\n",
       "    </tr>\n",
       "    <tr>\n",
       "      <th>3</th>\n",
       "      <td>0</td>\n",
       "      <td>0</td>\n",
       "      <td>0</td>\n",
       "      <td>0</td>\n",
       "      <td>0</td>\n",
       "      <td>0</td>\n",
       "      <td>0</td>\n",
       "      <td>0</td>\n",
       "      <td>0</td>\n",
       "      <td>0</td>\n",
       "      <td>...</td>\n",
       "      <td>0</td>\n",
       "      <td>0</td>\n",
       "      <td>0</td>\n",
       "      <td>0</td>\n",
       "      <td>0</td>\n",
       "      <td>0</td>\n",
       "      <td>0</td>\n",
       "      <td>0</td>\n",
       "      <td>0</td>\n",
       "      <td>0</td>\n",
       "    </tr>\n",
       "    <tr>\n",
       "      <th>4</th>\n",
       "      <td>0</td>\n",
       "      <td>0</td>\n",
       "      <td>0</td>\n",
       "      <td>0</td>\n",
       "      <td>0</td>\n",
       "      <td>0</td>\n",
       "      <td>0</td>\n",
       "      <td>0</td>\n",
       "      <td>0</td>\n",
       "      <td>0</td>\n",
       "      <td>...</td>\n",
       "      <td>0</td>\n",
       "      <td>0</td>\n",
       "      <td>0</td>\n",
       "      <td>0</td>\n",
       "      <td>0</td>\n",
       "      <td>0</td>\n",
       "      <td>0</td>\n",
       "      <td>0</td>\n",
       "      <td>0</td>\n",
       "      <td>0</td>\n",
       "    </tr>\n",
       "  </tbody>\n",
       "</table>\n",
       "<p>5 rows × 40000 columns</p>\n",
       "</div>"
      ],
      "text/plain": [
       "   e0  e1  e2  e3  e4  e5  e6  e7  e8  e9  ...  e39990  e39991  e39992  \\\n",
       "0   0   0   0   0   0   0   0   0   0   0  ...       0       0       0   \n",
       "1   0   0   0   0   0   0   0   0   0   0  ...       0       0       0   \n",
       "2   0   0   0   0   0   0   0   0   0   0  ...       0       0       0   \n",
       "3   0   0   0   0   0   0   0   0   0   0  ...       0       0       0   \n",
       "4   0   0   0   0   0   0   0   0   0   0  ...       0       0       0   \n",
       "\n",
       "   e39993  e39994  e39995  e39996  e39997  e39998  e39999  \n",
       "0       0       0       0       0       0       0       0  \n",
       "1       0       0       0       0       0       0       0  \n",
       "2       0       0       0       0       0       0       0  \n",
       "3       0       0       0       0       0       0       0  \n",
       "4       0       0       0       0       0       0       0  \n",
       "\n",
       "[5 rows x 40000 columns]"
      ]
     },
     "execution_count": 16,
     "metadata": {},
     "output_type": "execute_result"
    }
   ],
   "source": [
    "X4.head()"
   ]
  },
  {
   "cell_type": "code",
   "execution_count": 17,
   "metadata": {},
   "outputs": [
    {
     "data": {
      "text/html": [
       "<div>\n",
       "<style scoped>\n",
       "    .dataframe tbody tr th:only-of-type {\n",
       "        vertical-align: middle;\n",
       "    }\n",
       "\n",
       "    .dataframe tbody tr th {\n",
       "        vertical-align: top;\n",
       "    }\n",
       "\n",
       "    .dataframe thead th {\n",
       "        text-align: right;\n",
       "    }\n",
       "</style>\n",
       "<table border=\"1\" class=\"dataframe\">\n",
       "  <thead>\n",
       "    <tr style=\"text-align: right;\">\n",
       "      <th></th>\n",
       "      <th>lines?</th>\n",
       "      <th>#lines</th>\n",
       "      <th>circles?</th>\n",
       "      <th>#circles</th>\n",
       "      <th>r0</th>\n",
       "      <th>r1</th>\n",
       "      <th>r2</th>\n",
       "      <th>r3</th>\n",
       "      <th>r4</th>\n",
       "      <th>r5</th>\n",
       "      <th>...</th>\n",
       "      <th>e39990</th>\n",
       "      <th>e39991</th>\n",
       "      <th>e39992</th>\n",
       "      <th>e39993</th>\n",
       "      <th>e39994</th>\n",
       "      <th>e39995</th>\n",
       "      <th>e39996</th>\n",
       "      <th>e39997</th>\n",
       "      <th>e39998</th>\n",
       "      <th>e39999</th>\n",
       "    </tr>\n",
       "  </thead>\n",
       "  <tbody>\n",
       "    <tr>\n",
       "      <th>0</th>\n",
       "      <td>1</td>\n",
       "      <td>36</td>\n",
       "      <td>1</td>\n",
       "      <td>5</td>\n",
       "      <td>2</td>\n",
       "      <td>3</td>\n",
       "      <td>9</td>\n",
       "      <td>16</td>\n",
       "      <td>12</td>\n",
       "      <td>17</td>\n",
       "      <td>...</td>\n",
       "      <td>0</td>\n",
       "      <td>0</td>\n",
       "      <td>0</td>\n",
       "      <td>0</td>\n",
       "      <td>0</td>\n",
       "      <td>0</td>\n",
       "      <td>0</td>\n",
       "      <td>0</td>\n",
       "      <td>0</td>\n",
       "      <td>0</td>\n",
       "    </tr>\n",
       "    <tr>\n",
       "      <th>1</th>\n",
       "      <td>1</td>\n",
       "      <td>207</td>\n",
       "      <td>1</td>\n",
       "      <td>6</td>\n",
       "      <td>2</td>\n",
       "      <td>4</td>\n",
       "      <td>28</td>\n",
       "      <td>29</td>\n",
       "      <td>60</td>\n",
       "      <td>54</td>\n",
       "      <td>...</td>\n",
       "      <td>0</td>\n",
       "      <td>0</td>\n",
       "      <td>0</td>\n",
       "      <td>0</td>\n",
       "      <td>0</td>\n",
       "      <td>0</td>\n",
       "      <td>0</td>\n",
       "      <td>0</td>\n",
       "      <td>0</td>\n",
       "      <td>0</td>\n",
       "    </tr>\n",
       "    <tr>\n",
       "      <th>2</th>\n",
       "      <td>1</td>\n",
       "      <td>55</td>\n",
       "      <td>1</td>\n",
       "      <td>5</td>\n",
       "      <td>0</td>\n",
       "      <td>0</td>\n",
       "      <td>2</td>\n",
       "      <td>6</td>\n",
       "      <td>13</td>\n",
       "      <td>24</td>\n",
       "      <td>...</td>\n",
       "      <td>0</td>\n",
       "      <td>0</td>\n",
       "      <td>0</td>\n",
       "      <td>0</td>\n",
       "      <td>0</td>\n",
       "      <td>0</td>\n",
       "      <td>0</td>\n",
       "      <td>0</td>\n",
       "      <td>0</td>\n",
       "      <td>0</td>\n",
       "    </tr>\n",
       "    <tr>\n",
       "      <th>3</th>\n",
       "      <td>1</td>\n",
       "      <td>196</td>\n",
       "      <td>1</td>\n",
       "      <td>1</td>\n",
       "      <td>0</td>\n",
       "      <td>0</td>\n",
       "      <td>0</td>\n",
       "      <td>0</td>\n",
       "      <td>0</td>\n",
       "      <td>0</td>\n",
       "      <td>...</td>\n",
       "      <td>0</td>\n",
       "      <td>0</td>\n",
       "      <td>0</td>\n",
       "      <td>0</td>\n",
       "      <td>0</td>\n",
       "      <td>0</td>\n",
       "      <td>0</td>\n",
       "      <td>0</td>\n",
       "      <td>0</td>\n",
       "      <td>0</td>\n",
       "    </tr>\n",
       "    <tr>\n",
       "      <th>4</th>\n",
       "      <td>1</td>\n",
       "      <td>291</td>\n",
       "      <td>1</td>\n",
       "      <td>12</td>\n",
       "      <td>4529</td>\n",
       "      <td>4546</td>\n",
       "      <td>1537</td>\n",
       "      <td>812</td>\n",
       "      <td>577</td>\n",
       "      <td>463</td>\n",
       "      <td>...</td>\n",
       "      <td>0</td>\n",
       "      <td>0</td>\n",
       "      <td>0</td>\n",
       "      <td>0</td>\n",
       "      <td>0</td>\n",
       "      <td>0</td>\n",
       "      <td>0</td>\n",
       "      <td>0</td>\n",
       "      <td>0</td>\n",
       "      <td>0</td>\n",
       "    </tr>\n",
       "  </tbody>\n",
       "</table>\n",
       "<p>5 rows × 160772 columns</p>\n",
       "</div>"
      ],
      "text/plain": [
       "   lines?  #lines  circles?  #circles    r0    r1    r2   r3   r4   r5  ...  \\\n",
       "0       1      36         1         5     2     3     9   16   12   17  ...   \n",
       "1       1     207         1         6     2     4    28   29   60   54  ...   \n",
       "2       1      55         1         5     0     0     2    6   13   24  ...   \n",
       "3       1     196         1         1     0     0     0    0    0    0  ...   \n",
       "4       1     291         1        12  4529  4546  1537  812  577  463  ...   \n",
       "\n",
       "   e39990  e39991  e39992  e39993  e39994  e39995  e39996  e39997  e39998  \\\n",
       "0       0       0       0       0       0       0       0       0       0   \n",
       "1       0       0       0       0       0       0       0       0       0   \n",
       "2       0       0       0       0       0       0       0       0       0   \n",
       "3       0       0       0       0       0       0       0       0       0   \n",
       "4       0       0       0       0       0       0       0       0       0   \n",
       "\n",
       "   e39999  \n",
       "0       0  \n",
       "1       0  \n",
       "2       0  \n",
       "3       0  \n",
       "4       0  \n",
       "\n",
       "[5 rows x 160772 columns]"
      ]
     },
     "execution_count": 17,
     "metadata": {},
     "output_type": "execute_result"
    }
   ],
   "source": [
    "X5.head()"
   ]
  },
  {
   "cell_type": "markdown",
   "metadata": {},
   "source": [
    "train test split"
   ]
  },
  {
   "cell_type": "code",
   "execution_count": 18,
   "metadata": {},
   "outputs": [],
   "source": [
    "X_train1, X_test1, y_train1, y_test1 = train_test_split(X1, y, test_size=0.3, random_state=42)\n",
    "X_train2, X_test2, y_train2, y_test2 = train_test_split(X2, y, test_size=0.3, random_state=42)\n",
    "X_train3, X_test3, y_train3, y_test3 = train_test_split(X3, y, test_size=0.3, random_state=42)\n",
    "X_train4, X_test4, y_train4, y_test4 = train_test_split(X4, y, test_size=0.3, random_state=42)\n",
    "X_train5, X_test5, y_train5, y_test5 = train_test_split(X5, y, test_size=0.3, random_state=42)"
   ]
  },
  {
   "cell_type": "markdown",
   "metadata": {},
   "source": [
    "extra functions"
   ]
  },
  {
   "cell_type": "code",
   "execution_count": 19,
   "metadata": {},
   "outputs": [],
   "source": [
    "# function to represent the confusion matrix nicely\n",
    "def Confusion_Matrix(cf_matrix):\n",
    "    plt.figure(figsize=(6,6))\n",
    "    sns.heatmap(cf_matrix, annot=True, fmt='', cmap='Greens')"
   ]
  },
  {
   "cell_type": "code",
   "execution_count": 20,
   "metadata": {},
   "outputs": [],
   "source": [
    "# list to hold all final results\n",
    "results=[]"
   ]
  },
  {
   "cell_type": "markdown",
   "metadata": {},
   "source": [
    "imports"
   ]
  },
  {
   "cell_type": "code",
   "execution_count": 21,
   "metadata": {},
   "outputs": [],
   "source": [
    "from sklearn.multiclass import OneVsOneClassifier\n",
    "from sklearn.multiclass import OutputCodeClassifier\n",
    "from sklearn.multiclass import OneVsRestClassifier\n",
    "from sklearn.svm import LinearSVC\n",
    "\n",
    "from sklearn.neighbors import KNeighborsClassifier\n",
    "\n",
    "from sklearn.ensemble import AdaBoostClassifier\n",
    "\n",
    "from sklearn.ensemble import RandomForestClassifier\n",
    "\n",
    "from sklearn.linear_model import LogisticRegression\n",
    "\n",
    "\n",
    "from sklearn.decomposition import PCA"
   ]
  },
  {
   "cell_type": "code",
   "execution_count": null,
   "metadata": {},
   "outputs": [],
   "source": []
  },
  {
   "cell_type": "markdown",
   "metadata": {},
   "source": [
    "# RUN ON DATA SET WITH LINES AND CIRCLES "
   ]
  },
  {
   "cell_type": "markdown",
   "metadata": {},
   "source": [
    "#### SVM"
   ]
  },
  {
   "cell_type": "code",
   "execution_count": 22,
   "metadata": {},
   "outputs": [],
   "source": [
    "# losses = [\"hinge\",\"squared_hinge\"]\n",
    "# penalties = [\"l1\",\"l2\"]\n",
    "\n",
    "# print(\"OneVsOneClassifier\")\n",
    "# for i in losses:\n",
    "#     for j in penalties:\n",
    "#         try:\n",
    "#             svm =  OneVsOneClassifier(LinearSVC(random_state=0, loss=i,penalty=j,)).fit(X_train1, y_train1)\n",
    "#             pred_svm = svm.predict(X_test1)\n",
    "#             print(i,j,round(np.sum([y_test1==pred_svm])/len(y_test1),4)*100,\"%\")\n",
    "#         except:\n",
    "#             pass"
   ]
  },
  {
   "cell_type": "code",
   "execution_count": 23,
   "metadata": {},
   "outputs": [
    {
     "name": "stdout",
     "output_type": "stream",
     "text": [
      "              precision    recall  f1-score   support\n",
      "\n",
      "           0       0.60      0.78      0.68       402\n",
      "           1       0.63      0.41      0.49       358\n",
      "\n",
      "    accuracy                           0.61       760\n",
      "   macro avg       0.61      0.60      0.59       760\n",
      "weighted avg       0.61      0.61      0.59       760\n",
      "\n",
      "60.660000000000004 %\n"
     ]
    },
    {
     "data": {
      "image/png": "[encoded data removed]",
      "text/plain": [
       "<Figure size 600x600 with 2 Axes>"
      ]
     },
     "metadata": {},
     "output_type": "display_data"
    }
   ],
   "source": [
    "svm1 =  OneVsOneClassifier(LinearSVC(random_state=0, loss=\"hinge\",penalty=\"l2\")).fit(X_train1, y_train1)\n",
    "pred_svm1 = svm1.predict(X_test1)\n",
    "Confusion_Matrix(confusion_matrix(y_test1,pred_svm1))\n",
    "print(classification_report(y_test1, pred_svm1))\n",
    "print(round(np.sum([y_test1==pred_svm1])/len(y_test1),4)*100,\"%\")\n",
    "results.append(['lines and circles', 'SVM',round(np.sum([y_test1==pred_svm1])/len(y_test1),4)*100 ])"
   ]
  },
  {
   "cell_type": "markdown",
   "metadata": {},
   "source": [
    "#### KNN"
   ]
  },
  {
   "cell_type": "code",
   "execution_count": 24,
   "metadata": {},
   "outputs": [],
   "source": [
    "# for i in range(1,51):\n",
    "#     neigh = KNeighborsClassifier(n_neighbors=i)\n",
    "#     neigh.fit(X_train1,y_train1)\n",
    "#     pred_knn = neigh.predict(X_test1)\n",
    "#     print(i,round(np.sum([y_test1==pred_knn])/len(y_test1),4)*100,\"%\")"
   ]
  },
  {
   "cell_type": "code",
   "execution_count": 25,
   "metadata": {},
   "outputs": [
    {
     "name": "stdout",
     "output_type": "stream",
     "text": [
      "              precision    recall  f1-score   support\n",
      "\n",
      "           0       0.63      0.71      0.67       402\n",
      "           1       0.62      0.53      0.57       358\n",
      "\n",
      "    accuracy                           0.62       760\n",
      "   macro avg       0.62      0.62      0.62       760\n",
      "weighted avg       0.62      0.62      0.62       760\n",
      "\n",
      "62.239999999999995 %\n"
     ]
    },
    {
     "data": {
      "image/png": "[encoded data removed]",
      "text/plain": [
       "<Figure size 600x600 with 2 Axes>"
      ]
     },
     "metadata": {},
     "output_type": "display_data"
    }
   ],
   "source": [
    "neigh1 = KNeighborsClassifier(n_neighbors=9)\n",
    "neigh1.fit(X_train1,y_train1)\n",
    "pred_knn1 = neigh1.predict(X_test1)\n",
    "Confusion_Matrix(confusion_matrix(y_test1,pred_knn1))\n",
    "print(classification_report(y_test1, pred_knn1))\n",
    "print(round(np.sum([y_test1==pred_knn1])/len(y_test1),4)*100,\"%\")\n",
    "results.append(['lines and circles', 'KNN',round(np.sum([y_test1==pred_knn1])/len(y_test1),4)*100 ])"
   ]
  },
  {
   "cell_type": "markdown",
   "metadata": {},
   "source": [
    "#### Adaboost"
   ]
  },
  {
   "cell_type": "code",
   "execution_count": 26,
   "metadata": {},
   "outputs": [],
   "source": [
    "# for i in range(50,2001,50):\n",
    "#     ada = AdaBoostClassifier(n_estimators=i, algorithm=\"SAMME\", random_state=0)\n",
    "#     ada.fit(X_train1,y_train1)\n",
    "#     pred_ada = ada.predict(X_test1)\n",
    "#     print(i,round(np.sum([y_test1==pred_ada])/len(y_test1),4)*100,\"%\")"
   ]
  },
  {
   "cell_type": "code",
   "execution_count": 27,
   "metadata": {},
   "outputs": [
    {
     "name": "stdout",
     "output_type": "stream",
     "text": [
      "              precision    recall  f1-score   support\n",
      "\n",
      "           0       0.64      0.71      0.68       402\n",
      "           1       0.63      0.56      0.59       358\n",
      "\n",
      "    accuracy                           0.64       760\n",
      "   macro avg       0.64      0.64      0.64       760\n",
      "weighted avg       0.64      0.64      0.64       760\n",
      "\n",
      "63.949999999999996 %\n"
     ]
    },
    {
     "data": {
      "image/png": "[encoded data removed]",
      "text/plain": [
       "<Figure size 600x600 with 2 Axes>"
      ]
     },
     "metadata": {},
     "output_type": "display_data"
    }
   ],
   "source": [
    "ada1 = AdaBoostClassifier(n_estimators=50, algorithm=\"SAMME\",random_state=0)\n",
    "ada1.fit(X_train1,y_train1)\n",
    "pred_ada1 = ada1.predict(X_test1)\n",
    "Confusion_Matrix(confusion_matrix(y_test1,pred_ada1))\n",
    "print(classification_report(y_test1, pred_ada1))\n",
    "print(round(np.sum([y_test1==pred_ada1])/len(y_test1),4)*100,\"%\")\n",
    "results.append(['lines and circles', 'Adaboost',round(np.sum([y_test1==pred_ada1])/len(y_test1),4)*100 ])"
   ]
  },
  {
   "cell_type": "markdown",
   "metadata": {},
   "source": [
    "#### Random Forest"
   ]
  },
  {
   "cell_type": "code",
   "execution_count": 28,
   "metadata": {},
   "outputs": [],
   "source": [
    "# for i in range(40,501,20):\n",
    "#     for j in range(2,5):\n",
    "#         RF = RandomForestClassifier(n_estimators=i, max_depth=None,min_samples_split=j, random_state=0)\n",
    "#         RF.fit(X_train1,y_train1)\n",
    "#         pred_RF = RF.predict(X_test1)\n",
    "#         print(i,j,round(np.sum([y_test1==pred_RF])/len(y_test1),4)*100,\"%\")"
   ]
  },
  {
   "cell_type": "code",
   "execution_count": 29,
   "metadata": {},
   "outputs": [
    {
     "name": "stdout",
     "output_type": "stream",
     "text": [
      "              precision    recall  f1-score   support\n",
      "\n",
      "           0       0.62      0.66      0.64       402\n",
      "           1       0.59      0.54      0.56       358\n",
      "\n",
      "    accuracy                           0.60       760\n",
      "   macro avg       0.60      0.60      0.60       760\n",
      "weighted avg       0.60      0.60      0.60       760\n",
      "\n",
      "60.39 %\n"
     ]
    },
    {
     "data": {
      "image/png": "[encoded data removed]",
      "text/plain": [
       "<Figure size 600x600 with 2 Axes>"
      ]
     },
     "metadata": {},
     "output_type": "display_data"
    }
   ],
   "source": [
    "RF1 = RandomForestClassifier(n_estimators=240, max_depth=None,min_samples_split=4, random_state=0)\n",
    "RF1.fit(X_train1,y_train1)\n",
    "pred_RF1 = RF1.predict(X_test1)\n",
    "Confusion_Matrix(confusion_matrix(y_test1,pred_RF1))\n",
    "print(classification_report(y_test1, pred_RF1))\n",
    "print(round(np.sum([y_test1==pred_RF1])/len(y_test1),4)*100,\"%\")\n",
    "results.append(['lines and circles', 'Random Forest',round(np.sum([y_test1==pred_RF1])/len(y_test1),4)*100 ])"
   ]
  },
  {
   "cell_type": "markdown",
   "metadata": {},
   "source": [
    "#### Logistic Regression"
   ]
  },
  {
   "cell_type": "code",
   "execution_count": 30,
   "metadata": {},
   "outputs": [],
   "source": [
    "# penilties = [\"l1\",\"l2\",\"elasticnet\"]\n",
    "# solvers = [\"lbfgs\",\"liblinear\",\"newton-cg\",\"newton-cholesky\",\"sag\",\"saga\"]\n",
    "# tols= [0.1 ,0.01, 0.001]\n",
    "\n",
    "# for i in penilties:\n",
    "#     for j in solvers:\n",
    "#         for k in tols:\n",
    "#             try:\n",
    "#                 LR = LogisticRegression(penalty=i, solver=j, tol=k, max_iter=10000,random_state=0)\n",
    "#                 LR.fit(X_train1,y_train1)\n",
    "#                 pred_LR = LR.predict(X_test1)\n",
    "#                 print(i,j,k,round(np.sum([y_test1==pred_LR])/len(y_test1),4)*100,\"%\")\n",
    "#             except:\n",
    "#                 pass\n",
    "        "
   ]
  },
  {
   "cell_type": "code",
   "execution_count": 31,
   "metadata": {},
   "outputs": [
    {
     "name": "stdout",
     "output_type": "stream",
     "text": [
      "              precision    recall  f1-score   support\n",
      "\n",
      "           0       0.62      0.82      0.70       402\n",
      "           1       0.68      0.43      0.52       358\n",
      "\n",
      "    accuracy                           0.64       760\n",
      "   macro avg       0.65      0.62      0.61       760\n",
      "weighted avg       0.65      0.64      0.62       760\n",
      "\n",
      "63.55 %\n"
     ]
    },
    {
     "data": {
      "image/png": "[encoded data removed]",
      "text/plain": [
       "<Figure size 600x600 with 2 Axes>"
      ]
     },
     "metadata": {},
     "output_type": "display_data"
    }
   ],
   "source": [
    "LR1 = LogisticRegression(penalty=\"l2\", solver=\"lbfgs\", tol=0.1, max_iter=10000, random_state=0)\n",
    "LR1.fit(X_train1,y_train1)\n",
    "pred_LR1 = LR1.predict(X_test1)\n",
    "Confusion_Matrix(confusion_matrix(y_test1,pred_LR1))\n",
    "print(classification_report(y_test1, pred_LR1))\n",
    "print(round(np.sum([y_test1==pred_LR1])/len(y_test1),4)*100,\"%\")\n",
    "results.append(['lines and circles', 'Logistic Regression',round(np.sum([y_test1==pred_LR1])/len(y_test1),4)*100 ])"
   ]
  },
  {
   "cell_type": "code",
   "execution_count": null,
   "metadata": {},
   "outputs": [],
   "source": []
  },
  {
   "cell_type": "markdown",
   "metadata": {},
   "source": [
    "# RUN ON DATA SET WITH HISTOGRAM DATA"
   ]
  },
  {
   "cell_type": "markdown",
   "metadata": {},
   "source": [
    "#### SVM"
   ]
  },
  {
   "cell_type": "code",
   "execution_count": 32,
   "metadata": {},
   "outputs": [],
   "source": [
    "# losses = [\"hinge\",\"squared_hinge\"]\n",
    "# penalties = [\"l1\",\"l2\"]\n",
    "\n",
    "# print(\"OneVsOneClassifier\")\n",
    "# for i in losses:\n",
    "#     for j in penalties:\n",
    "#         try:\n",
    "#             svm =  OneVsOneClassifier(LinearSVC(random_state=0, loss=i,penalty=j,)).fit(X_train2, y_train2)\n",
    "#             pred_svm = svm.predict(X_test2)\n",
    "#             print(i,j,round(np.sum([y_test2==pred_svm])/len(y_test2),4)*100,\"%\")\n",
    "#         except:\n",
    "#             pass\n"
   ]
  },
  {
   "cell_type": "code",
   "execution_count": 33,
   "metadata": {},
   "outputs": [
    {
     "name": "stdout",
     "output_type": "stream",
     "text": [
      "              precision    recall  f1-score   support\n",
      "\n",
      "           0       0.62      0.49      0.55       402\n",
      "           1       0.54      0.66      0.59       358\n",
      "\n",
      "    accuracy                           0.57       760\n",
      "   macro avg       0.58      0.57      0.57       760\n",
      "weighted avg       0.58      0.57      0.57       760\n",
      "\n",
      "56.97 %\n"
     ]
    },
    {
     "data": {
      "image/png": "[encoded data removed]",
      "text/plain": [
       "<Figure size 600x600 with 2 Axes>"
      ]
     },
     "metadata": {},
     "output_type": "display_data"
    }
   ],
   "source": [
    "svm2 =  OneVsOneClassifier(LinearSVC(random_state=0, loss=\"hinge\",penalty=\"l2\")).fit(X_train2, y_train2)\n",
    "pred_svm2 = svm2.predict(X_test2)\n",
    "Confusion_Matrix(confusion_matrix(y_test2,pred_svm2))\n",
    "print(classification_report(y_test2, pred_svm2))\n",
    "print(round(np.sum([y_test2==pred_svm2])/len(y_test2),4)*100,\"%\")\n",
    "results.append(['histogram', 'SVM',round(np.sum([y_test2==pred_svm2])/len(y_test2),4)*100 ])"
   ]
  },
  {
   "cell_type": "markdown",
   "metadata": {},
   "source": [
    "#### KNN"
   ]
  },
  {
   "cell_type": "code",
   "execution_count": 34,
   "metadata": {},
   "outputs": [],
   "source": [
    "# for i in range(1,51):\n",
    "#     neigh = KNeighborsClassifier(n_neighbors=i)\n",
    "#     neigh.fit(X_train2,y_train2)\n",
    "#     pred_knn = neigh.predict(X_test2)\n",
    "#     print(i,round(np.sum([y_test2==pred_knn])/len(y_test2),4)*100,\"%\")"
   ]
  },
  {
   "cell_type": "code",
   "execution_count": 35,
   "metadata": {},
   "outputs": [
    {
     "name": "stdout",
     "output_type": "stream",
     "text": [
      "              precision    recall  f1-score   support\n",
      "\n",
      "           0       0.67      0.72      0.69       402\n",
      "           1       0.65      0.59      0.62       358\n",
      "\n",
      "    accuracy                           0.66       760\n",
      "   macro avg       0.66      0.66      0.66       760\n",
      "weighted avg       0.66      0.66      0.66       760\n",
      "\n",
      "66.05 %\n"
     ]
    },
    {
     "data": {
      "image/png": "[encoded data removed]",
      "text/plain": [
       "<Figure size 600x600 with 2 Axes>"
      ]
     },
     "metadata": {},
     "output_type": "display_data"
    }
   ],
   "source": [
    "neigh2 = KNeighborsClassifier(n_neighbors=7)\n",
    "neigh2.fit(X_train2,y_train2)\n",
    "pred_knn2 = neigh2.predict(X_test2)\n",
    "Confusion_Matrix(confusion_matrix(y_test2,pred_knn2))\n",
    "print(classification_report(y_test2, pred_knn2))\n",
    "print(round(np.sum([y_test2==pred_knn2])/len(y_test2),4)*100,\"%\")\n",
    "results.append(['histogram', 'KNN',round(np.sum([y_test2==pred_knn2])/len(y_test2),4)*100 ])"
   ]
  },
  {
   "cell_type": "markdown",
   "metadata": {},
   "source": [
    "#### Adaboost"
   ]
  },
  {
   "cell_type": "code",
   "execution_count": 36,
   "metadata": {},
   "outputs": [],
   "source": [
    "# for i in range(50,2001,50):\n",
    "#     ada = AdaBoostClassifier(n_estimators=i, algorithm=\"SAMME\", random_state=0)\n",
    "#     ada.fit(X_train2,y_train2)\n",
    "#     pred_ada = ada.predict(X_test2)\n",
    "#     print(i,round(np.sum([y_test2==pred_ada])/len(y_test2),4)*100,\"%\")"
   ]
  },
  {
   "cell_type": "code",
   "execution_count": 37,
   "metadata": {},
   "outputs": [
    {
     "name": "stdout",
     "output_type": "stream",
     "text": [
      "              precision    recall  f1-score   support\n",
      "\n",
      "           0       0.70      0.70      0.70       402\n",
      "           1       0.66      0.66      0.66       358\n",
      "\n",
      "    accuracy                           0.68       760\n",
      "   macro avg       0.68      0.68      0.68       760\n",
      "weighted avg       0.68      0.68      0.68       760\n",
      "\n",
      "68.03 %\n"
     ]
    },
    {
     "data": {
      "image/png": "[encoded data removed]",
      "text/plain": [
       "<Figure size 600x600 with 2 Axes>"
      ]
     },
     "metadata": {},
     "output_type": "display_data"
    }
   ],
   "source": [
    "ada2 = AdaBoostClassifier(n_estimators=1200, algorithm=\"SAMME\",random_state=0)\n",
    "ada2.fit(X_train2,y_train2)\n",
    "pred_ada2 = ada2.predict(X_test2)\n",
    "Confusion_Matrix(confusion_matrix(y_test2,pred_ada2))\n",
    "print(classification_report(y_test2, pred_ada2))\n",
    "print(round(np.sum([y_test2==pred_ada2])/len(y_test2),4)*100,\"%\")\n",
    "results.append(['histogram', 'Adaboost',round(np.sum([y_test2==pred_ada2])/len(y_test2),4)*100 ])"
   ]
  },
  {
   "cell_type": "markdown",
   "metadata": {},
   "source": [
    "#### Random Forset"
   ]
  },
  {
   "cell_type": "code",
   "execution_count": 38,
   "metadata": {},
   "outputs": [],
   "source": [
    "# for i in range(40,501,20):\n",
    "#     for j in range(2,5):\n",
    "#         RF = RandomForestClassifier(n_estimators=i, max_depth=None,min_samples_split=j, random_state=0)\n",
    "#         RF.fit(X_train2,y_train2)\n",
    "#         pred_RF = RF.predict(X_test2)\n",
    "#         print(i,j,round(np.sum([y_test2==pred_RF])/len(y_test2),4)*100,\"%\")"
   ]
  },
  {
   "cell_type": "code",
   "execution_count": 39,
   "metadata": {},
   "outputs": [
    {
     "name": "stdout",
     "output_type": "stream",
     "text": [
      "              precision    recall  f1-score   support\n",
      "\n",
      "           0       0.72      0.77      0.74       402\n",
      "           1       0.72      0.67      0.69       358\n",
      "\n",
      "    accuracy                           0.72       760\n",
      "   macro avg       0.72      0.72      0.72       760\n",
      "weighted avg       0.72      0.72      0.72       760\n",
      "\n",
      "72.11 %\n"
     ]
    },
    {
     "data": {
      "image/png": "[encoded data removed]",
      "text/plain": [
       "<Figure size 600x600 with 2 Axes>"
      ]
     },
     "metadata": {},
     "output_type": "display_data"
    }
   ],
   "source": [
    "RF2 = RandomForestClassifier(n_estimators=300, max_depth=None,min_samples_split=2, random_state=0)\n",
    "RF2.fit(X_train2,y_train2)\n",
    "pred_RF2 = RF2.predict(X_test2)\n",
    "Confusion_Matrix(confusion_matrix(y_test2,pred_RF2))\n",
    "print(classification_report(y_test2, pred_RF2))\n",
    "print(round(np.sum([y_test2==pred_RF2])/len(y_test2),4)*100,\"%\")\n",
    "results.append(['histogram', 'Random Forest',round(np.sum([y_test2==pred_RF2])/len(y_test2),4)*100 ])"
   ]
  },
  {
   "cell_type": "markdown",
   "metadata": {},
   "source": [
    "#### Logistic Regression"
   ]
  },
  {
   "cell_type": "code",
   "execution_count": 40,
   "metadata": {},
   "outputs": [],
   "source": [
    "# penilties = [\"l1\",\"l2\",\"elasticnet\"]\n",
    "# solvers = [\"lbfgs\",\"liblinear\",\"newton-cg\",\"newton-cholesky\",\"sag\",\"saga\"]\n",
    "# tols= [0.1 ,0.01]\n",
    "\n",
    "# for i in penilties:\n",
    "#     for j in solvers:\n",
    "#         for k in tols:\n",
    "#             try:\n",
    "#                 LR = LogisticRegression(penalty=i, solver=j, tol=k, max_iter=10000,random_state=0)\n",
    "#                 LR.fit(X_train2,y_train2)\n",
    "#                 pred_LR = LR.predict(X_test2)\n",
    "#                 print(i,j,k,round(np.sum([y_test2==pred_LR])/len(y_test2),4)*100,\"%\")\n",
    "#             except:\n",
    "#                 pass\n",
    "        "
   ]
  },
  {
   "cell_type": "code",
   "execution_count": 41,
   "metadata": {},
   "outputs": [
    {
     "name": "stdout",
     "output_type": "stream",
     "text": [
      "              precision    recall  f1-score   support\n",
      "\n",
      "           0       0.68      0.68      0.68       402\n",
      "           1       0.64      0.63      0.64       358\n",
      "\n",
      "    accuracy                           0.66       760\n",
      "   macro avg       0.66      0.66      0.66       760\n",
      "weighted avg       0.66      0.66      0.66       760\n",
      "\n",
      "65.92 %\n"
     ]
    },
    {
     "data": {
      "image/png": "[encoded data removed]",
      "text/plain": [
       "<Figure size 600x600 with 2 Axes>"
      ]
     },
     "metadata": {},
     "output_type": "display_data"
    }
   ],
   "source": [
    "LR2 = LogisticRegression(penalty=\"l1\", solver=\"saga\", tol=0.1, max_iter=10000, random_state=0)\n",
    "LR2.fit(X_train2,y_train2)\n",
    "pred_LR2 = LR2.predict(X_test2)\n",
    "Confusion_Matrix(confusion_matrix(y_test2,pred_LR2))\n",
    "print(classification_report(y_test2, pred_LR2))\n",
    "print(round(np.sum([y_test2==pred_LR2])/len(y_test2),4)*100,\"%\")\n",
    "results.append(['histogram', 'Logistic Regression',round(np.sum([y_test2==pred_LR2])/len(y_test2),4)*100 ])"
   ]
  },
  {
   "cell_type": "code",
   "execution_count": null,
   "metadata": {},
   "outputs": [],
   "source": []
  },
  {
   "cell_type": "markdown",
   "metadata": {},
   "source": [
    "# RUN ON DATA SET IMAGE PCA"
   ]
  },
  {
   "cell_type": "code",
   "execution_count": 42,
   "metadata": {},
   "outputs": [
    {
     "name": "stdout",
     "output_type": "stream",
     "text": [
      "(632, 120000)\n",
      "    i0   i1   i2   i3   i4   i5   i6   i7   i8   i9  ...  i119990  i119991  \\\n",
      "0  254  254  254  254  254  254  254  254  254  254  ...      255      255   \n",
      "1   99   92  136   94   90  125   34   34   58    4  ...       98       33   \n",
      "2  255  255  255  255  255  255  255  255  255  255  ...      255      255   \n",
      "3  255  255  255  255  255  255  255  255  255  255  ...      255      255   \n",
      "4  251  251  251  254  254  254  255  255  255  253  ...      255      253   \n",
      "\n",
      "   i119992  i119993  i119994  i119995  i119996  i119997  i119998  i119999  \n",
      "0      255      255      255      255      255      255      255      255  \n",
      "1       47       99       33       49       96       33       49       96  \n",
      "2      255      255      255      255      255      255      255      255  \n",
      "3      255      255      255      255      255      255      255      255  \n",
      "4      253      253      255      255      255      255      255      255  \n",
      "\n",
      "[5 rows x 120000 columns]\n",
      "(1771, 120000)\n",
      "(1771, 200)\n",
      "(760, 200)\n",
      "(632, 200)\n"
     ]
    }
   ],
   "source": [
    "final = final_test_X.iloc[:, 4+256*3:4+256*3+200*200*3]\n",
    "print(final.shape)\n",
    "print(final.head())\n",
    "print(X_train3.shape)\n",
    "\n",
    "pca1=PCA(n_components=200)\n",
    "X_train3=pca1.fit_transform(X_train3)\n",
    "X_test3=pca1.transform(X_test3)\n",
    "final_test_X3 = pca1.transform(final)\n",
    "\n",
    "print(X_train3.shape)\n",
    "print(X_test3.shape)\n",
    "print(final_test_X3.shape)\n",
    "\n",
    "cs = [i for i in range(200)]\n",
    "df_X3_final_test = pd.DataFrame(final_test_X3,columns=cs)\n",
    "cy =[]\n",
    "for i in final_test_y:\n",
    "    cy.append(i)\n",
    "df_X3_final_test['type']=cy\n",
    "df_X3_final_test.head()\n",
    "\n",
    "df_X3_final_test.to_csv('df_final_test_2class_X3.csv', index=False)"
   ]
  },
  {
   "cell_type": "markdown",
   "metadata": {},
   "source": [
    "#### SVM"
   ]
  },
  {
   "cell_type": "code",
   "execution_count": 43,
   "metadata": {},
   "outputs": [],
   "source": [
    "# losses = [\"hinge\",\"squared_hinge\"]\n",
    "# penalties = [\"l1\",\"l2\"]\n",
    "\n",
    "# print(\"OneVsOneClassifier\")\n",
    "# for i in losses:\n",
    "#     for j in penalties:\n",
    "#         try:\n",
    "#             svm =  OneVsOneClassifier(LinearSVC(random_state=0, loss=i,penalty=j,)).fit(X_train3, y_train3)\n",
    "#             pred_svm = svm.predict(X_test3)\n",
    "#             print(i,j,round(np.sum([y_test3==pred_svm])/len(y_test3),4)*100,\"%\")\n",
    "#         except:\n",
    "#             pass\n"
   ]
  },
  {
   "cell_type": "code",
   "execution_count": 44,
   "metadata": {},
   "outputs": [
    {
     "name": "stdout",
     "output_type": "stream",
     "text": [
      "              precision    recall  f1-score   support\n",
      "\n",
      "           0       0.55      0.55      0.55       402\n",
      "           1       0.49      0.49      0.49       358\n",
      "\n",
      "    accuracy                           0.52       760\n",
      "   macro avg       0.52      0.52      0.52       760\n",
      "weighted avg       0.52      0.52      0.52       760\n",
      "\n",
      "52.11 %\n"
     ]
    },
    {
     "data": {
      "image/png": "[encoded data removed]",
      "text/plain": [
       "<Figure size 600x600 with 2 Axes>"
      ]
     },
     "metadata": {},
     "output_type": "display_data"
    }
   ],
   "source": [
    "svm3 =  OneVsOneClassifier(LinearSVC(random_state=0, loss=\"hinge\",penalty=\"l2\")).fit(X_train3, y_train3)\n",
    "pred_svm3 = svm3.predict(X_test3)\n",
    "Confusion_Matrix(confusion_matrix(y_test3,pred_svm3))\n",
    "print(classification_report(y_test3, pred_svm3))\n",
    "print(round(np.sum([y_test3==pred_svm3])/len(y_test3),4)*100,\"%\")\n",
    "results.append(['image pca 200', 'SVM',round(np.sum([y_test3==pred_svm3])/len(y_test3),4)*100 ])"
   ]
  },
  {
   "cell_type": "markdown",
   "metadata": {},
   "source": [
    "#### KNN"
   ]
  },
  {
   "cell_type": "code",
   "execution_count": 45,
   "metadata": {},
   "outputs": [],
   "source": [
    "# for i in range(1,101):\n",
    "#     neigh = KNeighborsClassifier(n_neighbors=i)\n",
    "#     neigh.fit(X_train3,y_train3)\n",
    "#     pred_knn = neigh.predict(X_test3)\n",
    "#     print(i,round(np.sum([y_test3==pred_knn])/len(y_test3),4)*100,\"%\")\n"
   ]
  },
  {
   "cell_type": "code",
   "execution_count": 46,
   "metadata": {},
   "outputs": [
    {
     "name": "stdout",
     "output_type": "stream",
     "text": [
      "              precision    recall  f1-score   support\n",
      "\n",
      "           0       0.72      0.74      0.73       402\n",
      "           1       0.70      0.68      0.69       358\n",
      "\n",
      "    accuracy                           0.71       760\n",
      "   macro avg       0.71      0.71      0.71       760\n",
      "weighted avg       0.71      0.71      0.71       760\n",
      "\n",
      "71.45 %\n"
     ]
    },
    {
     "data": {
      "image/png": "[encoded data removed]",
      "text/plain": [
       "<Figure size 600x600 with 2 Axes>"
      ]
     },
     "metadata": {},
     "output_type": "display_data"
    }
   ],
   "source": [
    "neigh3 = KNeighborsClassifier(n_neighbors=1)\n",
    "neigh3.fit(X_train3,y_train3)\n",
    "pred_knn3 = neigh3.predict(X_test3)\n",
    "Confusion_Matrix(confusion_matrix(y_test3,pred_knn3))\n",
    "print(classification_report(y_test3, pred_knn3))\n",
    "print(round(np.sum([y_test3==pred_knn3])/len(y_test3),4)*100,\"%\")\n",
    "results.append(['image pca 200', 'KNN',round(np.sum([y_test3==pred_knn3])/len(y_test3),4)*100 ])"
   ]
  },
  {
   "cell_type": "markdown",
   "metadata": {},
   "source": [
    "#### ADABOOST"
   ]
  },
  {
   "cell_type": "code",
   "execution_count": 47,
   "metadata": {},
   "outputs": [],
   "source": [
    "# for i in range(50,2001,50):\n",
    "#     ada = AdaBoostClassifier(n_estimators=i, algorithm=\"SAMME\",random_state=0)\n",
    "#     ada.fit(X_train3,y_train3)\n",
    "#     pred_ada = ada.predict(X_test3)\n",
    "#     print(i,round(np.sum([y_test3==pred_ada])/len(y_test3),4)*100,\"%\")"
   ]
  },
  {
   "cell_type": "code",
   "execution_count": 48,
   "metadata": {},
   "outputs": [
    {
     "name": "stdout",
     "output_type": "stream",
     "text": [
      "              precision    recall  f1-score   support\n",
      "\n",
      "           0       0.73      0.67      0.70       402\n",
      "           1       0.66      0.72      0.69       358\n",
      "\n",
      "    accuracy                           0.69       760\n",
      "   macro avg       0.69      0.69      0.69       760\n",
      "weighted avg       0.70      0.69      0.69       760\n",
      "\n",
      "69.21000000000001 %\n"
     ]
    },
    {
     "data": {
      "image/png": "[encoded data removed]",
      "text/plain": [
       "<Figure size 600x600 with 2 Axes>"
      ]
     },
     "metadata": {},
     "output_type": "display_data"
    }
   ],
   "source": [
    "ada3 = AdaBoostClassifier(n_estimators=1900, algorithm=\"SAMME\",random_state=0)\n",
    "ada3.fit(X_train3,y_train3)\n",
    "pred_ada3 = ada3.predict(X_test3)\n",
    "Confusion_Matrix(confusion_matrix(y_test3,pred_ada3))\n",
    "print(classification_report(y_test3, pred_ada3))\n",
    "print(round(np.sum([y_test3==pred_ada3])/len(y_test3),4)*100,\"%\")\n",
    "results.append(['image pca 200', 'Adaboost',round(np.sum([y_test3==pred_ada3])/len(y_test3),4)*100 ])"
   ]
  },
  {
   "cell_type": "markdown",
   "metadata": {},
   "source": [
    "#### RANDOM FOREST"
   ]
  },
  {
   "cell_type": "code",
   "execution_count": 49,
   "metadata": {},
   "outputs": [],
   "source": [
    "# for i in range(40,501,20):\n",
    "#     for j in range(2,5):\n",
    "#         RF = RandomForestClassifier(n_estimators=i, max_depth=None,min_samples_split=j, random_state=0)\n",
    "#         RF.fit(X_train3,y_train3)\n",
    "#         pred_RF = RF.predict(X_test3)\n",
    "#         print(i,j,round(np.sum([y_test3==pred_RF])/len(y_test3),4)*100,\"%\")"
   ]
  },
  {
   "cell_type": "code",
   "execution_count": 50,
   "metadata": {},
   "outputs": [
    {
     "name": "stdout",
     "output_type": "stream",
     "text": [
      "              precision    recall  f1-score   support\n",
      "\n",
      "           0       0.71      0.85      0.77       402\n",
      "           1       0.78      0.61      0.69       358\n",
      "\n",
      "    accuracy                           0.74       760\n",
      "   macro avg       0.75      0.73      0.73       760\n",
      "weighted avg       0.75      0.74      0.73       760\n",
      "\n",
      "73.82 %\n"
     ]
    },
    {
     "data": {
      "image/png": "[encoded data removed]",
      "text/plain": [
       "<Figure size 600x600 with 2 Axes>"
      ]
     },
     "metadata": {},
     "output_type": "display_data"
    }
   ],
   "source": [
    "RF3 = RandomForestClassifier(n_estimators=340, max_depth=None,min_samples_split=3, random_state=0)\n",
    "RF3.fit(X_train3,y_train3)\n",
    "pred_RF3 = RF3.predict(X_test3)\n",
    "Confusion_Matrix(confusion_matrix(y_test3,pred_RF3))\n",
    "print(classification_report(y_test3, pred_RF3))\n",
    "print(round(np.sum([y_test3==pred_RF3])/len(y_test3),4)*100,\"%\")\n",
    "results.append(['image pca 200', 'Random Forest',round(np.sum([y_test3==pred_RF3])/len(y_test3),4)*100 ])"
   ]
  },
  {
   "cell_type": "markdown",
   "metadata": {},
   "source": [
    "#### LOGISTIC REGRESSION"
   ]
  },
  {
   "cell_type": "code",
   "execution_count": 51,
   "metadata": {},
   "outputs": [],
   "source": [
    "# penilties = [\"l1\",\"l2\",\"elasticnet\"]\n",
    "# solvers = [\"lbfgs\",\"liblinear\",\"newton-cg\",\"newton-cholesky\",\"sag\",\"saga\"]\n",
    "# tols= [0.1 ,0.01, 0.001]\n",
    "\n",
    "# for i in penilties:\n",
    "#     for j in solvers:\n",
    "#         for k in tols:\n",
    "#             try:\n",
    "#                 LR = LogisticRegression(penalty=i, solver=j, tol=k, max_iter=10000, random_state =0)\n",
    "#                 LR.fit(X_train3,y_train3)\n",
    "#                 pred_LR = LR.predict(X_test3)\n",
    "#                 print(i,j,k,round(np.sum([y_test3==pred_LR])/len(y_test3),4)*100,\"%\")\n",
    "#             except:\n",
    "#                 pass"
   ]
  },
  {
   "cell_type": "code",
   "execution_count": 52,
   "metadata": {},
   "outputs": [
    {
     "name": "stdout",
     "output_type": "stream",
     "text": [
      "              precision    recall  f1-score   support\n",
      "\n",
      "           0       0.66      0.65      0.66       402\n",
      "           1       0.62      0.63      0.62       358\n",
      "\n",
      "    accuracy                           0.64       760\n",
      "   macro avg       0.64      0.64      0.64       760\n",
      "weighted avg       0.64      0.64      0.64       760\n",
      "\n",
      "64.08 %\n"
     ]
    },
    {
     "data": {
      "image/png": "[encoded data removed]",
      "text/plain": [
       "<Figure size 600x600 with 2 Axes>"
      ]
     },
     "metadata": {},
     "output_type": "display_data"
    }
   ],
   "source": [
    "LR3 = LogisticRegression(penalty=\"l1\", solver=\"saga\", tol=0.1, max_iter=10000, random_state = 0)\n",
    "LR3.fit(X_train3,y_train3)\n",
    "pred_LR3 = LR3.predict(X_test3)\n",
    "Confusion_Matrix(confusion_matrix(y_test3,pred_LR3))\n",
    "print(classification_report(y_test3, pred_LR3))\n",
    "print(round(np.sum([y_test3==pred_LR3])/len(y_test3),4)*100,\"%\")\n",
    "results.append(['image pca 200',round(np.sum([y_test3==pred_LR3])/len(y_test3),4)*100 ])"
   ]
  },
  {
   "cell_type": "code",
   "execution_count": null,
   "metadata": {},
   "outputs": [],
   "source": []
  },
  {
   "cell_type": "markdown",
   "metadata": {},
   "source": [
    "# RUN ON EDGE PCA"
   ]
  },
  {
   "cell_type": "code",
   "execution_count": 53,
   "metadata": {},
   "outputs": [
    {
     "name": "stdout",
     "output_type": "stream",
     "text": [
      "(632, 40000)\n",
      "   e0  e1   e2  e3  e4  e5  e6  e7  e8  e9  ...  e39990  e39991  e39992  \\\n",
      "0   0   0    0   0   0   0   0   0   0   0  ...       0       0       0   \n",
      "1   0   0  255   0   0   0   0   0   0   0  ...       0       0       0   \n",
      "2   0   0    0   0   0   0   0   0   0   0  ...       0       0       0   \n",
      "3   0   0    0   0   0   0   0   0   0   0  ...       0       0       0   \n",
      "4   0   0    0   0   0   0   0   0   0   0  ...       0       0       0   \n",
      "\n",
      "   e39993  e39994  e39995  e39996  e39997  e39998  e39999  \n",
      "0       0       0       0       0       0       0       0  \n",
      "1     255       0       0       0       0       0       0  \n",
      "2       0       0       0       0       0       0       0  \n",
      "3       0       0       0       0       0       0       0  \n",
      "4       0       0       0       0       0       0       0  \n",
      "\n",
      "[5 rows x 40000 columns]\n",
      "(1771, 40000)\n",
      "(1771, 100)\n",
      "(760, 100)\n",
      "(632, 100)\n"
     ]
    }
   ],
   "source": [
    "final = final_test_X.iloc[: ,4+256*3+200*200*3:]\n",
    "print(final.shape)\n",
    "print(final.head())\n",
    "print(X_train4.shape)\n",
    "\n",
    "pca2=PCA(n_components=100)\n",
    "X_train4=pca2.fit_transform(X_train4)\n",
    "X_test4=pca2.transform(X_test4)\n",
    "final_test_X4 = pca2.transform(final)\n",
    "\n",
    "print(X_train4.shape)\n",
    "print(X_test4.shape)\n",
    "print(final_test_X4.shape)\n",
    "\n",
    "cs = [i for i in range(100)]\n",
    "df_X4_final_test = pd.DataFrame(final_test_X4,columns=cs)\n",
    "cy =[]\n",
    "for i in final_test_y:\n",
    "    cy.append(i)\n",
    "df_X4_final_test['type']=cy\n",
    "df_X4_final_test.head()\n",
    "\n",
    "df_X4_final_test.to_csv('df_final_test_2class_X4.csv', index=False)"
   ]
  },
  {
   "cell_type": "markdown",
   "metadata": {},
   "source": [
    "#### SVM"
   ]
  },
  {
   "cell_type": "code",
   "execution_count": 54,
   "metadata": {},
   "outputs": [],
   "source": [
    "# losses = [\"hinge\",\"squared_hinge\"]\n",
    "# penalties = [\"l1\",\"l2\"]\n",
    "\n",
    "# print(\"OneVsOneClassifier\")\n",
    "# for i in losses:\n",
    "#     for j in penalties:\n",
    "#         try:\n",
    "#             svm =  OneVsOneClassifier(LinearSVC(random_state=0, loss=i,penalty=j,)).fit(X_train4, y_train4)\n",
    "#             pred_svm = svm.predict(X_test4)\n",
    "#             print(i,j,round(np.sum([y_test4==pred_svm])/len(y_test4),4)*100,\"%\")\n",
    "#         except:\n",
    "#             pass\n"
   ]
  },
  {
   "cell_type": "code",
   "execution_count": 55,
   "metadata": {},
   "outputs": [
    {
     "name": "stdout",
     "output_type": "stream",
     "text": [
      "              precision    recall  f1-score   support\n",
      "\n",
      "           0       0.64      0.57      0.60       402\n",
      "           1       0.57      0.63      0.60       358\n",
      "\n",
      "    accuracy                           0.60       760\n",
      "   macro avg       0.60      0.60      0.60       760\n",
      "weighted avg       0.61      0.60      0.60       760\n",
      "\n",
      "60.260000000000005 %\n"
     ]
    },
    {
     "data": {
      "image/png": "[encoded data removed]",
      "text/plain": [
       "<Figure size 600x600 with 2 Axes>"
      ]
     },
     "metadata": {},
     "output_type": "display_data"
    }
   ],
   "source": [
    "svm4 =  OneVsRestClassifier(LinearSVC(random_state=0, loss=\"hinge\",penalty=\"l2\")).fit(X_train4, y_train4)\n",
    "pred_svm4 = svm4.predict(X_test4)\n",
    "Confusion_Matrix(confusion_matrix(y_test4,pred_svm4))\n",
    "print(classification_report(y_test4, pred_svm4))\n",
    "print(round(np.sum([y_test4==pred_svm4])/len(y_test4),4)*100,\"%\")\n",
    "results.append(['edge pca 100', 'SVM',round(np.sum([y_test4==pred_svm4])/len(y_test4),4)*100 ])"
   ]
  },
  {
   "cell_type": "markdown",
   "metadata": {},
   "source": [
    "#### KNN"
   ]
  },
  {
   "cell_type": "code",
   "execution_count": 56,
   "metadata": {},
   "outputs": [],
   "source": [
    "# for i in range(1,51):\n",
    "#     neigh = KNeighborsClassifier(n_neighbors=i)\n",
    "#     neigh.fit(X_train4,y_train4)\n",
    "#     pred_knn = neigh.predict(X_test4)\n",
    "#     print(i,round(np.sum([y_test4==pred_knn])/len(y_test4),4)*100,\"%\")"
   ]
  },
  {
   "cell_type": "code",
   "execution_count": 57,
   "metadata": {},
   "outputs": [
    {
     "name": "stdout",
     "output_type": "stream",
     "text": [
      "              precision    recall  f1-score   support\n",
      "\n",
      "           0       0.77      0.70      0.73       402\n",
      "           1       0.69      0.76      0.73       358\n",
      "\n",
      "    accuracy                           0.73       760\n",
      "   macro avg       0.73      0.73      0.73       760\n",
      "weighted avg       0.73      0.73      0.73       760\n",
      "\n",
      "72.89 %\n"
     ]
    },
    {
     "data": {
      "image/png": "[encoded data removed]",
      "text/plain": [
       "<Figure size 600x600 with 2 Axes>"
      ]
     },
     "metadata": {},
     "output_type": "display_data"
    }
   ],
   "source": [
    "neigh4 = KNeighborsClassifier(n_neighbors=1)\n",
    "neigh4.fit(X_train4,y_train4)\n",
    "pred_knn4 = neigh4.predict(X_test4)\n",
    "Confusion_Matrix(confusion_matrix(y_test4,pred_knn4))\n",
    "print(classification_report(y_test4, pred_knn4))\n",
    "print(round(np.sum([y_test4==pred_knn4])/len(y_test4),4)*100,\"%\")\n",
    "results.append(['edge pca 100', 'KNN',round(np.sum([y_test4==pred_knn4])/len(y_test4),4)*100 ])"
   ]
  },
  {
   "cell_type": "markdown",
   "metadata": {},
   "source": [
    "#### Adaboost"
   ]
  },
  {
   "cell_type": "code",
   "execution_count": 58,
   "metadata": {},
   "outputs": [],
   "source": [
    "# for i in range(50,2001,50):\n",
    "#     ada = AdaBoostClassifier(n_estimators=i, algorithm=\"SAMME\",random_state=0)\n",
    "#     ada.fit(X_train4,y_train4)\n",
    "#     pred_ada = ada.predict(X_test4)\n",
    "#     print(i,round(np.sum([y_test4==pred_ada])/len(y_test4),4)*100,\"%\")"
   ]
  },
  {
   "cell_type": "code",
   "execution_count": 59,
   "metadata": {},
   "outputs": [
    {
     "name": "stdout",
     "output_type": "stream",
     "text": [
      "              precision    recall  f1-score   support\n",
      "\n",
      "           0       0.76      0.62      0.68       402\n",
      "           1       0.65      0.78      0.71       358\n",
      "\n",
      "    accuracy                           0.69       760\n",
      "   macro avg       0.70      0.70      0.69       760\n",
      "weighted avg       0.71      0.69      0.69       760\n",
      "\n",
      "69.47 %\n"
     ]
    },
    {
     "data": {
      "image/png": "[encoded data removed]",
      "text/plain": [
       "<Figure size 600x600 with 2 Axes>"
      ]
     },
     "metadata": {},
     "output_type": "display_data"
    }
   ],
   "source": [
    "ada4 = AdaBoostClassifier(n_estimators=1350, algorithm=\"SAMME\",random_state=0)\n",
    "ada4.fit(X_train4,y_train4)\n",
    "pred_ada4 = ada4.predict(X_test4)\n",
    "Confusion_Matrix(confusion_matrix(y_test4,pred_ada4))\n",
    "print(classification_report(y_test4, pred_ada4))\n",
    "print(round(np.sum([y_test4==pred_ada4])/len(y_test4),4)*100,\"%\")\n",
    "results.append(['edge pca 100', 'Adaboost',round(np.sum([y_test4==pred_ada4])/len(y_test4),4)*100 ])"
   ]
  },
  {
   "cell_type": "markdown",
   "metadata": {},
   "source": [
    "#### Random Forest"
   ]
  },
  {
   "cell_type": "code",
   "execution_count": 60,
   "metadata": {},
   "outputs": [],
   "source": [
    "# for i in range(40,501,20):\n",
    "#     for j in range(2,5):\n",
    "#         RF = RandomForestClassifier(n_estimators=i, max_depth=None,min_samples_split=j, random_state=0)\n",
    "#         RF.fit(X_train4,y_train4)\n",
    "#         pred_RF = RF.predict(X_test4)\n",
    "#         print(i,j,round(np.sum([y_test4==pred_RF])/len(y_test4),4)*100,\"%\")"
   ]
  },
  {
   "cell_type": "code",
   "execution_count": 61,
   "metadata": {},
   "outputs": [
    {
     "name": "stdout",
     "output_type": "stream",
     "text": [
      "              precision    recall  f1-score   support\n",
      "\n",
      "           0       0.76      0.59      0.67       402\n",
      "           1       0.63      0.78      0.70       358\n",
      "\n",
      "    accuracy                           0.68       760\n",
      "   macro avg       0.69      0.69      0.68       760\n",
      "weighted avg       0.70      0.68      0.68       760\n",
      "\n",
      "68.42 %\n"
     ]
    },
    {
     "data": {
      "image/png": "[encoded data removed]",
      "text/plain": [
       "<Figure size 600x600 with 2 Axes>"
      ]
     },
     "metadata": {},
     "output_type": "display_data"
    }
   ],
   "source": [
    "RF4 = RandomForestClassifier(n_estimators=40, max_depth=None,min_samples_split=2, random_state=0)\n",
    "RF4.fit(X_train4,y_train4)\n",
    "pred_RF4 = RF4.predict(X_test4)\n",
    "Confusion_Matrix(confusion_matrix(y_test4,pred_RF4))\n",
    "print(classification_report(y_test4, pred_RF4))\n",
    "print(round(np.sum([y_test4==pred_RF4])/len(y_test4),4)*100,\"%\")\n",
    "results.append(['edge pca 100', 'Random Forest',round(np.sum([y_test4==pred_RF4])/len(y_test4),4)*100 ])"
   ]
  },
  {
   "cell_type": "markdown",
   "metadata": {},
   "source": [
    "#### Logistic Regression"
   ]
  },
  {
   "cell_type": "code",
   "execution_count": 62,
   "metadata": {},
   "outputs": [],
   "source": [
    "# penilties = [\"l1\",\"l2\",\"elasticnet\"]\n",
    "# solvers = [\"lbfgs\",\"liblinear\",\"newton-cg\",\"newton-cholesky\",\"sag\",\"saga\"]\n",
    "# tols= [0.1 ,0.01, 0.001]\n",
    "\n",
    "# for i in penilties:\n",
    "#     for j in solvers:\n",
    "#         for k in tols:\n",
    "#             try:\n",
    "#                 LR = LogisticRegression(penalty=i, solver=j, tol=k, max_iter=10000, random_state =0)\n",
    "#                 LR.fit(X_train4,y_train4)\n",
    "#                 pred_LR = LR.predict(X_test4)\n",
    "#                 print(i,j,k,round(np.sum([y_test4==pred_LR])/len(y_test4),4)*100,\"%\")\n",
    "#             except:\n",
    "#                 pass"
   ]
  },
  {
   "cell_type": "code",
   "execution_count": 63,
   "metadata": {},
   "outputs": [
    {
     "name": "stdout",
     "output_type": "stream",
     "text": [
      "              precision    recall  f1-score   support\n",
      "\n",
      "           0       0.66      0.65      0.66       402\n",
      "           1       0.62      0.62      0.62       358\n",
      "\n",
      "    accuracy                           0.64       760\n",
      "   macro avg       0.64      0.64      0.64       760\n",
      "weighted avg       0.64      0.64      0.64       760\n",
      "\n",
      "63.949999999999996 %\n"
     ]
    },
    {
     "data": {
      "image/png": "[encoded data removed]",
      "text/plain": [
       "<Figure size 600x600 with 2 Axes>"
      ]
     },
     "metadata": {},
     "output_type": "display_data"
    }
   ],
   "source": [
    "LR4 = LogisticRegression(penalty=\"l2\", solver=\"lbfgs\", tol=0.1, max_iter=10000, random_state = 0)\n",
    "LR4.fit(X_train4,y_train4)\n",
    "pred_LR4 = LR4.predict(X_test4)\n",
    "Confusion_Matrix(confusion_matrix(y_test4,pred_LR4))\n",
    "print(classification_report(y_test4, pred_LR4))\n",
    "print(round(np.sum([y_test4==pred_LR4])/len(y_test4),4)*100,\"%\")\n",
    "results.append(['edge pca 100', 'Logistic Regression',round(np.sum([y_test4==pred_LR4])/len(y_test4),4)*100 ])"
   ]
  },
  {
   "cell_type": "code",
   "execution_count": null,
   "metadata": {},
   "outputs": [],
   "source": []
  },
  {
   "cell_type": "markdown",
   "metadata": {},
   "source": [
    "all pca "
   ]
  },
  {
   "cell_type": "code",
   "execution_count": 64,
   "metadata": {},
   "outputs": [
    {
     "name": "stdout",
     "output_type": "stream",
     "text": [
      "(1771, 200)\n",
      "(760, 200)\n",
      "(632, 200)\n"
     ]
    }
   ],
   "source": [
    "\n",
    "pca3=PCA(n_components=200)\n",
    "X_train5=pca3.fit_transform(X_train5)\n",
    "X_test5=pca3.transform(X_test5)\n",
    "final_test_X5 = pca3.transform(final_test_X)\n",
    "\n",
    "print(X_train5.shape)\n",
    "print(X_test5.shape)\n",
    "print(final_test_X5.shape)\n",
    "\n",
    "cs = [i for i in range(200)]\n",
    "df_X5_final_test = pd.DataFrame(final_test_X5,columns=cs)\n",
    "cy =[]\n",
    "for i in final_test_y:\n",
    "    cy.append(i)\n",
    "df_X5_final_test['type']=cy\n",
    "df_X5_final_test.head()\n",
    "\n",
    "df_X5_final_test.to_csv('df_final_test_2class_X5.csv', index=False)"
   ]
  },
  {
   "cell_type": "markdown",
   "metadata": {},
   "source": [
    "svm"
   ]
  },
  {
   "cell_type": "code",
   "execution_count": 65,
   "metadata": {},
   "outputs": [],
   "source": [
    "# losses = [\"hinge\",\"squared_hinge\"]\n",
    "# penalties = [\"l1\",\"l2\"]\n",
    "\n",
    "# print(\"OneVsOneClassifier\")\n",
    "# for i in losses:\n",
    "#     for j in penalties:\n",
    "#         try:\n",
    "#             svm =  OneVsOneClassifier(LinearSVC(random_state=0, loss=i,penalty=j,)).fit(X_train5, y_train5)\n",
    "#             pred_svm = svm.predict(X_test5)\n",
    "#             print(i,j,round(np.sum([y_test5==pred_svm])/len(y_test5),4)*100,\"%\")\n",
    "#         except:\n",
    "#             pass\n"
   ]
  },
  {
   "cell_type": "code",
   "execution_count": 66,
   "metadata": {},
   "outputs": [
    {
     "name": "stdout",
     "output_type": "stream",
     "text": [
      "              precision    recall  f1-score   support\n",
      "\n",
      "           0       0.67      0.65      0.66       402\n",
      "           1       0.62      0.63      0.63       358\n",
      "\n",
      "    accuracy                           0.64       760\n",
      "   macro avg       0.64      0.64      0.64       760\n",
      "weighted avg       0.65      0.64      0.64       760\n",
      "\n",
      "64.47 %\n"
     ]
    },
    {
     "data": {
      "image/png": "[encoded data removed]",
      "text/plain": [
       "<Figure size 600x600 with 2 Axes>"
      ]
     },
     "metadata": {},
     "output_type": "display_data"
    }
   ],
   "source": [
    "svm5 =  OneVsRestClassifier(LinearSVC(random_state=0, loss=\"hinge\",penalty=\"l2\")).fit(X_train5, y_train5)\n",
    "pred_svm5 = svm5.predict(X_test5)\n",
    "Confusion_Matrix(confusion_matrix(y_test5,pred_svm5))\n",
    "print(classification_report(y_test5, pred_svm5))\n",
    "print(round(np.sum([y_test5==pred_svm5])/len(y_test5),4)*100,\"%\")\n",
    "results.append(['all pca 200', 'SVM',round(np.sum([y_test5==pred_svm5])/len(y_test5),4)*100 ])"
   ]
  },
  {
   "cell_type": "markdown",
   "metadata": {},
   "source": [
    "knn"
   ]
  },
  {
   "cell_type": "code",
   "execution_count": 67,
   "metadata": {},
   "outputs": [],
   "source": [
    "# for i in range(1,51):\n",
    "#     neigh = KNeighborsClassifier(n_neighbors=i)\n",
    "#     neigh.fit(X_train5,y_train5)\n",
    "#     pred_knn = neigh.predict(X_test5)\n",
    "#     print(i,round(np.sum([y_test5==pred_knn])/len(y_test5),4)*100,\"%\")"
   ]
  },
  {
   "cell_type": "code",
   "execution_count": 68,
   "metadata": {},
   "outputs": [
    {
     "name": "stdout",
     "output_type": "stream",
     "text": [
      "              precision    recall  f1-score   support\n",
      "\n",
      "           0       0.73      0.76      0.75       402\n",
      "           1       0.72      0.68      0.70       358\n",
      "\n",
      "    accuracy                           0.73       760\n",
      "   macro avg       0.72      0.72      0.72       760\n",
      "weighted avg       0.72      0.72      0.72       760\n",
      "\n",
      "72.5 %\n"
     ]
    },
    {
     "data": {
      "image/png": "[encoded data removed]",
      "text/plain": [
       "<Figure size 600x600 with 2 Axes>"
      ]
     },
     "metadata": {},
     "output_type": "display_data"
    }
   ],
   "source": [
    "neigh5 = KNeighborsClassifier(n_neighbors=1)\n",
    "neigh5.fit(X_train5,y_train5)\n",
    "pred_knn5 = neigh5.predict(X_test5)\n",
    "Confusion_Matrix(confusion_matrix(y_test5,pred_knn5))\n",
    "print(classification_report(y_test5, pred_knn5))\n",
    "print(round(np.sum([y_test5==pred_knn5])/len(y_test5),4)*100,\"%\")\n",
    "results.append(['all pca 200', 'KNN',round(np.sum([y_test5==pred_knn5])/len(y_test5),4)*100 ])"
   ]
  },
  {
   "cell_type": "markdown",
   "metadata": {},
   "source": [
    "adaboost"
   ]
  },
  {
   "cell_type": "code",
   "execution_count": 69,
   "metadata": {},
   "outputs": [],
   "source": [
    "# for i in range(50,2001,50):\n",
    "#     ada = AdaBoostClassifier(n_estimators=i, algorithm=\"SAMME\",random_state=0)\n",
    "#     ada.fit(X_train5,y_train5)\n",
    "#     pred_ada = ada.predict(X_test5)\n",
    "#     print(i,round(np.sum([y_test5==pred_ada])/len(y_test5),4)*100,\"%\")"
   ]
  },
  {
   "cell_type": "code",
   "execution_count": 70,
   "metadata": {},
   "outputs": [
    {
     "name": "stdout",
     "output_type": "stream",
     "text": [
      "              precision    recall  f1-score   support\n",
      "\n",
      "           0       0.72      0.71      0.71       402\n",
      "           1       0.68      0.69      0.68       358\n",
      "\n",
      "    accuracy                           0.70       760\n",
      "   macro avg       0.70      0.70      0.70       760\n",
      "weighted avg       0.70      0.70      0.70       760\n",
      "\n",
      "69.74000000000001 %\n"
     ]
    },
    {
     "data": {
      "image/png": "[encoded data removed]",
      "text/plain": [
       "<Figure size 600x600 with 2 Axes>"
      ]
     },
     "metadata": {},
     "output_type": "display_data"
    }
   ],
   "source": [
    "ada5 = AdaBoostClassifier(n_estimators=700, algorithm=\"SAMME\",random_state=0)\n",
    "ada5.fit(X_train5,y_train5)\n",
    "pred_ada5 = ada5.predict(X_test5)\n",
    "Confusion_Matrix(confusion_matrix(y_test5,pred_ada5))\n",
    "print(classification_report(y_test5, pred_ada5))\n",
    "print(round(np.sum([y_test5==pred_ada5])/len(y_test5),4)*100,\"%\")\n",
    "results.append(['all pca 200', 'Adaboost',round(np.sum([y_test5==pred_ada5])/len(y_test5),4)*100 ])"
   ]
  },
  {
   "cell_type": "markdown",
   "metadata": {},
   "source": [
    "random forest"
   ]
  },
  {
   "cell_type": "code",
   "execution_count": 71,
   "metadata": {},
   "outputs": [],
   "source": [
    "# for i in range(40,501,20):\n",
    "#     for j in range(2,5):\n",
    "#         RF = RandomForestClassifier(n_estimators=i, max_depth=None,min_samples_split=j, random_state=0)\n",
    "#         RF.fit(X_train5,y_train5)\n",
    "#         pred_RF = RF.predict(X_test5)\n",
    "#         print(i,j,round(np.sum([y_test5==pred_RF])/len(y_test5),4)*100,\"%\")"
   ]
  },
  {
   "cell_type": "code",
   "execution_count": 72,
   "metadata": {},
   "outputs": [
    {
     "name": "stdout",
     "output_type": "stream",
     "text": [
      "              precision    recall  f1-score   support\n",
      "\n",
      "           0       0.74      0.79      0.76       402\n",
      "           1       0.75      0.68      0.71       358\n",
      "\n",
      "    accuracy                           0.74       760\n",
      "   macro avg       0.74      0.74      0.74       760\n",
      "weighted avg       0.74      0.74      0.74       760\n",
      "\n",
      "74.08 %\n"
     ]
    },
    {
     "data": {
      "image/png": "[encoded data removed]",
      "text/plain": [
       "<Figure size 600x600 with 2 Axes>"
      ]
     },
     "metadata": {},
     "output_type": "display_data"
    }
   ],
   "source": [
    "RF5 = RandomForestClassifier(n_estimators=360, max_depth=None,min_samples_split=4, random_state=0)\n",
    "RF5.fit(X_train5,y_train5)\n",
    "pred_RF5 = RF5.predict(X_test5)\n",
    "Confusion_Matrix(confusion_matrix(y_test5,pred_RF5))\n",
    "print(classification_report(y_test5, pred_RF5))\n",
    "print(round(np.sum([y_test5==pred_RF5])/len(y_test5),4)*100,\"%\")\n",
    "results.append(['all pca 200', 'Random Forest',round(np.sum([y_test5==pred_RF5])/len(y_test5),4)*100 ])"
   ]
  },
  {
   "cell_type": "markdown",
   "metadata": {},
   "source": [
    "logistic regression"
   ]
  },
  {
   "cell_type": "code",
   "execution_count": 73,
   "metadata": {},
   "outputs": [],
   "source": [
    "# penilties = [\"l1\",\"l2\",\"elasticnet\"]\n",
    "# solvers = [\"lbfgs\",\"liblinear\",\"newton-cg\",\"newton-cholesky\",\"sag\",\"saga\"]\n",
    "# tols= [0.1 ,0.01, 0.001]\n",
    "\n",
    "# for i in penilties:\n",
    "#     for j in solvers:\n",
    "#         for k in tols:\n",
    "#             try:\n",
    "#                 LR = LogisticRegression(penalty=i, solver=j, tol=k, max_iter=10000, random_state =0)\n",
    "#                 LR.fit(X_train5,y_train5)\n",
    "#                 pred_LR = LR.predict(X_test5)\n",
    "#                 print(i,j,k,round(np.sum([y_test5==pred_LR])/len(y_test5),4)*100,\"%\")\n",
    "#             except:\n",
    "#                 pass"
   ]
  },
  {
   "cell_type": "code",
   "execution_count": 74,
   "metadata": {},
   "outputs": [
    {
     "name": "stdout",
     "output_type": "stream",
     "text": [
      "              precision    recall  f1-score   support\n",
      "\n",
      "           0       0.70      0.70      0.70       402\n",
      "           1       0.66      0.66      0.66       358\n",
      "\n",
      "    accuracy                           0.68       760\n",
      "   macro avg       0.68      0.68      0.68       760\n",
      "weighted avg       0.68      0.68      0.68       760\n",
      "\n",
      "68.03 %\n"
     ]
    },
    {
     "data": {
      "image/png": "[encoded data removed]",
      "text/plain": [
       "<Figure size 600x600 with 2 Axes>"
      ]
     },
     "metadata": {},
     "output_type": "display_data"
    }
   ],
   "source": [
    "LR5 = LogisticRegression(penalty=\"l1\", solver=\"liblinear\", tol=0.01, max_iter=10000, random_state = 0)\n",
    "LR5.fit(X_train5,y_train5)\n",
    "pred_LR5 = LR5.predict(X_test5)\n",
    "Confusion_Matrix(confusion_matrix(y_test5,pred_LR5))\n",
    "print(classification_report(y_test5, pred_LR5))\n",
    "print(round(np.sum([y_test5==pred_LR5])/len(y_test5),4)*100,\"%\")\n",
    "results.append(['all pca 200', 'Logistic Regression',round(np.sum([y_test5==pred_LR5])/len(y_test5),4)*100 ])"
   ]
  },
  {
   "cell_type": "code",
   "execution_count": null,
   "metadata": {},
   "outputs": [],
   "source": []
  },
  {
   "cell_type": "code",
   "execution_count": null,
   "metadata": {},
   "outputs": [],
   "source": []
  },
  {
   "cell_type": "code",
   "execution_count": 75,
   "metadata": {},
   "outputs": [],
   "source": [
    "cols = [\"df_type\",\"classifier\",\"accuracy\"]\n",
    "df = pd.DataFrame(results, columns=cols)"
   ]
  },
  {
   "cell_type": "code",
   "execution_count": 76,
   "metadata": {},
   "outputs": [
    {
     "data": {
      "text/html": [
       "<div>\n",
       "<style scoped>\n",
       "    .dataframe tbody tr th:only-of-type {\n",
       "        vertical-align: middle;\n",
       "    }\n",
       "\n",
       "    .dataframe tbody tr th {\n",
       "        vertical-align: top;\n",
       "    }\n",
       "\n",
       "    .dataframe thead th {\n",
       "        text-align: right;\n",
       "    }\n",
       "</style>\n",
       "<table border=\"1\" class=\"dataframe\">\n",
       "  <thead>\n",
       "    <tr style=\"text-align: right;\">\n",
       "      <th></th>\n",
       "      <th>df_type</th>\n",
       "      <th>classifier</th>\n",
       "      <th>accuracy</th>\n",
       "    </tr>\n",
       "  </thead>\n",
       "  <tbody>\n",
       "    <tr>\n",
       "      <th>0</th>\n",
       "      <td>lines and circles</td>\n",
       "      <td>SVM</td>\n",
       "      <td>60.66</td>\n",
       "    </tr>\n",
       "    <tr>\n",
       "      <th>1</th>\n",
       "      <td>lines and circles</td>\n",
       "      <td>KNN</td>\n",
       "      <td>62.24</td>\n",
       "    </tr>\n",
       "    <tr>\n",
       "      <th>2</th>\n",
       "      <td>lines and circles</td>\n",
       "      <td>Adaboost</td>\n",
       "      <td>63.95</td>\n",
       "    </tr>\n",
       "    <tr>\n",
       "      <th>3</th>\n",
       "      <td>lines and circles</td>\n",
       "      <td>Random Forest</td>\n",
       "      <td>60.39</td>\n",
       "    </tr>\n",
       "    <tr>\n",
       "      <th>4</th>\n",
       "      <td>lines and circles</td>\n",
       "      <td>Logistic Regression</td>\n",
       "      <td>63.55</td>\n",
       "    </tr>\n",
       "    <tr>\n",
       "      <th>5</th>\n",
       "      <td>histogram</td>\n",
       "      <td>SVM</td>\n",
       "      <td>56.97</td>\n",
       "    </tr>\n",
       "    <tr>\n",
       "      <th>6</th>\n",
       "      <td>histogram</td>\n",
       "      <td>KNN</td>\n",
       "      <td>66.05</td>\n",
       "    </tr>\n",
       "    <tr>\n",
       "      <th>7</th>\n",
       "      <td>histogram</td>\n",
       "      <td>Adaboost</td>\n",
       "      <td>68.03</td>\n",
       "    </tr>\n",
       "    <tr>\n",
       "      <th>8</th>\n",
       "      <td>histogram</td>\n",
       "      <td>Random Forest</td>\n",
       "      <td>72.11</td>\n",
       "    </tr>\n",
       "    <tr>\n",
       "      <th>9</th>\n",
       "      <td>histogram</td>\n",
       "      <td>Logistic Regression</td>\n",
       "      <td>65.92</td>\n",
       "    </tr>\n",
       "    <tr>\n",
       "      <th>10</th>\n",
       "      <td>image pca 200</td>\n",
       "      <td>SVM</td>\n",
       "      <td>52.11</td>\n",
       "    </tr>\n",
       "    <tr>\n",
       "      <th>11</th>\n",
       "      <td>image pca 200</td>\n",
       "      <td>KNN</td>\n",
       "      <td>71.45</td>\n",
       "    </tr>\n",
       "    <tr>\n",
       "      <th>12</th>\n",
       "      <td>image pca 200</td>\n",
       "      <td>Adaboost</td>\n",
       "      <td>69.21</td>\n",
       "    </tr>\n",
       "    <tr>\n",
       "      <th>13</th>\n",
       "      <td>image pca 200</td>\n",
       "      <td>Random Forest</td>\n",
       "      <td>73.82</td>\n",
       "    </tr>\n",
       "    <tr>\n",
       "      <th>14</th>\n",
       "      <td>image pca 200</td>\n",
       "      <td>64.08</td>\n",
       "      <td>NaN</td>\n",
       "    </tr>\n",
       "    <tr>\n",
       "      <th>15</th>\n",
       "      <td>edge pca 100</td>\n",
       "      <td>SVM</td>\n",
       "      <td>60.26</td>\n",
       "    </tr>\n",
       "    <tr>\n",
       "      <th>16</th>\n",
       "      <td>edge pca 100</td>\n",
       "      <td>KNN</td>\n",
       "      <td>72.89</td>\n",
       "    </tr>\n",
       "    <tr>\n",
       "      <th>17</th>\n",
       "      <td>edge pca 100</td>\n",
       "      <td>Adaboost</td>\n",
       "      <td>69.47</td>\n",
       "    </tr>\n",
       "    <tr>\n",
       "      <th>18</th>\n",
       "      <td>edge pca 100</td>\n",
       "      <td>Random Forest</td>\n",
       "      <td>68.42</td>\n",
       "    </tr>\n",
       "    <tr>\n",
       "      <th>19</th>\n",
       "      <td>edge pca 100</td>\n",
       "      <td>Logistic Regression</td>\n",
       "      <td>63.95</td>\n",
       "    </tr>\n",
       "    <tr>\n",
       "      <th>20</th>\n",
       "      <td>all pca 200</td>\n",
       "      <td>SVM</td>\n",
       "      <td>64.47</td>\n",
       "    </tr>\n",
       "    <tr>\n",
       "      <th>21</th>\n",
       "      <td>all pca 200</td>\n",
       "      <td>KNN</td>\n",
       "      <td>72.50</td>\n",
       "    </tr>\n",
       "    <tr>\n",
       "      <th>22</th>\n",
       "      <td>all pca 200</td>\n",
       "      <td>Adaboost</td>\n",
       "      <td>69.74</td>\n",
       "    </tr>\n",
       "    <tr>\n",
       "      <th>23</th>\n",
       "      <td>all pca 200</td>\n",
       "      <td>Random Forest</td>\n",
       "      <td>74.08</td>\n",
       "    </tr>\n",
       "    <tr>\n",
       "      <th>24</th>\n",
       "      <td>all pca 200</td>\n",
       "      <td>Logistic Regression</td>\n",
       "      <td>68.03</td>\n",
       "    </tr>\n",
       "  </tbody>\n",
       "</table>\n",
       "</div>"
      ],
      "text/plain": [
       "              df_type           classifier  accuracy\n",
       "0   lines and circles                  SVM     60.66\n",
       "1   lines and circles                  KNN     62.24\n",
       "2   lines and circles             Adaboost     63.95\n",
       "3   lines and circles        Random Forest     60.39\n",
       "4   lines and circles  Logistic Regression     63.55\n",
       "5           histogram                  SVM     56.97\n",
       "6           histogram                  KNN     66.05\n",
       "7           histogram             Adaboost     68.03\n",
       "8           histogram        Random Forest     72.11\n",
       "9           histogram  Logistic Regression     65.92\n",
       "10      image pca 200                  SVM     52.11\n",
       "11      image pca 200                  KNN     71.45\n",
       "12      image pca 200             Adaboost     69.21\n",
       "13      image pca 200        Random Forest     73.82\n",
       "14      image pca 200                64.08       NaN\n",
       "15       edge pca 100                  SVM     60.26\n",
       "16       edge pca 100                  KNN     72.89\n",
       "17       edge pca 100             Adaboost     69.47\n",
       "18       edge pca 100        Random Forest     68.42\n",
       "19       edge pca 100  Logistic Regression     63.95\n",
       "20        all pca 200                  SVM     64.47\n",
       "21        all pca 200                  KNN     72.50\n",
       "22        all pca 200             Adaboost     69.74\n",
       "23        all pca 200        Random Forest     74.08\n",
       "24        all pca 200  Logistic Regression     68.03"
      ]
     },
     "execution_count": 76,
     "metadata": {},
     "output_type": "execute_result"
    }
   ],
   "source": [
    "df"
   ]
  },
  {
   "cell_type": "code",
   "execution_count": 77,
   "metadata": {},
   "outputs": [],
   "source": [
    "\n",
    "filenames = ['svm1_2class.sav','svm2_2class.sav','svm3_2class.sav','svm4_2class.sav','svm5_2class.sav',\n",
    "             'knn1_2class.sav','knn2_2class.sav','knn3_2class.sav','knn4_2class.sav','knn5_2class.sav',\n",
    "             'ada1_2class.sav','ada2_2class.sav','ada3_2class.sav','ada4_2class.sav','ada5_2class.sav',\n",
    "             'RF1_2class.sav','RF2_2class.sav','RF3_2class.sav','RF4_2class.sav','RF5_2class.sav',\n",
    "             'LR1_2class.sav','LR2_2class.sav','LR3_2class.sav','LR4_2class.sav','LR5_2class.sav']\n",
    "models= [svm1,svm2,svm3,svm4,svm5,\n",
    "         neigh1,neigh2,neigh3,neigh4,neigh5,\n",
    "         ada1,ada2,ada3,ada4,ada5,\n",
    "         RF1,RF2,RF3,RF4,RF5,\n",
    "         LR1,LR2,LR3,LR4,LR5]\n",
    "\n",
    "for i in range(len(filenames)): \n",
    "    pickle.dump(models[i], open(filenames[i], 'wb'))"
   ]
  },
  {
   "cell_type": "code",
   "execution_count": null,
   "metadata": {},
   "outputs": [],
   "source": []
  },
  {
   "cell_type": "code",
   "execution_count": null,
   "metadata": {},
   "outputs": [],
   "source": []
  },
  {
   "cell_type": "code",
   "execution_count": null,
   "metadata": {},
   "outputs": [],
   "source": []
  },
  {
   "cell_type": "code",
   "execution_count": null,
   "metadata": {},
   "outputs": [],
   "source": []
  },
  {
   "cell_type": "code",
   "execution_count": null,
   "metadata": {},
   "outputs": [],
   "source": []
  }
 ],
 "metadata": {
  "kernelspec": {
   "display_name": "Python 3",
   "language": "python",
   "name": "python3"
  },
  "language_info": {
   "codemirror_mode": {
    "name": "ipython",
    "version": 3
   },
   "file_extension": ".py",
   "mimetype": "text/x-python",
   "name": "python",
   "nbconvert_exporter": "python",
   "pygments_lexer": "ipython3",
   "version": "3.10.8"
  }
 },
 "nbformat": 4,
 "nbformat_minor": 2
}
