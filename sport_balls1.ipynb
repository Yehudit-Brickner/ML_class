{
 "cells": [
  {
   "cell_type": "markdown",
   "metadata": {},
   "source": [
    "# ML class final project part1\n",
    "##  Almog Shor\n",
    "## Yehudit Brickner"
   ]
  },
  {
   "cell_type": "markdown",
   "metadata": {},
   "source": [
    "imports"
   ]
  },
  {
   "cell_type": "code",
   "execution_count": 22,
   "metadata": {},
   "outputs": [],
   "source": [
    "import os\n",
    "import cv2 \n",
    "import numpy as np\n",
    "import matplotlib.pyplot as plt \n",
    "import pandas as pd\n",
    "import seaborn as sns\n",
    "import time\n",
    "import pickle\n",
    "from collections import Counter\n",
    "\n",
    "from sklearn.metrics import confusion_matrix\n",
    "from sklearn.model_selection import train_test_split\n",
    "from sklearn.metrics import classification_report\n",
    "\n",
    "import warnings\n",
    "warnings.filterwarnings(action='ignore', category=UserWarning)"
   ]
  },
  {
   "cell_type": "markdown",
   "metadata": {},
   "source": [
    "create the data set with all of the features"
   ]
  },
  {
   "cell_type": "code",
   "execution_count": 2,
   "metadata": {},
   "outputs": [],
   "source": [
    "def create_df1(folder):\n",
    "\n",
    "    folder_dir= os.listdir(folder)\n",
    "    \n",
    "    big_list=[]\n",
    "    my_list=[]\n",
    "    count=0\n",
    "    c=0\n",
    "    for i in folder_dir:\n",
    "        print(i)\n",
    "        j = os.listdir(folder+\"/\"+i)\n",
    "        for k in range(len(j)):\n",
    "            try:\n",
    "                img = cv2.imread(folder+\"/\"+i+\"/\"+j[k], cv2.COLOR_BGR2RGB)\n",
    "                img = cv2.resize(img,(200,200), interpolation = cv2.INTER_AREA)\n",
    "                \n",
    "                histogram_r, bin_edges = np.histogram(img[:, :, 0], bins=256, range=(0, 256)) \n",
    "                histogram_g, bin_edges = np.histogram(img[:, :, 1], bins=256, range=(0, 256)) \n",
    "                histogram_b, bin_edges = np.histogram(img[:, :, 2], bins=256, range=(0, 256)) \n",
    "                \n",
    "                dst = cv2.Canny(img, 50, 200, None, 3)\n",
    "                dst1 = cv2.Canny(img, 50, 200, None, 3)\n",
    "                lines = cv2.HoughLines(dst1, 1, np.pi / 180, 50, None, 0, 0)\n",
    "                \n",
    "                gray = cv2.imread(folder+\"/\"+i+\"/\"+j[k],cv2.IMREAD_GRAYSCALE)\n",
    "                gray =  cv2.resize(gray,(200,200), interpolation = cv2.INTER_AREA)\n",
    "                gray = cv2.medianBlur(gray, 5)\n",
    "                rows = gray.shape[0]\n",
    "                circles = cv2.HoughCircles(gray, cv2.HOUGH_GRADIENT, 1, rows / 8,\n",
    "                                param1=100, param2=30,\n",
    "                                minRadius=10, maxRadius=100)\n",
    "                \n",
    "                my_list=[]\n",
    "                my_list.append(folder+\"/\"+i+\"/\"+j[k])\n",
    "                my_list.append(i)\n",
    "                my_list.append(c)\n",
    "                if lines is None:\n",
    "                    my_list.append(0)\n",
    "                    my_list.append(0)   \n",
    "                else:\n",
    "                    my_list.append(1)\n",
    "                    my_list.append(len(lines))\n",
    "                if circles is None:\n",
    "                    my_list.append(0)\n",
    "                    my_list.append(0)   \n",
    "                else:\n",
    "                    my_list.append(1)\n",
    "                    my_list.append(circles.shape[1])\n",
    "                \n",
    "                my_list.extend(histogram_r)\n",
    "                my_list.extend(histogram_g)\n",
    "                my_list.extend(histogram_b)\n",
    "                # my_list.extend(img.flatten())\n",
    "                # my_list.extend(dst.flatten())\n",
    "\n",
    "                big_list.append(my_list)\n",
    "                count+=1\n",
    "                \n",
    "            except:\n",
    "                print(\"there was an error with count \",count)\n",
    "\n",
    "        c+=1\n",
    "\n",
    "    \n",
    "    print(\"creating df\")\n",
    "    cols = ['path','class_name','class_number','lines?','#lines','circles?','#circles']\n",
    "    for h in range(256):\n",
    "        cols.append(\"r\"+str(h))\n",
    "    for h in range(256):\n",
    "        cols.append(\"g\"+str(h))\n",
    "    for h in range(256):\n",
    "        cols.append(\"b\"+str(h))\n",
    "    # for h in range(200*200*3):\n",
    "    #     cols.append(\"i\"+str(h))\n",
    "    # for h in range(200*200):\n",
    "    #     cols.append(\"e\"+str(h))\n",
    "\n",
    "    df = pd.DataFrame(big_list, columns = cols) \n",
    "\n",
    "    print(\"created df\")\n",
    "              \n",
    "    return df"
   ]
  },
  {
   "cell_type": "code",
   "execution_count": 52,
   "metadata": {},
   "outputs": [],
   "source": [
    "# folder =\"C:/Users/nechd/Downloads/ball_classification/train\"\n",
    "# start_time = time.time()\n",
    "# full_ball_df = create_df1(folder) \n",
    "# end_time = time.time()\n",
    "# print(\"time taken: \",end_time - start_time)"
   ]
  },
  {
   "cell_type": "code",
   "execution_count": 53,
   "metadata": {},
   "outputs": [],
   "source": [
    "# full_ball_df.shape\n",
    "# full_ball_df.head()"
   ]
  },
  {
   "cell_type": "code",
   "execution_count": 54,
   "metadata": {},
   "outputs": [],
   "source": [
    "# full_ball_df.to_csv('small_hist.csv', index=False)"
   ]
  },
  {
   "cell_type": "code",
   "execution_count": 3,
   "metadata": {},
   "outputs": [
    {
     "name": "stdout",
     "output_type": "stream",
     "text": [
      "american_football\n",
      "baseball\n",
      "basketball\n",
      "there was an error with count  213\n",
      "billiard_ball\n",
      "bowling_ball\n",
      "cricket_ball\n",
      "there was an error with count  610\n",
      "football\n",
      "there was an error with count  767\n",
      "there was an error with count  793\n",
      "golf_ball\n",
      "there was an error with count  950\n",
      "hockey_ball\n",
      "hockey_puck\n",
      "there was an error with count  1181\n",
      "rugby_ball\n",
      "there was an error with count  1277\n",
      "there was an error with count  1319\n",
      "shuttlecock\n",
      "there was an error with count  1395\n",
      "there was an error with count  1425\n",
      "there was an error with count  1442\n",
      "table_tennis_ball\n",
      "tennis_ball\n",
      "volleyball\n",
      "there was an error with count  1730\n",
      "there was an error with count  1799\n",
      "creating df\n",
      "created df\n",
      "time taken:  37.214224100112915\n"
     ]
    }
   ],
   "source": [
    "# folder =\"C:/Users/nechd/Downloads/ball_classification/test\"\n",
    "# start_time = time.time()\n",
    "# full_test_df = create_df1(folder) \n",
    "# end_time = time.time()\n",
    "# print(\"time taken: \",end_time - start_time)"
   ]
  },
  {
   "cell_type": "code",
   "execution_count": 4,
   "metadata": {},
   "outputs": [],
   "source": [
    "# full_test_df.to_csv('final_test_data_small_hist.csv', index=False)"
   ]
  },
  {
   "cell_type": "code",
   "execution_count": 55,
   "metadata": {},
   "outputs": [],
   "source": []
  },
  {
   "cell_type": "code",
   "execution_count": 56,
   "metadata": {},
   "outputs": [],
   "source": []
  },
  {
   "cell_type": "code",
   "execution_count": 57,
   "metadata": {},
   "outputs": [],
   "source": []
  },
  {
   "cell_type": "code",
   "execution_count": 58,
   "metadata": {},
   "outputs": [],
   "source": []
  },
  {
   "cell_type": "code",
   "execution_count": null,
   "metadata": {},
   "outputs": [],
   "source": []
  },
  {
   "cell_type": "markdown",
   "metadata": {},
   "source": [
    "import the data with some/all features"
   ]
  },
  {
   "cell_type": "code",
   "execution_count": 5,
   "metadata": {},
   "outputs": [
    {
     "data": {
      "text/plain": [
       "(1533, 773)"
      ]
     },
     "execution_count": 5,
     "metadata": {},
     "output_type": "execute_result"
    }
   ],
   "source": [
    "small_hist = pd.read_csv('small_hist.csv')\n",
    "del small_hist['path']\n",
    "del small_hist['class_name']\n",
    "ball_type = [0,2,9,11]\n",
    "small_hist_4balls = small_hist.loc[small_hist['class_number'].isin(ball_type)]\n",
    "small_hist_4balls.shape"
   ]
  },
  {
   "cell_type": "code",
   "execution_count": 6,
   "metadata": {},
   "outputs": [],
   "source": [
    "\n",
    "X1 = small_hist_4balls.iloc[:,2:6]\n",
    "X2 = small_hist_4balls.iloc[:,5:] \n",
    "X3 = small_hist_4balls.drop(['class_number'], axis=1)\n",
    "\n",
    "y = small_hist_4balls['class_number']"
   ]
  },
  {
   "cell_type": "markdown",
   "metadata": {},
   "source": [
    "train test split"
   ]
  },
  {
   "cell_type": "code",
   "execution_count": 7,
   "metadata": {},
   "outputs": [],
   "source": [
    "X_train1, X_test1, y_train1, y_test1 = train_test_split(X1, y, test_size=0.3, random_state=42)\n",
    "X_train2, X_test2, y_train2, y_test2 = train_test_split(X2, y, test_size=0.3, random_state=42)\n",
    "X_train3, X_test3, y_train3, y_test3 = train_test_split(X3, y, test_size=0.3, random_state=42)\n"
   ]
  },
  {
   "cell_type": "markdown",
   "metadata": {},
   "source": [
    "extra functions"
   ]
  },
  {
   "cell_type": "code",
   "execution_count": 8,
   "metadata": {},
   "outputs": [],
   "source": [
    "# function to represent the confusion matrix nicely\n",
    "def Confusion_Matrix(cf_matrix):\n",
    "    plt.figure(figsize=(6,6))\n",
    "    sns.heatmap(cf_matrix, annot=True, fmt='', cmap='Greens')"
   ]
  },
  {
   "cell_type": "code",
   "execution_count": 63,
   "metadata": {},
   "outputs": [],
   "source": [
    "# list to hold all final results\n",
    "results=[]"
   ]
  },
  {
   "cell_type": "markdown",
   "metadata": {},
   "source": [
    "model imports"
   ]
  },
  {
   "cell_type": "code",
   "execution_count": 9,
   "metadata": {},
   "outputs": [],
   "source": [
    "from sklearn.multiclass import OneVsOneClassifier\n",
    "from sklearn.multiclass import OutputCodeClassifier\n",
    "from sklearn.multiclass import OneVsRestClassifier\n",
    "from sklearn.svm import LinearSVC\n",
    "\n",
    "from sklearn.neighbors import KNeighborsClassifier\n",
    "\n",
    "from sklearn.ensemble import AdaBoostClassifier\n",
    "\n",
    "from sklearn.ensemble import RandomForestClassifier\n",
    "\n",
    "from sklearn.linear_model import LogisticRegression\n",
    "\n",
    "\n",
    "from sklearn.decomposition import PCA"
   ]
  },
  {
   "cell_type": "markdown",
   "metadata": {},
   "source": [
    "# RUN ON DATA SET WITH LINES AND CIRCLES "
   ]
  },
  {
   "cell_type": "markdown",
   "metadata": {},
   "source": [
    "#### SVM"
   ]
  },
  {
   "cell_type": "code",
   "execution_count": 112,
   "metadata": {},
   "outputs": [
    {
     "name": "stdout",
     "output_type": "stream",
     "text": [
      "OneVsOneClassifier\n",
      "hinge l2 31.52 %\n",
      "squared_hinge l2 38.04 %\n",
      "OutputCodeClassifier\n",
      "hinge l2 30.65 %\n",
      "squared_hinge l2 25.869999999999997 %\n",
      "OneVsRestClassifier\n",
      "hinge l2 26.3 %\n",
      "squared_hinge l2 36.96 %\n"
     ]
    }
   ],
   "source": [
    "losses = [\"hinge\",\"squared_hinge\"]\n",
    "penalties = [\"l1\",\"l2\"]\n",
    "\n",
    "print(\"OneVsOneClassifier\")\n",
    "for i in losses:\n",
    "    for j in penalties:\n",
    "        try:\n",
    "            svm =  OneVsOneClassifier(LinearSVC(random_state=0, loss=i,penalty=j,)).fit(X_train1, y_train1)\n",
    "            pred_svm = svm.predict(X_test1)\n",
    "            print(i,j,round(np.sum([y_test1==pred_svm])/len(y_test1),4)*100,\"%\")\n",
    "        except:\n",
    "            pass\n",
    "\n",
    "print(\"OutputCodeClassifier\")\n",
    "for i in losses:\n",
    "    for j in penalties:\n",
    "        try:\n",
    "            svm =  OutputCodeClassifier(LinearSVC(random_state=0, loss=i,penalty=j,)).fit(X_train1, y_train1)\n",
    "            pred_svm = svm.predict(X_test1)\n",
    "            print(i,j,round(np.sum([y_test1==pred_svm])/len(y_test1),4)*100,\"%\")\n",
    "        except:\n",
    "            pass\n",
    "\n",
    "\n",
    "print(\"OneVsRestClassifier\")\n",
    "for i in losses:\n",
    "    for j in penalties:\n",
    "        try:\n",
    "            svm =  OneVsRestClassifier(LinearSVC(random_state=0, loss=i,penalty=j,)).fit(X_train1, y_train1)\n",
    "            pred_svm = svm.predict(X_test1)\n",
    "            print(i,j,round(np.sum([y_test1==pred_svm])/len(y_test1),4)*100,\"%\")\n",
    "        except:\n",
    "            pass"
   ]
  },
  {
   "cell_type": "code",
   "execution_count": 113,
   "metadata": {},
   "outputs": [
    {
     "name": "stdout",
     "output_type": "stream",
     "text": [
      "              precision    recall  f1-score   support\n",
      "\n",
      "           0       0.23      0.21      0.22       110\n",
      "           2       0.62      0.15      0.24       100\n",
      "           9       0.47      0.37      0.41       111\n",
      "          11       0.38      0.69      0.49       139\n",
      "\n",
      "    accuracy                           0.38       460\n",
      "   macro avg       0.43      0.35      0.34       460\n",
      "weighted avg       0.42      0.38      0.35       460\n",
      "\n",
      "38.04 %\n"
     ]
    },
    {
     "data": {
      "image/png": "[encoded data removed]",
      "text/plain": [
       "<Figure size 600x600 with 2 Axes>"
      ]
     },
     "metadata": {},
     "output_type": "display_data"
    }
   ],
   "source": [
    "svm1 =  OneVsOneClassifier(LinearSVC(random_state=0, loss=\"squared_hinge\",penalty=\"l2\")).fit(X_train1, y_train1)\n",
    "pred_svm1 = svm1.predict(X_test1)\n",
    "Confusion_Matrix(confusion_matrix(y_test1,pred_svm1))\n",
    "print(classification_report(y_test1, pred_svm1))\n",
    "print(round(np.sum([y_test1==pred_svm1])/len(y_test1),4)*100,\"%\")\n",
    "results.append(['lines and circles', 'SVM',round(np.sum([y_test1==pred_svm1])/len(y_test1),4)*100 ])"
   ]
  },
  {
   "cell_type": "markdown",
   "metadata": {},
   "source": [
    "#### KNN"
   ]
  },
  {
   "cell_type": "code",
   "execution_count": 67,
   "metadata": {},
   "outputs": [
    {
     "name": "stdout",
     "output_type": "stream",
     "text": [
      "1 35.43 %\n",
      "2 33.910000000000004 %\n",
      "3 36.74 %\n",
      "4 36.52 %\n",
      "5 35.22 %\n",
      "6 36.52 %\n",
      "7 35.870000000000005 %\n",
      "8 37.39 %\n",
      "9 36.52 %\n",
      "10 36.74 %\n",
      "11 36.96 %\n",
      "12 37.169999999999995 %\n",
      "13 35.22 %\n",
      "14 35.870000000000005 %\n",
      "15 36.3 %\n",
      "16 36.3 %\n",
      "17 37.830000000000005 %\n",
      "18 37.169999999999995 %\n",
      "19 39.57 %\n",
      "20 36.74 %\n",
      "21 37.830000000000005 %\n",
      "22 35.870000000000005 %\n",
      "23 35.870000000000005 %\n",
      "24 37.830000000000005 %\n",
      "25 34.57 %\n",
      "26 34.57 %\n",
      "27 36.09 %\n",
      "28 35.870000000000005 %\n",
      "29 34.57 %\n",
      "30 34.57 %\n",
      "31 36.74 %\n",
      "32 36.09 %\n",
      "33 36.3 %\n",
      "34 37.39 %\n",
      "35 36.96 %\n",
      "36 37.61 %\n",
      "37 37.39 %\n",
      "38 37.830000000000005 %\n",
      "39 36.09 %\n",
      "40 36.09 %\n",
      "41 37.169999999999995 %\n",
      "42 37.169999999999995 %\n",
      "43 36.74 %\n",
      "44 37.169999999999995 %\n",
      "45 37.830000000000005 %\n",
      "46 36.96 %\n",
      "47 38.26 %\n",
      "48 37.39 %\n",
      "49 37.61 %\n",
      "50 37.830000000000005 %\n"
     ]
    }
   ],
   "source": [
    "for i in range(1,51):\n",
    "    neigh = KNeighborsClassifier(n_neighbors=i)\n",
    "    neigh.fit(X_train1,y_train1)\n",
    "    pred_knn = neigh.predict(X_test1)\n",
    "    print(i,round(np.sum([y_test1==pred_knn])/len(y_test1),4)*100,\"%\")"
   ]
  },
  {
   "cell_type": "code",
   "execution_count": 68,
   "metadata": {},
   "outputs": [
    {
     "name": "stdout",
     "output_type": "stream",
     "text": [
      "              precision    recall  f1-score   support\n",
      "\n",
      "           0       0.33      0.38      0.35       110\n",
      "           2       0.31      0.28      0.29       100\n",
      "           9       0.44      0.36      0.40       111\n",
      "          11       0.47      0.52      0.49       139\n",
      "\n",
      "    accuracy                           0.40       460\n",
      "   macro avg       0.39      0.39      0.39       460\n",
      "weighted avg       0.40      0.40      0.39       460\n",
      "\n",
      "39.57 %\n"
     ]
    },
    {
     "data": {
      "image/png": "[encoded data removed]",
      "text/plain": [
       "<Figure size 600x600 with 2 Axes>"
      ]
     },
     "metadata": {},
     "output_type": "display_data"
    }
   ],
   "source": [
    "neigh1 = KNeighborsClassifier(n_neighbors=19)\n",
    "neigh1.fit(X_train1,y_train1)\n",
    "pred_knn1 = neigh1.predict(X_test1)\n",
    "Confusion_Matrix(confusion_matrix(y_test1,pred_knn1))\n",
    "print(classification_report(y_test1, pred_knn1))\n",
    "print(round(np.sum([y_test1==pred_knn1])/len(y_test1),4)*100,\"%\")\n",
    "results.append(['lines and circles', 'KNN',round(np.sum([y_test1==pred_knn1])/len(y_test1),4)*100 ])"
   ]
  },
  {
   "cell_type": "markdown",
   "metadata": {},
   "source": [
    "#### Adaboost"
   ]
  },
  {
   "cell_type": "code",
   "execution_count": 69,
   "metadata": {},
   "outputs": [
    {
     "name": "stdout",
     "output_type": "stream",
     "text": [
      "50 40.65 %\n",
      "100 42.61 %\n",
      "150 42.17 %\n",
      "200 41.74 %\n",
      "250 41.3 %\n",
      "300 41.52 %\n",
      "350 41.959999999999994 %\n",
      "400 41.52 %\n",
      "450 41.74 %\n",
      "500 42.39 %\n",
      "550 42.83 %\n",
      "600 41.089999999999996 %\n",
      "650 40.87 %\n",
      "700 41.089999999999996 %\n",
      "750 40.43 %\n",
      "800 41.3 %\n",
      "850 41.52 %\n",
      "900 41.74 %\n",
      "950 42.61 %\n",
      "1000 41.74 %\n",
      "1050 41.089999999999996 %\n",
      "1100 43.04 %\n",
      "1150 41.74 %\n",
      "1200 42.17 %\n",
      "1250 42.61 %\n",
      "1300 42.61 %\n",
      "1350 42.39 %\n",
      "1400 42.61 %\n",
      "1450 42.39 %\n",
      "1500 41.959999999999994 %\n",
      "1550 41.959999999999994 %\n",
      "1600 41.74 %\n",
      "1650 42.17 %\n",
      "1700 42.17 %\n",
      "1750 43.26 %\n",
      "1800 43.04 %\n",
      "1850 42.39 %\n",
      "1900 43.26 %\n",
      "1950 43.04 %\n",
      "2000 42.61 %\n"
     ]
    }
   ],
   "source": [
    "for i in range(50,2001,50):\n",
    "    ada = AdaBoostClassifier(n_estimators=i, algorithm=\"SAMME\", random_state=0)\n",
    "    ada.fit(X_train1,y_train1)\n",
    "    pred_ada = ada.predict(X_test1)\n",
    "    print(i,round(np.sum([y_test1==pred_ada])/len(y_test1),4)*100,\"%\")"
   ]
  },
  {
   "cell_type": "code",
   "execution_count": 70,
   "metadata": {},
   "outputs": [
    {
     "name": "stdout",
     "output_type": "stream",
     "text": [
      "              precision    recall  f1-score   support\n",
      "\n",
      "           0       0.32      0.35      0.33       110\n",
      "           2       0.40      0.50      0.45       100\n",
      "           9       0.47      0.41      0.43       111\n",
      "          11       0.56      0.47      0.51       139\n",
      "\n",
      "    accuracy                           0.43       460\n",
      "   macro avg       0.44      0.43      0.43       460\n",
      "weighted avg       0.44      0.43      0.44       460\n",
      "\n",
      "43.26 %\n"
     ]
    },
    {
     "data": {
      "image/png": "[encoded data removed]",
      "text/plain": [
       "<Figure size 600x600 with 2 Axes>"
      ]
     },
     "metadata": {},
     "output_type": "display_data"
    }
   ],
   "source": [
    "ada1 = AdaBoostClassifier(n_estimators=1750, algorithm=\"SAMME\",random_state=0)\n",
    "ada1.fit(X_train1,y_train1)\n",
    "pred_ada1 = ada1.predict(X_test1)\n",
    "Confusion_Matrix(confusion_matrix(y_test1,pred_ada1))\n",
    "print(classification_report(y_test1, pred_ada1))\n",
    "print(round(np.sum([y_test1==pred_ada1])/len(y_test1),4)*100,\"%\")\n",
    "results.append(['lines and circles', 'Adaboost',round(np.sum([y_test1==pred_ada1])/len(y_test1),4)*100 ])"
   ]
  },
  {
   "cell_type": "markdown",
   "metadata": {},
   "source": [
    "#### Random Forest"
   ]
  },
  {
   "cell_type": "code",
   "execution_count": 71,
   "metadata": {},
   "outputs": [
    {
     "name": "stdout",
     "output_type": "stream",
     "text": [
      "40 2 42.61 %\n",
      "40 3 41.52 %\n",
      "40 4 40.0 %\n",
      "60 2 42.17 %\n",
      "60 3 41.959999999999994 %\n",
      "60 4 42.83 %\n",
      "80 2 41.52 %\n",
      "80 3 43.04 %\n",
      "80 4 42.61 %\n",
      "100 2 41.74 %\n",
      "100 3 42.83 %\n",
      "100 4 41.74 %\n",
      "120 2 41.74 %\n",
      "120 3 42.61 %\n",
      "120 4 42.17 %\n",
      "140 2 41.74 %\n",
      "140 3 41.959999999999994 %\n",
      "140 4 41.74 %\n",
      "160 2 42.17 %\n",
      "160 3 41.52 %\n",
      "160 4 41.089999999999996 %\n",
      "180 2 41.959999999999994 %\n",
      "180 3 41.74 %\n",
      "180 4 41.3 %\n",
      "200 2 42.17 %\n",
      "200 3 42.61 %\n",
      "200 4 41.089999999999996 %\n",
      "220 2 42.17 %\n",
      "220 3 41.959999999999994 %\n",
      "220 4 40.87 %\n",
      "240 2 41.959999999999994 %\n",
      "240 3 42.39 %\n",
      "240 4 40.87 %\n",
      "260 2 42.17 %\n",
      "260 3 42.39 %\n",
      "260 4 40.65 %\n",
      "280 2 41.959999999999994 %\n",
      "280 3 42.17 %\n",
      "280 4 41.089999999999996 %\n",
      "300 2 42.17 %\n",
      "300 3 42.61 %\n",
      "300 4 41.089999999999996 %\n",
      "320 2 41.74 %\n",
      "320 3 42.83 %\n",
      "320 4 40.87 %\n",
      "340 2 41.74 %\n",
      "340 3 42.61 %\n",
      "340 4 41.3 %\n",
      "360 2 42.17 %\n",
      "360 3 42.39 %\n",
      "360 4 40.87 %\n",
      "380 2 41.74 %\n",
      "380 3 42.39 %\n",
      "380 4 40.87 %\n",
      "400 2 41.52 %\n",
      "400 3 42.83 %\n",
      "400 4 41.089999999999996 %\n",
      "420 2 41.959999999999994 %\n",
      "420 3 42.83 %\n",
      "420 4 40.65 %\n",
      "440 2 42.17 %\n",
      "440 3 43.04 %\n",
      "440 4 41.3 %\n",
      "460 2 42.17 %\n",
      "460 3 43.04 %\n",
      "460 4 41.74 %\n",
      "480 2 41.959999999999994 %\n",
      "480 3 42.83 %\n",
      "480 4 41.74 %\n",
      "500 2 41.959999999999994 %\n",
      "500 3 42.83 %\n",
      "500 4 41.74 %\n"
     ]
    }
   ],
   "source": [
    "for i in range(40,501,20):\n",
    "    for j in range(2,5):\n",
    "        RF = RandomForestClassifier(n_estimators=i, max_depth=None,min_samples_split=j, random_state=0)\n",
    "        RF.fit(X_train1,y_train1)\n",
    "        pred_RF = RF.predict(X_test1)\n",
    "        print(i,j,round(np.sum([y_test1==pred_RF])/len(y_test1),4)*100,\"%\")"
   ]
  },
  {
   "cell_type": "code",
   "execution_count": 72,
   "metadata": {},
   "outputs": [
    {
     "name": "stdout",
     "output_type": "stream",
     "text": [
      "              precision    recall  f1-score   support\n",
      "\n",
      "           0       0.30      0.28      0.29       110\n",
      "           2       0.47      0.48      0.48       100\n",
      "           9       0.41      0.41      0.41       111\n",
      "          11       0.51      0.53      0.52       139\n",
      "\n",
      "    accuracy                           0.43       460\n",
      "   macro avg       0.42      0.42      0.42       460\n",
      "weighted avg       0.43      0.43      0.43       460\n",
      "\n",
      "43.04 %\n"
     ]
    },
    {
     "data": {
      "image/png": "[encoded data removed]",
      "text/plain": [
       "<Figure size 600x600 with 2 Axes>"
      ]
     },
     "metadata": {},
     "output_type": "display_data"
    }
   ],
   "source": [
    "RF1 = RandomForestClassifier(n_estimators=80, max_depth=None,min_samples_split=3, random_state=0)\n",
    "RF1.fit(X_train1,y_train1)\n",
    "pred_RF1 = RF1.predict(X_test1)\n",
    "Confusion_Matrix(confusion_matrix(y_test1,pred_RF1))\n",
    "print(classification_report(y_test1, pred_RF1))\n",
    "print(round(np.sum([y_test1==pred_RF1])/len(y_test1),4)*100,\"%\")\n",
    "results.append(['lines and circles', 'Random Forest',round(np.sum([y_test1==pred_RF1])/len(y_test1),4)*100 ])"
   ]
  },
  {
   "cell_type": "markdown",
   "metadata": {},
   "source": [
    "#### Logistic Regression"
   ]
  },
  {
   "cell_type": "code",
   "execution_count": 73,
   "metadata": {},
   "outputs": [
    {
     "name": "stdout",
     "output_type": "stream",
     "text": [
      "l1 liblinear 0.1 37.169999999999995 %\n",
      "l1 liblinear 0.01 33.040000000000006 %\n",
      "l1 liblinear 0.001 32.17 %\n",
      "l1 saga 0.1 24.57 %\n",
      "l1 saga 0.01 24.57 %\n"
     ]
    },
    {
     "name": "stdout",
     "output_type": "stream",
     "text": [
      "l1 saga 0.001 28.26 %\n",
      "l2 lbfgs 0.1 31.52 %\n",
      "l2 lbfgs 0.01 31.52 %\n",
      "l2 lbfgs 0.001 31.52 %\n",
      "l2 liblinear 0.1 25.0 %\n",
      "l2 liblinear 0.01 27.61 %\n",
      "l2 liblinear 0.001 32.39 %\n",
      "l2 newton-cg 0.1 31.3 %\n",
      "l2 newton-cg 0.01 31.3 %\n",
      "l2 newton-cg 0.001 31.3 %\n",
      "l2 sag 0.1 24.57 %\n",
      "l2 sag 0.01 26.3 %\n",
      "l2 sag 0.001 29.349999999999998 %\n",
      "l2 saga 0.1 24.57 %\n",
      "l2 saga 0.01 24.57 %\n",
      "l2 saga 0.001 28.26 %\n"
     ]
    }
   ],
   "source": [
    "penilties = [\"l1\",\"l2\",\"elasticnet\"]\n",
    "solvers = [\"lbfgs\",\"liblinear\",\"newton-cg\",\"newton-cholesky\",\"sag\",\"saga\"]\n",
    "tols= [0.1 ,0.01, 0.001]\n",
    "\n",
    "for i in penilties:\n",
    "    for j in solvers:\n",
    "        for k in tols:\n",
    "            try:\n",
    "                LR = LogisticRegression(penalty=i, solver=j, tol=k, max_iter=10000,random_state=0)\n",
    "                LR.fit(X_train1,y_train1)\n",
    "                pred_LR = LR.predict(X_test1)\n",
    "                print(i,j,k,round(np.sum([y_test1==pred_LR])/len(y_test1),4)*100,\"%\")\n",
    "            except:\n",
    "                pass\n",
    "        "
   ]
  },
  {
   "cell_type": "code",
   "execution_count": 74,
   "metadata": {},
   "outputs": [
    {
     "name": "stdout",
     "output_type": "stream",
     "text": [
      "              precision    recall  f1-score   support\n",
      "\n",
      "           0       0.28      0.49      0.36       110\n",
      "           2       0.39      0.72      0.51       100\n",
      "           9       0.00      0.00      0.00       111\n",
      "          11       0.54      0.32      0.40       139\n",
      "\n",
      "    accuracy                           0.37       460\n",
      "   macro avg       0.30      0.38      0.32       460\n",
      "weighted avg       0.31      0.37      0.32       460\n",
      "\n",
      "37.169999999999995 %\n"
     ]
    },
    {
     "data": {
      "image/png": "[encoded data removed]",
      "text/plain": [
       "<Figure size 600x600 with 2 Axes>"
      ]
     },
     "metadata": {},
     "output_type": "display_data"
    }
   ],
   "source": [
    "LR1 = LogisticRegression(penalty=\"l1\", solver=\"liblinear\", tol=0.1, max_iter=10000, random_state=0)\n",
    "LR1.fit(X_train1,y_train1)\n",
    "pred_LR1 = LR1.predict(X_test1)\n",
    "Confusion_Matrix(confusion_matrix(y_test1,pred_LR1))\n",
    "print(classification_report(y_test1, pred_LR1))\n",
    "print(round(np.sum([y_test1==pred_LR1])/len(y_test1),4)*100,\"%\")\n",
    "results.append(['lines and circles', 'Logistic Regression',round(np.sum([y_test1==pred_LR1])/len(y_test1),4)*100 ])"
   ]
  },
  {
   "cell_type": "markdown",
   "metadata": {},
   "source": [
    "# RUN ON DATA SET WITH HISTOGRAM DATA"
   ]
  },
  {
   "cell_type": "markdown",
   "metadata": {},
   "source": [
    "#### SVM"
   ]
  },
  {
   "cell_type": "code",
   "execution_count": 116,
   "metadata": {},
   "outputs": [
    {
     "name": "stdout",
     "output_type": "stream",
     "text": [
      "OneVsOneClassifier\n"
     ]
    },
    {
     "name": "stdout",
     "output_type": "stream",
     "text": [
      "hinge l2 48.699999999999996 %\n",
      "squared_hinge l2 48.699999999999996 %\n",
      "OutputCodeClassifier\n",
      "hinge l2 47.39 %\n",
      "squared_hinge l2 45.65 %\n",
      "OneVsRestClassifier\n",
      "hinge l2 42.83 %\n",
      "squared_hinge l2 42.83 %\n"
     ]
    }
   ],
   "source": [
    "losses = [\"hinge\",\"squared_hinge\"]\n",
    "penalties = [\"l1\",\"l2\"]\n",
    "\n",
    "print(\"OneVsOneClassifier\")\n",
    "for i in losses:\n",
    "    for j in penalties:\n",
    "        try:\n",
    "            svm =  OneVsOneClassifier(LinearSVC(random_state=0, loss=i,penalty=j,)).fit(X_train2, y_train2)\n",
    "            pred_svm = svm.predict(X_test2)\n",
    "            print(i,j,round(np.sum([y_test2==pred_svm])/len(y_test2),4)*100,\"%\")\n",
    "        except:\n",
    "            pass\n",
    "\n",
    "print(\"OutputCodeClassifier\")\n",
    "for i in losses:\n",
    "    for j in penalties:\n",
    "        try:\n",
    "            svm =  OutputCodeClassifier(LinearSVC(random_state=0, loss=i,penalty=j,)).fit(X_train2, y_train2)\n",
    "            pred_svm = svm.predict(X_test2)\n",
    "            print(i,j,round(np.sum([y_test2==pred_svm])/len(y_test2),4)*100,\"%\")\n",
    "        except:\n",
    "            pass\n",
    "\n",
    "\n",
    "print(\"OneVsRestClassifier\")\n",
    "for i in losses:\n",
    "    for j in penalties:\n",
    "        try:\n",
    "            svm =  OneVsRestClassifier(LinearSVC(random_state=0, loss=i,penalty=j,)).fit(X_train2, y_train2)\n",
    "            pred_svm = svm.predict(X_test2)\n",
    "            print(i,j,round(np.sum([y_test2==pred_svm])/len(y_test2),4)*100,\"%\")\n",
    "        except:\n",
    "            pass"
   ]
  },
  {
   "cell_type": "code",
   "execution_count": 117,
   "metadata": {},
   "outputs": [
    {
     "name": "stdout",
     "output_type": "stream",
     "text": [
      "              precision    recall  f1-score   support\n",
      "\n",
      "           0       0.41      0.55      0.47       110\n",
      "           2       0.44      0.42      0.43       100\n",
      "           9       0.40      0.30      0.34       111\n",
      "          11       0.66      0.63      0.65       139\n",
      "\n",
      "    accuracy                           0.49       460\n",
      "   macro avg       0.48      0.48      0.47       460\n",
      "weighted avg       0.49      0.49      0.48       460\n",
      "\n",
      "48.699999999999996 %\n"
     ]
    },
    {
     "data": {
      "image/png": "[encoded data removed]",
      "text/plain": [
       "<Figure size 600x600 with 2 Axes>"
      ]
     },
     "metadata": {},
     "output_type": "display_data"
    }
   ],
   "source": [
    "svm2 =  OneVsOneClassifier(LinearSVC(random_state=0, loss=\"hinge\",penalty=\"l2\")).fit(X_train2, y_train2)\n",
    "pred_svm2 = svm2.predict(X_test2)\n",
    "Confusion_Matrix(confusion_matrix(y_test2,pred_svm2))\n",
    "print(classification_report(y_test2, pred_svm2))\n",
    "print(round(np.sum([y_test2==pred_svm2])/len(y_test2),4)*100,\"%\")\n",
    "results.append(['histogram', 'SVM',round(np.sum([y_test2==pred_svm2])/len(y_test2),4)*100 ])"
   ]
  },
  {
   "cell_type": "markdown",
   "metadata": {},
   "source": [
    "#### KNN"
   ]
  },
  {
   "cell_type": "code",
   "execution_count": 77,
   "metadata": {},
   "outputs": [
    {
     "name": "stdout",
     "output_type": "stream",
     "text": [
      "1 53.480000000000004 %\n",
      "2 45.43 %\n",
      "3 49.78 %\n",
      "4 48.480000000000004 %\n",
      "5 48.04 %\n",
      "6 49.57 %\n",
      "7 49.78 %\n",
      "8 48.91 %\n",
      "9 48.91 %\n",
      "10 47.61 %\n",
      "11 48.699999999999996 %\n",
      "12 47.17 %\n",
      "13 47.39 %\n",
      "14 47.83 %\n",
      "15 47.83 %\n",
      "16 48.91 %\n",
      "17 46.96 %\n",
      "18 46.96 %\n",
      "19 47.61 %\n",
      "20 47.83 %\n",
      "21 46.300000000000004 %\n",
      "22 45.65 %\n",
      "23 45.22 %\n",
      "24 46.96 %\n",
      "25 47.17 %\n",
      "26 47.83 %\n",
      "27 46.300000000000004 %\n",
      "28 46.300000000000004 %\n",
      "29 46.739999999999995 %\n",
      "30 46.300000000000004 %\n",
      "31 46.300000000000004 %\n",
      "32 46.52 %\n",
      "33 46.52 %\n",
      "34 46.96 %\n",
      "35 45.65 %\n",
      "36 45.43 %\n",
      "37 44.57 %\n",
      "38 43.91 %\n",
      "39 43.91 %\n",
      "40 43.91 %\n",
      "41 44.57 %\n",
      "42 41.959999999999994 %\n",
      "43 43.04 %\n",
      "44 43.7 %\n",
      "45 43.91 %\n",
      "46 42.83 %\n",
      "47 42.17 %\n",
      "48 43.91 %\n",
      "49 43.04 %\n",
      "50 42.83 %\n"
     ]
    }
   ],
   "source": [
    "for i in range(1,51):\n",
    "    neigh = KNeighborsClassifier(n_neighbors=i)\n",
    "    neigh.fit(X_train2,y_train2)\n",
    "    pred_knn = neigh.predict(X_test2)\n",
    "    print(i,round(np.sum([y_test2==pred_knn])/len(y_test2),4)*100,\"%\")"
   ]
  },
  {
   "cell_type": "code",
   "execution_count": 78,
   "metadata": {},
   "outputs": [
    {
     "name": "stdout",
     "output_type": "stream",
     "text": [
      "              precision    recall  f1-score   support\n",
      "\n",
      "           0       0.39      0.65      0.49       110\n",
      "           2       0.50      0.47      0.48       100\n",
      "           9       0.45      0.28      0.34       111\n",
      "          11       0.71      0.57      0.63       139\n",
      "\n",
      "    accuracy                           0.50       460\n",
      "   macro avg       0.51      0.49      0.49       460\n",
      "weighted avg       0.52      0.50      0.50       460\n",
      "\n",
      "49.78 %\n"
     ]
    },
    {
     "data": {
      "image/png": "[encoded data removed]",
      "text/plain": [
       "<Figure size 600x600 with 2 Axes>"
      ]
     },
     "metadata": {},
     "output_type": "display_data"
    }
   ],
   "source": [
    "neigh2 = KNeighborsClassifier(n_neighbors=3)\n",
    "neigh2.fit(X_train2,y_train2)\n",
    "pred_knn2 = neigh2.predict(X_test2)\n",
    "Confusion_Matrix(confusion_matrix(y_test2,pred_knn2))\n",
    "print(classification_report(y_test2, pred_knn2))\n",
    "print(round(np.sum([y_test2==pred_knn2])/len(y_test2),4)*100,\"%\")\n",
    "results.append(['histogram', 'KNN',round(np.sum([y_test2==pred_knn2])/len(y_test2),4)*100 ])"
   ]
  },
  {
   "cell_type": "markdown",
   "metadata": {},
   "source": [
    "#### Adaboost"
   ]
  },
  {
   "cell_type": "code",
   "execution_count": 79,
   "metadata": {},
   "outputs": [
    {
     "name": "stdout",
     "output_type": "stream",
     "text": [
      "50 55.65 %\n",
      "100 59.78 %\n",
      "150 59.78 %\n",
      "200 58.26 %\n",
      "250 58.26 %\n",
      "300 58.26 %\n",
      "350 58.26 %\n",
      "400 58.48 %\n",
      "450 58.26 %\n",
      "500 58.26 %\n",
      "550 57.60999999999999 %\n",
      "600 57.60999999999999 %\n",
      "650 58.26 %\n",
      "700 58.040000000000006 %\n",
      "750 59.35 %\n",
      "800 58.48 %\n",
      "850 58.699999999999996 %\n",
      "900 58.699999999999996 %\n",
      "950 58.699999999999996 %\n",
      "1000 59.35 %\n",
      "1050 58.699999999999996 %\n",
      "1100 58.48 %\n",
      "1150 59.13 %\n",
      "1200 58.91 %\n",
      "1250 59.78 %\n",
      "1300 59.57 %\n",
      "1350 59.57 %\n",
      "1400 60.0 %\n",
      "1450 59.57 %\n",
      "1500 59.78 %\n",
      "1550 59.35 %\n",
      "1600 58.699999999999996 %\n",
      "1650 58.48 %\n",
      "1700 58.91 %\n",
      "1750 58.48 %\n",
      "1800 58.699999999999996 %\n",
      "1850 59.13 %\n",
      "1900 58.91 %\n",
      "1950 59.13 %\n",
      "2000 59.13 %\n"
     ]
    }
   ],
   "source": [
    "for i in range(50,2001,50):\n",
    "    ada = AdaBoostClassifier(n_estimators=i, algorithm=\"SAMME\", random_state=0)\n",
    "    ada.fit(X_train2,y_train2)\n",
    "    pred_ada = ada.predict(X_test2)\n",
    "    print(i,round(np.sum([y_test2==pred_ada])/len(y_test2),4)*100,\"%\")"
   ]
  },
  {
   "cell_type": "code",
   "execution_count": 80,
   "metadata": {},
   "outputs": [
    {
     "name": "stdout",
     "output_type": "stream",
     "text": [
      "              precision    recall  f1-score   support\n",
      "\n",
      "           0       0.60      0.67      0.64       110\n",
      "           2       0.55      0.52      0.53       100\n",
      "           9       0.52      0.55      0.54       111\n",
      "          11       0.71      0.64      0.67       139\n",
      "\n",
      "    accuracy                           0.60       460\n",
      "   macro avg       0.60      0.60      0.59       460\n",
      "weighted avg       0.60      0.60      0.60       460\n",
      "\n",
      "60.0 %\n"
     ]
    },
    {
     "data": {
      "image/png": "[encoded data removed]",
      "text/plain": [
       "<Figure size 600x600 with 2 Axes>"
      ]
     },
     "metadata": {},
     "output_type": "display_data"
    }
   ],
   "source": [
    "ada2 = AdaBoostClassifier(n_estimators=1400, algorithm=\"SAMME\",random_state=0)\n",
    "ada2.fit(X_train2,y_train2)\n",
    "pred_ada2 = ada2.predict(X_test2)\n",
    "Confusion_Matrix(confusion_matrix(y_test2,pred_ada2))\n",
    "print(classification_report(y_test2, pred_ada2))\n",
    "print(round(np.sum([y_test2==pred_ada2])/len(y_test2),4)*100,\"%\")\n",
    "results.append(['histogram', 'Adaboost',round(np.sum([y_test2==pred_ada2])/len(y_test2),4)*100 ])"
   ]
  },
  {
   "cell_type": "markdown",
   "metadata": {},
   "source": [
    "#### Random Forset"
   ]
  },
  {
   "cell_type": "code",
   "execution_count": 81,
   "metadata": {},
   "outputs": [
    {
     "name": "stdout",
     "output_type": "stream",
     "text": [
      "40 2 65.86999999999999 %\n",
      "40 3 64.13 %\n",
      "40 4 65.42999999999999 %\n",
      "60 2 66.74 %\n",
      "60 3 66.09 %\n",
      "60 4 65.86999999999999 %\n",
      "80 2 66.3 %\n",
      "80 3 65.42999999999999 %\n",
      "80 4 65.42999999999999 %\n",
      "100 2 66.74 %\n",
      "100 3 66.09 %\n",
      "100 4 65.22 %\n",
      "120 2 66.74 %\n",
      "120 3 66.3 %\n",
      "120 4 65.64999999999999 %\n",
      "140 2 67.17 %\n",
      "140 3 67.39 %\n",
      "140 4 65.64999999999999 %\n",
      "160 2 66.3 %\n",
      "160 3 66.96 %\n",
      "160 4 65.22 %\n",
      "180 2 67.17 %\n",
      "180 3 66.3 %\n",
      "180 4 65.86999999999999 %\n",
      "200 2 67.17 %\n",
      "200 3 66.3 %\n",
      "200 4 66.3 %\n",
      "220 2 67.39 %\n",
      "220 3 66.96 %\n",
      "220 4 65.42999999999999 %\n",
      "240 2 66.96 %\n",
      "240 3 67.39 %\n",
      "240 4 66.3 %\n",
      "260 2 67.61 %\n",
      "260 3 67.39 %\n",
      "260 4 65.86999999999999 %\n",
      "280 2 67.17 %\n",
      "280 3 67.17 %\n",
      "280 4 66.09 %\n",
      "300 2 66.74 %\n",
      "300 3 67.17 %\n",
      "300 4 65.86999999999999 %\n",
      "320 2 66.74 %\n",
      "320 3 67.17 %\n",
      "320 4 66.09 %\n",
      "340 2 67.17 %\n",
      "340 3 67.61 %\n",
      "340 4 66.52 %\n",
      "360 2 66.74 %\n",
      "360 3 67.17 %\n",
      "360 4 66.09 %\n",
      "380 2 66.52 %\n",
      "380 3 67.17 %\n",
      "380 4 66.3 %\n",
      "400 2 66.74 %\n",
      "400 3 67.17 %\n",
      "400 4 66.96 %\n",
      "420 2 66.96 %\n",
      "420 3 67.83 %\n",
      "420 4 66.96 %\n",
      "440 2 66.74 %\n",
      "440 3 67.17 %\n",
      "440 4 66.74 %\n",
      "460 2 66.52 %\n",
      "460 3 67.39 %\n",
      "460 4 66.96 %\n",
      "480 2 67.39 %\n",
      "480 3 67.17 %\n",
      "480 4 66.96 %\n",
      "500 2 67.61 %\n",
      "500 3 67.61 %\n",
      "500 4 66.74 %\n"
     ]
    }
   ],
   "source": [
    "for i in range(40,501,20):\n",
    "    for j in range(2,5):\n",
    "        RF = RandomForestClassifier(n_estimators=i, max_depth=None,min_samples_split=j, random_state=0)\n",
    "        RF.fit(X_train2,y_train2)\n",
    "        pred_RF = RF.predict(X_test2)\n",
    "        print(i,j,round(np.sum([y_test2==pred_RF])/len(y_test2),4)*100,\"%\")"
   ]
  },
  {
   "cell_type": "code",
   "execution_count": 82,
   "metadata": {},
   "outputs": [
    {
     "name": "stdout",
     "output_type": "stream",
     "text": [
      "              precision    recall  f1-score   support\n",
      "\n",
      "           0       0.66      0.75      0.71       110\n",
      "           2       0.71      0.62      0.66       100\n",
      "           9       0.59      0.62      0.61       111\n",
      "          11       0.73      0.69      0.71       139\n",
      "\n",
      "    accuracy                           0.67       460\n",
      "   macro avg       0.67      0.67      0.67       460\n",
      "weighted avg       0.68      0.67      0.67       460\n",
      "\n",
      "67.39 %\n"
     ]
    },
    {
     "data": {
      "image/png": "[encoded data removed]",
      "text/plain": [
       "<Figure size 600x600 with 2 Axes>"
      ]
     },
     "metadata": {},
     "output_type": "display_data"
    }
   ],
   "source": [
    "RF2 = RandomForestClassifier(n_estimators=140, max_depth=None,min_samples_split=3, random_state=0)\n",
    "RF2.fit(X_train2,y_train2)\n",
    "pred_RF2 = RF2.predict(X_test2)\n",
    "Confusion_Matrix(confusion_matrix(y_test2,pred_RF2))\n",
    "print(classification_report(y_test2, pred_RF2))\n",
    "print(round(np.sum([y_test2==pred_RF2])/len(y_test2),4)*100,\"%\")\n",
    "results.append(['histogram', 'Random Forest',round(np.sum([y_test2==pred_RF2])/len(y_test2),4)*100 ])"
   ]
  },
  {
   "cell_type": "markdown",
   "metadata": {},
   "source": [
    "#### Logistic Regression"
   ]
  },
  {
   "cell_type": "code",
   "execution_count": 83,
   "metadata": {},
   "outputs": [
    {
     "name": "stdout",
     "output_type": "stream",
     "text": [
      "l1 liblinear 0.1 57.830000000000005 %\n",
      "l1 liblinear 0.01 51.959999999999994 %\n",
      "l1 liblinear 0.001 50.64999999999999 %\n",
      "l1 saga 0.1 53.480000000000004 %\n",
      "l1 saga 0.01 58.26 %\n",
      "l1 saga 0.001 55.87 %\n",
      "l2 lbfgs 0.1 49.13 %\n",
      "l2 lbfgs 0.01 49.13 %\n",
      "l2 lbfgs 0.001 49.13 %\n",
      "l2 liblinear 0.1 56.52 %\n",
      "l2 liblinear 0.01 56.089999999999996 %\n",
      "l2 liblinear 0.001 50.43 %\n",
      "l2 newton-cg 0.1 49.13 %\n",
      "l2 newton-cg 0.01 48.91 %\n",
      "l2 newton-cg 0.001 48.91 %\n",
      "l2 sag 0.1 55.65 %\n",
      "l2 sag 0.01 56.96 %\n",
      "l2 sag 0.001 56.3 %\n",
      "l2 saga 0.1 53.480000000000004 %\n",
      "l2 saga 0.01 58.26 %\n",
      "l2 saga 0.001 55.87 %\n"
     ]
    }
   ],
   "source": [
    "penilties = [\"l1\",\"l2\",\"elasticnet\"]\n",
    "solvers = [\"lbfgs\",\"liblinear\",\"newton-cg\",\"newton-cholesky\",\"sag\",\"saga\"]\n",
    "tols= [0.1 ,0.01, 0.001]\n",
    "\n",
    "for i in penilties:\n",
    "    for j in solvers:\n",
    "        for k in tols:\n",
    "            try:\n",
    "                LR = LogisticRegression(penalty=i, solver=j, tol=k, max_iter=10000,random_state=0)\n",
    "                LR.fit(X_train2,y_train2)\n",
    "                pred_LR = LR.predict(X_test2)\n",
    "                print(i,j,k,round(np.sum([y_test2==pred_LR])/len(y_test2),4)*100,\"%\")\n",
    "            except:\n",
    "                pass\n",
    "        "
   ]
  },
  {
   "cell_type": "code",
   "execution_count": 84,
   "metadata": {},
   "outputs": [
    {
     "name": "stdout",
     "output_type": "stream",
     "text": [
      "              precision    recall  f1-score   support\n",
      "\n",
      "           0       0.62      0.58      0.60       110\n",
      "           2       0.52      0.55      0.54       100\n",
      "           9       0.48      0.38      0.42       111\n",
      "          11       0.65      0.77      0.70       139\n",
      "\n",
      "    accuracy                           0.58       460\n",
      "   macro avg       0.57      0.57      0.57       460\n",
      "weighted avg       0.57      0.58      0.58       460\n",
      "\n",
      "58.26 %\n"
     ]
    },
    {
     "data": {
      "image/png": "[encoded data removed]",
      "text/plain": [
       "<Figure size 600x600 with 2 Axes>"
      ]
     },
     "metadata": {},
     "output_type": "display_data"
    }
   ],
   "source": [
    "LR2 = LogisticRegression(penalty=\"l1\", solver=\"saga\", tol=0.01, max_iter=10000, random_state=0)\n",
    "LR2.fit(X_train2,y_train2)\n",
    "pred_LR2 = LR2.predict(X_test2)\n",
    "Confusion_Matrix(confusion_matrix(y_test2,pred_LR2))\n",
    "print(classification_report(y_test2, pred_LR2))\n",
    "print(round(np.sum([y_test2==pred_LR2])/len(y_test2),4)*100,\"%\")\n",
    "results.append(['histogram', 'Logistic Regression',round(np.sum([y_test2==pred_LR2])/len(y_test2),4)*100 ])"
   ]
  },
  {
   "cell_type": "markdown",
   "metadata": {},
   "source": [
    "# RUN ON DATA SET WITH LINES, CIRCLES AND HISTOGRAM DATA"
   ]
  },
  {
   "cell_type": "markdown",
   "metadata": {},
   "source": [
    "#### SVM"
   ]
  },
  {
   "cell_type": "code",
   "execution_count": 118,
   "metadata": {},
   "outputs": [
    {
     "name": "stdout",
     "output_type": "stream",
     "text": [
      "OneVsOneClassifier\n",
      "hinge l2 47.61 %\n",
      "squared_hinge l2 47.61 %\n",
      "OutputCodeClassifier\n",
      "hinge l2 37.61 %\n",
      "squared_hinge l2 48.91 %\n",
      "OneVsRestClassifier\n",
      "hinge l2 31.96 %\n",
      "squared_hinge l2 31.96 %\n"
     ]
    }
   ],
   "source": [
    "losses = [\"hinge\",\"squared_hinge\"]\n",
    "penalties = [\"l1\",\"l2\"]\n",
    "\n",
    "print(\"OneVsOneClassifier\")\n",
    "for i in losses:\n",
    "    for j in penalties:\n",
    "        try:\n",
    "            svm =  OneVsOneClassifier(LinearSVC(random_state=0, loss=i,penalty=j,)).fit(X_train3, y_train3)\n",
    "            pred_svm = svm.predict(X_test3)\n",
    "            print(i,j,round(np.sum([y_test3==pred_svm])/len(y_test3),4)*100,\"%\")\n",
    "        except:\n",
    "            pass\n",
    "\n",
    "print(\"OutputCodeClassifier\")\n",
    "for i in losses:\n",
    "    for j in penalties:\n",
    "        try:\n",
    "            svm =  OutputCodeClassifier(LinearSVC(random_state=0, loss=i,penalty=j,)).fit(X_train3, y_train3)\n",
    "            pred_svm = svm.predict(X_test3)\n",
    "            print(i,j,round(np.sum([y_test3==pred_svm])/len(y_test3),4)*100,\"%\")\n",
    "        except:\n",
    "            pass\n",
    "\n",
    "\n",
    "print(\"OneVsRestClassifier\")\n",
    "for i in losses:\n",
    "    for j in penalties:\n",
    "        try:\n",
    "            svm =  OneVsRestClassifier(LinearSVC(random_state=0, loss=i,penalty=j,)).fit(X_train3, y_train3)\n",
    "            pred_svm = svm.predict(X_test3)\n",
    "            print(i,j,round(np.sum([y_test3==pred_svm])/len(y_test3),4)*100,\"%\")\n",
    "        except:\n",
    "            pass\n"
   ]
  },
  {
   "cell_type": "code",
   "execution_count": 119,
   "metadata": {},
   "outputs": [
    {
     "name": "stdout",
     "output_type": "stream",
     "text": [
      "              precision    recall  f1-score   support\n",
      "\n",
      "           0       0.42      0.35      0.38       110\n",
      "           2       0.40      0.52      0.45       100\n",
      "           9       0.38      0.30      0.34       111\n",
      "          11       0.63      0.69      0.66       139\n",
      "\n",
      "    accuracy                           0.48       460\n",
      "   macro avg       0.46      0.46      0.46       460\n",
      "weighted avg       0.47      0.48      0.47       460\n",
      "\n",
      "47.61 %\n"
     ]
    },
    {
     "data": {
      "image/png": "[encoded data removed]",
      "text/plain": [
       "<Figure size 600x600 with 2 Axes>"
      ]
     },
     "metadata": {},
     "output_type": "display_data"
    }
   ],
   "source": [
    "svm3 =  OneVsOneClassifier(LinearSVC(random_state=0, loss=\"hinge\",penalty=\"l2\")).fit(X_train3, y_train3)\n",
    "pred_svm3 = svm3.predict(X_test3)\n",
    "Confusion_Matrix(confusion_matrix(y_test3,pred_svm3))\n",
    "print(classification_report(y_test3, pred_svm3))\n",
    "print(round(np.sum([y_test3==pred_svm3])/len(y_test3),4)*100,\"%\")\n",
    "results.append(['lines, circle, and histogram', 'SVM',round(np.sum([y_test3==pred_svm3])/len(y_test3),4)*100 ])"
   ]
  },
  {
   "cell_type": "markdown",
   "metadata": {},
   "source": [
    "#### KNN"
   ]
  },
  {
   "cell_type": "code",
   "execution_count": 87,
   "metadata": {},
   "outputs": [
    {
     "name": "stdout",
     "output_type": "stream",
     "text": [
      "3 49.57 %\n",
      "5 47.17 %\n",
      "7 47.83 %\n",
      "9 47.39 %\n",
      "11 47.39 %\n",
      "13 48.04 %\n",
      "15 47.83 %\n",
      "17 47.83 %\n",
      "19 48.04 %\n",
      "21 47.17 %\n",
      "23 46.300000000000004 %\n",
      "25 46.089999999999996 %\n",
      "27 45.87 %\n",
      "29 47.61 %\n",
      "31 46.52 %\n",
      "33 46.300000000000004 %\n",
      "35 44.13 %\n",
      "37 44.57 %\n",
      "39 45.0 %\n",
      "41 45.43 %\n",
      "43 43.91 %\n",
      "45 43.480000000000004 %\n",
      "47 43.26 %\n",
      "49 45.0 %\n",
      "51 44.57 %\n",
      "53 42.61 %\n",
      "55 43.04 %\n",
      "57 43.91 %\n",
      "59 43.7 %\n",
      "61 42.39 %\n",
      "63 42.17 %\n",
      "65 42.17 %\n",
      "67 41.089999999999996 %\n",
      "69 40.43 %\n",
      "71 40.22 %\n",
      "73 40.22 %\n",
      "75 40.43 %\n",
      "77 40.22 %\n",
      "79 40.22 %\n",
      "81 40.87 %\n",
      "83 40.43 %\n",
      "85 39.35 %\n",
      "87 37.830000000000005 %\n",
      "89 38.48 %\n",
      "91 38.48 %\n",
      "93 39.57 %\n",
      "95 38.48 %\n",
      "97 38.04 %\n",
      "99 37.169999999999995 %\n"
     ]
    }
   ],
   "source": [
    "for i in range(3,101,2):\n",
    "    neigh = KNeighborsClassifier(n_neighbors=i)\n",
    "    neigh.fit(X_train3,y_train3)\n",
    "    pred_knn = neigh.predict(X_test3)\n",
    "    print(i,round(np.sum([y_test3==pred_knn])/len(y_test3),4)*100,\"%\")\n"
   ]
  },
  {
   "cell_type": "code",
   "execution_count": 88,
   "metadata": {},
   "outputs": [
    {
     "name": "stdout",
     "output_type": "stream",
     "text": [
      "              precision    recall  f1-score   support\n",
      "\n",
      "           0       0.39      0.69      0.50       110\n",
      "           2       0.48      0.41      0.44       100\n",
      "           9       0.50      0.31      0.38       111\n",
      "          11       0.71      0.55      0.62       139\n",
      "\n",
      "    accuracy                           0.50       460\n",
      "   macro avg       0.52      0.49      0.48       460\n",
      "weighted avg       0.53      0.50      0.49       460\n",
      "\n",
      "49.57 %\n"
     ]
    },
    {
     "data": {
      "image/png": "[encoded data removed]",
      "text/plain": [
       "<Figure size 600x600 with 2 Axes>"
      ]
     },
     "metadata": {},
     "output_type": "display_data"
    }
   ],
   "source": [
    "neigh3 = KNeighborsClassifier(n_neighbors=3)\n",
    "neigh3.fit(X_train3,y_train3)\n",
    "pred_knn3 = neigh3.predict(X_test3)\n",
    "Confusion_Matrix(confusion_matrix(y_test3,pred_knn3))\n",
    "print(classification_report(y_test3, pred_knn3))\n",
    "print(round(np.sum([y_test3==pred_knn3])/len(y_test3),4)*100,\"%\")\n",
    "results.append(['lines, circle, and histogram', 'KNN',round(np.sum([y_test3==pred_knn3])/len(y_test3),4)*100 ])"
   ]
  },
  {
   "cell_type": "markdown",
   "metadata": {},
   "source": [
    "#### ADABOOST"
   ]
  },
  {
   "cell_type": "code",
   "execution_count": 89,
   "metadata": {},
   "outputs": [
    {
     "name": "stdout",
     "output_type": "stream",
     "text": [
      "50 56.089999999999996 %\n",
      "100 55.43 %\n",
      "150 56.3 %\n",
      "200 56.089999999999996 %\n",
      "250 58.48 %\n",
      "300 57.60999999999999 %\n",
      "350 56.96 %\n",
      "400 56.96 %\n",
      "450 57.38999999999999 %\n",
      "500 59.13 %\n",
      "550 59.57 %\n",
      "600 58.91 %\n",
      "650 59.57 %\n",
      "700 58.48 %\n",
      "750 59.35 %\n",
      "800 60.0 %\n",
      "850 58.48 %\n",
      "900 58.91 %\n",
      "950 60.0 %\n",
      "1000 60.870000000000005 %\n",
      "1050 60.42999999999999 %\n",
      "1100 60.22 %\n",
      "1150 59.78 %\n",
      "1200 60.0 %\n",
      "1250 60.22 %\n",
      "1300 59.78 %\n",
      "1350 59.57 %\n",
      "1400 60.42999999999999 %\n",
      "1450 60.650000000000006 %\n",
      "1500 59.35 %\n",
      "1550 61.3 %\n",
      "1600 58.91 %\n",
      "1650 59.35 %\n",
      "1700 60.22 %\n",
      "1750 59.78 %\n",
      "1800 59.57 %\n",
      "1850 60.650000000000006 %\n",
      "1900 60.42999999999999 %\n",
      "1950 61.09 %\n",
      "2000 60.42999999999999 %\n"
     ]
    }
   ],
   "source": [
    "for i in range(50,2001,50):\n",
    "    ada = AdaBoostClassifier(n_estimators=i, algorithm=\"SAMME\",random_state=0)\n",
    "    ada.fit(X_train3,y_train3)\n",
    "    pred_ada = ada.predict(X_test3)\n",
    "    print(i,round(np.sum([y_test3==pred_ada])/len(y_test3),4)*100,\"%\")"
   ]
  },
  {
   "cell_type": "code",
   "execution_count": 90,
   "metadata": {},
   "outputs": [
    {
     "name": "stdout",
     "output_type": "stream",
     "text": [
      "              precision    recall  f1-score   support\n",
      "\n",
      "           0       0.56      0.67      0.61       110\n",
      "           2       0.57      0.50      0.53       100\n",
      "           9       0.55      0.59      0.57       111\n",
      "          11       0.75      0.65      0.70       139\n",
      "\n",
      "    accuracy                           0.61       460\n",
      "   macro avg       0.61      0.61      0.60       460\n",
      "weighted avg       0.62      0.61      0.61       460\n",
      "\n",
      "61.09 %\n"
     ]
    },
    {
     "data": {
      "image/png": "[encoded data removed]",
      "text/plain": [
       "<Figure size 600x600 with 2 Axes>"
      ]
     },
     "metadata": {},
     "output_type": "display_data"
    }
   ],
   "source": [
    "ada3 = AdaBoostClassifier(n_estimators=1950, algorithm=\"SAMME\",random_state=0)\n",
    "ada3.fit(X_train3,y_train3)\n",
    "pred_ada3 = ada3.predict(X_test3)\n",
    "Confusion_Matrix(confusion_matrix(y_test3,pred_ada3))\n",
    "print(classification_report(y_test3, pred_ada3))\n",
    "print(round(np.sum([y_test3==pred_ada3])/len(y_test3),4)*100,\"%\")\n",
    "results.append(['lines, circle, and histogram', 'Adaboost',round(np.sum([y_test3==pred_ada3])/len(y_test3),4)*100 ])"
   ]
  },
  {
   "cell_type": "markdown",
   "metadata": {},
   "source": [
    "#### RANDOM FOREST"
   ]
  },
  {
   "cell_type": "code",
   "execution_count": 91,
   "metadata": {},
   "outputs": [
    {
     "name": "stdout",
     "output_type": "stream",
     "text": [
      "40 2 65.0 %\n",
      "40 3 64.13 %\n",
      "40 4 66.52 %\n",
      "60 2 65.0 %\n",
      "60 3 65.42999999999999 %\n",
      "60 4 65.64999999999999 %\n",
      "80 2 67.17 %\n",
      "80 3 65.22 %\n",
      "80 4 66.74 %\n",
      "100 2 66.09 %\n",
      "100 3 66.96 %\n",
      "100 4 66.09 %\n",
      "120 2 67.39 %\n",
      "120 3 66.52 %\n",
      "120 4 66.52 %\n",
      "140 2 66.96 %\n",
      "140 3 67.17 %\n",
      "140 4 66.74 %\n",
      "160 2 66.96 %\n",
      "160 3 68.04 %\n",
      "160 4 66.96 %\n",
      "180 2 66.74 %\n",
      "180 3 67.83 %\n",
      "180 4 67.83 %\n",
      "200 2 66.74 %\n",
      "200 3 67.61 %\n",
      "200 4 67.61 %\n",
      "220 2 66.96 %\n",
      "220 3 66.96 %\n",
      "220 4 67.83 %\n",
      "240 2 66.96 %\n",
      "240 3 66.96 %\n",
      "240 4 67.83 %\n",
      "260 2 66.96 %\n",
      "260 3 66.96 %\n",
      "260 4 68.04 %\n",
      "280 2 66.3 %\n",
      "280 3 66.74 %\n",
      "280 4 68.26 %\n",
      "300 2 67.39 %\n",
      "300 3 67.17 %\n",
      "300 4 68.04 %\n",
      "320 2 67.39 %\n",
      "320 3 66.3 %\n",
      "320 4 67.83 %\n",
      "340 2 67.61 %\n",
      "340 3 66.52 %\n",
      "340 4 68.04 %\n",
      "360 2 67.39 %\n",
      "360 3 66.52 %\n",
      "360 4 67.83 %\n",
      "380 2 67.17 %\n",
      "380 3 67.17 %\n",
      "380 4 68.26 %\n",
      "400 2 67.39 %\n",
      "400 3 67.17 %\n",
      "400 4 68.47999999999999 %\n",
      "420 2 67.17 %\n",
      "420 3 67.83 %\n",
      "420 4 68.47999999999999 %\n",
      "440 2 67.17 %\n",
      "440 3 67.61 %\n",
      "440 4 68.26 %\n",
      "460 2 67.17 %\n",
      "460 3 67.39 %\n",
      "460 4 68.26 %\n",
      "480 2 66.96 %\n",
      "480 3 67.61 %\n",
      "480 4 68.47999999999999 %\n",
      "500 2 66.74 %\n",
      "500 3 67.61 %\n",
      "500 4 68.04 %\n"
     ]
    }
   ],
   "source": [
    "for i in range(40,501,20):\n",
    "    for j in range(2,5):\n",
    "        RF = RandomForestClassifier(n_estimators=i, max_depth=None,min_samples_split=j, random_state=0)\n",
    "        RF.fit(X_train3,y_train3)\n",
    "        pred_RF = RF.predict(X_test3)\n",
    "        print(i,j,round(np.sum([y_test3==pred_RF])/len(y_test3),4)*100,\"%\")"
   ]
  },
  {
   "cell_type": "code",
   "execution_count": 92,
   "metadata": {},
   "outputs": [
    {
     "name": "stdout",
     "output_type": "stream",
     "text": [
      "              precision    recall  f1-score   support\n",
      "\n",
      "           0       0.68      0.74      0.71       110\n",
      "           2       0.72      0.65      0.68       100\n",
      "           9       0.59      0.64      0.61       111\n",
      "          11       0.75      0.71      0.73       139\n",
      "\n",
      "    accuracy                           0.68       460\n",
      "   macro avg       0.69      0.68      0.68       460\n",
      "weighted avg       0.69      0.68      0.69       460\n",
      "\n",
      "68.47999999999999 %\n"
     ]
    },
    {
     "data": {
      "image/png": "[encoded data removed]",
      "text/plain": [
       "<Figure size 600x600 with 2 Axes>"
      ]
     },
     "metadata": {},
     "output_type": "display_data"
    }
   ],
   "source": [
    "RF3 = RandomForestClassifier(n_estimators=400, max_depth=None,min_samples_split=4, random_state=0)\n",
    "RF3.fit(X_train3,y_train3)\n",
    "pred_RF3 = RF3.predict(X_test3)\n",
    "Confusion_Matrix(confusion_matrix(y_test3,pred_RF3))\n",
    "print(classification_report(y_test3, pred_RF3))\n",
    "print(round(np.sum([y_test3==pred_RF3])/len(y_test3),4)*100,\"%\")\n",
    "results.append(['lines, circle, and histogram', 'Random Forest',round(np.sum([y_test3==pred_RF3])/len(y_test3),4)*100 ])"
   ]
  },
  {
   "cell_type": "markdown",
   "metadata": {},
   "source": [
    "#### LOGISTIC REGRESSION"
   ]
  },
  {
   "cell_type": "code",
   "execution_count": 93,
   "metadata": {},
   "outputs": [
    {
     "name": "stdout",
     "output_type": "stream",
     "text": [
      "l1 liblinear 0.1 56.74 %\n",
      "l1 liblinear 0.01 53.04 %\n",
      "l1 liblinear 0.001 50.870000000000005 %\n",
      "l1 saga 0.1 52.61 %\n",
      "l1 saga 0.01 56.3 %\n",
      "l1 saga 0.001 55.22 %\n",
      "l2 lbfgs 0.1 50.0 %\n",
      "l2 lbfgs 0.01 50.0 %\n",
      "l2 lbfgs 0.001 50.0 %\n",
      "l2 liblinear 0.1 55.22 %\n",
      "l2 liblinear 0.01 55.65 %\n",
      "l2 liblinear 0.001 50.870000000000005 %\n",
      "l2 newton-cg 0.1 48.04 %\n",
      "l2 newton-cg 0.01 48.699999999999996 %\n",
      "l2 newton-cg 0.001 48.699999999999996 %\n",
      "l2 sag 0.1 55.43 %\n",
      "l2 sag 0.01 56.089999999999996 %\n",
      "l2 sag 0.001 55.43 %\n",
      "l2 saga 0.1 52.61 %\n",
      "l2 saga 0.01 56.3 %\n",
      "l2 saga 0.001 55.22 %\n"
     ]
    }
   ],
   "source": [
    "penilties = [\"l1\",\"l2\",\"elasticnet\"]\n",
    "solvers = [\"lbfgs\",\"liblinear\",\"newton-cg\",\"newton-cholesky\",\"sag\",\"saga\"]\n",
    "tols= [0.1 ,0.01, 0.001]\n",
    "\n",
    "for i in penilties:\n",
    "    for j in solvers:\n",
    "        for k in tols:\n",
    "            try:\n",
    "                LR = LogisticRegression(penalty=i, solver=j, tol=k, max_iter=10000, random_state =0)\n",
    "                LR.fit(X_train3,y_train3)\n",
    "                pred_LR = LR.predict(X_test3)\n",
    "                print(i,j,k,round(np.sum([y_test3==pred_LR])/len(y_test3),4)*100,\"%\")\n",
    "            except:\n",
    "                pass"
   ]
  },
  {
   "cell_type": "code",
   "execution_count": 94,
   "metadata": {},
   "outputs": [
    {
     "name": "stdout",
     "output_type": "stream",
     "text": [
      "              precision    recall  f1-score   support\n",
      "\n",
      "           0       0.57      0.58      0.58       110\n",
      "           2       0.55      0.51      0.53       100\n",
      "           9       0.47      0.32      0.38       111\n",
      "          11       0.62      0.79      0.69       139\n",
      "\n",
      "    accuracy                           0.57       460\n",
      "   macro avg       0.55      0.55      0.55       460\n",
      "weighted avg       0.56      0.57      0.55       460\n",
      "\n",
      "56.74 %\n"
     ]
    },
    {
     "data": {
      "image/png": "[encoded data removed]",
      "text/plain": [
       "<Figure size 600x600 with 2 Axes>"
      ]
     },
     "metadata": {},
     "output_type": "display_data"
    }
   ],
   "source": [
    "LR3 = LogisticRegression(penalty=\"l1\", solver=\"liblinear\", tol=0.1, max_iter=10000, random_state = 0)\n",
    "LR3.fit(X_train3,y_train3)\n",
    "pred_LR3 = LR3.predict(X_test3)\n",
    "Confusion_Matrix(confusion_matrix(y_test3,pred_LR3))\n",
    "print(classification_report(y_test3, pred_LR3))\n",
    "print(round(np.sum([y_test3==pred_LR3])/len(y_test3),4)*100,\"%\")\n",
    "results.append(['lines, circle, and histogram', 'Logistic Regression',round(np.sum([y_test3==pred_LR3])/len(y_test3),4)*100 ])"
   ]
  },
  {
   "cell_type": "markdown",
   "metadata": {},
   "source": [
    "# RUN ON LINES CIRCLES AND HIST WITH PCA"
   ]
  },
  {
   "cell_type": "code",
   "execution_count": 95,
   "metadata": {},
   "outputs": [],
   "source": [
    "pca1=PCA(n_components=0.99)\n",
    "X_train4=pca1.fit_transform(X_train3)\n",
    "X_test4=pca1.transform(X_test3)\n",
    "y_train4 = y_train3\n",
    "y_test4 = y_test3"
   ]
  },
  {
   "cell_type": "code",
   "execution_count": 96,
   "metadata": {},
   "outputs": [
    {
     "name": "stdout",
     "output_type": "stream",
     "text": [
      "(1073, 98)\n",
      "(460, 98)\n"
     ]
    }
   ],
   "source": [
    "print(X_train4.shape)\n",
    "print(X_test4.shape)"
   ]
  },
  {
   "cell_type": "markdown",
   "metadata": {},
   "source": [
    "#### SVM"
   ]
  },
  {
   "cell_type": "code",
   "execution_count": 120,
   "metadata": {},
   "outputs": [
    {
     "name": "stdout",
     "output_type": "stream",
     "text": [
      "OneVsOneClassifier\n",
      "hinge l2 37.830000000000005 %\n",
      "squared_hinge l2 37.830000000000005 %\n",
      "OutputCodeClassifier\n",
      "hinge l2 34.57 %\n",
      "squared_hinge l2 30.0 %\n",
      "OneVsRestClassifier\n",
      "hinge l2 35.0 %\n",
      "squared_hinge l2 35.0 %\n"
     ]
    }
   ],
   "source": [
    "losses = [\"hinge\",\"squared_hinge\"]\n",
    "penalties = [\"l1\",\"l2\"]\n",
    "\n",
    "print(\"OneVsOneClassifier\")\n",
    "for i in losses:\n",
    "    for j in penalties:\n",
    "        try:\n",
    "            svm =  OneVsOneClassifier(LinearSVC(random_state=0, loss=i,penalty=j,)).fit(X_train4, y_train4)\n",
    "            pred_svm = svm.predict(X_test4)\n",
    "            print(i,j,round(np.sum([y_test4==pred_svm])/len(y_test4),4)*100,\"%\")\n",
    "        except:\n",
    "            pass\n",
    "\n",
    "print(\"OutputCodeClassifier\")\n",
    "for i in losses:\n",
    "    for j in penalties:\n",
    "        try:\n",
    "            svm =  OutputCodeClassifier(LinearSVC(random_state=0, loss=i,penalty=j,)).fit(X_train4, y_train4)\n",
    "            pred_svm = svm.predict(X_test4)\n",
    "            print(i,j,round(np.sum([y_test4==pred_svm])/len(y_test4),4)*100,\"%\")\n",
    "        except:\n",
    "            pass\n",
    "\n",
    "\n",
    "print(\"OneVsRestClassifier\")\n",
    "for i in losses:\n",
    "    for j in penalties:\n",
    "        try:\n",
    "            svm =  OneVsRestClassifier(LinearSVC(random_state=0, loss=i,penalty=j,)).fit(X_train4, y_train4)\n",
    "            pred_svm = svm.predict(X_test4)\n",
    "            print(i,j,round(np.sum([y_test4==pred_svm])/len(y_test4),4)*100,\"%\")\n",
    "        except:\n",
    "            pass\n"
   ]
  },
  {
   "cell_type": "code",
   "execution_count": 121,
   "metadata": {},
   "outputs": [
    {
     "name": "stdout",
     "output_type": "stream",
     "text": [
      "              precision    recall  f1-score   support\n",
      "\n",
      "           0       0.32      0.53      0.40       110\n",
      "           2       0.39      0.58      0.47       100\n",
      "           9       0.42      0.23      0.29       111\n",
      "          11       0.48      0.24      0.32       139\n",
      "\n",
      "    accuracy                           0.38       460\n",
      "   macro avg       0.40      0.39      0.37       460\n",
      "weighted avg       0.41      0.38      0.36       460\n",
      "\n",
      "37.830000000000005 %\n"
     ]
    },
    {
     "data": {
      "image/png": "[encoded data removed]",
      "text/plain": [
       "<Figure size 600x600 with 2 Axes>"
      ]
     },
     "metadata": {},
     "output_type": "display_data"
    }
   ],
   "source": [
    "svm4 =  OneVsOneClassifier(LinearSVC(random_state=0, loss=\"hinge\",penalty=\"l2\")).fit(X_train4, y_train4)\n",
    "pred_svm4 = svm4.predict(X_test4)\n",
    "Confusion_Matrix(confusion_matrix(y_test4,pred_svm4))\n",
    "print(classification_report(y_test4, pred_svm4))\n",
    "print(round(np.sum([y_test4==pred_svm4])/len(y_test4),4)*100,\"%\")\n",
    "results.append(['lines, circle, and histogram PCA 0.99', 'SVM',round(np.sum([y_test4==pred_svm4])/len(y_test4),4)*100 ])"
   ]
  },
  {
   "cell_type": "markdown",
   "metadata": {},
   "source": [
    "#### KNN"
   ]
  },
  {
   "cell_type": "code",
   "execution_count": 99,
   "metadata": {},
   "outputs": [
    {
     "name": "stdout",
     "output_type": "stream",
     "text": [
      "1 52.17 %\n",
      "2 43.480000000000004 %\n",
      "3 49.13 %\n",
      "4 48.26 %\n",
      "5 48.26 %\n",
      "6 48.26 %\n",
      "7 48.26 %\n",
      "8 48.26 %\n",
      "9 50.870000000000005 %\n",
      "10 46.300000000000004 %\n",
      "11 49.57 %\n",
      "12 50.0 %\n",
      "13 49.13 %\n",
      "14 48.26 %\n",
      "15 48.480000000000004 %\n",
      "16 48.04 %\n",
      "17 47.83 %\n",
      "18 48.480000000000004 %\n",
      "19 47.39 %\n",
      "20 48.91 %\n",
      "21 48.26 %\n",
      "22 47.61 %\n",
      "23 47.17 %\n",
      "24 48.04 %\n",
      "25 48.26 %\n",
      "26 47.39 %\n",
      "27 47.39 %\n",
      "28 46.96 %\n",
      "29 48.04 %\n",
      "30 47.83 %\n",
      "31 46.52 %\n",
      "32 46.300000000000004 %\n",
      "33 46.089999999999996 %\n",
      "34 46.739999999999995 %\n",
      "35 46.739999999999995 %\n",
      "36 46.300000000000004 %\n",
      "37 45.0 %\n",
      "38 45.22 %\n",
      "39 44.35 %\n",
      "40 45.43 %\n",
      "41 44.13 %\n",
      "42 43.26 %\n",
      "43 43.04 %\n",
      "44 43.7 %\n",
      "45 43.91 %\n",
      "46 44.35 %\n",
      "47 44.57 %\n",
      "48 44.57 %\n",
      "49 43.91 %\n",
      "50 44.78 %\n"
     ]
    }
   ],
   "source": [
    "for i in range(1,51):\n",
    "    neigh = KNeighborsClassifier(n_neighbors=i)\n",
    "    neigh.fit(X_train4,y_train4)\n",
    "    pred_knn = neigh.predict(X_test4)\n",
    "    print(i,round(np.sum([y_test4==pred_knn])/len(y_test4),4)*100,\"%\")"
   ]
  },
  {
   "cell_type": "code",
   "execution_count": 100,
   "metadata": {},
   "outputs": [
    {
     "name": "stdout",
     "output_type": "stream",
     "text": [
      "              precision    recall  f1-score   support\n",
      "\n",
      "           0       0.50      0.53      0.51       110\n",
      "           2       0.47      0.49      0.48       100\n",
      "           9       0.43      0.35      0.39       111\n",
      "          11       0.64      0.68      0.66       139\n",
      "\n",
      "    accuracy                           0.52       460\n",
      "   macro avg       0.51      0.51      0.51       460\n",
      "weighted avg       0.52      0.52      0.52       460\n",
      "\n",
      "52.17 %\n"
     ]
    },
    {
     "data": {
      "image/png": "[encoded data removed]",
      "text/plain": [
       "<Figure size 600x600 with 2 Axes>"
      ]
     },
     "metadata": {},
     "output_type": "display_data"
    }
   ],
   "source": [
    "neigh4 = KNeighborsClassifier(n_neighbors=1)\n",
    "neigh4.fit(X_train4,y_train4)\n",
    "pred_knn4 = neigh4.predict(X_test4)\n",
    "Confusion_Matrix(confusion_matrix(y_test4,pred_knn4))\n",
    "print(classification_report(y_test4, pred_knn4))\n",
    "print(round(np.sum([y_test4==pred_knn4])/len(y_test4),4)*100,\"%\")\n",
    "results.append(['lines, circle, and histogram PCA 0.99', 'KNN',round(np.sum([y_test4==pred_knn4])/len(y_test4),4)*100 ])"
   ]
  },
  {
   "cell_type": "markdown",
   "metadata": {},
   "source": [
    "#### Adaboost"
   ]
  },
  {
   "cell_type": "code",
   "execution_count": 101,
   "metadata": {},
   "outputs": [
    {
     "name": "stdout",
     "output_type": "stream",
     "text": [
      "50 52.39 %\n",
      "100 52.39 %\n",
      "150 51.739999999999995 %\n",
      "200 52.17 %\n",
      "250 55.00000000000001 %\n",
      "300 55.22 %\n",
      "350 55.65 %\n",
      "400 56.089999999999996 %\n",
      "450 56.96 %\n",
      "500 55.65 %\n",
      "550 56.089999999999996 %\n",
      "600 57.830000000000005 %\n",
      "650 56.74 %\n",
      "700 55.22 %\n",
      "750 56.52 %\n",
      "800 58.040000000000006 %\n",
      "850 57.17 %\n",
      "900 56.3 %\n",
      "950 56.3 %\n",
      "1000 56.74 %\n",
      "1050 56.74 %\n",
      "1100 56.52 %\n",
      "1150 56.3 %\n",
      "1200 55.87 %\n",
      "1250 56.74 %\n",
      "1300 55.43 %\n",
      "1350 55.87 %\n",
      "1400 54.35 %\n",
      "1450 54.56999999999999 %\n",
      "1500 54.779999999999994 %\n",
      "1550 55.00000000000001 %\n",
      "1600 54.56999999999999 %\n",
      "1650 55.00000000000001 %\n",
      "1700 54.35 %\n",
      "1750 55.00000000000001 %\n",
      "1800 55.22 %\n",
      "1850 55.43 %\n",
      "1900 55.65 %\n",
      "1950 56.089999999999996 %\n",
      "2000 55.87 %\n"
     ]
    }
   ],
   "source": [
    "for i in range(50,2001,50):\n",
    "    ada = AdaBoostClassifier(n_estimators=i, algorithm=\"SAMME\",random_state=0)\n",
    "    ada.fit(X_train4,y_train4)\n",
    "    pred_ada = ada.predict(X_test4)\n",
    "    print(i,round(np.sum([y_test4==pred_ada])/len(y_test4),4)*100,\"%\")"
   ]
  },
  {
   "cell_type": "code",
   "execution_count": 102,
   "metadata": {},
   "outputs": [
    {
     "name": "stdout",
     "output_type": "stream",
     "text": [
      "              precision    recall  f1-score   support\n",
      "\n",
      "           0       0.58      0.63      0.61       110\n",
      "           2       0.58      0.45      0.51       100\n",
      "           9       0.46      0.56      0.50       111\n",
      "          11       0.70      0.65      0.67       139\n",
      "\n",
      "    accuracy                           0.58       460\n",
      "   macro avg       0.58      0.57      0.57       460\n",
      "weighted avg       0.59      0.58      0.58       460\n",
      "\n",
      "57.830000000000005 %\n"
     ]
    },
    {
     "data": {
      "image/png": "[encoded data removed]",
      "text/plain": [
       "<Figure size 600x600 with 2 Axes>"
      ]
     },
     "metadata": {},
     "output_type": "display_data"
    }
   ],
   "source": [
    "ada4 = AdaBoostClassifier(n_estimators=600, algorithm=\"SAMME\",random_state=0)\n",
    "ada4.fit(X_train4,y_train4)\n",
    "pred_ada4 = ada4.predict(X_test4)\n",
    "Confusion_Matrix(confusion_matrix(y_test4,pred_ada4))\n",
    "print(classification_report(y_test4, pred_ada4))\n",
    "print(round(np.sum([y_test4==pred_ada4])/len(y_test4),4)*100,\"%\")\n",
    "results.append(['lines, circle, and histogram PCA 0.99', 'Adaboost',round(np.sum([y_test4==pred_ada4])/len(y_test4),4)*100 ])"
   ]
  },
  {
   "cell_type": "markdown",
   "metadata": {},
   "source": [
    "#### Random Forest"
   ]
  },
  {
   "cell_type": "code",
   "execution_count": 103,
   "metadata": {},
   "outputs": [
    {
     "name": "stdout",
     "output_type": "stream",
     "text": [
      "40 2 60.650000000000006 %\n",
      "40 3 58.26 %\n",
      "40 4 57.60999999999999 %\n",
      "60 2 60.22 %\n",
      "60 3 60.0 %\n",
      "60 4 58.040000000000006 %\n",
      "80 2 60.22 %\n",
      "80 3 60.22 %\n",
      "80 4 58.48 %\n",
      "100 2 60.42999999999999 %\n",
      "100 3 58.91 %\n",
      "100 4 59.13 %\n",
      "120 2 60.0 %\n",
      "120 3 60.22 %\n",
      "120 4 59.13 %\n",
      "140 2 60.22 %\n",
      "140 3 59.78 %\n",
      "140 4 59.13 %\n",
      "160 2 60.0 %\n",
      "160 3 60.22 %\n",
      "160 4 60.42999999999999 %\n",
      "180 2 60.42999999999999 %\n",
      "180 3 60.0 %\n",
      "180 4 59.78 %\n",
      "200 2 60.22 %\n",
      "200 3 60.0 %\n",
      "200 4 59.57 %\n",
      "220 2 60.650000000000006 %\n",
      "220 3 61.3 %\n",
      "220 4 60.0 %\n",
      "240 2 60.870000000000005 %\n",
      "240 3 60.22 %\n",
      "240 4 59.78 %\n",
      "260 2 61.519999999999996 %\n",
      "260 3 60.42999999999999 %\n",
      "260 4 60.22 %\n",
      "280 2 61.96 %\n",
      "280 3 60.870000000000005 %\n",
      "280 4 60.650000000000006 %\n",
      "300 2 61.3 %\n",
      "300 3 60.650000000000006 %\n",
      "300 4 61.3 %\n",
      "320 2 61.3 %\n",
      "320 3 61.09 %\n",
      "320 4 60.870000000000005 %\n",
      "340 2 61.3 %\n",
      "340 3 61.09 %\n",
      "340 4 60.650000000000006 %\n",
      "360 2 61.3 %\n",
      "360 3 60.870000000000005 %\n",
      "360 4 60.870000000000005 %\n",
      "380 2 61.519999999999996 %\n",
      "380 3 60.870000000000005 %\n",
      "380 4 60.650000000000006 %\n",
      "400 2 61.09 %\n",
      "400 3 61.09 %\n",
      "400 4 60.42999999999999 %\n",
      "420 2 61.3 %\n",
      "420 3 61.519999999999996 %\n",
      "420 4 61.09 %\n",
      "440 2 61.739999999999995 %\n",
      "440 3 61.739999999999995 %\n",
      "440 4 61.09 %\n",
      "460 2 61.519999999999996 %\n",
      "460 3 62.39 %\n",
      "460 4 61.3 %\n",
      "480 2 61.3 %\n",
      "480 3 62.39 %\n",
      "480 4 60.870000000000005 %\n",
      "500 2 61.3 %\n",
      "500 3 61.96 %\n",
      "500 4 60.870000000000005 %\n"
     ]
    }
   ],
   "source": [
    "for i in range(40,501,20):\n",
    "    for j in range(2,5):\n",
    "        RF = RandomForestClassifier(n_estimators=i, max_depth=None,min_samples_split=j, random_state=0)\n",
    "        RF.fit(X_train4,y_train4)\n",
    "        pred_RF = RF.predict(X_test4)\n",
    "        print(i,j,round(np.sum([y_test4==pred_RF])/len(y_test4),4)*100,\"%\")"
   ]
  },
  {
   "cell_type": "code",
   "execution_count": 104,
   "metadata": {},
   "outputs": [
    {
     "name": "stdout",
     "output_type": "stream",
     "text": [
      "              precision    recall  f1-score   support\n",
      "\n",
      "           0       0.69      0.65      0.67       110\n",
      "           2       0.61      0.56      0.58       100\n",
      "           9       0.53      0.56      0.54       111\n",
      "          11       0.66      0.70      0.68       139\n",
      "\n",
      "    accuracy                           0.62       460\n",
      "   macro avg       0.62      0.62      0.62       460\n",
      "weighted avg       0.63      0.62      0.62       460\n",
      "\n",
      "62.39 %\n"
     ]
    },
    {
     "data": {
      "image/png": "[encoded data removed]",
      "text/plain": [
       "<Figure size 600x600 with 2 Axes>"
      ]
     },
     "metadata": {},
     "output_type": "display_data"
    }
   ],
   "source": [
    "RF4 = RandomForestClassifier(n_estimators=460, max_depth=None,min_samples_split=3, random_state=0)\n",
    "RF4.fit(X_train4,y_train4)\n",
    "pred_RF4 = RF4.predict(X_test4)\n",
    "Confusion_Matrix(confusion_matrix(y_test4,pred_RF4))\n",
    "print(classification_report(y_test4, pred_RF4))\n",
    "print(round(np.sum([y_test4==pred_RF4])/len(y_test4),4)*100,\"%\")\n",
    "results.append(['lines, circle, and histogram PCA 0.99', 'Random Forest',round(np.sum([y_test4==pred_RF4])/len(y_test4),4)*100 ])"
   ]
  },
  {
   "cell_type": "markdown",
   "metadata": {},
   "source": [
    "#### Logistic Regression"
   ]
  },
  {
   "cell_type": "code",
   "execution_count": 105,
   "metadata": {},
   "outputs": [
    {
     "name": "stdout",
     "output_type": "stream",
     "text": [
      "l1 liblinear 0.1 55.65 %\n",
      "l1 liblinear 0.01 55.65 %\n",
      "l1 liblinear 0.001 55.00000000000001 %\n",
      "l1 saga 0.1 53.04 %\n",
      "l1 saga 0.01 54.13 %\n",
      "l1 saga 0.001 55.22 %\n",
      "l2 lbfgs 0.1 51.519999999999996 %\n",
      "l2 lbfgs 0.01 51.519999999999996 %\n",
      "l2 lbfgs 0.001 51.519999999999996 %\n",
      "l2 liblinear 0.1 51.300000000000004 %\n",
      "l2 liblinear 0.01 50.870000000000005 %\n",
      "l2 liblinear 0.001 51.959999999999994 %\n",
      "l2 newton-cg 0.1 50.43 %\n",
      "l2 newton-cg 0.01 50.43 %\n"
     ]
    },
    {
     "name": "stderr",
     "output_type": "stream",
     "text": [
      "c:\\Users\\nechd\\AppData\\Local\\Programs\\Python\\Python310\\lib\\site-packages\\scipy\\optimize\\_linesearch.py:415: LineSearchWarning: Rounding errors prevent the line search from converging\n",
      "  warn(msg, LineSearchWarning)\n",
      "c:\\Users\\nechd\\AppData\\Local\\Programs\\Python\\Python310\\lib\\site-packages\\scipy\\optimize\\_linesearch.py:305: LineSearchWarning: The line search algorithm did not converge\n",
      "  warn('The line search algorithm did not converge', LineSearchWarning)\n"
     ]
    },
    {
     "name": "stdout",
     "output_type": "stream",
     "text": [
      "l2 newton-cg 0.001 50.43 %\n",
      "l2 sag 0.1 53.910000000000004 %\n",
      "l2 sag 0.01 54.35 %\n",
      "l2 sag 0.001 53.910000000000004 %\n",
      "l2 saga 0.1 53.04 %\n",
      "l2 saga 0.01 54.13 %\n",
      "l2 saga 0.001 55.22 %\n"
     ]
    }
   ],
   "source": [
    "penilties = [\"l1\",\"l2\",\"elasticnet\"]\n",
    "solvers = [\"lbfgs\",\"liblinear\",\"newton-cg\",\"newton-cholesky\",\"sag\",\"saga\"]\n",
    "tols= [0.1 ,0.01, 0.001]\n",
    "\n",
    "for i in penilties:\n",
    "    for j in solvers:\n",
    "        for k in tols:\n",
    "            try:\n",
    "                LR = LogisticRegression(penalty=i, solver=j, tol=k, max_iter=10000, random_state =0)\n",
    "                LR.fit(X_train4,y_train4)\n",
    "                pred_LR = LR.predict(X_test4)\n",
    "                print(i,j,k,round(np.sum([y_test4==pred_LR])/len(y_test4),4)*100,\"%\")\n",
    "            except:\n",
    "                pass"
   ]
  },
  {
   "cell_type": "code",
   "execution_count": 106,
   "metadata": {},
   "outputs": [
    {
     "name": "stdout",
     "output_type": "stream",
     "text": [
      "              precision    recall  f1-score   support\n",
      "\n",
      "           0       0.59      0.56      0.58       110\n",
      "           2       0.48      0.47      0.48       100\n",
      "           9       0.50      0.37      0.42       111\n",
      "          11       0.60      0.76      0.67       139\n",
      "\n",
      "    accuracy                           0.56       460\n",
      "   macro avg       0.54      0.54      0.54       460\n",
      "weighted avg       0.55      0.56      0.55       460\n",
      "\n",
      "55.65 %\n"
     ]
    },
    {
     "data": {
      "image/png": "[encoded data removed]",
      "text/plain": [
       "<Figure size 600x600 with 2 Axes>"
      ]
     },
     "metadata": {},
     "output_type": "display_data"
    }
   ],
   "source": [
    "LR4 = LogisticRegression(penalty=\"l1\", solver=\"liblinear\", tol=0.1, max_iter=10000, random_state = 0)\n",
    "LR4.fit(X_train4,y_train4)\n",
    "pred_LR4 = LR4.predict(X_test4)\n",
    "Confusion_Matrix(confusion_matrix(y_test4,pred_LR4))\n",
    "print(classification_report(y_test4, pred_LR4))\n",
    "print(round(np.sum([y_test4==pred_LR4])/len(y_test4),4)*100,\"%\")\n",
    "results.append(['lines, circle, and histogram PCA 0.99', 'Logistic Regression',round(np.sum([y_test4==pred_LR4])/len(y_test4),4)*100 ])"
   ]
  },
  {
   "cell_type": "code",
   "execution_count": 107,
   "metadata": {},
   "outputs": [],
   "source": [
    "cols = [\"df_type\",\"classifier\",\"accuracy\"]\n",
    "df = pd.DataFrame(results, columns=cols)"
   ]
  },
  {
   "cell_type": "code",
   "execution_count": 108,
   "metadata": {},
   "outputs": [
    {
     "data": {
      "text/html": [
       "<div>\n",
       "<style scoped>\n",
       "    .dataframe tbody tr th:only-of-type {\n",
       "        vertical-align: middle;\n",
       "    }\n",
       "\n",
       "    .dataframe tbody tr th {\n",
       "        vertical-align: top;\n",
       "    }\n",
       "\n",
       "    .dataframe thead th {\n",
       "        text-align: right;\n",
       "    }\n",
       "</style>\n",
       "<table border=\"1\" class=\"dataframe\">\n",
       "  <thead>\n",
       "    <tr style=\"text-align: right;\">\n",
       "      <th></th>\n",
       "      <th>df_type</th>\n",
       "      <th>classifier</th>\n",
       "      <th>accuracy</th>\n",
       "    </tr>\n",
       "  </thead>\n",
       "  <tbody>\n",
       "    <tr>\n",
       "      <th>0</th>\n",
       "      <td>lines and circles</td>\n",
       "      <td>SVM</td>\n",
       "      <td>38.04</td>\n",
       "    </tr>\n",
       "    <tr>\n",
       "      <th>1</th>\n",
       "      <td>lines and circles</td>\n",
       "      <td>KNN</td>\n",
       "      <td>39.57</td>\n",
       "    </tr>\n",
       "    <tr>\n",
       "      <th>2</th>\n",
       "      <td>lines and circles</td>\n",
       "      <td>Adaboost</td>\n",
       "      <td>43.26</td>\n",
       "    </tr>\n",
       "    <tr>\n",
       "      <th>3</th>\n",
       "      <td>lines and circles</td>\n",
       "      <td>Random Forest</td>\n",
       "      <td>43.04</td>\n",
       "    </tr>\n",
       "    <tr>\n",
       "      <th>4</th>\n",
       "      <td>lines and circles</td>\n",
       "      <td>Logistic Regression</td>\n",
       "      <td>37.17</td>\n",
       "    </tr>\n",
       "    <tr>\n",
       "      <th>5</th>\n",
       "      <td>histogram</td>\n",
       "      <td>SVM</td>\n",
       "      <td>48.70</td>\n",
       "    </tr>\n",
       "    <tr>\n",
       "      <th>6</th>\n",
       "      <td>histogram</td>\n",
       "      <td>KNN</td>\n",
       "      <td>49.78</td>\n",
       "    </tr>\n",
       "    <tr>\n",
       "      <th>7</th>\n",
       "      <td>histogram</td>\n",
       "      <td>Adaboost</td>\n",
       "      <td>60.00</td>\n",
       "    </tr>\n",
       "    <tr>\n",
       "      <th>8</th>\n",
       "      <td>histogram</td>\n",
       "      <td>Random Forest</td>\n",
       "      <td>67.39</td>\n",
       "    </tr>\n",
       "    <tr>\n",
       "      <th>9</th>\n",
       "      <td>histogram</td>\n",
       "      <td>Logistic Regression</td>\n",
       "      <td>58.26</td>\n",
       "    </tr>\n",
       "    <tr>\n",
       "      <th>10</th>\n",
       "      <td>lines, circle, and histogram</td>\n",
       "      <td>SVM</td>\n",
       "      <td>47.61</td>\n",
       "    </tr>\n",
       "    <tr>\n",
       "      <th>11</th>\n",
       "      <td>lines, circle, and histogram</td>\n",
       "      <td>KNN</td>\n",
       "      <td>49.57</td>\n",
       "    </tr>\n",
       "    <tr>\n",
       "      <th>12</th>\n",
       "      <td>lines, circle, and histogram</td>\n",
       "      <td>Adaboost</td>\n",
       "      <td>61.09</td>\n",
       "    </tr>\n",
       "    <tr>\n",
       "      <th>13</th>\n",
       "      <td>lines, circle, and histogram</td>\n",
       "      <td>Random Forest</td>\n",
       "      <td>68.48</td>\n",
       "    </tr>\n",
       "    <tr>\n",
       "      <th>14</th>\n",
       "      <td>lines, circle, and histogram</td>\n",
       "      <td>Logistic Regression</td>\n",
       "      <td>56.74</td>\n",
       "    </tr>\n",
       "    <tr>\n",
       "      <th>15</th>\n",
       "      <td>lines, circle, and histogram PCA 0.99</td>\n",
       "      <td>SVM</td>\n",
       "      <td>37.83</td>\n",
       "    </tr>\n",
       "    <tr>\n",
       "      <th>16</th>\n",
       "      <td>lines, circle, and histogram PCA 0.99</td>\n",
       "      <td>KNN</td>\n",
       "      <td>52.17</td>\n",
       "    </tr>\n",
       "    <tr>\n",
       "      <th>17</th>\n",
       "      <td>lines, circle, and histogram PCA 0.99</td>\n",
       "      <td>Adaboost</td>\n",
       "      <td>57.83</td>\n",
       "    </tr>\n",
       "    <tr>\n",
       "      <th>18</th>\n",
       "      <td>lines, circle, and histogram PCA 0.99</td>\n",
       "      <td>Random Forest</td>\n",
       "      <td>62.39</td>\n",
       "    </tr>\n",
       "    <tr>\n",
       "      <th>19</th>\n",
       "      <td>lines, circle, and histogram PCA 0.99</td>\n",
       "      <td>Logistic Regression</td>\n",
       "      <td>55.65</td>\n",
       "    </tr>\n",
       "  </tbody>\n",
       "</table>\n",
       "</div>"
      ],
      "text/plain": [
       "                                  df_type           classifier  accuracy\n",
       "0                       lines and circles                  SVM     38.04\n",
       "1                       lines and circles                  KNN     39.57\n",
       "2                       lines and circles             Adaboost     43.26\n",
       "3                       lines and circles        Random Forest     43.04\n",
       "4                       lines and circles  Logistic Regression     37.17\n",
       "5                               histogram                  SVM     48.70\n",
       "6                               histogram                  KNN     49.78\n",
       "7                               histogram             Adaboost     60.00\n",
       "8                               histogram        Random Forest     67.39\n",
       "9                               histogram  Logistic Regression     58.26\n",
       "10           lines, circle, and histogram                  SVM     47.61\n",
       "11           lines, circle, and histogram                  KNN     49.57\n",
       "12           lines, circle, and histogram             Adaboost     61.09\n",
       "13           lines, circle, and histogram        Random Forest     68.48\n",
       "14           lines, circle, and histogram  Logistic Regression     56.74\n",
       "15  lines, circle, and histogram PCA 0.99                  SVM     37.83\n",
       "16  lines, circle, and histogram PCA 0.99                  KNN     52.17\n",
       "17  lines, circle, and histogram PCA 0.99             Adaboost     57.83\n",
       "18  lines, circle, and histogram PCA 0.99        Random Forest     62.39\n",
       "19  lines, circle, and histogram PCA 0.99  Logistic Regression     55.65"
      ]
     },
     "execution_count": 108,
     "metadata": {},
     "output_type": "execute_result"
    }
   ],
   "source": [
    "df"
   ]
  },
  {
   "cell_type": "code",
   "execution_count": 122,
   "metadata": {},
   "outputs": [],
   "source": [
    "\n",
    "filenames = ['svm1.sav','svm2.sav','svm3.sav','svm4.sav','knn1.sav','knn2.sav','knn3.sav','knn4.sav',\n",
    "             'ada1.sav','ada2.sav','ada3.sav','ada4.sav','RF1.sav','RF2.sav','RF3.sav','RF4.sav',\n",
    "             'LR1.sav','LR2.sav','LR3.sav','LR4.sav']\n",
    "models= [svm1,svm2,svm3,svm4,neigh1,neigh2,neigh3,neigh4,\n",
    "         ada1,ada2,ada3,ada4,RF1,RF2,RF3,RF4,LR1,LR2,LR3,LR4]\n",
    "\n",
    "for i in range(len(filenames)): \n",
    "    pickle.dump(models[i], open(filenames[i], 'wb'))"
   ]
  },
  {
   "cell_type": "code",
   "execution_count": 12,
   "metadata": {},
   "outputs": [],
   "source": [
    "svm3 = pickle.load(open('svm3.sav', 'rb'))\n",
    "neigh3 = pickle.load(open('knn3.sav', 'rb'))\n",
    "ada3 = pickle.load(open('ada3.sav', 'rb'))\n",
    "RF3 = pickle.load(open('RF3.sav', 'rb'))\n",
    "LR3 = pickle.load(open('LR3.sav', 'rb'))"
   ]
  },
  {
   "cell_type": "code",
   "execution_count": 41,
   "metadata": {},
   "outputs": [],
   "source": [
    "# combo model\n",
    "\n",
    "weights=[47.61,49.57,61.09,68.48,56.74]\n",
    "normalizer = 1 / float(sum(weights) )\n",
    "for i in range(len(weights)):\n",
    "    weights[i] = normalizer * weights[i]\n",
    "# print(weights)\n",
    "\n",
    "\n",
    "\n",
    "svm3.fit(X_train3,y_train3)\n",
    "pred_svm3= svm3.predict(X_test3)\n",
    "\n",
    "neigh3.fit(X_train3,y_train3)\n",
    "pred_knn3= neigh3.predict(X_test3)\n",
    "\n",
    "ada3.fit(X_train3,y_train3)\n",
    "pred_ada3= ada3.predict(X_test3)\n",
    "\n",
    "RF3.fit(X_train3,y_train3)\n",
    "pred_RF3= RF3.predict(X_test3)\n",
    "\n",
    "LR3.fit(X_train3,y_train3)\n",
    "pred_LR3= LR3.predict(X_test3)\n"
   ]
  },
  {
   "cell_type": "code",
   "execution_count": 45,
   "metadata": {},
   "outputs": [],
   "source": [
    "# def most_frequent(List):\n",
    "#     occurence_count = Counter(List)\n",
    "    \n",
    "#     return occurence_count.most_common(1)[0][0]\n",
    "\n",
    "def find_best(l,weight):\n",
    "    classes = [0]*12\n",
    "    ws = [0]*12\n",
    "    for i in range(len(l)):\n",
    "        classes[l[i]]+=1\n",
    "        ws[l[i]]+=weight[i]\n",
    "\n",
    "    best = -1\n",
    "    maxx = -1\n",
    "    for i in range(len(ws)):\n",
    "        if ws[i]>maxx:\n",
    "            maxx = ws[i]\n",
    "            best = i\n",
    "    return best\n",
    "\n",
    "\n",
    "\n",
    "    "
   ]
  },
  {
   "cell_type": "code",
   "execution_count": null,
   "metadata": {},
   "outputs": [],
   "source": []
  },
  {
   "cell_type": "code",
   "execution_count": 49,
   "metadata": {},
   "outputs": [
    {
     "name": "stdout",
     "output_type": "stream",
     "text": [
      "[9, 9, 2, 9, 11] 9\n",
      "[0, 0, 0, 0, 0] 0\n",
      "[0, 0, 0, 0, 11] 0\n",
      "[2, 2, 2, 2, 2] 2\n",
      "[11, 0, 2, 0, 11] 0\n",
      "[9, 11, 9, 9, 9] 9\n",
      "[0, 0, 2, 9, 2] 2\n",
      "[11, 0, 11, 11, 11] 11\n",
      "[11, 2, 0, 11, 11] 11\n",
      "[9, 11, 11, 11, 11] 11\n",
      "[9, 0, 9, 9, 11] 9\n",
      "[2, 0, 0, 2, 0] 0\n",
      "[9, 0, 9, 2, 9] 9\n",
      "[11, 0, 11, 11, 11] 11\n",
      "[2, 9, 2, 2, 2] 2\n",
      "[0, 0, 9, 9, 2] 9\n",
      "[11, 11, 9, 9, 11] 11\n",
      "[0, 0, 0, 0, 0] 0\n",
      "[2, 0, 2, 2, 2] 2\n",
      "[2, 2, 0, 0, 0] 0\n",
      "[11, 11, 0, 0, 11] 11\n",
      "[9, 9, 0, 0, 0] 0\n",
      "[11, 9, 0, 0, 0] 0\n",
      "[9, 0, 0, 0, 9] 0\n",
      "[2, 2, 2, 2, 2] 2\n",
      "[9, 11, 9, 9, 9] 9\n",
      "[9, 0, 9, 9, 0] 9\n",
      "[11, 0, 9, 9, 11] 9\n",
      "[2, 2, 9, 9, 2] 2\n",
      "[11, 9, 9, 9, 11] 9\n",
      "[2, 0, 11, 11, 11] 11\n",
      "[9, 9, 2, 9, 9] 9\n",
      "[2, 0, 2, 2, 2] 2\n",
      "[2, 0, 2, 2, 0] 2\n",
      "[11, 11, 9, 11, 11] 11\n",
      "[11, 2, 11, 11, 11] 11\n",
      "[11, 11, 11, 11, 11] 11\n",
      "[9, 9, 2, 2, 9] 9\n",
      "[0, 0, 2, 2, 0] 0\n",
      "[11, 11, 11, 9, 11] 11\n",
      "[11, 11, 9, 11, 11] 11\n",
      "[2, 9, 9, 9, 9] 9\n",
      "[11, 9, 9, 9, 11] 9\n",
      "[11, 2, 11, 11, 11] 11\n",
      "[0, 0, 0, 0, 0] 0\n",
      "[0, 0, 0, 0, 0] 0\n",
      "[0, 9, 0, 0, 2] 0\n",
      "[2, 11, 2, 2, 11] 2\n",
      "[11, 11, 9, 9, 11] 11\n",
      "[11, 11, 11, 11, 11] 11\n",
      "[9, 0, 0, 9, 9] 9\n",
      "[0, 0, 9, 9, 0] 0\n",
      "[11, 0, 11, 11, 11] 11\n",
      "[2, 0, 0, 0, 0] 0\n",
      "[11, 0, 9, 9, 0] 9\n",
      "[9, 0, 9, 9, 9] 9\n",
      "[2, 9, 0, 9, 9] 9\n",
      "[2, 0, 2, 0, 2] 2\n",
      "[2, 0, 0, 0, 0] 0\n",
      "[11, 0, 2, 0, 11] 0\n",
      "[2, 2, 0, 0, 2] 2\n",
      "[11, 11, 0, 9, 11] 11\n",
      "[0, 0, 9, 0, 0] 0\n",
      "[9, 11, 0, 0, 9] 0\n",
      "[2, 2, 0, 2, 2] 2\n",
      "[11, 11, 11, 11, 11] 11\n",
      "[11, 0, 11, 11, 11] 11\n",
      "[9, 2, 0, 9, 11] 9\n",
      "[11, 11, 11, 11, 11] 11\n",
      "[9, 0, 0, 0, 9] 0\n",
      "[9, 11, 9, 9, 11] 9\n",
      "[2, 0, 0, 2, 2] 2\n",
      "[2, 9, 2, 2, 2] 2\n",
      "[2, 9, 9, 9, 9] 9\n",
      "[2, 0, 0, 0, 0] 0\n",
      "[2, 11, 11, 11, 11] 11\n",
      "[11, 2, 9, 9, 9] 9\n",
      "[2, 2, 2, 2, 2] 2\n",
      "[2, 0, 2, 9, 9] 9\n",
      "[11, 0, 0, 0, 9] 0\n",
      "[2, 0, 9, 0, 2] 0\n",
      "[11, 11, 0, 0, 11] 11\n",
      "[11, 11, 11, 11, 11] 11\n",
      "[2, 2, 2, 9, 2] 2\n",
      "[11, 2, 11, 11, 11] 11\n",
      "[11, 9, 11, 11, 11] 11\n",
      "[2, 2, 0, 0, 0] 0\n",
      "[11, 11, 11, 11, 11] 11\n",
      "[11, 2, 2, 2, 11] 2\n",
      "[11, 9, 11, 11, 11] 11\n",
      "[11, 11, 11, 11, 11] 11\n",
      "[0, 0, 2, 2, 0] 0\n",
      "[9, 9, 0, 0, 0] 0\n",
      "[2, 11, 9, 11, 11] 11\n",
      "[11, 11, 11, 11, 11] 11\n",
      "[0, 0, 0, 0, 0] 0\n",
      "[0, 0, 9, 9, 9] 9\n",
      "[0, 0, 0, 0, 0] 0\n",
      "[11, 0, 9, 2, 11] 11\n",
      "[2, 0, 2, 2, 2] 2\n",
      "[11, 11, 9, 9, 11] 11\n",
      "[9, 9, 11, 11, 11] 11\n",
      "[0, 0, 0, 9, 2] 0\n",
      "[11, 11, 11, 2, 11] 11\n",
      "[9, 11, 0, 2, 9] 9\n",
      "[11, 0, 11, 11, 11] 11\n",
      "[9, 9, 9, 11, 11] 9\n",
      "[11, 2, 2, 9, 11] 2\n",
      "[0, 11, 9, 9, 11] 9\n",
      "[11, 11, 11, 11, 11] 11\n",
      "[2, 11, 9, 9, 0] 9\n",
      "[9, 0, 9, 9, 0] 9\n",
      "[2, 2, 0, 0, 11] 0\n",
      "[11, 11, 11, 11, 11] 11\n",
      "[11, 2, 2, 2, 11] 2\n",
      "[11, 0, 9, 9, 2] 9\n",
      "[9, 9, 9, 11, 11] 9\n",
      "[11, 9, 11, 11, 11] 11\n",
      "[11, 0, 9, 11, 11] 11\n",
      "[2, 2, 2, 2, 2] 2\n",
      "[2, 0, 0, 2, 2] 2\n",
      "[0, 0, 0, 0, 0] 0\n",
      "[2, 2, 2, 2, 9] 2\n",
      "[9, 0, 2, 0, 2] 0\n",
      "[2, 2, 2, 2, 2] 2\n",
      "[9, 0, 0, 0, 9] 0\n",
      "[0, 0, 0, 0, 0] 0\n",
      "[2, 11, 2, 2, 2] 2\n",
      "[0, 0, 11, 9, 9] 9\n",
      "[2, 2, 0, 2, 9] 2\n",
      "[2, 0, 9, 2, 2] 2\n",
      "[11, 11, 11, 11, 11] 11\n",
      "[0, 9, 9, 11, 9] 9\n",
      "[11, 11, 11, 11, 11] 11\n",
      "[11, 11, 11, 11, 11] 11\n",
      "[0, 9, 0, 0, 0] 0\n",
      "[2, 11, 11, 11, 11] 11\n",
      "[9, 0, 2, 11, 2] 2\n",
      "[11, 0, 2, 11, 11] 11\n",
      "[11, 2, 9, 9, 11] 9\n",
      "[0, 0, 0, 0, 0] 0\n",
      "[9, 2, 2, 2, 9] 2\n",
      "[11, 0, 11, 11, 11] 11\n",
      "[0, 0, 0, 9, 0] 0\n",
      "[2, 0, 9, 2, 9] 9\n",
      "[0, 0, 0, 2, 0] 0\n",
      "[2, 0, 0, 0, 0] 0\n",
      "[2, 2, 2, 2, 2] 2\n",
      "[2, 2, 0, 0, 0] 0\n",
      "[11, 11, 11, 11, 11] 11\n",
      "[11, 11, 11, 11, 11] 11\n",
      "[2, 2, 2, 2, 2] 2\n",
      "[11, 2, 11, 11, 11] 11\n",
      "[2, 2, 0, 9, 2] 2\n",
      "[0, 0, 11, 9, 11] 11\n",
      "[2, 9, 2, 2, 0] 2\n",
      "[11, 11, 9, 9, 11] 11\n",
      "[2, 0, 2, 2, 0] 2\n",
      "[0, 0, 0, 0, 0] 0\n",
      "[9, 2, 0, 9, 11] 9\n",
      "[11, 0, 11, 9, 9] 9\n",
      "[11, 11, 9, 9, 11] 11\n",
      "[11, 11, 11, 11, 11] 11\n",
      "[2, 2, 0, 2, 2] 2\n",
      "[2, 0, 0, 0, 0] 0\n",
      "[9, 9, 9, 2, 9] 9\n",
      "[9, 0, 0, 0, 0] 0\n",
      "[11, 11, 11, 11, 11] 11\n",
      "[2, 2, 9, 9, 2] 2\n",
      "[9, 9, 9, 9, 9] 9\n",
      "[2, 9, 9, 9, 9] 9\n",
      "[2, 9, 9, 9, 9] 9\n",
      "[11, 11, 11, 11, 11] 11\n",
      "[9, 9, 9, 9, 9] 9\n",
      "[2, 2, 0, 0, 9] 0\n",
      "[2, 0, 0, 2, 2] 2\n",
      "[2, 0, 0, 2, 2] 2\n",
      "[2, 2, 0, 0, 2] 2\n",
      "[0, 2, 0, 0, 0] 0\n",
      "[2, 11, 11, 11, 11] 11\n",
      "[2, 2, 2, 2, 2] 2\n",
      "[9, 9, 0, 0, 0] 0\n",
      "[11, 9, 11, 11, 11] 11\n",
      "[9, 0, 2, 0, 9] 0\n",
      "[11, 0, 11, 11, 11] 11\n",
      "[0, 9, 9, 2, 0] 9\n",
      "[2, 0, 0, 0, 2] 0\n",
      "[9, 0, 0, 2, 9] 0\n",
      "[2, 0, 2, 0, 2] 2\n",
      "[0, 0, 0, 0, 0] 0\n",
      "[2, 2, 0, 9, 2] 2\n",
      "[2, 0, 9, 0, 0] 0\n",
      "[9, 0, 0, 0, 9] 0\n",
      "[2, 0, 9, 9, 0] 9\n",
      "[2, 2, 11, 11, 2] 2\n",
      "[9, 11, 11, 11, 11] 11\n",
      "[9, 11, 9, 9, 9] 9\n",
      "[2, 0, 0, 9, 2] 0\n",
      "[0, 0, 0, 0, 0] 0\n",
      "[2, 0, 0, 0, 0] 0\n",
      "[2, 0, 0, 0, 0] 0\n",
      "[11, 2, 11, 11, 11] 11\n",
      "[11, 2, 2, 2, 11] 2\n",
      "[11, 0, 0, 0, 11] 0\n",
      "[9, 2, 0, 0, 0] 0\n",
      "[9, 9, 9, 11, 9] 9\n",
      "[9, 0, 11, 2, 9] 9\n",
      "[2, 2, 9, 9, 2] 2\n",
      "[9, 11, 9, 9, 11] 9\n",
      "[2, 2, 0, 2, 2] 2\n",
      "[11, 0, 0, 0, 2] 0\n",
      "[2, 0, 0, 0, 0] 0\n",
      "[0, 0, 11, 11, 11] 11\n",
      "[0, 2, 2, 11, 9] 2\n",
      "[11, 0, 0, 0, 0] 0\n",
      "[2, 11, 2, 0, 2] 2\n",
      "[9, 0, 9, 9, 9] 9\n",
      "[0, 0, 0, 0, 0] 0\n",
      "[0, 2, 0, 0, 0] 0\n",
      "[9, 11, 11, 11, 11] 11\n",
      "[9, 0, 2, 0, 0] 0\n",
      "[11, 11, 11, 11, 11] 11\n",
      "[2, 2, 0, 2, 2] 2\n",
      "[0, 0, 0, 0, 0] 0\n",
      "[9, 9, 11, 11, 9] 9\n",
      "[2, 2, 2, 2, 2] 2\n",
      "[0, 0, 0, 0, 0] 0\n",
      "[2, 9, 0, 2, 2] 2\n",
      "[11, 9, 2, 2, 2] 2\n",
      "[11, 11, 11, 11, 11] 11\n",
      "[0, 0, 11, 11, 0] 0\n",
      "[11, 11, 11, 11, 11] 11\n",
      "[11, 11, 11, 11, 11] 11\n",
      "[11, 0, 11, 11, 11] 11\n",
      "[9, 9, 0, 9, 9] 9\n",
      "[2, 9, 9, 9, 9] 9\n",
      "[11, 0, 11, 11, 2] 11\n",
      "[9, 9, 9, 9, 2] 9\n",
      "[9, 0, 9, 0, 0] 0\n",
      "[11, 2, 11, 11, 11] 11\n",
      "[11, 11, 9, 9, 11] 11\n",
      "[9, 0, 11, 0, 0] 0\n",
      "[0, 0, 0, 0, 0] 0\n",
      "[2, 0, 9, 9, 9] 9\n",
      "[2, 0, 2, 0, 0] 0\n",
      "[11, 11, 9, 9, 9] 9\n",
      "[11, 11, 9, 9, 11] 11\n",
      "[9, 9, 0, 9, 0] 9\n",
      "[0, 2, 2, 2, 0] 2\n",
      "[9, 9, 9, 9, 9] 9\n",
      "[2, 0, 0, 0, 0] 0\n",
      "[11, 2, 2, 2, 11] 2\n",
      "[9, 11, 9, 9, 11] 9\n",
      "[0, 0, 0, 0, 0] 0\n",
      "[11, 11, 11, 11, 11] 11\n",
      "[0, 0, 0, 0, 0] 0\n",
      "[9, 11, 9, 11, 11] 11\n",
      "[11, 11, 11, 11, 11] 11\n",
      "[2, 2, 11, 9, 2] 2\n",
      "[9, 0, 2, 0, 11] 0\n",
      "[0, 11, 11, 11, 0] 11\n",
      "[11, 11, 11, 11, 11] 11\n",
      "[9, 0, 0, 0, 0] 0\n",
      "[2, 2, 2, 2, 2] 2\n",
      "[2, 2, 2, 2, 2] 2\n",
      "[11, 9, 9, 11, 11] 11\n",
      "[2, 2, 9, 9, 2] 2\n",
      "[11, 2, 2, 2, 2] 2\n",
      "[0, 9, 9, 9, 2] 9\n",
      "[11, 11, 9, 11, 11] 11\n",
      "[0, 11, 0, 0, 0] 0\n",
      "[9, 0, 9, 9, 9] 9\n",
      "[0, 2, 2, 9, 2] 2\n",
      "[2, 9, 9, 9, 2] 9\n",
      "[11, 11, 11, 11, 11] 11\n",
      "[11, 11, 11, 11, 11] 11\n",
      "[0, 9, 9, 9, 9] 9\n",
      "[9, 0, 9, 0, 2] 0\n",
      "[2, 11, 9, 9, 9] 9\n",
      "[11, 11, 9, 9, 11] 11\n",
      "[0, 0, 9, 9, 9] 9\n",
      "[2, 0, 0, 9, 9] 9\n",
      "[11, 11, 11, 11, 11] 11\n",
      "[11, 11, 11, 11, 11] 11\n",
      "[11, 2, 0, 2, 11] 2\n",
      "[0, 0, 0, 2, 2] 0\n",
      "[9, 0, 9, 9, 11] 9\n",
      "[0, 0, 0, 0, 0] 0\n",
      "[11, 11, 11, 11, 11] 11\n",
      "[0, 0, 9, 9, 0] 0\n",
      "[9, 11, 11, 11, 0] 11\n",
      "[11, 0, 0, 9, 0] 0\n",
      "[2, 2, 2, 2, 2] 2\n",
      "[9, 0, 9, 9, 2] 9\n",
      "[9, 0, 9, 9, 9] 9\n",
      "[11, 11, 11, 11, 11] 11\n",
      "[11, 0, 2, 9, 11] 11\n",
      "[11, 11, 11, 11, 11] 11\n",
      "[0, 2, 2, 2, 2] 2\n",
      "[11, 11, 11, 11, 11] 11\n",
      "[11, 11, 11, 11, 11] 11\n",
      "[11, 11, 9, 11, 2] 11\n",
      "[11, 0, 11, 11, 11] 11\n",
      "[11, 0, 0, 9, 0] 0\n",
      "[11, 2, 11, 11, 11] 11\n",
      "[0, 0, 0, 0, 0] 0\n",
      "[0, 2, 9, 2, 2] 2\n",
      "[0, 0, 0, 0, 0] 0\n",
      "[2, 2, 11, 11, 2] 2\n",
      "[11, 11, 9, 11, 11] 11\n",
      "[11, 0, 11, 11, 11] 11\n",
      "[11, 11, 11, 11, 11] 11\n",
      "[2, 0, 2, 0, 11] 0\n",
      "[9, 0, 9, 9, 0] 9\n",
      "[2, 0, 0, 0, 0] 0\n",
      "[11, 0, 11, 11, 11] 11\n",
      "[0, 0, 9, 9, 9] 9\n",
      "[9, 0, 0, 0, 11] 0\n",
      "[2, 2, 2, 2, 2] 2\n",
      "[11, 11, 11, 11, 11] 11\n",
      "[9, 2, 11, 11, 11] 11\n",
      "[9, 0, 9, 9, 9] 9\n",
      "[2, 0, 2, 2, 2] 2\n",
      "[9, 9, 9, 9, 9] 9\n",
      "[11, 11, 11, 11, 11] 11\n",
      "[11, 9, 9, 9, 11] 9\n",
      "[11, 11, 11, 11, 11] 11\n",
      "[0, 0, 0, 0, 0] 0\n",
      "[2, 0, 2, 0, 0] 0\n",
      "[2, 9, 9, 11, 2] 9\n",
      "[9, 11, 9, 9, 0] 9\n",
      "[0, 0, 2, 2, 0] 0\n",
      "[11, 11, 11, 11, 11] 11\n",
      "[2, 2, 2, 2, 2] 2\n",
      "[9, 9, 11, 11, 9] 9\n",
      "[0, 0, 9, 9, 11] 9\n",
      "[0, 0, 2, 2, 2] 2\n",
      "[11, 11, 9, 9, 11] 11\n",
      "[9, 2, 9, 2, 9] 9\n",
      "[2, 0, 11, 9, 9] 9\n",
      "[0, 0, 0, 0, 0] 0\n",
      "[11, 11, 0, 2, 11] 11\n",
      "[9, 0, 0, 0, 0] 0\n",
      "[2, 2, 0, 0, 2] 2\n",
      "[11, 11, 11, 9, 11] 11\n",
      "[0, 2, 11, 11, 2] 11\n",
      "[2, 2, 2, 2, 2] 2\n",
      "[11, 11, 0, 0, 11] 11\n",
      "[0, 11, 9, 9, 2] 9\n",
      "[2, 9, 2, 9, 9] 9\n",
      "[2, 2, 9, 9, 9] 9\n",
      "[0, 0, 0, 0, 0] 0\n",
      "[0, 0, 11, 0, 0] 0\n",
      "[11, 0, 11, 11, 11] 11\n",
      "[2, 0, 0, 0, 0] 0\n",
      "[11, 9, 9, 9, 11] 9\n",
      "[2, 9, 2, 11, 11] 11\n",
      "[2, 2, 2, 2, 2] 2\n",
      "[11, 11, 11, 11, 11] 11\n",
      "[9, 0, 9, 2, 11] 9\n",
      "[11, 11, 11, 11, 11] 11\n",
      "[2, 11, 2, 2, 11] 2\n",
      "[11, 0, 11, 11, 11] 11\n",
      "[11, 0, 9, 0, 0] 0\n",
      "[2, 0, 2, 2, 2] 2\n",
      "[2, 9, 2, 2, 2] 2\n",
      "[2, 2, 2, 0, 0] 2\n",
      "[0, 0, 11, 11, 0] 0\n",
      "[0, 0, 2, 0, 11] 0\n",
      "[9, 11, 11, 11, 11] 11\n",
      "[2, 0, 0, 0, 0] 0\n",
      "[11, 11, 11, 11, 11] 11\n",
      "[0, 0, 9, 9, 0] 0\n",
      "[2, 9, 9, 2, 2] 2\n",
      "[11, 9, 9, 9, 2] 9\n",
      "[11, 11, 11, 11, 11] 11\n",
      "[0, 9, 0, 0, 0] 0\n",
      "[2, 0, 2, 2, 2] 2\n",
      "[0, 0, 0, 0, 0] 0\n",
      "[2, 2, 2, 2, 0] 2\n",
      "[11, 11, 11, 11, 11] 11\n",
      "[11, 0, 9, 2, 9] 9\n",
      "[0, 0, 11, 11, 0] 0\n",
      "[9, 9, 0, 0, 2] 0\n",
      "[2, 9, 9, 9, 9] 9\n",
      "[11, 0, 0, 0, 11] 0\n",
      "[2, 9, 9, 9, 9] 9\n",
      "[0, 0, 0, 0, 0] 0\n",
      "[2, 0, 0, 2, 2] 2\n",
      "[2, 9, 9, 9, 11] 9\n",
      "[0, 0, 9, 11, 0] 0\n",
      "[9, 9, 2, 9, 9] 9\n",
      "[11, 9, 9, 9, 11] 9\n",
      "[11, 11, 11, 11, 11] 11\n",
      "[0, 0, 0, 0, 0] 0\n",
      "[2, 0, 0, 0, 2] 0\n",
      "[0, 0, 0, 0, 0] 0\n",
      "[11, 11, 11, 11, 11] 11\n",
      "[2, 0, 0, 0, 0] 0\n",
      "[9, 2, 2, 2, 11] 2\n",
      "[11, 0, 11, 11, 11] 11\n",
      "[2, 2, 2, 2, 2] 2\n",
      "[9, 9, 9, 9, 9] 9\n",
      "[11, 0, 9, 9, 9] 9\n",
      "[0, 2, 11, 11, 11] 11\n",
      "[0, 9, 9, 9, 0] 9\n",
      "[9, 0, 11, 11, 11] 11\n",
      "[0, 0, 0, 0, 0] 0\n",
      "[2, 9, 9, 9, 9] 9\n",
      "[11, 11, 11, 11, 11] 11\n",
      "[11, 2, 0, 9, 11] 11\n",
      "[0, 0, 0, 0, 0] 0\n",
      "[2, 0, 11, 2, 11] 11\n",
      "[11, 11, 9, 9, 11] 11\n",
      "[11, 11, 11, 11, 11] 11\n",
      "[11, 11, 0, 11, 11] 11\n",
      "[11, 0, 9, 0, 9] 0\n",
      "[2, 2, 2, 2, 2] 2\n",
      "[2, 0, 2, 2, 2] 2\n",
      "[11, 0, 9, 11, 11] 11\n",
      "[11, 0, 11, 11, 11] 11\n",
      "[11, 11, 11, 11, 11] 11\n",
      "[11, 11, 9, 11, 0] 11\n",
      "[0, 0, 0, 0, 0] 0\n",
      "[2, 0, 0, 0, 9] 0\n",
      "[2, 0, 11, 11, 9] 11\n",
      "[11, 11, 11, 11, 11] 11\n",
      "[11, 0, 2, 2, 0] 2\n",
      "[2, 2, 11, 11, 11] 11\n",
      "[0, 0, 0, 0, 0] 0\n",
      "[11, 0, 11, 11, 11] 11\n",
      "[9, 0, 11, 11, 11] 11\n",
      "[11, 0, 11, 9, 11] 11\n",
      "[9, 0, 0, 0, 9] 0\n",
      "[2, 2, 0, 0, 2] 2\n",
      "[9, 0, 9, 9, 11] 9\n",
      "[0, 9, 9, 2, 2] 2\n",
      "[2, 0, 9, 9, 9] 9\n",
      "[2, 0, 0, 0, 11] 0\n",
      "[11, 2, 11, 9, 11] 11\n",
      "[0, 2, 2, 11, 11] 11\n",
      "[2, 2, 2, 2, 2] 2\n",
      "[0, 0, 2, 0, 0] 0\n",
      "[11, 11, 9, 9, 11] 11\n",
      "[11, 11, 11, 11, 11] 11\n",
      "[9, 9, 9, 9, 9] 9\n",
      "[2, 0, 2, 2, 9] 2\n",
      "[0, 0, 0, 0, 0] 0\n",
      "[9, 0, 0, 0, 9] 0\n",
      "[0, 0, 0, 0, 0] 0\n",
      "[2, 9, 9, 9, 9] 9\n",
      "[0, 0, 2, 2, 2] 2\n",
      "[11, 11, 11, 11, 11] 11\n",
      "[0, 0, 0, 0, 0] 0\n",
      "[11, 11, 11, 11, 11] 11\n",
      "[9, 0, 0, 0, 2] 0\n",
      "[0, 9, 2, 2, 11] 2\n",
      "[9, 2, 2, 2, 9] 2\n",
      "[9, 2, 9, 0, 0] 0\n",
      "[0, 0, 0, 9, 0] 0\n"
     ]
    }
   ],
   "source": [
    "over_all=[]\n",
    "preds=[pred_svm3,pred_knn3,pred_ada3,pred_RF3,pred_LR3]\n",
    "for i in range(len(y_test3)):\n",
    "    p=[]\n",
    "    for j in preds:\n",
    "        p.append(j[i])\n",
    "    over_all.append(p)\n",
    "   \n",
    "\n",
    "final_pred =[]\n",
    "for i in over_all:\n",
    "    c = find_best(i,weights)\n",
    "    final_pred.append(c)\n",
    "    print(i,c)\n",
    "# print(final_pred)"
   ]
  },
  {
   "cell_type": "code",
   "execution_count": 44,
   "metadata": {},
   "outputs": [
    {
     "name": "stdout",
     "output_type": "stream",
     "text": [
      "              precision    recall  f1-score   support\n",
      "\n",
      "           0       0.62      0.72      0.66       110\n",
      "           2       0.64      0.59      0.61       100\n",
      "           9       0.60      0.53      0.56       111\n",
      "          11       0.76      0.78      0.77       139\n",
      "\n",
      "    accuracy                           0.66       460\n",
      "   macro avg       0.66      0.65      0.65       460\n",
      "weighted avg       0.66      0.66      0.66       460\n",
      "\n",
      "66.3 %\n"
     ]
    },
    {
     "data": {
      "image/png": "[encoded data removed]",
      "text/plain": [
       "<Figure size 600x600 with 2 Axes>"
      ]
     },
     "metadata": {},
     "output_type": "display_data"
    }
   ],
   "source": [
    "Confusion_Matrix(confusion_matrix(y_test3,final_pred))\n",
    "print(classification_report(y_test3, final_pred))\n",
    "print(round(np.sum([y_test3==final_pred])/len(y_test3),4)*100,\"%\")\n",
    "# results.append(['lines, circle, and histogram PCA 0.99', 'Logistic Regression',round(np.sum([y_test4==pred_LR4])/len(y_test4),4)*100 ])"
   ]
  },
  {
   "cell_type": "code",
   "execution_count": null,
   "metadata": {},
   "outputs": [],
   "source": []
  },
  {
   "cell_type": "code",
   "execution_count": null,
   "metadata": {},
   "outputs": [],
   "source": []
  },
  {
   "cell_type": "code",
   "execution_count": 109,
   "metadata": {},
   "outputs": [],
   "source": [
    "\n",
    "# import necessary packages \n",
    "# import cv2 \n",
    "# import numpy as np\n",
    "# import matplotlib.pyplot as plt \n",
    "# import math\n",
    "  \n",
    "# # load image \n",
    "# image = cv2.imread('boxes 1.jpg',cv2.COLOR_BGR2RGB) \n",
    "# # cv2.imshow(\"image\",image)\n",
    "# # cv2.waitKey(0) \n",
    "\n",
    "# # histogram color https://pyimagesearch.com/2021/04/28/opencv-image-histograms-cv2-calchist/\n",
    "\n",
    "\n",
    "# # chans = cv2.split(image)\n",
    "# # colors = (\"b\", \"g\", \"r\")\n",
    "# # plt.figure()\n",
    "# # plt.title(\"'Flattened' Color Histogram\")\n",
    "# # plt.xlabel(\"Bins\")\n",
    "# # plt.ylabel(\"# of Pixels\")\n",
    "# # # loop over the image channels\n",
    "# # for (chan, color) in zip(chans, colors):\n",
    "# # \t# create a histogram for the current channel and plot it\n",
    "# # \thist = cv2.calcHist([chan], [0], None, [256], [0, 256])\n",
    "# # \tplt.plot(hist, color=color)\n",
    "# # \tplt.xlim([0, 256])\n",
    "# # plt.show()\n",
    "\n",
    "\n",
    "# #https://datacarpentry.org/image-processing/05-creating-histograms.html\n",
    "\n",
    "# histogram_r, bin_edges = np.histogram(image[:, :, 0], bins=256, range=(0, 256)) \n",
    "# print(histogram_r)\n",
    "# histogram_g, bin_edges = np.histogram(image[:, :, 1], bins=256, range=(0, 256)) \n",
    "# print(histogram_g)\n",
    "# histogram_b, bin_edges = np.histogram(image[:, :, 2], bins=256, range=(0, 256)) \n",
    "# print(histogram_b)\n",
    "\n",
    "# for i in histogram_r:\n",
    "#     print(i)\n",
    "\n",
    "\n",
    "# # # edges canny https://docs.opencv.org/4.x/da/d22/tutorial_py_canny.html\n",
    "\t\n",
    "# # edges = cv2.Canny(image,100,200)\n",
    "# # plt.subplot(121),plt.imshow(image)\n",
    "# # plt.title('Original Image'), plt.xticks([]), plt.yticks([])\n",
    "# # plt.subplot(122),plt.imshow(edges,cmap = 'gray')\n",
    "# # plt.title('Edge Image'), plt.xticks([]), plt.yticks([])\n",
    "# # plt.show()\n",
    "\n",
    "\n",
    "# # # hough line https://docs.opencv.org/3.4/d9/db0/tutorial_hough_lines.html\n",
    "# dst = cv2.Canny(image, 50, 200, None, 3)\n",
    "# cdst = cv2.cvtColor(dst, cv2.COLOR_GRAY2BGR)\n",
    "\n",
    "# lines = cv2.HoughLines(dst, 1, np.pi / 180, 150, None, 0, 0)\n",
    "# print(lines.shape)\n",
    "# print(len(lines))\n",
    "\n",
    "# print(image.flatten())\n",
    "# print(dst.flatten())\n",
    "# # if lines is not None:\n",
    "# #     for i in range(0, len(lines)):\n",
    "# #         rho = lines[i][0][0]\n",
    "# #         theta = lines[i][0][1]\n",
    "# #         a = math.cos(theta)\n",
    "# #         b = math.sin(theta)\n",
    "# #         x0 = a * rho\n",
    "# #         y0 = b * rho\n",
    "# #         pt1 = (int(x0 + 1000*(-b)), int(y0 + 1000*(a)))\n",
    "# #         pt2 = (int(x0 - 1000*(-b)), int(y0 - 1000*(a)))\n",
    "\n",
    "# #         plt.line(cdst, pt1, pt2, (0,0,255), 3, cv2.LINE_AA)\n",
    "# # plt.show()\n",
    "\n",
    "# # # #hough circle https://pyimagesearch.com/2014/07/21/detecting-circles-images-using-opencv-hough-circles/\n",
    "\n",
    "# # output = image.copy()\n",
    "# # cv2.imshow(\"output\",output)\n",
    "# gray = cv2.cvtColor(image, cv2.COLOR_BGR2GRAY)\n",
    "# gray = cv2.medianBlur(gray, 5)\n",
    "# rows = gray.shape[0]\n",
    "# circles = cv2.HoughCircles(gray, cv2.HOUGH_GRADIENT, 1, rows / 8,\n",
    "#                 param1=100, param2=30,\n",
    "#                 minRadius=20, maxRadius=200)\n",
    "# # circles = cv2.HoughCircles(gray, cv2.HOUGH_GRADIENT, 1.2, 100)\n",
    "# print(circles.shape[1])\n",
    "# # # if circles is not None:\n",
    "# # # \t# convert the (x, y) coordinates and radius of the circles to integers\n",
    "# # # \tcircles = np.round(circles[0, :]).astype(\"int\")\n",
    "# # # \t# loop over the (x, y) coordinates and radius of the circles\n",
    "# # # \tfor (x, y, r) in circles:\n",
    "# # # \t\t# draw the circle in the output image, then draw a rectangle\n",
    "# # # \t\t# corresponding to the center of the circle\n",
    "# # # \t\tcv2.circle(output, (x, y), r, (0, 255, 0), 4)\n",
    "# # # \t\tcv2.rectangle(output, (x - 5, y - 5), (x + 5, y + 5), (0, 128, 255), -1)\n",
    "# # # \t# show the output image\n",
    "# # # cv2.imshow(\"output\",output)\n",
    "# # # cv2.waitKey(0) \n",
    "# # # cv2.imshow(\"output\", np.hstack([image, output]))\n",
    "# # # cv2.waitKey(0) \n",
    "\n"
   ]
  }
 ],
 "metadata": {
  "kernelspec": {
   "display_name": "Python 3",
   "language": "python",
   "name": "python3"
  },
  "language_info": {
   "codemirror_mode": {
    "name": "ipython",
    "version": 3
   },
   "file_extension": ".py",
   "mimetype": "text/x-python",
   "name": "python",
   "nbconvert_exporter": "python",
   "pygments_lexer": "ipython3",
   "version": "3.10.8"
  }
 },
 "nbformat": 4,
 "nbformat_minor": 2
}
