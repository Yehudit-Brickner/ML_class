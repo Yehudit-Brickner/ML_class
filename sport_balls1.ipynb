{
 "cells": [
  {
   "cell_type": "markdown",
   "metadata": {},
   "source": [
    "# ML class final project part1\n",
    "##  Almog Shor\n",
    "## Yehudit Brickner"
   ]
  },
  {
   "cell_type": "markdown",
   "metadata": {},
   "source": [
    "imports"
   ]
  },
  {
   "cell_type": "code",
   "execution_count": 1,
   "metadata": {},
   "outputs": [],
   "source": [
    "import os\n",
    "import cv2 \n",
    "import numpy as np\n",
    "import matplotlib.pyplot as plt \n",
    "import pandas as pd\n",
    "import seaborn as sns\n",
    "import time\n",
    "import pickle\n",
    "from collections import Counter\n",
    "\n",
    "from sklearn.metrics import confusion_matrix\n",
    "from sklearn.model_selection import train_test_split\n",
    "from sklearn.metrics import classification_report\n",
    "\n",
    "import warnings\n",
    "warnings.filterwarnings(action='ignore', category=UserWarning)"
   ]
  },
  {
   "cell_type": "markdown",
   "metadata": {},
   "source": [
    "create the data set with all of the features"
   ]
  },
  {
   "cell_type": "code",
   "execution_count": 2,
   "metadata": {},
   "outputs": [],
   "source": [
    "def create_df1(folder):\n",
    "\n",
    "    folder_dir= os.listdir(folder)\n",
    "    \n",
    "    big_list=[]\n",
    "    my_list=[]\n",
    "    count=0\n",
    "    c=0\n",
    "    for i in folder_dir:\n",
    "        print(i)\n",
    "        j = os.listdir(folder+\"/\"+i)\n",
    "        for k in range(len(j)):\n",
    "            try:\n",
    "                img = cv2.imread(folder+\"/\"+i+\"/\"+j[k], cv2.COLOR_BGR2RGB)\n",
    "                img = cv2.resize(img,(200,200), interpolation = cv2.INTER_AREA)\n",
    "                \n",
    "                histogram_r, bin_edges = np.histogram(img[:, :, 0], bins=256, range=(0, 256)) \n",
    "                histogram_g, bin_edges = np.histogram(img[:, :, 1], bins=256, range=(0, 256)) \n",
    "                histogram_b, bin_edges = np.histogram(img[:, :, 2], bins=256, range=(0, 256)) \n",
    "                \n",
    "                dst = cv2.Canny(img, 50, 200, None, 3)\n",
    "                dst1 = cv2.Canny(img, 50, 200, None, 3)\n",
    "                lines = cv2.HoughLines(dst1, 1, np.pi / 180, 50, None, 0, 0)\n",
    "                \n",
    "                gray = cv2.imread(folder+\"/\"+i+\"/\"+j[k],cv2.IMREAD_GRAYSCALE)\n",
    "                gray =  cv2.resize(gray,(200,200), interpolation = cv2.INTER_AREA)\n",
    "                gray = cv2.medianBlur(gray, 5)\n",
    "                rows = gray.shape[0]\n",
    "                circles = cv2.HoughCircles(gray, cv2.HOUGH_GRADIENT, 1, rows / 8,\n",
    "                                param1=100, param2=30,\n",
    "                                minRadius=10, maxRadius=100)\n",
    "                \n",
    "                my_list=[]\n",
    "                my_list.append(folder+\"/\"+i+\"/\"+j[k])\n",
    "                my_list.append(i)\n",
    "                my_list.append(c)\n",
    "                if lines is None:\n",
    "                    my_list.append(0)\n",
    "                    my_list.append(0)   \n",
    "                else:\n",
    "                    my_list.append(1)\n",
    "                    my_list.append(len(lines))\n",
    "                if circles is None:\n",
    "                    my_list.append(0)\n",
    "                    my_list.append(0)   \n",
    "                else:\n",
    "                    my_list.append(1)\n",
    "                    my_list.append(circles.shape[1])\n",
    "                \n",
    "                my_list.extend(histogram_r)\n",
    "                my_list.extend(histogram_g)\n",
    "                my_list.extend(histogram_b)\n",
    "                # my_list.extend(img.flatten())\n",
    "                # my_list.extend(dst.flatten())\n",
    "\n",
    "                big_list.append(my_list)\n",
    "                count+=1\n",
    "                \n",
    "            except:\n",
    "                print(\"there was an error with count \",count)\n",
    "\n",
    "        c+=1\n",
    "\n",
    "    \n",
    "    print(\"creating df\")\n",
    "    cols = ['path','class_name','class_number','lines?','#lines','circles?','#circles']\n",
    "    for h in range(256):\n",
    "        cols.append(\"r\"+str(h))\n",
    "    for h in range(256):\n",
    "        cols.append(\"g\"+str(h))\n",
    "    for h in range(256):\n",
    "        cols.append(\"b\"+str(h))\n",
    "    # for h in range(200*200*3):\n",
    "    #     cols.append(\"i\"+str(h))\n",
    "    # for h in range(200*200):\n",
    "    #     cols.append(\"e\"+str(h))\n",
    "\n",
    "    df = pd.DataFrame(big_list, columns = cols) \n",
    "\n",
    "    print(\"created df\")\n",
    "              \n",
    "    return df"
   ]
  },
  {
   "cell_type": "code",
   "execution_count": 3,
   "metadata": {},
   "outputs": [],
   "source": [
    "# folder =\"C:/Users/nechd/Downloads/ball_classification/train\"\n",
    "# start_time = time.time()\n",
    "# full_ball_df = create_df1(folder) \n",
    "# end_time = time.time()\n",
    "# print(\"time taken: \",end_time - start_time)"
   ]
  },
  {
   "cell_type": "code",
   "execution_count": 4,
   "metadata": {},
   "outputs": [],
   "source": [
    "# full_ball_df.shape\n",
    "# full_ball_df.head()"
   ]
  },
  {
   "cell_type": "code",
   "execution_count": 5,
   "metadata": {},
   "outputs": [],
   "source": [
    "# full_ball_df.to_csv('small_hist.csv', index=False)"
   ]
  },
  {
   "cell_type": "code",
   "execution_count": 6,
   "metadata": {},
   "outputs": [],
   "source": [
    "# folder =\"C:/Users/nechd/Downloads/ball_classification/test\"\n",
    "# start_time = time.time()\n",
    "# full_test_df = create_df1(folder) \n",
    "# end_time = time.time()\n",
    "# print(\"time taken: \",end_time - start_time)"
   ]
  },
  {
   "cell_type": "code",
   "execution_count": 7,
   "metadata": {},
   "outputs": [],
   "source": [
    "# full_test_df.to_csv('final_test_data_small_hist.csv', index=False)"
   ]
  },
  {
   "cell_type": "code",
   "execution_count": null,
   "metadata": {},
   "outputs": [],
   "source": []
  },
  {
   "cell_type": "code",
   "execution_count": null,
   "metadata": {},
   "outputs": [],
   "source": []
  },
  {
   "cell_type": "code",
   "execution_count": null,
   "metadata": {},
   "outputs": [],
   "source": []
  },
  {
   "cell_type": "code",
   "execution_count": null,
   "metadata": {},
   "outputs": [],
   "source": []
  },
  {
   "cell_type": "code",
   "execution_count": null,
   "metadata": {},
   "outputs": [],
   "source": []
  },
  {
   "cell_type": "markdown",
   "metadata": {},
   "source": [
    "import the data with some/all features"
   ]
  },
  {
   "cell_type": "code",
   "execution_count": 8,
   "metadata": {},
   "outputs": [
    {
     "data": {
      "text/plain": [
       "(1533, 773)"
      ]
     },
     "execution_count": 8,
     "metadata": {},
     "output_type": "execute_result"
    }
   ],
   "source": [
    "small_hist = pd.read_csv('small_hist.csv')\n",
    "del small_hist['path']\n",
    "del small_hist['class_name']\n",
    "ball_type = [0,2,9,11]\n",
    "small_hist_4balls = small_hist.loc[small_hist['class_number'].isin(ball_type)]\n",
    "small_hist_4balls.shape"
   ]
  },
  {
   "cell_type": "code",
   "execution_count": 75,
   "metadata": {},
   "outputs": [],
   "source": [
    "small_hist_test = pd.read_csv('final_test_data_small_hist.csv')\n",
    "del small_hist_test['path']\n",
    "del small_hist_test['class_name']\n",
    "ball_type = [0,2,9,11]\n",
    "small_hist_4balls_test = small_hist_test.loc[small_hist_test['class_number'].isin(ball_type)]\n",
    "small_hist_4balls_test.shape\n",
    "final_test_y = small_hist_4balls_test['class_number']\n",
    "final_test_X = small_hist_4balls_test.drop(['class_number'], axis=1)\n"
   ]
  },
  {
   "cell_type": "code",
   "execution_count": 10,
   "metadata": {},
   "outputs": [],
   "source": [
    "\n",
    "X1 = small_hist_4balls.iloc[:,1:5]\n",
    "X2 = small_hist_4balls.iloc[:,5:] \n",
    "X3 = small_hist_4balls.drop(['class_number'], axis=1)\n",
    "\n",
    "y = small_hist_4balls['class_number']"
   ]
  },
  {
   "cell_type": "code",
   "execution_count": 11,
   "metadata": {},
   "outputs": [
    {
     "data": {
      "text/html": [
       "<div>\n",
       "<style scoped>\n",
       "    .dataframe tbody tr th:only-of-type {\n",
       "        vertical-align: middle;\n",
       "    }\n",
       "\n",
       "    .dataframe tbody tr th {\n",
       "        vertical-align: top;\n",
       "    }\n",
       "\n",
       "    .dataframe thead th {\n",
       "        text-align: right;\n",
       "    }\n",
       "</style>\n",
       "<table border=\"1\" class=\"dataframe\">\n",
       "  <thead>\n",
       "    <tr style=\"text-align: right;\">\n",
       "      <th></th>\n",
       "      <th>lines?</th>\n",
       "      <th>#lines</th>\n",
       "      <th>circles?</th>\n",
       "      <th>#circles</th>\n",
       "    </tr>\n",
       "  </thead>\n",
       "  <tbody>\n",
       "    <tr>\n",
       "      <th>0</th>\n",
       "      <td>1</td>\n",
       "      <td>36</td>\n",
       "      <td>1</td>\n",
       "      <td>5</td>\n",
       "    </tr>\n",
       "    <tr>\n",
       "      <th>1</th>\n",
       "      <td>1</td>\n",
       "      <td>207</td>\n",
       "      <td>1</td>\n",
       "      <td>6</td>\n",
       "    </tr>\n",
       "    <tr>\n",
       "      <th>2</th>\n",
       "      <td>1</td>\n",
       "      <td>55</td>\n",
       "      <td>1</td>\n",
       "      <td>5</td>\n",
       "    </tr>\n",
       "    <tr>\n",
       "      <th>3</th>\n",
       "      <td>1</td>\n",
       "      <td>196</td>\n",
       "      <td>1</td>\n",
       "      <td>1</td>\n",
       "    </tr>\n",
       "    <tr>\n",
       "      <th>4</th>\n",
       "      <td>1</td>\n",
       "      <td>291</td>\n",
       "      <td>1</td>\n",
       "      <td>12</td>\n",
       "    </tr>\n",
       "  </tbody>\n",
       "</table>\n",
       "</div>"
      ],
      "text/plain": [
       "   lines?  #lines  circles?  #circles\n",
       "0       1      36         1         5\n",
       "1       1     207         1         6\n",
       "2       1      55         1         5\n",
       "3       1     196         1         1\n",
       "4       1     291         1        12"
      ]
     },
     "execution_count": 11,
     "metadata": {},
     "output_type": "execute_result"
    }
   ],
   "source": [
    "X1.head()"
   ]
  },
  {
   "cell_type": "code",
   "execution_count": 12,
   "metadata": {},
   "outputs": [
    {
     "data": {
      "text/html": [
       "<div>\n",
       "<style scoped>\n",
       "    .dataframe tbody tr th:only-of-type {\n",
       "        vertical-align: middle;\n",
       "    }\n",
       "\n",
       "    .dataframe tbody tr th {\n",
       "        vertical-align: top;\n",
       "    }\n",
       "\n",
       "    .dataframe thead th {\n",
       "        text-align: right;\n",
       "    }\n",
       "</style>\n",
       "<table border=\"1\" class=\"dataframe\">\n",
       "  <thead>\n",
       "    <tr style=\"text-align: right;\">\n",
       "      <th></th>\n",
       "      <th>r0</th>\n",
       "      <th>r1</th>\n",
       "      <th>r2</th>\n",
       "      <th>r3</th>\n",
       "      <th>r4</th>\n",
       "      <th>r5</th>\n",
       "      <th>r6</th>\n",
       "      <th>r7</th>\n",
       "      <th>r8</th>\n",
       "      <th>r9</th>\n",
       "      <th>...</th>\n",
       "      <th>b246</th>\n",
       "      <th>b247</th>\n",
       "      <th>b248</th>\n",
       "      <th>b249</th>\n",
       "      <th>b250</th>\n",
       "      <th>b251</th>\n",
       "      <th>b252</th>\n",
       "      <th>b253</th>\n",
       "      <th>b254</th>\n",
       "      <th>b255</th>\n",
       "    </tr>\n",
       "  </thead>\n",
       "  <tbody>\n",
       "    <tr>\n",
       "      <th>0</th>\n",
       "      <td>2</td>\n",
       "      <td>3</td>\n",
       "      <td>9</td>\n",
       "      <td>16</td>\n",
       "      <td>12</td>\n",
       "      <td>17</td>\n",
       "      <td>25</td>\n",
       "      <td>29</td>\n",
       "      <td>32</td>\n",
       "      <td>36</td>\n",
       "      <td>...</td>\n",
       "      <td>184</td>\n",
       "      <td>182</td>\n",
       "      <td>211</td>\n",
       "      <td>246</td>\n",
       "      <td>339</td>\n",
       "      <td>425</td>\n",
       "      <td>438</td>\n",
       "      <td>605</td>\n",
       "      <td>964</td>\n",
       "      <td>16964</td>\n",
       "    </tr>\n",
       "    <tr>\n",
       "      <th>1</th>\n",
       "      <td>2</td>\n",
       "      <td>4</td>\n",
       "      <td>28</td>\n",
       "      <td>29</td>\n",
       "      <td>60</td>\n",
       "      <td>54</td>\n",
       "      <td>112</td>\n",
       "      <td>77</td>\n",
       "      <td>139</td>\n",
       "      <td>153</td>\n",
       "      <td>...</td>\n",
       "      <td>115</td>\n",
       "      <td>77</td>\n",
       "      <td>135</td>\n",
       "      <td>98</td>\n",
       "      <td>192</td>\n",
       "      <td>162</td>\n",
       "      <td>305</td>\n",
       "      <td>285</td>\n",
       "      <td>359</td>\n",
       "      <td>14412</td>\n",
       "    </tr>\n",
       "    <tr>\n",
       "      <th>2</th>\n",
       "      <td>0</td>\n",
       "      <td>0</td>\n",
       "      <td>2</td>\n",
       "      <td>6</td>\n",
       "      <td>13</td>\n",
       "      <td>24</td>\n",
       "      <td>67</td>\n",
       "      <td>100</td>\n",
       "      <td>180</td>\n",
       "      <td>175</td>\n",
       "      <td>...</td>\n",
       "      <td>4</td>\n",
       "      <td>5</td>\n",
       "      <td>0</td>\n",
       "      <td>0</td>\n",
       "      <td>1</td>\n",
       "      <td>0</td>\n",
       "      <td>0</td>\n",
       "      <td>0</td>\n",
       "      <td>0</td>\n",
       "      <td>0</td>\n",
       "    </tr>\n",
       "    <tr>\n",
       "      <th>3</th>\n",
       "      <td>0</td>\n",
       "      <td>0</td>\n",
       "      <td>0</td>\n",
       "      <td>0</td>\n",
       "      <td>0</td>\n",
       "      <td>0</td>\n",
       "      <td>0</td>\n",
       "      <td>0</td>\n",
       "      <td>0</td>\n",
       "      <td>0</td>\n",
       "      <td>...</td>\n",
       "      <td>28</td>\n",
       "      <td>28</td>\n",
       "      <td>28</td>\n",
       "      <td>35</td>\n",
       "      <td>84</td>\n",
       "      <td>113</td>\n",
       "      <td>233</td>\n",
       "      <td>241</td>\n",
       "      <td>515</td>\n",
       "      <td>19743</td>\n",
       "    </tr>\n",
       "    <tr>\n",
       "      <th>4</th>\n",
       "      <td>4529</td>\n",
       "      <td>4546</td>\n",
       "      <td>1537</td>\n",
       "      <td>812</td>\n",
       "      <td>577</td>\n",
       "      <td>463</td>\n",
       "      <td>427</td>\n",
       "      <td>362</td>\n",
       "      <td>255</td>\n",
       "      <td>238</td>\n",
       "      <td>...</td>\n",
       "      <td>126</td>\n",
       "      <td>128</td>\n",
       "      <td>122</td>\n",
       "      <td>123</td>\n",
       "      <td>139</td>\n",
       "      <td>135</td>\n",
       "      <td>161</td>\n",
       "      <td>168</td>\n",
       "      <td>184</td>\n",
       "      <td>130</td>\n",
       "    </tr>\n",
       "  </tbody>\n",
       "</table>\n",
       "<p>5 rows × 768 columns</p>\n",
       "</div>"
      ],
      "text/plain": [
       "     r0    r1    r2   r3   r4   r5   r6   r7   r8   r9  ...  b246  b247  b248  \\\n",
       "0     2     3     9   16   12   17   25   29   32   36  ...   184   182   211   \n",
       "1     2     4    28   29   60   54  112   77  139  153  ...   115    77   135   \n",
       "2     0     0     2    6   13   24   67  100  180  175  ...     4     5     0   \n",
       "3     0     0     0    0    0    0    0    0    0    0  ...    28    28    28   \n",
       "4  4529  4546  1537  812  577  463  427  362  255  238  ...   126   128   122   \n",
       "\n",
       "   b249  b250  b251  b252  b253  b254   b255  \n",
       "0   246   339   425   438   605   964  16964  \n",
       "1    98   192   162   305   285   359  14412  \n",
       "2     0     1     0     0     0     0      0  \n",
       "3    35    84   113   233   241   515  19743  \n",
       "4   123   139   135   161   168   184    130  \n",
       "\n",
       "[5 rows x 768 columns]"
      ]
     },
     "execution_count": 12,
     "metadata": {},
     "output_type": "execute_result"
    }
   ],
   "source": [
    "X2.head()"
   ]
  },
  {
   "cell_type": "code",
   "execution_count": 13,
   "metadata": {},
   "outputs": [
    {
     "data": {
      "text/html": [
       "<div>\n",
       "<style scoped>\n",
       "    .dataframe tbody tr th:only-of-type {\n",
       "        vertical-align: middle;\n",
       "    }\n",
       "\n",
       "    .dataframe tbody tr th {\n",
       "        vertical-align: top;\n",
       "    }\n",
       "\n",
       "    .dataframe thead th {\n",
       "        text-align: right;\n",
       "    }\n",
       "</style>\n",
       "<table border=\"1\" class=\"dataframe\">\n",
       "  <thead>\n",
       "    <tr style=\"text-align: right;\">\n",
       "      <th></th>\n",
       "      <th>lines?</th>\n",
       "      <th>#lines</th>\n",
       "      <th>circles?</th>\n",
       "      <th>#circles</th>\n",
       "      <th>r0</th>\n",
       "      <th>r1</th>\n",
       "      <th>r2</th>\n",
       "      <th>r3</th>\n",
       "      <th>r4</th>\n",
       "      <th>r5</th>\n",
       "      <th>...</th>\n",
       "      <th>b246</th>\n",
       "      <th>b247</th>\n",
       "      <th>b248</th>\n",
       "      <th>b249</th>\n",
       "      <th>b250</th>\n",
       "      <th>b251</th>\n",
       "      <th>b252</th>\n",
       "      <th>b253</th>\n",
       "      <th>b254</th>\n",
       "      <th>b255</th>\n",
       "    </tr>\n",
       "  </thead>\n",
       "  <tbody>\n",
       "    <tr>\n",
       "      <th>0</th>\n",
       "      <td>1</td>\n",
       "      <td>36</td>\n",
       "      <td>1</td>\n",
       "      <td>5</td>\n",
       "      <td>2</td>\n",
       "      <td>3</td>\n",
       "      <td>9</td>\n",
       "      <td>16</td>\n",
       "      <td>12</td>\n",
       "      <td>17</td>\n",
       "      <td>...</td>\n",
       "      <td>184</td>\n",
       "      <td>182</td>\n",
       "      <td>211</td>\n",
       "      <td>246</td>\n",
       "      <td>339</td>\n",
       "      <td>425</td>\n",
       "      <td>438</td>\n",
       "      <td>605</td>\n",
       "      <td>964</td>\n",
       "      <td>16964</td>\n",
       "    </tr>\n",
       "    <tr>\n",
       "      <th>1</th>\n",
       "      <td>1</td>\n",
       "      <td>207</td>\n",
       "      <td>1</td>\n",
       "      <td>6</td>\n",
       "      <td>2</td>\n",
       "      <td>4</td>\n",
       "      <td>28</td>\n",
       "      <td>29</td>\n",
       "      <td>60</td>\n",
       "      <td>54</td>\n",
       "      <td>...</td>\n",
       "      <td>115</td>\n",
       "      <td>77</td>\n",
       "      <td>135</td>\n",
       "      <td>98</td>\n",
       "      <td>192</td>\n",
       "      <td>162</td>\n",
       "      <td>305</td>\n",
       "      <td>285</td>\n",
       "      <td>359</td>\n",
       "      <td>14412</td>\n",
       "    </tr>\n",
       "    <tr>\n",
       "      <th>2</th>\n",
       "      <td>1</td>\n",
       "      <td>55</td>\n",
       "      <td>1</td>\n",
       "      <td>5</td>\n",
       "      <td>0</td>\n",
       "      <td>0</td>\n",
       "      <td>2</td>\n",
       "      <td>6</td>\n",
       "      <td>13</td>\n",
       "      <td>24</td>\n",
       "      <td>...</td>\n",
       "      <td>4</td>\n",
       "      <td>5</td>\n",
       "      <td>0</td>\n",
       "      <td>0</td>\n",
       "      <td>1</td>\n",
       "      <td>0</td>\n",
       "      <td>0</td>\n",
       "      <td>0</td>\n",
       "      <td>0</td>\n",
       "      <td>0</td>\n",
       "    </tr>\n",
       "    <tr>\n",
       "      <th>3</th>\n",
       "      <td>1</td>\n",
       "      <td>196</td>\n",
       "      <td>1</td>\n",
       "      <td>1</td>\n",
       "      <td>0</td>\n",
       "      <td>0</td>\n",
       "      <td>0</td>\n",
       "      <td>0</td>\n",
       "      <td>0</td>\n",
       "      <td>0</td>\n",
       "      <td>...</td>\n",
       "      <td>28</td>\n",
       "      <td>28</td>\n",
       "      <td>28</td>\n",
       "      <td>35</td>\n",
       "      <td>84</td>\n",
       "      <td>113</td>\n",
       "      <td>233</td>\n",
       "      <td>241</td>\n",
       "      <td>515</td>\n",
       "      <td>19743</td>\n",
       "    </tr>\n",
       "    <tr>\n",
       "      <th>4</th>\n",
       "      <td>1</td>\n",
       "      <td>291</td>\n",
       "      <td>1</td>\n",
       "      <td>12</td>\n",
       "      <td>4529</td>\n",
       "      <td>4546</td>\n",
       "      <td>1537</td>\n",
       "      <td>812</td>\n",
       "      <td>577</td>\n",
       "      <td>463</td>\n",
       "      <td>...</td>\n",
       "      <td>126</td>\n",
       "      <td>128</td>\n",
       "      <td>122</td>\n",
       "      <td>123</td>\n",
       "      <td>139</td>\n",
       "      <td>135</td>\n",
       "      <td>161</td>\n",
       "      <td>168</td>\n",
       "      <td>184</td>\n",
       "      <td>130</td>\n",
       "    </tr>\n",
       "  </tbody>\n",
       "</table>\n",
       "<p>5 rows × 772 columns</p>\n",
       "</div>"
      ],
      "text/plain": [
       "   lines?  #lines  circles?  #circles    r0    r1    r2   r3   r4   r5  ...  \\\n",
       "0       1      36         1         5     2     3     9   16   12   17  ...   \n",
       "1       1     207         1         6     2     4    28   29   60   54  ...   \n",
       "2       1      55         1         5     0     0     2    6   13   24  ...   \n",
       "3       1     196         1         1     0     0     0    0    0    0  ...   \n",
       "4       1     291         1        12  4529  4546  1537  812  577  463  ...   \n",
       "\n",
       "   b246  b247  b248  b249  b250  b251  b252  b253  b254   b255  \n",
       "0   184   182   211   246   339   425   438   605   964  16964  \n",
       "1   115    77   135    98   192   162   305   285   359  14412  \n",
       "2     4     5     0     0     1     0     0     0     0      0  \n",
       "3    28    28    28    35    84   113   233   241   515  19743  \n",
       "4   126   128   122   123   139   135   161   168   184    130  \n",
       "\n",
       "[5 rows x 772 columns]"
      ]
     },
     "execution_count": 13,
     "metadata": {},
     "output_type": "execute_result"
    }
   ],
   "source": [
    "X3.head()"
   ]
  },
  {
   "cell_type": "markdown",
   "metadata": {},
   "source": [
    "train test split"
   ]
  },
  {
   "cell_type": "code",
   "execution_count": 14,
   "metadata": {},
   "outputs": [],
   "source": [
    "X_train1, X_test1, y_train1, y_test1 = train_test_split(X1, y, test_size=0.3, random_state=42)\n",
    "X_train2, X_test2, y_train2, y_test2 = train_test_split(X2, y, test_size=0.3, random_state=42)\n",
    "X_train3, X_test3, y_train3, y_test3 = train_test_split(X3, y, test_size=0.3, random_state=42)\n"
   ]
  },
  {
   "cell_type": "markdown",
   "metadata": {},
   "source": [
    "extra functions"
   ]
  },
  {
   "cell_type": "code",
   "execution_count": 15,
   "metadata": {},
   "outputs": [],
   "source": [
    "# function to represent the confusion matrix nicely\n",
    "def Confusion_Matrix(cf_matrix):\n",
    "    plt.figure(figsize=(6,6))\n",
    "    sns.heatmap(cf_matrix, annot=True, fmt='', cmap='Greens')"
   ]
  },
  {
   "cell_type": "code",
   "execution_count": 16,
   "metadata": {},
   "outputs": [],
   "source": [
    "# list to hold all final results\n",
    "results=[]"
   ]
  },
  {
   "cell_type": "markdown",
   "metadata": {},
   "source": [
    "model imports"
   ]
  },
  {
   "cell_type": "code",
   "execution_count": 17,
   "metadata": {},
   "outputs": [],
   "source": [
    "from sklearn.multiclass import OneVsOneClassifier\n",
    "from sklearn.multiclass import OutputCodeClassifier\n",
    "from sklearn.multiclass import OneVsRestClassifier\n",
    "from sklearn.svm import LinearSVC\n",
    "\n",
    "from sklearn.neighbors import KNeighborsClassifier\n",
    "\n",
    "from sklearn.ensemble import AdaBoostClassifier\n",
    "\n",
    "from sklearn.ensemble import RandomForestClassifier\n",
    "\n",
    "from sklearn.linear_model import LogisticRegression\n",
    "\n",
    "\n",
    "from sklearn.decomposition import PCA"
   ]
  },
  {
   "cell_type": "markdown",
   "metadata": {},
   "source": [
    "# RUN ON DATA SET WITH LINES AND CIRCLES "
   ]
  },
  {
   "cell_type": "markdown",
   "metadata": {},
   "source": [
    "#### SVM"
   ]
  },
  {
   "cell_type": "code",
   "execution_count": 18,
   "metadata": {},
   "outputs": [
    {
     "name": "stdout",
     "output_type": "stream",
     "text": [
      "OneVsOneClassifier\n",
      "hinge l2 36.74 %\n"
     ]
    },
    {
     "name": "stdout",
     "output_type": "stream",
     "text": [
      "squared_hinge l2 32.83 %\n",
      "OutputCodeClassifier\n",
      "hinge l2 42.83 %\n",
      "squared_hinge l2 36.96 %\n",
      "OneVsRestClassifier\n",
      "hinge l2 32.39 %\n",
      "squared_hinge l2 36.74 %\n"
     ]
    }
   ],
   "source": [
    "losses = [\"hinge\",\"squared_hinge\"]\n",
    "penalties = [\"l1\",\"l2\"]\n",
    "\n",
    "print(\"OneVsOneClassifier\")\n",
    "for i in losses:\n",
    "    for j in penalties:\n",
    "        try:\n",
    "            svm =  OneVsOneClassifier(LinearSVC(random_state=0, loss=i,penalty=j,)).fit(X_train1, y_train1)\n",
    "            pred_svm = svm.predict(X_test1)\n",
    "            print(i,j,round(np.sum([y_test1==pred_svm])/len(y_test1),4)*100,\"%\")\n",
    "        except:\n",
    "            pass\n",
    "\n",
    "print(\"OutputCodeClassifier\")\n",
    "for i in losses:\n",
    "    for j in penalties:\n",
    "        try:\n",
    "            svm =  OutputCodeClassifier(LinearSVC(random_state=0, loss=i,penalty=j,)).fit(X_train1, y_train1)\n",
    "            pred_svm = svm.predict(X_test1)\n",
    "            print(i,j,round(np.sum([y_test1==pred_svm])/len(y_test1),4)*100,\"%\")\n",
    "        except:\n",
    "            pass\n",
    "\n",
    "\n",
    "print(\"OneVsRestClassifier\")\n",
    "for i in losses:\n",
    "    for j in penalties:\n",
    "        try:\n",
    "            svm =  OneVsRestClassifier(LinearSVC(random_state=0, loss=i,penalty=j,)).fit(X_train1, y_train1)\n",
    "            pred_svm = svm.predict(X_test1)\n",
    "            print(i,j,round(np.sum([y_test1==pred_svm])/len(y_test1),4)*100,\"%\")\n",
    "        except:\n",
    "            pass"
   ]
  },
  {
   "cell_type": "code",
   "execution_count": 19,
   "metadata": {},
   "outputs": [
    {
     "name": "stdout",
     "output_type": "stream",
     "text": [
      "              precision    recall  f1-score   support\n",
      "\n",
      "           0       0.32      0.23      0.26       110\n",
      "           2       0.52      0.22      0.31       100\n",
      "           9       0.29      0.61      0.40       111\n",
      "          11       0.51      0.39      0.44       139\n",
      "\n",
      "    accuracy                           0.37       460\n",
      "   macro avg       0.41      0.36      0.35       460\n",
      "weighted avg       0.41      0.37      0.36       460\n",
      "\n",
      "36.74 %\n"
     ]
    },
    {
     "data": {
      "image/png": "[encoded data removed]",
      "text/plain": [
       "<Figure size 600x600 with 2 Axes>"
      ]
     },
     "metadata": {},
     "output_type": "display_data"
    }
   ],
   "source": [
    "svm1 =  OneVsOneClassifier(LinearSVC(random_state=0, loss=\"hinge\",penalty=\"l2\")).fit(X_train1, y_train1)\n",
    "pred_svm1 = svm1.predict(X_test1)\n",
    "Confusion_Matrix(confusion_matrix(y_test1,pred_svm1))\n",
    "print(classification_report(y_test1, pred_svm1))\n",
    "print(round(np.sum([y_test1==pred_svm1])/len(y_test1),4)*100,\"%\")\n",
    "results.append(['lines and circles', 'SVM',round(np.sum([y_test1==pred_svm1])/len(y_test1),4)*100 ])"
   ]
  },
  {
   "cell_type": "markdown",
   "metadata": {},
   "source": [
    "#### KNN"
   ]
  },
  {
   "cell_type": "code",
   "execution_count": 20,
   "metadata": {},
   "outputs": [
    {
     "name": "stdout",
     "output_type": "stream",
     "text": [
      "1 37.169999999999995 %\n",
      "2 35.43 %\n",
      "3 37.61 %\n",
      "4 39.57 %\n",
      "5 38.7 %\n",
      "6 40.0 %\n",
      "7 40.65 %\n",
      "8 41.089999999999996 %\n",
      "9 36.09 %\n",
      "10 39.78 %\n",
      "11 39.35 %\n",
      "12 38.48 %\n",
      "13 39.35 %\n",
      "14 39.35 %\n",
      "15 39.57 %\n",
      "16 38.26 %\n",
      "17 38.48 %\n",
      "18 39.78 %\n",
      "19 38.91 %\n",
      "20 38.7 %\n",
      "21 39.78 %\n",
      "22 41.52 %\n",
      "23 40.43 %\n",
      "24 40.0 %\n",
      "25 39.57 %\n",
      "26 40.0 %\n",
      "27 40.0 %\n",
      "28 39.57 %\n",
      "29 38.48 %\n",
      "30 38.7 %\n",
      "31 39.57 %\n",
      "32 39.78 %\n",
      "33 39.129999999999995 %\n",
      "34 39.78 %\n",
      "35 39.57 %\n",
      "36 40.0 %\n",
      "37 39.129999999999995 %\n",
      "38 38.7 %\n",
      "39 39.78 %\n",
      "40 39.35 %\n",
      "41 39.35 %\n",
      "42 39.35 %\n",
      "43 38.7 %\n",
      "44 38.91 %\n",
      "45 38.91 %\n",
      "46 39.57 %\n",
      "47 39.35 %\n",
      "48 40.87 %\n",
      "49 40.43 %\n",
      "50 39.78 %\n"
     ]
    }
   ],
   "source": [
    "for i in range(1,51):\n",
    "    neigh = KNeighborsClassifier(n_neighbors=i)\n",
    "    neigh.fit(X_train1,y_train1)\n",
    "    pred_knn = neigh.predict(X_test1)\n",
    "    print(i,round(np.sum([y_test1==pred_knn])/len(y_test1),4)*100,\"%\")"
   ]
  },
  {
   "cell_type": "code",
   "execution_count": 21,
   "metadata": {},
   "outputs": [
    {
     "name": "stdout",
     "output_type": "stream",
     "text": [
      "              precision    recall  f1-score   support\n",
      "\n",
      "           0       0.32      0.39      0.35       110\n",
      "           2       0.44      0.37      0.40       100\n",
      "           9       0.41      0.40      0.40       111\n",
      "          11       0.49      0.47      0.48       139\n",
      "\n",
      "    accuracy                           0.41       460\n",
      "   macro avg       0.41      0.41      0.41       460\n",
      "weighted avg       0.42      0.41      0.41       460\n",
      "\n",
      "41.089999999999996 %\n"
     ]
    },
    {
     "data": {
      "image/png": "[encoded data removed]",
      "text/plain": [
       "<Figure size 600x600 with 2 Axes>"
      ]
     },
     "metadata": {},
     "output_type": "display_data"
    }
   ],
   "source": [
    "neigh1 = KNeighborsClassifier(n_neighbors=8)\n",
    "neigh1.fit(X_train1,y_train1)\n",
    "pred_knn1 = neigh1.predict(X_test1)\n",
    "Confusion_Matrix(confusion_matrix(y_test1,pred_knn1))\n",
    "print(classification_report(y_test1, pred_knn1))\n",
    "print(round(np.sum([y_test1==pred_knn1])/len(y_test1),4)*100,\"%\")\n",
    "results.append(['lines and circles', 'KNN',round(np.sum([y_test1==pred_knn1])/len(y_test1),4)*100 ])"
   ]
  },
  {
   "cell_type": "markdown",
   "metadata": {},
   "source": [
    "#### Adaboost"
   ]
  },
  {
   "cell_type": "code",
   "execution_count": 22,
   "metadata": {},
   "outputs": [
    {
     "name": "stdout",
     "output_type": "stream",
     "text": [
      "50 42.61 %\n",
      "100 41.52 %\n",
      "150 42.17 %\n",
      "200 42.39 %\n",
      "250 42.17 %\n",
      "300 42.39 %\n",
      "350 42.17 %\n",
      "400 41.52 %\n",
      "450 42.17 %\n",
      "500 42.17 %\n",
      "550 42.17 %\n",
      "600 42.39 %\n",
      "650 42.17 %\n",
      "700 42.83 %\n",
      "750 42.39 %\n",
      "800 43.04 %\n",
      "850 42.61 %\n",
      "900 43.04 %\n",
      "950 43.26 %\n",
      "1000 43.26 %\n",
      "1050 42.39 %\n",
      "1100 43.480000000000004 %\n",
      "1150 43.7 %\n",
      "1200 43.7 %\n",
      "1250 43.7 %\n",
      "1300 43.480000000000004 %\n",
      "1350 43.7 %\n",
      "1400 43.7 %\n",
      "1450 43.7 %\n",
      "1500 43.91 %\n",
      "1550 43.7 %\n",
      "1600 43.480000000000004 %\n",
      "1650 43.7 %\n",
      "1700 43.480000000000004 %\n",
      "1750 43.480000000000004 %\n",
      "1800 43.7 %\n",
      "1850 43.480000000000004 %\n",
      "1900 43.7 %\n",
      "1950 43.7 %\n",
      "2000 44.57 %\n"
     ]
    }
   ],
   "source": [
    "for i in range(50,2001,50):\n",
    "    ada = AdaBoostClassifier(n_estimators=i, algorithm=\"SAMME\", random_state=0)\n",
    "    ada.fit(X_train1,y_train1)\n",
    "    pred_ada = ada.predict(X_test1)\n",
    "    print(i,round(np.sum([y_test1==pred_ada])/len(y_test1),4)*100,\"%\")"
   ]
  },
  {
   "cell_type": "code",
   "execution_count": 23,
   "metadata": {},
   "outputs": [
    {
     "name": "stdout",
     "output_type": "stream",
     "text": [
      "              precision    recall  f1-score   support\n",
      "\n",
      "           0       0.33      0.35      0.34       110\n",
      "           2       0.43      0.58      0.50       100\n",
      "           9       0.45      0.39      0.42       111\n",
      "          11       0.57      0.47      0.52       139\n",
      "\n",
      "    accuracy                           0.45       460\n",
      "   macro avg       0.45      0.45      0.44       460\n",
      "weighted avg       0.46      0.45      0.45       460\n",
      "\n",
      "44.57 %\n"
     ]
    },
    {
     "data": {
      "image/png": "[encoded data removed]",
      "text/plain": [
       "<Figure size 600x600 with 2 Axes>"
      ]
     },
     "metadata": {},
     "output_type": "display_data"
    }
   ],
   "source": [
    "ada1 = AdaBoostClassifier(n_estimators=2000, algorithm=\"SAMME\",random_state=0)\n",
    "ada1.fit(X_train1,y_train1)\n",
    "pred_ada1 = ada1.predict(X_test1)\n",
    "Confusion_Matrix(confusion_matrix(y_test1,pred_ada1))\n",
    "print(classification_report(y_test1, pred_ada1))\n",
    "print(round(np.sum([y_test1==pred_ada1])/len(y_test1),4)*100,\"%\")\n",
    "results.append(['lines and circles', 'Adaboost',round(np.sum([y_test1==pred_ada1])/len(y_test1),4)*100 ])"
   ]
  },
  {
   "cell_type": "markdown",
   "metadata": {},
   "source": [
    "#### Random Forest"
   ]
  },
  {
   "cell_type": "code",
   "execution_count": 24,
   "metadata": {},
   "outputs": [
    {
     "name": "stdout",
     "output_type": "stream",
     "text": [
      "40 2 38.04 %\n",
      "40 3 36.96 %\n",
      "40 4 37.169999999999995 %\n",
      "60 2 37.61 %\n",
      "60 3 37.61 %\n",
      "60 4 36.74 %\n",
      "80 2 38.26 %\n",
      "80 3 37.39 %\n",
      "80 4 36.52 %\n",
      "100 2 38.04 %\n",
      "100 3 37.39 %\n",
      "100 4 36.74 %\n",
      "120 2 38.26 %\n",
      "120 3 37.169999999999995 %\n",
      "120 4 36.52 %\n",
      "140 2 37.61 %\n",
      "140 3 36.74 %\n",
      "140 4 36.96 %\n",
      "160 2 38.26 %\n",
      "160 3 36.74 %\n",
      "160 4 36.96 %\n",
      "180 2 38.04 %\n",
      "180 3 37.169999999999995 %\n",
      "180 4 36.74 %\n",
      "200 2 38.26 %\n",
      "200 3 37.169999999999995 %\n",
      "200 4 36.74 %\n",
      "220 2 37.61 %\n",
      "220 3 36.96 %\n",
      "220 4 36.74 %\n",
      "240 2 37.830000000000005 %\n",
      "240 3 36.96 %\n",
      "240 4 36.52 %\n",
      "260 2 38.26 %\n",
      "260 3 36.74 %\n",
      "260 4 36.74 %\n",
      "280 2 37.830000000000005 %\n",
      "280 3 36.74 %\n",
      "280 4 36.52 %\n",
      "300 2 38.26 %\n",
      "300 3 36.96 %\n",
      "300 4 36.52 %\n",
      "320 2 38.04 %\n",
      "320 3 36.74 %\n",
      "320 4 36.09 %\n",
      "340 2 38.04 %\n",
      "340 3 36.52 %\n",
      "340 4 36.09 %\n",
      "360 2 38.04 %\n",
      "360 3 36.74 %\n",
      "360 4 36.3 %\n",
      "380 2 38.48 %\n",
      "380 3 37.39 %\n",
      "380 4 36.3 %\n",
      "400 2 38.26 %\n",
      "400 3 37.169999999999995 %\n",
      "400 4 36.52 %\n",
      "420 2 38.04 %\n",
      "420 3 37.61 %\n",
      "420 4 36.52 %\n",
      "440 2 38.04 %\n",
      "440 3 37.169999999999995 %\n",
      "440 4 36.74 %\n",
      "460 2 38.48 %\n",
      "460 3 37.39 %\n",
      "460 4 36.74 %\n",
      "480 2 38.48 %\n",
      "480 3 37.830000000000005 %\n",
      "480 4 36.96 %\n",
      "500 2 38.48 %\n",
      "500 3 37.61 %\n",
      "500 4 37.39 %\n"
     ]
    }
   ],
   "source": [
    "for i in range(40,501,20):\n",
    "    for j in range(2,5):\n",
    "        RF = RandomForestClassifier(n_estimators=i, max_depth=None,min_samples_split=j, random_state=0)\n",
    "        RF.fit(X_train1,y_train1)\n",
    "        pred_RF = RF.predict(X_test1)\n",
    "        print(i,j,round(np.sum([y_test1==pred_RF])/len(y_test1),4)*100,\"%\")"
   ]
  },
  {
   "cell_type": "code",
   "execution_count": 25,
   "metadata": {},
   "outputs": [
    {
     "name": "stdout",
     "output_type": "stream",
     "text": [
      "              precision    recall  f1-score   support\n",
      "\n",
      "           0       0.29      0.30      0.29       110\n",
      "           2       0.39      0.42      0.40       100\n",
      "           9       0.41      0.48      0.44       111\n",
      "          11       0.45      0.35      0.39       139\n",
      "\n",
      "    accuracy                           0.38       460\n",
      "   macro avg       0.38      0.39      0.38       460\n",
      "weighted avg       0.39      0.38      0.38       460\n",
      "\n",
      "38.48 %\n"
     ]
    },
    {
     "data": {
      "image/png": "[encoded data removed]",
      "text/plain": [
       "<Figure size 600x600 with 2 Axes>"
      ]
     },
     "metadata": {},
     "output_type": "display_data"
    }
   ],
   "source": [
    "RF1 = RandomForestClassifier(n_estimators=460, max_depth=None,min_samples_split=2, random_state=0)\n",
    "RF1.fit(X_train1,y_train1)\n",
    "pred_RF1 = RF1.predict(X_test1)\n",
    "Confusion_Matrix(confusion_matrix(y_test1,pred_RF1))\n",
    "print(classification_report(y_test1, pred_RF1))\n",
    "print(round(np.sum([y_test1==pred_RF1])/len(y_test1),4)*100,\"%\")\n",
    "results.append(['lines and circles', 'Random Forest',round(np.sum([y_test1==pred_RF1])/len(y_test1),4)*100 ])"
   ]
  },
  {
   "cell_type": "markdown",
   "metadata": {},
   "source": [
    "#### Logistic Regression"
   ]
  },
  {
   "cell_type": "code",
   "execution_count": 26,
   "metadata": {},
   "outputs": [
    {
     "name": "stdout",
     "output_type": "stream",
     "text": [
      "l1 liblinear 0.1 26.090000000000003 %\n",
      "l1 liblinear 0.01 40.43 %\n",
      "l1 liblinear 0.001 40.22 %\n",
      "l1 saga 0.1 24.349999999999998 %\n",
      "l1 saga 0.01 28.48 %\n",
      "l1 saga 0.001 34.35 %\n",
      "l2 lbfgs 0.1 40.43 %\n",
      "l2 lbfgs 0.01 40.43 %\n",
      "l2 lbfgs 0.001 40.43 %\n",
      "l2 liblinear 0.1 21.740000000000002 %\n",
      "l2 liblinear 0.01 21.959999999999997 %\n",
      "l2 liblinear 0.001 39.57 %\n",
      "l2 newton-cg 0.1 40.22 %\n",
      "l2 newton-cg 0.01 40.22 %\n",
      "l2 newton-cg 0.001 40.22 %\n",
      "l2 sag 0.1 26.96 %\n",
      "l2 sag 0.01 31.09 %\n",
      "l2 sag 0.001 33.910000000000004 %\n",
      "l2 saga 0.1 24.349999999999998 %\n",
      "l2 saga 0.01 28.48 %\n",
      "l2 saga 0.001 34.35 %\n"
     ]
    }
   ],
   "source": [
    "penilties = [\"l1\",\"l2\",\"elasticnet\"]\n",
    "solvers = [\"lbfgs\",\"liblinear\",\"newton-cg\",\"newton-cholesky\",\"sag\",\"saga\"]\n",
    "tols= [0.1 ,0.01, 0.001]\n",
    "\n",
    "for i in penilties:\n",
    "    for j in solvers:\n",
    "        for k in tols:\n",
    "            try:\n",
    "                LR = LogisticRegression(penalty=i, solver=j, tol=k, max_iter=10000,random_state=0)\n",
    "                LR.fit(X_train1,y_train1)\n",
    "                pred_LR = LR.predict(X_test1)\n",
    "                print(i,j,k,round(np.sum([y_test1==pred_LR])/len(y_test1),4)*100,\"%\")\n",
    "            except:\n",
    "                pass\n",
    "        "
   ]
  },
  {
   "cell_type": "code",
   "execution_count": 27,
   "metadata": {},
   "outputs": [
    {
     "name": "stdout",
     "output_type": "stream",
     "text": [
      "              precision    recall  f1-score   support\n",
      "\n",
      "           0       0.27      0.50      0.35       110\n",
      "           2       0.43      0.63      0.51       100\n",
      "           9       0.70      0.28      0.40       111\n",
      "          11       0.55      0.27      0.36       139\n",
      "\n",
      "    accuracy                           0.40       460\n",
      "   macro avg       0.49      0.42      0.41       460\n",
      "weighted avg       0.50      0.40      0.40       460\n",
      "\n",
      "40.43 %\n"
     ]
    },
    {
     "data": {
      "image/png": "[encoded data removed]",
      "text/plain": [
       "<Figure size 600x600 with 2 Axes>"
      ]
     },
     "metadata": {},
     "output_type": "display_data"
    }
   ],
   "source": [
    "LR1 = LogisticRegression(penalty=\"l1\", solver=\"liblinear\", tol=0.01, max_iter=10000, random_state=0)\n",
    "LR1.fit(X_train1,y_train1)\n",
    "pred_LR1 = LR1.predict(X_test1)\n",
    "Confusion_Matrix(confusion_matrix(y_test1,pred_LR1))\n",
    "print(classification_report(y_test1, pred_LR1))\n",
    "print(round(np.sum([y_test1==pred_LR1])/len(y_test1),4)*100,\"%\")\n",
    "results.append(['lines and circles', 'Logistic Regression',round(np.sum([y_test1==pred_LR1])/len(y_test1),4)*100 ])"
   ]
  },
  {
   "cell_type": "markdown",
   "metadata": {},
   "source": [
    "# RUN ON DATA SET WITH HISTOGRAM DATA"
   ]
  },
  {
   "cell_type": "markdown",
   "metadata": {},
   "source": [
    "#### SVM"
   ]
  },
  {
   "cell_type": "code",
   "execution_count": 28,
   "metadata": {},
   "outputs": [
    {
     "name": "stdout",
     "output_type": "stream",
     "text": [
      "OneVsOneClassifier\n",
      "hinge l2 48.699999999999996 %\n",
      "squared_hinge l2 48.699999999999996 %\n",
      "OutputCodeClassifier\n",
      "hinge l2 38.7 %\n",
      "squared_hinge l2 44.13 %\n",
      "OneVsRestClassifier\n",
      "hinge l2 42.83 %\n",
      "squared_hinge l2 42.83 %\n"
     ]
    }
   ],
   "source": [
    "losses = [\"hinge\",\"squared_hinge\"]\n",
    "penalties = [\"l1\",\"l2\"]\n",
    "\n",
    "print(\"OneVsOneClassifier\")\n",
    "for i in losses:\n",
    "    for j in penalties:\n",
    "        try:\n",
    "            svm =  OneVsOneClassifier(LinearSVC(random_state=0, loss=i,penalty=j,)).fit(X_train2, y_train2)\n",
    "            pred_svm = svm.predict(X_test2)\n",
    "            print(i,j,round(np.sum([y_test2==pred_svm])/len(y_test2),4)*100,\"%\")\n",
    "        except:\n",
    "            pass\n",
    "\n",
    "print(\"OutputCodeClassifier\")\n",
    "for i in losses:\n",
    "    for j in penalties:\n",
    "        try:\n",
    "            svm =  OutputCodeClassifier(LinearSVC(random_state=0, loss=i,penalty=j,)).fit(X_train2, y_train2)\n",
    "            pred_svm = svm.predict(X_test2)\n",
    "            print(i,j,round(np.sum([y_test2==pred_svm])/len(y_test2),4)*100,\"%\")\n",
    "        except:\n",
    "            pass\n",
    "\n",
    "\n",
    "print(\"OneVsRestClassifier\")\n",
    "for i in losses:\n",
    "    for j in penalties:\n",
    "        try:\n",
    "            svm =  OneVsRestClassifier(LinearSVC(random_state=0, loss=i,penalty=j,)).fit(X_train2, y_train2)\n",
    "            pred_svm = svm.predict(X_test2)\n",
    "            print(i,j,round(np.sum([y_test2==pred_svm])/len(y_test2),4)*100,\"%\")\n",
    "        except:\n",
    "            pass"
   ]
  },
  {
   "cell_type": "code",
   "execution_count": 29,
   "metadata": {},
   "outputs": [
    {
     "name": "stdout",
     "output_type": "stream",
     "text": [
      "              precision    recall  f1-score   support\n",
      "\n",
      "           0       0.41      0.55      0.47       110\n",
      "           2       0.44      0.42      0.43       100\n",
      "           9       0.40      0.30      0.34       111\n",
      "          11       0.66      0.63      0.65       139\n",
      "\n",
      "    accuracy                           0.49       460\n",
      "   macro avg       0.48      0.48      0.47       460\n",
      "weighted avg       0.49      0.49      0.48       460\n",
      "\n",
      "48.699999999999996 %\n"
     ]
    },
    {
     "data": {
      "image/png": "[encoded data removed]",
      "text/plain": [
       "<Figure size 600x600 with 2 Axes>"
      ]
     },
     "metadata": {},
     "output_type": "display_data"
    }
   ],
   "source": [
    "svm2 =  OneVsOneClassifier(LinearSVC(random_state=0, loss=\"hinge\",penalty=\"l2\")).fit(X_train2, y_train2)\n",
    "pred_svm2 = svm2.predict(X_test2)\n",
    "Confusion_Matrix(confusion_matrix(y_test2,pred_svm2))\n",
    "print(classification_report(y_test2, pred_svm2))\n",
    "print(round(np.sum([y_test2==pred_svm2])/len(y_test2),4)*100,\"%\")\n",
    "results.append(['histogram', 'SVM',round(np.sum([y_test2==pred_svm2])/len(y_test2),4)*100 ])"
   ]
  },
  {
   "cell_type": "markdown",
   "metadata": {},
   "source": [
    "#### KNN"
   ]
  },
  {
   "cell_type": "code",
   "execution_count": 30,
   "metadata": {},
   "outputs": [
    {
     "name": "stdout",
     "output_type": "stream",
     "text": [
      "1 53.480000000000004 %\n",
      "2 45.43 %\n",
      "3 49.78 %\n",
      "4 48.480000000000004 %\n",
      "5 48.04 %\n",
      "6 49.57 %\n",
      "7 49.78 %\n",
      "8 48.91 %\n",
      "9 48.91 %\n",
      "10 47.61 %\n",
      "11 48.699999999999996 %\n",
      "12 47.17 %\n",
      "13 47.39 %\n",
      "14 47.83 %\n",
      "15 47.83 %\n",
      "16 48.91 %\n",
      "17 46.96 %\n",
      "18 46.96 %\n",
      "19 47.61 %\n",
      "20 47.83 %\n",
      "21 46.300000000000004 %\n",
      "22 45.65 %\n",
      "23 45.22 %\n",
      "24 46.96 %\n",
      "25 47.17 %\n",
      "26 47.83 %\n",
      "27 46.300000000000004 %\n",
      "28 46.300000000000004 %\n",
      "29 46.739999999999995 %\n",
      "30 46.300000000000004 %\n",
      "31 46.300000000000004 %\n",
      "32 46.52 %\n",
      "33 46.52 %\n",
      "34 46.96 %\n",
      "35 45.65 %\n",
      "36 45.43 %\n",
      "37 44.57 %\n",
      "38 43.91 %\n",
      "39 43.91 %\n",
      "40 43.91 %\n",
      "41 44.57 %\n",
      "42 41.959999999999994 %\n",
      "43 43.04 %\n",
      "44 43.7 %\n",
      "45 43.91 %\n",
      "46 42.83 %\n",
      "47 42.17 %\n",
      "48 43.91 %\n",
      "49 43.04 %\n",
      "50 42.83 %\n"
     ]
    }
   ],
   "source": [
    "for i in range(1,51):\n",
    "    neigh = KNeighborsClassifier(n_neighbors=i)\n",
    "    neigh.fit(X_train2,y_train2)\n",
    "    pred_knn = neigh.predict(X_test2)\n",
    "    print(i,round(np.sum([y_test2==pred_knn])/len(y_test2),4)*100,\"%\")"
   ]
  },
  {
   "cell_type": "code",
   "execution_count": 31,
   "metadata": {},
   "outputs": [
    {
     "name": "stdout",
     "output_type": "stream",
     "text": [
      "              precision    recall  f1-score   support\n",
      "\n",
      "           0       0.39      0.65      0.49       110\n",
      "           2       0.50      0.47      0.48       100\n",
      "           9       0.45      0.28      0.34       111\n",
      "          11       0.71      0.57      0.63       139\n",
      "\n",
      "    accuracy                           0.50       460\n",
      "   macro avg       0.51      0.49      0.49       460\n",
      "weighted avg       0.52      0.50      0.50       460\n",
      "\n",
      "49.78 %\n"
     ]
    },
    {
     "data": {
      "image/png": "[encoded data removed]",
      "text/plain": [
       "<Figure size 600x600 with 2 Axes>"
      ]
     },
     "metadata": {},
     "output_type": "display_data"
    }
   ],
   "source": [
    "neigh2 = KNeighborsClassifier(n_neighbors=3)\n",
    "neigh2.fit(X_train2,y_train2)\n",
    "pred_knn2 = neigh2.predict(X_test2)\n",
    "Confusion_Matrix(confusion_matrix(y_test2,pred_knn2))\n",
    "print(classification_report(y_test2, pred_knn2))\n",
    "print(round(np.sum([y_test2==pred_knn2])/len(y_test2),4)*100,\"%\")\n",
    "results.append(['histogram', 'KNN',round(np.sum([y_test2==pred_knn2])/len(y_test2),4)*100 ])"
   ]
  },
  {
   "cell_type": "markdown",
   "metadata": {},
   "source": [
    "#### Adaboost"
   ]
  },
  {
   "cell_type": "code",
   "execution_count": 32,
   "metadata": {},
   "outputs": [
    {
     "name": "stdout",
     "output_type": "stream",
     "text": [
      "50 55.65 %\n",
      "100 59.78 %\n",
      "150 59.78 %\n",
      "200 58.26 %\n",
      "250 58.26 %\n",
      "300 58.26 %\n",
      "350 58.26 %\n",
      "400 58.48 %\n",
      "450 58.26 %\n",
      "500 58.26 %\n",
      "550 57.60999999999999 %\n",
      "600 57.60999999999999 %\n",
      "650 58.26 %\n",
      "700 58.040000000000006 %\n",
      "750 59.35 %\n",
      "800 58.48 %\n",
      "850 58.699999999999996 %\n",
      "900 58.699999999999996 %\n",
      "950 58.699999999999996 %\n",
      "1000 59.35 %\n",
      "1050 58.699999999999996 %\n",
      "1100 58.48 %\n",
      "1150 59.13 %\n",
      "1200 58.91 %\n",
      "1250 59.78 %\n",
      "1300 59.57 %\n",
      "1350 59.57 %\n",
      "1400 60.0 %\n",
      "1450 59.57 %\n",
      "1500 59.78 %\n",
      "1550 59.35 %\n",
      "1600 58.699999999999996 %\n",
      "1650 58.48 %\n",
      "1700 58.91 %\n",
      "1750 58.48 %\n",
      "1800 58.699999999999996 %\n",
      "1850 59.13 %\n",
      "1900 58.91 %\n",
      "1950 59.13 %\n",
      "2000 59.13 %\n"
     ]
    }
   ],
   "source": [
    "for i in range(50,2001,50):\n",
    "    ada = AdaBoostClassifier(n_estimators=i, algorithm=\"SAMME\", random_state=0)\n",
    "    ada.fit(X_train2,y_train2)\n",
    "    pred_ada = ada.predict(X_test2)\n",
    "    print(i,round(np.sum([y_test2==pred_ada])/len(y_test2),4)*100,\"%\")"
   ]
  },
  {
   "cell_type": "code",
   "execution_count": 33,
   "metadata": {},
   "outputs": [
    {
     "name": "stdout",
     "output_type": "stream",
     "text": [
      "              precision    recall  f1-score   support\n",
      "\n",
      "           0       0.60      0.67      0.64       110\n",
      "           2       0.55      0.52      0.53       100\n",
      "           9       0.52      0.55      0.54       111\n",
      "          11       0.71      0.64      0.67       139\n",
      "\n",
      "    accuracy                           0.60       460\n",
      "   macro avg       0.60      0.60      0.59       460\n",
      "weighted avg       0.60      0.60      0.60       460\n",
      "\n",
      "60.0 %\n"
     ]
    },
    {
     "data": {
      "image/png": "[encoded data removed]",
      "text/plain": [
       "<Figure size 600x600 with 2 Axes>"
      ]
     },
     "metadata": {},
     "output_type": "display_data"
    }
   ],
   "source": [
    "ada2 = AdaBoostClassifier(n_estimators=1400, algorithm=\"SAMME\",random_state=0)\n",
    "ada2.fit(X_train2,y_train2)\n",
    "pred_ada2 = ada2.predict(X_test2)\n",
    "Confusion_Matrix(confusion_matrix(y_test2,pred_ada2))\n",
    "print(classification_report(y_test2, pred_ada2))\n",
    "print(round(np.sum([y_test2==pred_ada2])/len(y_test2),4)*100,\"%\")\n",
    "results.append(['histogram', 'Adaboost',round(np.sum([y_test2==pred_ada2])/len(y_test2),4)*100 ])"
   ]
  },
  {
   "cell_type": "markdown",
   "metadata": {},
   "source": [
    "#### Random Forset"
   ]
  },
  {
   "cell_type": "code",
   "execution_count": 34,
   "metadata": {},
   "outputs": [
    {
     "name": "stdout",
     "output_type": "stream",
     "text": [
      "40 2 65.86999999999999 %\n",
      "40 3 64.13 %\n",
      "40 4 65.42999999999999 %\n",
      "60 2 66.74 %\n",
      "60 3 66.09 %\n",
      "60 4 65.86999999999999 %\n",
      "80 2 66.3 %\n",
      "80 3 65.42999999999999 %\n",
      "80 4 65.42999999999999 %\n",
      "100 2 66.74 %\n",
      "100 3 66.09 %\n",
      "100 4 65.22 %\n",
      "120 2 66.74 %\n",
      "120 3 66.3 %\n",
      "120 4 65.64999999999999 %\n",
      "140 2 67.17 %\n",
      "140 3 67.39 %\n",
      "140 4 65.64999999999999 %\n",
      "160 2 66.3 %\n",
      "160 3 66.96 %\n",
      "160 4 65.22 %\n",
      "180 2 67.17 %\n",
      "180 3 66.3 %\n",
      "180 4 65.86999999999999 %\n",
      "200 2 67.17 %\n",
      "200 3 66.3 %\n",
      "200 4 66.3 %\n",
      "220 2 67.39 %\n",
      "220 3 66.96 %\n",
      "220 4 65.42999999999999 %\n",
      "240 2 66.96 %\n",
      "240 3 67.39 %\n",
      "240 4 66.3 %\n",
      "260 2 67.61 %\n",
      "260 3 67.39 %\n",
      "260 4 65.86999999999999 %\n",
      "280 2 67.17 %\n",
      "280 3 67.17 %\n",
      "280 4 66.09 %\n",
      "300 2 66.74 %\n",
      "300 3 67.17 %\n",
      "300 4 65.86999999999999 %\n",
      "320 2 66.74 %\n",
      "320 3 67.17 %\n",
      "320 4 66.09 %\n",
      "340 2 67.17 %\n",
      "340 3 67.61 %\n",
      "340 4 66.52 %\n",
      "360 2 66.74 %\n",
      "360 3 67.17 %\n",
      "360 4 66.09 %\n",
      "380 2 66.52 %\n",
      "380 3 67.17 %\n",
      "380 4 66.3 %\n",
      "400 2 66.74 %\n",
      "400 3 67.17 %\n",
      "400 4 66.96 %\n",
      "420 2 66.96 %\n",
      "420 3 67.83 %\n",
      "420 4 66.96 %\n",
      "440 2 66.74 %\n",
      "440 3 67.17 %\n",
      "440 4 66.74 %\n",
      "460 2 66.52 %\n",
      "460 3 67.39 %\n",
      "460 4 66.96 %\n",
      "480 2 67.39 %\n",
      "480 3 67.17 %\n",
      "480 4 66.96 %\n",
      "500 2 67.61 %\n",
      "500 3 67.61 %\n",
      "500 4 66.74 %\n"
     ]
    }
   ],
   "source": [
    "for i in range(40,501,20):\n",
    "    for j in range(2,5):\n",
    "        RF = RandomForestClassifier(n_estimators=i, max_depth=None,min_samples_split=j, random_state=0)\n",
    "        RF.fit(X_train2,y_train2)\n",
    "        pred_RF = RF.predict(X_test2)\n",
    "        print(i,j,round(np.sum([y_test2==pred_RF])/len(y_test2),4)*100,\"%\")"
   ]
  },
  {
   "cell_type": "code",
   "execution_count": 35,
   "metadata": {},
   "outputs": [
    {
     "name": "stdout",
     "output_type": "stream",
     "text": [
      "              precision    recall  f1-score   support\n",
      "\n",
      "           0       0.66      0.75      0.71       110\n",
      "           2       0.71      0.62      0.66       100\n",
      "           9       0.59      0.62      0.61       111\n",
      "          11       0.73      0.69      0.71       139\n",
      "\n",
      "    accuracy                           0.67       460\n",
      "   macro avg       0.67      0.67      0.67       460\n",
      "weighted avg       0.68      0.67      0.67       460\n",
      "\n",
      "67.39 %\n"
     ]
    },
    {
     "data": {
      "image/png": "[encoded data removed]",
      "text/plain": [
       "<Figure size 600x600 with 2 Axes>"
      ]
     },
     "metadata": {},
     "output_type": "display_data"
    }
   ],
   "source": [
    "RF2 = RandomForestClassifier(n_estimators=140, max_depth=None,min_samples_split=3, random_state=0)\n",
    "RF2.fit(X_train2,y_train2)\n",
    "pred_RF2 = RF2.predict(X_test2)\n",
    "Confusion_Matrix(confusion_matrix(y_test2,pred_RF2))\n",
    "print(classification_report(y_test2, pred_RF2))\n",
    "print(round(np.sum([y_test2==pred_RF2])/len(y_test2),4)*100,\"%\")\n",
    "results.append(['histogram', 'Random Forest',round(np.sum([y_test2==pred_RF2])/len(y_test2),4)*100 ])"
   ]
  },
  {
   "cell_type": "markdown",
   "metadata": {},
   "source": [
    "#### Logistic Regression"
   ]
  },
  {
   "cell_type": "code",
   "execution_count": 36,
   "metadata": {},
   "outputs": [
    {
     "name": "stdout",
     "output_type": "stream",
     "text": [
      "l1 liblinear 0.1 57.830000000000005 %\n",
      "l1 liblinear 0.01 51.959999999999994 %\n",
      "l1 liblinear 0.001 50.64999999999999 %\n",
      "l1 saga 0.1 53.480000000000004 %\n",
      "l1 saga 0.01 58.26 %\n",
      "l1 saga 0.001 55.87 %\n",
      "l2 lbfgs 0.1 49.13 %\n",
      "l2 lbfgs 0.01 49.13 %\n",
      "l2 lbfgs 0.001 49.13 %\n",
      "l2 liblinear 0.1 56.52 %\n",
      "l2 liblinear 0.01 56.089999999999996 %\n",
      "l2 liblinear 0.001 50.43 %\n",
      "l2 newton-cg 0.1 49.13 %\n",
      "l2 newton-cg 0.01 48.91 %\n",
      "l2 newton-cg 0.001 48.91 %\n",
      "l2 sag 0.1 55.65 %\n",
      "l2 sag 0.01 56.96 %\n",
      "l2 sag 0.001 56.3 %\n",
      "l2 saga 0.1 53.480000000000004 %\n",
      "l2 saga 0.01 58.26 %\n",
      "l2 saga 0.001 55.87 %\n"
     ]
    }
   ],
   "source": [
    "penilties = [\"l1\",\"l2\",\"elasticnet\"]\n",
    "solvers = [\"lbfgs\",\"liblinear\",\"newton-cg\",\"newton-cholesky\",\"sag\",\"saga\"]\n",
    "tols= [0.1 ,0.01, 0.001]\n",
    "\n",
    "for i in penilties:\n",
    "    for j in solvers:\n",
    "        for k in tols:\n",
    "            try:\n",
    "                LR = LogisticRegression(penalty=i, solver=j, tol=k, max_iter=10000,random_state=0)\n",
    "                LR.fit(X_train2,y_train2)\n",
    "                pred_LR = LR.predict(X_test2)\n",
    "                print(i,j,k,round(np.sum([y_test2==pred_LR])/len(y_test2),4)*100,\"%\")\n",
    "            except:\n",
    "                pass\n",
    "        "
   ]
  },
  {
   "cell_type": "code",
   "execution_count": 37,
   "metadata": {},
   "outputs": [
    {
     "name": "stdout",
     "output_type": "stream",
     "text": [
      "              precision    recall  f1-score   support\n",
      "\n",
      "           0       0.62      0.58      0.60       110\n",
      "           2       0.52      0.55      0.54       100\n",
      "           9       0.48      0.38      0.42       111\n",
      "          11       0.65      0.77      0.70       139\n",
      "\n",
      "    accuracy                           0.58       460\n",
      "   macro avg       0.57      0.57      0.57       460\n",
      "weighted avg       0.57      0.58      0.58       460\n",
      "\n",
      "58.26 %\n"
     ]
    },
    {
     "data": {
      "image/png": "[encoded data removed]",
      "text/plain": [
       "<Figure size 600x600 with 2 Axes>"
      ]
     },
     "metadata": {},
     "output_type": "display_data"
    }
   ],
   "source": [
    "LR2 = LogisticRegression(penalty=\"l1\", solver=\"saga\", tol=0.01, max_iter=10000, random_state=0)\n",
    "LR2.fit(X_train2,y_train2)\n",
    "pred_LR2 = LR2.predict(X_test2)\n",
    "Confusion_Matrix(confusion_matrix(y_test2,pred_LR2))\n",
    "print(classification_report(y_test2, pred_LR2))\n",
    "print(round(np.sum([y_test2==pred_LR2])/len(y_test2),4)*100,\"%\")\n",
    "results.append(['histogram', 'Logistic Regression',round(np.sum([y_test2==pred_LR2])/len(y_test2),4)*100 ])"
   ]
  },
  {
   "cell_type": "code",
   "execution_count": null,
   "metadata": {},
   "outputs": [],
   "source": []
  },
  {
   "cell_type": "markdown",
   "metadata": {},
   "source": [
    "# RUN ON DATA SET WITH LINES, CIRCLES AND HISTOGRAM DATA"
   ]
  },
  {
   "cell_type": "markdown",
   "metadata": {},
   "source": [
    "#### SVM"
   ]
  },
  {
   "cell_type": "code",
   "execution_count": 38,
   "metadata": {},
   "outputs": [
    {
     "name": "stdout",
     "output_type": "stream",
     "text": [
      "OneVsOneClassifier\n"
     ]
    },
    {
     "name": "stdout",
     "output_type": "stream",
     "text": [
      "hinge l2 47.61 %\n",
      "squared_hinge l2 47.61 %\n",
      "OutputCodeClassifier\n",
      "hinge l2 32.39 %\n",
      "squared_hinge l2 39.129999999999995 %\n",
      "OneVsRestClassifier\n",
      "hinge l2 31.96 %\n",
      "squared_hinge l2 31.96 %\n"
     ]
    }
   ],
   "source": [
    "losses = [\"hinge\",\"squared_hinge\"]\n",
    "penalties = [\"l1\",\"l2\"]\n",
    "\n",
    "print(\"OneVsOneClassifier\")\n",
    "for i in losses:\n",
    "    for j in penalties:\n",
    "        try:\n",
    "            svm =  OneVsOneClassifier(LinearSVC(random_state=0, loss=i,penalty=j,)).fit(X_train3, y_train3)\n",
    "            pred_svm = svm.predict(X_test3)\n",
    "            print(i,j,round(np.sum([y_test3==pred_svm])/len(y_test3),4)*100,\"%\")\n",
    "        except:\n",
    "            pass\n",
    "\n",
    "print(\"OutputCodeClassifier\")\n",
    "for i in losses:\n",
    "    for j in penalties:\n",
    "        try:\n",
    "            svm =  OutputCodeClassifier(LinearSVC(random_state=0, loss=i,penalty=j,)).fit(X_train3, y_train3)\n",
    "            pred_svm = svm.predict(X_test3)\n",
    "            print(i,j,round(np.sum([y_test3==pred_svm])/len(y_test3),4)*100,\"%\")\n",
    "        except:\n",
    "            pass\n",
    "\n",
    "\n",
    "print(\"OneVsRestClassifier\")\n",
    "for i in losses:\n",
    "    for j in penalties:\n",
    "        try:\n",
    "            svm =  OneVsRestClassifier(LinearSVC(random_state=0, loss=i,penalty=j,)).fit(X_train3, y_train3)\n",
    "            pred_svm = svm.predict(X_test3)\n",
    "            print(i,j,round(np.sum([y_test3==pred_svm])/len(y_test3),4)*100,\"%\")\n",
    "        except:\n",
    "            pass\n"
   ]
  },
  {
   "cell_type": "code",
   "execution_count": 39,
   "metadata": {},
   "outputs": [
    {
     "name": "stdout",
     "output_type": "stream",
     "text": [
      "              precision    recall  f1-score   support\n",
      "\n",
      "           0       0.42      0.35      0.38       110\n",
      "           2       0.40      0.52      0.45       100\n",
      "           9       0.38      0.30      0.34       111\n",
      "          11       0.63      0.69      0.66       139\n",
      "\n",
      "    accuracy                           0.48       460\n",
      "   macro avg       0.46      0.46      0.46       460\n",
      "weighted avg       0.47      0.48      0.47       460\n",
      "\n",
      "47.61 %\n"
     ]
    },
    {
     "data": {
      "image/png": "[encoded data removed]",
      "text/plain": [
       "<Figure size 600x600 with 2 Axes>"
      ]
     },
     "metadata": {},
     "output_type": "display_data"
    }
   ],
   "source": [
    "svm3 =  OneVsOneClassifier(LinearSVC(random_state=0, loss=\"hinge\",penalty=\"l2\")).fit(X_train3, y_train3)\n",
    "pred_svm3 = svm3.predict(X_test3)\n",
    "Confusion_Matrix(confusion_matrix(y_test3,pred_svm3))\n",
    "print(classification_report(y_test3, pred_svm3))\n",
    "print(round(np.sum([y_test3==pred_svm3])/len(y_test3),4)*100,\"%\")\n",
    "results.append(['lines, circle, and histogram', 'SVM',round(np.sum([y_test3==pred_svm3])/len(y_test3),4)*100 ])"
   ]
  },
  {
   "cell_type": "markdown",
   "metadata": {},
   "source": [
    "#### KNN"
   ]
  },
  {
   "cell_type": "code",
   "execution_count": 40,
   "metadata": {},
   "outputs": [
    {
     "name": "stdout",
     "output_type": "stream",
     "text": [
      "3 49.57 %\n",
      "5 47.17 %\n",
      "7 47.83 %\n",
      "9 47.39 %\n",
      "11 47.39 %\n",
      "13 48.04 %\n",
      "15 47.83 %\n",
      "17 47.83 %\n",
      "19 48.04 %\n",
      "21 47.17 %\n",
      "23 46.300000000000004 %\n",
      "25 46.089999999999996 %\n",
      "27 45.87 %\n",
      "29 47.61 %\n",
      "31 46.52 %\n",
      "33 46.300000000000004 %\n",
      "35 44.13 %\n",
      "37 44.57 %\n",
      "39 45.0 %\n",
      "41 45.43 %\n",
      "43 43.91 %\n",
      "45 43.480000000000004 %\n",
      "47 43.26 %\n",
      "49 45.0 %\n",
      "51 44.57 %\n",
      "53 42.61 %\n",
      "55 43.04 %\n",
      "57 43.91 %\n",
      "59 43.7 %\n",
      "61 42.39 %\n",
      "63 42.17 %\n",
      "65 42.17 %\n",
      "67 41.089999999999996 %\n",
      "69 40.43 %\n",
      "71 40.22 %\n",
      "73 40.22 %\n",
      "75 40.43 %\n",
      "77 40.22 %\n",
      "79 40.22 %\n",
      "81 40.87 %\n",
      "83 40.43 %\n",
      "85 39.35 %\n",
      "87 37.830000000000005 %\n",
      "89 38.48 %\n",
      "91 38.48 %\n",
      "93 39.57 %\n",
      "95 38.48 %\n",
      "97 38.04 %\n",
      "99 37.169999999999995 %\n"
     ]
    }
   ],
   "source": [
    "for i in range(3,101,2):\n",
    "    neigh = KNeighborsClassifier(n_neighbors=i)\n",
    "    neigh.fit(X_train3,y_train3)\n",
    "    pred_knn = neigh.predict(X_test3)\n",
    "    print(i,round(np.sum([y_test3==pred_knn])/len(y_test3),4)*100,\"%\")\n"
   ]
  },
  {
   "cell_type": "code",
   "execution_count": 41,
   "metadata": {},
   "outputs": [
    {
     "name": "stdout",
     "output_type": "stream",
     "text": [
      "              precision    recall  f1-score   support\n",
      "\n",
      "           0       0.39      0.69      0.50       110\n",
      "           2       0.48      0.41      0.44       100\n",
      "           9       0.50      0.31      0.38       111\n",
      "          11       0.71      0.55      0.62       139\n",
      "\n",
      "    accuracy                           0.50       460\n",
      "   macro avg       0.52      0.49      0.48       460\n",
      "weighted avg       0.53      0.50      0.49       460\n",
      "\n",
      "49.57 %\n"
     ]
    },
    {
     "data": {
      "image/png": "[encoded data removed]",
      "text/plain": [
       "<Figure size 600x600 with 2 Axes>"
      ]
     },
     "metadata": {},
     "output_type": "display_data"
    }
   ],
   "source": [
    "neigh3 = KNeighborsClassifier(n_neighbors=3)\n",
    "neigh3.fit(X_train3,y_train3)\n",
    "pred_knn3 = neigh3.predict(X_test3)\n",
    "Confusion_Matrix(confusion_matrix(y_test3,pred_knn3))\n",
    "print(classification_report(y_test3, pred_knn3))\n",
    "print(round(np.sum([y_test3==pred_knn3])/len(y_test3),4)*100,\"%\")\n",
    "results.append(['lines, circle, and histogram', 'KNN',round(np.sum([y_test3==pred_knn3])/len(y_test3),4)*100 ])"
   ]
  },
  {
   "cell_type": "markdown",
   "metadata": {},
   "source": [
    "#### ADABOOST"
   ]
  },
  {
   "cell_type": "code",
   "execution_count": 42,
   "metadata": {},
   "outputs": [
    {
     "name": "stdout",
     "output_type": "stream",
     "text": [
      "50 56.089999999999996 %\n",
      "100 55.43 %\n",
      "150 56.3 %\n",
      "200 56.089999999999996 %\n",
      "250 58.48 %\n",
      "300 57.60999999999999 %\n",
      "350 56.96 %\n",
      "400 56.96 %\n",
      "450 57.38999999999999 %\n",
      "500 59.13 %\n",
      "550 59.57 %\n",
      "600 58.91 %\n",
      "650 59.57 %\n",
      "700 58.48 %\n",
      "750 59.35 %\n",
      "800 60.0 %\n",
      "850 58.48 %\n",
      "900 58.91 %\n",
      "950 60.0 %\n",
      "1000 60.870000000000005 %\n",
      "1050 60.42999999999999 %\n",
      "1100 60.22 %\n",
      "1150 59.78 %\n",
      "1200 60.0 %\n",
      "1250 60.22 %\n",
      "1300 59.78 %\n",
      "1350 59.57 %\n",
      "1400 60.42999999999999 %\n",
      "1450 60.650000000000006 %\n",
      "1500 59.35 %\n",
      "1550 61.3 %\n",
      "1600 58.91 %\n",
      "1650 59.35 %\n",
      "1700 60.22 %\n",
      "1750 59.78 %\n",
      "1800 59.57 %\n",
      "1850 60.650000000000006 %\n",
      "1900 60.42999999999999 %\n",
      "1950 61.09 %\n",
      "2000 60.42999999999999 %\n"
     ]
    }
   ],
   "source": [
    "for i in range(50,2001,50):\n",
    "    ada = AdaBoostClassifier(n_estimators=i, algorithm=\"SAMME\",random_state=0)\n",
    "    ada.fit(X_train3,y_train3)\n",
    "    pred_ada = ada.predict(X_test3)\n",
    "    print(i,round(np.sum([y_test3==pred_ada])/len(y_test3),4)*100,\"%\")"
   ]
  },
  {
   "cell_type": "code",
   "execution_count": 43,
   "metadata": {},
   "outputs": [
    {
     "name": "stdout",
     "output_type": "stream",
     "text": [
      "              precision    recall  f1-score   support\n",
      "\n",
      "           0       0.56      0.67      0.61       110\n",
      "           2       0.57      0.50      0.53       100\n",
      "           9       0.55      0.59      0.57       111\n",
      "          11       0.75      0.65      0.70       139\n",
      "\n",
      "    accuracy                           0.61       460\n",
      "   macro avg       0.61      0.61      0.60       460\n",
      "weighted avg       0.62      0.61      0.61       460\n",
      "\n",
      "61.09 %\n"
     ]
    },
    {
     "data": {
      "image/png": "[encoded data removed]",
      "text/plain": [
       "<Figure size 600x600 with 2 Axes>"
      ]
     },
     "metadata": {},
     "output_type": "display_data"
    }
   ],
   "source": [
    "ada3 = AdaBoostClassifier(n_estimators=1950, algorithm=\"SAMME\",random_state=0)\n",
    "ada3.fit(X_train3,y_train3)\n",
    "pred_ada3 = ada3.predict(X_test3)\n",
    "Confusion_Matrix(confusion_matrix(y_test3,pred_ada3))\n",
    "print(classification_report(y_test3, pred_ada3))\n",
    "print(round(np.sum([y_test3==pred_ada3])/len(y_test3),4)*100,\"%\")\n",
    "results.append(['lines, circle, and histogram', 'Adaboost',round(np.sum([y_test3==pred_ada3])/len(y_test3),4)*100 ])"
   ]
  },
  {
   "cell_type": "markdown",
   "metadata": {},
   "source": [
    "#### RANDOM FOREST"
   ]
  },
  {
   "cell_type": "code",
   "execution_count": 44,
   "metadata": {},
   "outputs": [
    {
     "name": "stdout",
     "output_type": "stream",
     "text": [
      "40 2 65.0 %\n",
      "40 3 64.13 %\n",
      "40 4 66.52 %\n",
      "60 2 65.0 %\n",
      "60 3 65.42999999999999 %\n",
      "60 4 65.64999999999999 %\n",
      "80 2 67.17 %\n",
      "80 3 65.22 %\n",
      "80 4 66.74 %\n",
      "100 2 66.09 %\n",
      "100 3 66.96 %\n",
      "100 4 66.09 %\n",
      "120 2 67.39 %\n",
      "120 3 66.52 %\n",
      "120 4 66.52 %\n",
      "140 2 66.96 %\n",
      "140 3 67.17 %\n",
      "140 4 66.74 %\n",
      "160 2 66.96 %\n",
      "160 3 68.04 %\n",
      "160 4 66.96 %\n",
      "180 2 66.74 %\n",
      "180 3 67.83 %\n",
      "180 4 67.83 %\n",
      "200 2 66.74 %\n",
      "200 3 67.61 %\n",
      "200 4 67.61 %\n",
      "220 2 66.96 %\n",
      "220 3 66.96 %\n",
      "220 4 67.83 %\n",
      "240 2 66.96 %\n",
      "240 3 66.96 %\n",
      "240 4 67.83 %\n",
      "260 2 66.96 %\n",
      "260 3 66.96 %\n",
      "260 4 68.04 %\n",
      "280 2 66.3 %\n",
      "280 3 66.74 %\n",
      "280 4 68.26 %\n",
      "300 2 67.39 %\n",
      "300 3 67.17 %\n",
      "300 4 68.04 %\n",
      "320 2 67.39 %\n",
      "320 3 66.3 %\n",
      "320 4 67.83 %\n",
      "340 2 67.61 %\n",
      "340 3 66.52 %\n",
      "340 4 68.04 %\n",
      "360 2 67.39 %\n",
      "360 3 66.52 %\n",
      "360 4 67.83 %\n",
      "380 2 67.17 %\n",
      "380 3 67.17 %\n",
      "380 4 68.26 %\n",
      "400 2 67.39 %\n",
      "400 3 67.17 %\n",
      "400 4 68.47999999999999 %\n",
      "420 2 67.17 %\n",
      "420 3 67.83 %\n",
      "420 4 68.47999999999999 %\n",
      "440 2 67.17 %\n",
      "440 3 67.61 %\n",
      "440 4 68.26 %\n",
      "460 2 67.17 %\n",
      "460 3 67.39 %\n",
      "460 4 68.26 %\n",
      "480 2 66.96 %\n",
      "480 3 67.61 %\n",
      "480 4 68.47999999999999 %\n",
      "500 2 66.74 %\n",
      "500 3 67.61 %\n",
      "500 4 68.04 %\n"
     ]
    }
   ],
   "source": [
    "for i in range(40,501,20):\n",
    "    for j in range(2,5):\n",
    "        RF = RandomForestClassifier(n_estimators=i, max_depth=None,min_samples_split=j, random_state=0)\n",
    "        RF.fit(X_train3,y_train3)\n",
    "        pred_RF = RF.predict(X_test3)\n",
    "        print(i,j,round(np.sum([y_test3==pred_RF])/len(y_test3),4)*100,\"%\")"
   ]
  },
  {
   "cell_type": "code",
   "execution_count": 45,
   "metadata": {},
   "outputs": [
    {
     "name": "stdout",
     "output_type": "stream",
     "text": [
      "              precision    recall  f1-score   support\n",
      "\n",
      "           0       0.68      0.74      0.71       110\n",
      "           2       0.72      0.65      0.68       100\n",
      "           9       0.59      0.64      0.61       111\n",
      "          11       0.75      0.71      0.73       139\n",
      "\n",
      "    accuracy                           0.68       460\n",
      "   macro avg       0.69      0.68      0.68       460\n",
      "weighted avg       0.69      0.68      0.69       460\n",
      "\n",
      "68.47999999999999 %\n"
     ]
    },
    {
     "data": {
      "image/png": "[encoded data removed]",
      "text/plain": [
       "<Figure size 600x600 with 2 Axes>"
      ]
     },
     "metadata": {},
     "output_type": "display_data"
    }
   ],
   "source": [
    "RF3 = RandomForestClassifier(n_estimators=400, max_depth=None,min_samples_split=4, random_state=0)\n",
    "RF3.fit(X_train3,y_train3)\n",
    "pred_RF3 = RF3.predict(X_test3)\n",
    "Confusion_Matrix(confusion_matrix(y_test3,pred_RF3))\n",
    "print(classification_report(y_test3, pred_RF3))\n",
    "print(round(np.sum([y_test3==pred_RF3])/len(y_test3),4)*100,\"%\")\n",
    "results.append(['lines, circle, and histogram', 'Random Forest',round(np.sum([y_test3==pred_RF3])/len(y_test3),4)*100 ])"
   ]
  },
  {
   "cell_type": "markdown",
   "metadata": {},
   "source": [
    "#### LOGISTIC REGRESSION"
   ]
  },
  {
   "cell_type": "code",
   "execution_count": 46,
   "metadata": {},
   "outputs": [
    {
     "name": "stdout",
     "output_type": "stream",
     "text": [
      "l1 liblinear 0.1 56.74 %\n",
      "l1 liblinear 0.01 53.04 %\n",
      "l1 liblinear 0.001 50.870000000000005 %\n",
      "l1 saga 0.1 52.61 %\n",
      "l1 saga 0.01 56.3 %\n",
      "l1 saga 0.001 55.22 %\n",
      "l2 lbfgs 0.1 50.0 %\n",
      "l2 lbfgs 0.01 50.0 %\n",
      "l2 lbfgs 0.001 50.0 %\n",
      "l2 liblinear 0.1 55.22 %\n",
      "l2 liblinear 0.01 55.65 %\n",
      "l2 liblinear 0.001 50.870000000000005 %\n",
      "l2 newton-cg 0.1 48.04 %\n",
      "l2 newton-cg 0.01 48.699999999999996 %\n",
      "l2 newton-cg 0.001 48.699999999999996 %\n",
      "l2 sag 0.1 55.43 %\n",
      "l2 sag 0.01 56.089999999999996 %\n",
      "l2 sag 0.001 55.43 %\n",
      "l2 saga 0.1 52.61 %\n",
      "l2 saga 0.01 56.3 %\n",
      "l2 saga 0.001 55.22 %\n"
     ]
    }
   ],
   "source": [
    "penilties = [\"l1\",\"l2\",\"elasticnet\"]\n",
    "solvers = [\"lbfgs\",\"liblinear\",\"newton-cg\",\"newton-cholesky\",\"sag\",\"saga\"]\n",
    "tols= [0.1 ,0.01, 0.001]\n",
    "\n",
    "for i in penilties:\n",
    "    for j in solvers:\n",
    "        for k in tols:\n",
    "            try:\n",
    "                LR = LogisticRegression(penalty=i, solver=j, tol=k, max_iter=10000, random_state =0)\n",
    "                LR.fit(X_train3,y_train3)\n",
    "                pred_LR = LR.predict(X_test3)\n",
    "                print(i,j,k,round(np.sum([y_test3==pred_LR])/len(y_test3),4)*100,\"%\")\n",
    "            except:\n",
    "                pass"
   ]
  },
  {
   "cell_type": "code",
   "execution_count": 47,
   "metadata": {},
   "outputs": [
    {
     "name": "stdout",
     "output_type": "stream",
     "text": [
      "              precision    recall  f1-score   support\n",
      "\n",
      "           0       0.57      0.58      0.58       110\n",
      "           2       0.55      0.51      0.53       100\n",
      "           9       0.47      0.32      0.38       111\n",
      "          11       0.62      0.79      0.69       139\n",
      "\n",
      "    accuracy                           0.57       460\n",
      "   macro avg       0.55      0.55      0.55       460\n",
      "weighted avg       0.56      0.57      0.55       460\n",
      "\n",
      "56.74 %\n"
     ]
    },
    {
     "data": {
      "image/png": "[encoded data removed]",
      "text/plain": [
       "<Figure size 600x600 with 2 Axes>"
      ]
     },
     "metadata": {},
     "output_type": "display_data"
    }
   ],
   "source": [
    "LR3 = LogisticRegression(penalty=\"l1\", solver=\"liblinear\", tol=0.1, max_iter=10000, random_state = 0)\n",
    "LR3.fit(X_train3,y_train3)\n",
    "pred_LR3 = LR3.predict(X_test3)\n",
    "Confusion_Matrix(confusion_matrix(y_test3,pred_LR3))\n",
    "print(classification_report(y_test3, pred_LR3))\n",
    "print(round(np.sum([y_test3==pred_LR3])/len(y_test3),4)*100,\"%\")\n",
    "results.append(['lines, circle, and histogram', 'Logistic Regression',round(np.sum([y_test3==pred_LR3])/len(y_test3),4)*100 ])"
   ]
  },
  {
   "cell_type": "markdown",
   "metadata": {},
   "source": [
    "# RUN ON LINES CIRCLES AND HIST WITH PCA"
   ]
  },
  {
   "cell_type": "code",
   "execution_count": 48,
   "metadata": {},
   "outputs": [],
   "source": [
    "pca1=PCA(n_components=100)\n",
    "X_train4=pca1.fit_transform(X_train3)\n",
    "X_test4=pca1.transform(X_test3)\n",
    "final_test_X4 = pca1.transform(final_test_X)\n",
    "y_train4 = y_train3\n",
    "y_test4 = y_test3"
   ]
  },
  {
   "cell_type": "code",
   "execution_count": 72,
   "metadata": {},
   "outputs": [
    {
     "name": "stdout",
     "output_type": "stream",
     "text": [
      "(1073, 100)\n",
      "(460, 100)\n",
      "(383, 100)\n"
     ]
    }
   ],
   "source": [
    "print(X_train4.shape)\n",
    "print(X_test4.shape)\n",
    "print(final_test_X4.shape)\n"
   ]
  },
  {
   "cell_type": "code",
   "execution_count": 76,
   "metadata": {},
   "outputs": [
    {
     "data": {
      "text/html": [
       "<div>\n",
       "<style scoped>\n",
       "    .dataframe tbody tr th:only-of-type {\n",
       "        vertical-align: middle;\n",
       "    }\n",
       "\n",
       "    .dataframe tbody tr th {\n",
       "        vertical-align: top;\n",
       "    }\n",
       "\n",
       "    .dataframe thead th {\n",
       "        text-align: right;\n",
       "    }\n",
       "</style>\n",
       "<table border=\"1\" class=\"dataframe\">\n",
       "  <thead>\n",
       "    <tr style=\"text-align: right;\">\n",
       "      <th></th>\n",
       "      <th>0</th>\n",
       "      <th>1</th>\n",
       "      <th>2</th>\n",
       "      <th>3</th>\n",
       "      <th>4</th>\n",
       "      <th>5</th>\n",
       "      <th>6</th>\n",
       "      <th>7</th>\n",
       "      <th>8</th>\n",
       "      <th>9</th>\n",
       "      <th>...</th>\n",
       "      <th>91</th>\n",
       "      <th>92</th>\n",
       "      <th>93</th>\n",
       "      <th>94</th>\n",
       "      <th>95</th>\n",
       "      <th>96</th>\n",
       "      <th>97</th>\n",
       "      <th>98</th>\n",
       "      <th>99</th>\n",
       "      <th>class_number</th>\n",
       "    </tr>\n",
       "  </thead>\n",
       "  <tbody>\n",
       "    <tr>\n",
       "      <th>0</th>\n",
       "      <td>28246.205763</td>\n",
       "      <td>-843.807038</td>\n",
       "      <td>-46.007739</td>\n",
       "      <td>-95.305677</td>\n",
       "      <td>-101.223269</td>\n",
       "      <td>-64.211995</td>\n",
       "      <td>-248.771656</td>\n",
       "      <td>-335.086622</td>\n",
       "      <td>-188.979868</td>\n",
       "      <td>-766.604241</td>\n",
       "      <td>...</td>\n",
       "      <td>120.949412</td>\n",
       "      <td>-7.659435</td>\n",
       "      <td>-24.183418</td>\n",
       "      <td>180.480598</td>\n",
       "      <td>111.549484</td>\n",
       "      <td>7.872206</td>\n",
       "      <td>-99.754496</td>\n",
       "      <td>171.250702</td>\n",
       "      <td>-5.758994</td>\n",
       "      <td>0.0</td>\n",
       "    </tr>\n",
       "    <tr>\n",
       "      <th>1</th>\n",
       "      <td>-18565.165189</td>\n",
       "      <td>-1656.412282</td>\n",
       "      <td>-1566.222301</td>\n",
       "      <td>-1210.447207</td>\n",
       "      <td>-597.735416</td>\n",
       "      <td>-849.853459</td>\n",
       "      <td>-1569.140324</td>\n",
       "      <td>-573.360205</td>\n",
       "      <td>-734.613236</td>\n",
       "      <td>-1230.928417</td>\n",
       "      <td>...</td>\n",
       "      <td>86.923505</td>\n",
       "      <td>-12.193961</td>\n",
       "      <td>237.957197</td>\n",
       "      <td>-100.226733</td>\n",
       "      <td>-46.432028</td>\n",
       "      <td>-15.178931</td>\n",
       "      <td>233.226818</td>\n",
       "      <td>20.381709</td>\n",
       "      <td>156.290296</td>\n",
       "      <td>0.0</td>\n",
       "    </tr>\n",
       "    <tr>\n",
       "      <th>2</th>\n",
       "      <td>-1875.561190</td>\n",
       "      <td>-1347.274534</td>\n",
       "      <td>-1234.446292</td>\n",
       "      <td>-417.127232</td>\n",
       "      <td>-651.109315</td>\n",
       "      <td>-139.365285</td>\n",
       "      <td>-453.101203</td>\n",
       "      <td>-78.455544</td>\n",
       "      <td>-232.485622</td>\n",
       "      <td>-31.350652</td>\n",
       "      <td>...</td>\n",
       "      <td>27.632003</td>\n",
       "      <td>62.523709</td>\n",
       "      <td>14.476808</td>\n",
       "      <td>-205.870211</td>\n",
       "      <td>-97.900576</td>\n",
       "      <td>-21.367996</td>\n",
       "      <td>66.171548</td>\n",
       "      <td>-72.588545</td>\n",
       "      <td>11.494915</td>\n",
       "      <td>0.0</td>\n",
       "    </tr>\n",
       "    <tr>\n",
       "      <th>3</th>\n",
       "      <td>22544.237641</td>\n",
       "      <td>-1425.796329</td>\n",
       "      <td>-334.144054</td>\n",
       "      <td>-133.699910</td>\n",
       "      <td>-231.888712</td>\n",
       "      <td>-77.758664</td>\n",
       "      <td>-291.654221</td>\n",
       "      <td>-279.567087</td>\n",
       "      <td>-139.055436</td>\n",
       "      <td>-494.287252</td>\n",
       "      <td>...</td>\n",
       "      <td>-140.577623</td>\n",
       "      <td>-174.109238</td>\n",
       "      <td>-302.354135</td>\n",
       "      <td>35.125789</td>\n",
       "      <td>31.837159</td>\n",
       "      <td>108.668070</td>\n",
       "      <td>-36.828880</td>\n",
       "      <td>61.691545</td>\n",
       "      <td>32.191711</td>\n",
       "      <td>0.0</td>\n",
       "    </tr>\n",
       "    <tr>\n",
       "      <th>4</th>\n",
       "      <td>-18229.021833</td>\n",
       "      <td>-591.011797</td>\n",
       "      <td>-1848.901638</td>\n",
       "      <td>-269.533752</td>\n",
       "      <td>-987.503390</td>\n",
       "      <td>-1493.277141</td>\n",
       "      <td>988.737170</td>\n",
       "      <td>1838.489600</td>\n",
       "      <td>-396.128696</td>\n",
       "      <td>433.423300</td>\n",
       "      <td>...</td>\n",
       "      <td>-157.465613</td>\n",
       "      <td>-22.348531</td>\n",
       "      <td>-318.252460</td>\n",
       "      <td>-112.961734</td>\n",
       "      <td>-124.615956</td>\n",
       "      <td>-152.521018</td>\n",
       "      <td>156.004247</td>\n",
       "      <td>-68.859264</td>\n",
       "      <td>-127.008693</td>\n",
       "      <td>0.0</td>\n",
       "    </tr>\n",
       "  </tbody>\n",
       "</table>\n",
       "<p>5 rows × 101 columns</p>\n",
       "</div>"
      ],
      "text/plain": [
       "              0            1            2            3           4  \\\n",
       "0  28246.205763  -843.807038   -46.007739   -95.305677 -101.223269   \n",
       "1 -18565.165189 -1656.412282 -1566.222301 -1210.447207 -597.735416   \n",
       "2  -1875.561190 -1347.274534 -1234.446292  -417.127232 -651.109315   \n",
       "3  22544.237641 -1425.796329  -334.144054  -133.699910 -231.888712   \n",
       "4 -18229.021833  -591.011797 -1848.901638  -269.533752 -987.503390   \n",
       "\n",
       "             5            6            7           8            9  ...  \\\n",
       "0   -64.211995  -248.771656  -335.086622 -188.979868  -766.604241  ...   \n",
       "1  -849.853459 -1569.140324  -573.360205 -734.613236 -1230.928417  ...   \n",
       "2  -139.365285  -453.101203   -78.455544 -232.485622   -31.350652  ...   \n",
       "3   -77.758664  -291.654221  -279.567087 -139.055436  -494.287252  ...   \n",
       "4 -1493.277141   988.737170  1838.489600 -396.128696   433.423300  ...   \n",
       "\n",
       "           91          92          93          94          95          96  \\\n",
       "0  120.949412   -7.659435  -24.183418  180.480598  111.549484    7.872206   \n",
       "1   86.923505  -12.193961  237.957197 -100.226733  -46.432028  -15.178931   \n",
       "2   27.632003   62.523709   14.476808 -205.870211  -97.900576  -21.367996   \n",
       "3 -140.577623 -174.109238 -302.354135   35.125789   31.837159  108.668070   \n",
       "4 -157.465613  -22.348531 -318.252460 -112.961734 -124.615956 -152.521018   \n",
       "\n",
       "           97          98          99  class_number  \n",
       "0  -99.754496  171.250702   -5.758994           0.0  \n",
       "1  233.226818   20.381709  156.290296           0.0  \n",
       "2   66.171548  -72.588545   11.494915           0.0  \n",
       "3  -36.828880   61.691545   32.191711           0.0  \n",
       "4  156.004247  -68.859264 -127.008693           0.0  \n",
       "\n",
       "[5 rows x 101 columns]"
      ]
     },
     "execution_count": 76,
     "metadata": {},
     "output_type": "execute_result"
    }
   ],
   "source": [
    "cs = [i for i in range(100)]\n",
    "df_X4_final_test = pd.DataFrame(final_test_X4,columns=cs)\n",
    "df_X4_final_test['class_number']=final_test_y\n",
    "df_X4_final_test.head()"
   ]
  },
  {
   "cell_type": "code",
   "execution_count": 77,
   "metadata": {},
   "outputs": [],
   "source": [
    "df_X4_final_test.to_csv('df_X4_final_test.csv', index=False)"
   ]
  },
  {
   "cell_type": "markdown",
   "metadata": {},
   "source": [
    "#### SVM"
   ]
  },
  {
   "cell_type": "code",
   "execution_count": 50,
   "metadata": {},
   "outputs": [
    {
     "name": "stdout",
     "output_type": "stream",
     "text": [
      "OneVsOneClassifier\n"
     ]
    },
    {
     "name": "stdout",
     "output_type": "stream",
     "text": [
      "hinge l2 33.48 %\n",
      "squared_hinge l2 33.48 %\n",
      "OutputCodeClassifier\n",
      "hinge l2 36.96 %\n",
      "squared_hinge l2 38.48 %\n",
      "OneVsRestClassifier\n",
      "hinge l2 24.349999999999998 %\n",
      "squared_hinge l2 24.349999999999998 %\n"
     ]
    }
   ],
   "source": [
    "losses = [\"hinge\",\"squared_hinge\"]\n",
    "penalties = [\"l1\",\"l2\"]\n",
    "\n",
    "print(\"OneVsOneClassifier\")\n",
    "for i in losses:\n",
    "    for j in penalties:\n",
    "        try:\n",
    "            svm =  OneVsOneClassifier(LinearSVC(random_state=0, loss=i,penalty=j,)).fit(X_train4, y_train4)\n",
    "            pred_svm = svm.predict(X_test4)\n",
    "            print(i,j,round(np.sum([y_test4==pred_svm])/len(y_test4),4)*100,\"%\")\n",
    "        except:\n",
    "            pass\n",
    "\n",
    "print(\"OutputCodeClassifier\")\n",
    "for i in losses:\n",
    "    for j in penalties:\n",
    "        try:\n",
    "            svm =  OutputCodeClassifier(LinearSVC(random_state=0, loss=i,penalty=j,)).fit(X_train4, y_train4)\n",
    "            pred_svm = svm.predict(X_test4)\n",
    "            print(i,j,round(np.sum([y_test4==pred_svm])/len(y_test4),4)*100,\"%\")\n",
    "        except:\n",
    "            pass\n",
    "\n",
    "\n",
    "print(\"OneVsRestClassifier\")\n",
    "for i in losses:\n",
    "    for j in penalties:\n",
    "        try:\n",
    "            svm =  OneVsRestClassifier(LinearSVC(random_state=0, loss=i,penalty=j,)).fit(X_train4, y_train4)\n",
    "            pred_svm = svm.predict(X_test4)\n",
    "            print(i,j,round(np.sum([y_test4==pred_svm])/len(y_test4),4)*100,\"%\")\n",
    "        except:\n",
    "            pass\n"
   ]
  },
  {
   "cell_type": "code",
   "execution_count": 51,
   "metadata": {},
   "outputs": [
    {
     "name": "stdout",
     "output_type": "stream",
     "text": [
      "              precision    recall  f1-score   support\n",
      "\n",
      "           0       0.41      0.18      0.25       110\n",
      "           2       0.17      0.38      0.24       100\n",
      "           9       0.33      0.14      0.19       111\n",
      "          11       0.27      0.28      0.27       139\n",
      "\n",
      "    accuracy                           0.24       460\n",
      "   macro avg       0.29      0.24      0.24       460\n",
      "weighted avg       0.30      0.24      0.24       460\n",
      "\n",
      "24.349999999999998 %\n"
     ]
    },
    {
     "data": {
      "image/png": "[encoded data removed]",
      "text/plain": [
       "<Figure size 600x600 with 2 Axes>"
      ]
     },
     "metadata": {},
     "output_type": "display_data"
    }
   ],
   "source": [
    "svm4 =  OneVsRestClassifier(LinearSVC(random_state=0, loss=\"hinge\",penalty=\"l2\")).fit(X_train4, y_train4)\n",
    "pred_svm4 = svm4.predict(X_test4)\n",
    "Confusion_Matrix(confusion_matrix(y_test4,pred_svm4))\n",
    "print(classification_report(y_test4, pred_svm4))\n",
    "print(round(np.sum([y_test4==pred_svm4])/len(y_test4),4)*100,\"%\")\n",
    "results.append(['lines, circle, and histogram PCA 100', 'SVM',round(np.sum([y_test4==pred_svm4])/len(y_test4),4)*100 ])"
   ]
  },
  {
   "cell_type": "markdown",
   "metadata": {},
   "source": [
    "#### KNN"
   ]
  },
  {
   "cell_type": "code",
   "execution_count": 52,
   "metadata": {},
   "outputs": [
    {
     "name": "stdout",
     "output_type": "stream",
     "text": [
      "1 52.17 %\n",
      "2 43.480000000000004 %\n",
      "3 49.57 %\n",
      "4 47.61 %\n",
      "5 47.39 %\n",
      "6 48.04 %\n",
      "7 48.26 %\n",
      "8 48.04 %\n",
      "9 50.870000000000005 %\n",
      "10 46.300000000000004 %\n",
      "11 49.35 %\n",
      "12 49.13 %\n",
      "13 49.13 %\n",
      "14 48.04 %\n",
      "15 48.26 %\n",
      "16 47.61 %\n",
      "17 48.26 %\n",
      "18 48.26 %\n",
      "19 47.39 %\n",
      "20 48.699999999999996 %\n",
      "21 48.04 %\n",
      "22 47.61 %\n",
      "23 47.17 %\n",
      "24 48.480000000000004 %\n",
      "25 48.480000000000004 %\n",
      "26 47.83 %\n",
      "27 47.83 %\n",
      "28 46.739999999999995 %\n",
      "29 47.83 %\n",
      "30 47.17 %\n",
      "31 45.87 %\n",
      "32 46.300000000000004 %\n",
      "33 46.739999999999995 %\n",
      "34 47.39 %\n",
      "35 46.739999999999995 %\n",
      "36 46.52 %\n",
      "37 45.43 %\n",
      "38 45.0 %\n",
      "39 44.57 %\n",
      "40 45.22 %\n",
      "41 44.35 %\n",
      "42 43.480000000000004 %\n",
      "43 43.04 %\n",
      "44 43.7 %\n",
      "45 43.480000000000004 %\n",
      "46 44.35 %\n",
      "47 44.35 %\n",
      "48 44.13 %\n",
      "49 43.91 %\n",
      "50 45.0 %\n"
     ]
    }
   ],
   "source": [
    "for i in range(1,51):\n",
    "    neigh = KNeighborsClassifier(n_neighbors=i)\n",
    "    neigh.fit(X_train4,y_train4)\n",
    "    pred_knn = neigh.predict(X_test4)\n",
    "    print(i,round(np.sum([y_test4==pred_knn])/len(y_test4),4)*100,\"%\")"
   ]
  },
  {
   "cell_type": "code",
   "execution_count": 53,
   "metadata": {},
   "outputs": [
    {
     "name": "stdout",
     "output_type": "stream",
     "text": [
      "              precision    recall  f1-score   support\n",
      "\n",
      "           0       0.50      0.55      0.52       110\n",
      "           2       0.46      0.49      0.48       100\n",
      "           9       0.43      0.35      0.39       111\n",
      "          11       0.64      0.66      0.65       139\n",
      "\n",
      "    accuracy                           0.52       460\n",
      "   macro avg       0.51      0.51      0.51       460\n",
      "weighted avg       0.52      0.52      0.52       460\n",
      "\n",
      "52.17 %\n"
     ]
    },
    {
     "data": {
      "image/png": "[encoded data removed]",
      "text/plain": [
       "<Figure size 600x600 with 2 Axes>"
      ]
     },
     "metadata": {},
     "output_type": "display_data"
    }
   ],
   "source": [
    "neigh4 = KNeighborsClassifier(n_neighbors=1)\n",
    "neigh4.fit(X_train4,y_train4)\n",
    "pred_knn4 = neigh4.predict(X_test4)\n",
    "Confusion_Matrix(confusion_matrix(y_test4,pred_knn4))\n",
    "print(classification_report(y_test4, pred_knn4))\n",
    "print(round(np.sum([y_test4==pred_knn4])/len(y_test4),4)*100,\"%\")\n",
    "results.append(['lines, circle, and histogram PCA 100', 'KNN',round(np.sum([y_test4==pred_knn4])/len(y_test4),4)*100 ])"
   ]
  },
  {
   "cell_type": "markdown",
   "metadata": {},
   "source": [
    "#### Adaboost"
   ]
  },
  {
   "cell_type": "code",
   "execution_count": 54,
   "metadata": {},
   "outputs": [
    {
     "name": "stdout",
     "output_type": "stream",
     "text": [
      "50 51.300000000000004 %\n",
      "100 50.22 %\n",
      "150 50.43 %\n",
      "200 53.04 %\n",
      "250 51.959999999999994 %\n",
      "300 53.480000000000004 %\n",
      "350 52.39 %\n",
      "400 51.959999999999994 %\n",
      "450 51.300000000000004 %\n",
      "500 52.17 %\n",
      "550 52.17 %\n",
      "600 53.7 %\n",
      "650 50.870000000000005 %\n",
      "700 52.39 %\n",
      "750 53.04 %\n",
      "800 52.17 %\n",
      "850 53.7 %\n",
      "900 52.61 %\n",
      "950 52.39 %\n",
      "1000 51.739999999999995 %\n",
      "1050 51.739999999999995 %\n",
      "1100 51.519999999999996 %\n",
      "1150 52.39 %\n",
      "1200 53.04 %\n",
      "1250 52.17 %\n",
      "1300 53.480000000000004 %\n",
      "1350 53.7 %\n",
      "1400 53.26 %\n",
      "1450 53.480000000000004 %\n",
      "1500 53.26 %\n",
      "1550 52.83 %\n",
      "1600 53.7 %\n",
      "1650 54.35 %\n",
      "1700 55.22 %\n",
      "1750 54.56999999999999 %\n",
      "1800 54.56999999999999 %\n",
      "1850 54.56999999999999 %\n",
      "1900 54.35 %\n",
      "1950 54.13 %\n",
      "2000 54.56999999999999 %\n"
     ]
    }
   ],
   "source": [
    "for i in range(50,2001,50):\n",
    "    ada = AdaBoostClassifier(n_estimators=i, algorithm=\"SAMME\",random_state=0)\n",
    "    ada.fit(X_train4,y_train4)\n",
    "    pred_ada = ada.predict(X_test4)\n",
    "    print(i,round(np.sum([y_test4==pred_ada])/len(y_test4),4)*100,\"%\")"
   ]
  },
  {
   "cell_type": "code",
   "execution_count": 55,
   "metadata": {},
   "outputs": [
    {
     "name": "stdout",
     "output_type": "stream",
     "text": [
      "              precision    recall  f1-score   support\n",
      "\n",
      "           0       0.52      0.54      0.53       110\n",
      "           2       0.52      0.50      0.51       100\n",
      "           9       0.39      0.41      0.40       111\n",
      "          11       0.63      0.60      0.61       139\n",
      "\n",
      "    accuracy                           0.52       460\n",
      "   macro avg       0.51      0.51      0.51       460\n",
      "weighted avg       0.52      0.52      0.52       460\n",
      "\n",
      "51.739999999999995 %\n"
     ]
    },
    {
     "data": {
      "image/png": "[encoded data removed]",
      "text/plain": [
       "<Figure size 600x600 with 2 Axes>"
      ]
     },
     "metadata": {},
     "output_type": "display_data"
    }
   ],
   "source": [
    "ada4 = AdaBoostClassifier(n_estimators=1050, algorithm=\"SAMME\",random_state=0)\n",
    "ada4.fit(X_train4,y_train4)\n",
    "pred_ada4 = ada4.predict(X_test4)\n",
    "Confusion_Matrix(confusion_matrix(y_test4,pred_ada4))\n",
    "print(classification_report(y_test4, pred_ada4))\n",
    "print(round(np.sum([y_test4==pred_ada4])/len(y_test4),4)*100,\"%\")\n",
    "results.append(['lines, circle, and histogram PCA 100', 'Adaboost',round(np.sum([y_test4==pred_ada4])/len(y_test4),4)*100 ])"
   ]
  },
  {
   "cell_type": "markdown",
   "metadata": {},
   "source": [
    "#### Random Forest"
   ]
  },
  {
   "cell_type": "code",
   "execution_count": 56,
   "metadata": {},
   "outputs": [
    {
     "name": "stdout",
     "output_type": "stream",
     "text": [
      "40 2 59.35 %\n",
      "40 3 57.38999999999999 %\n",
      "40 4 59.35 %\n",
      "60 2 59.13 %\n",
      "60 3 59.35 %\n",
      "60 4 58.040000000000006 %\n",
      "80 2 60.42999999999999 %\n",
      "80 3 60.0 %\n",
      "80 4 59.13 %\n",
      "100 2 60.0 %\n",
      "100 3 61.519999999999996 %\n",
      "100 4 60.650000000000006 %\n",
      "120 2 59.13 %\n",
      "120 3 61.519999999999996 %\n",
      "120 4 61.09 %\n",
      "140 2 59.35 %\n",
      "140 3 61.519999999999996 %\n",
      "140 4 60.22 %\n",
      "160 2 58.48 %\n",
      "160 3 60.42999999999999 %\n",
      "160 4 60.22 %\n",
      "180 2 58.91 %\n",
      "180 3 61.519999999999996 %\n",
      "180 4 60.42999999999999 %\n",
      "200 2 58.48 %\n",
      "200 3 60.0 %\n",
      "200 4 60.870000000000005 %\n",
      "220 2 58.91 %\n",
      "220 3 59.78 %\n",
      "220 4 60.650000000000006 %\n",
      "240 2 60.0 %\n",
      "240 3 60.870000000000005 %\n",
      "240 4 61.3 %\n",
      "260 2 59.78 %\n",
      "260 3 60.22 %\n",
      "260 4 61.739999999999995 %\n",
      "280 2 59.78 %\n",
      "280 3 60.22 %\n",
      "280 4 61.519999999999996 %\n",
      "300 2 60.22 %\n",
      "300 3 60.42999999999999 %\n",
      "300 4 60.870000000000005 %\n",
      "320 2 61.09 %\n",
      "320 3 60.22 %\n",
      "320 4 61.3 %\n",
      "340 2 61.09 %\n",
      "340 3 60.650000000000006 %\n",
      "340 4 61.519999999999996 %\n",
      "360 2 61.519999999999996 %\n",
      "360 3 60.650000000000006 %\n",
      "360 4 61.739999999999995 %\n",
      "380 2 60.870000000000005 %\n",
      "380 3 60.870000000000005 %\n",
      "380 4 61.519999999999996 %\n",
      "400 2 61.3 %\n",
      "400 3 60.42999999999999 %\n",
      "400 4 60.870000000000005 %\n",
      "420 2 61.519999999999996 %\n",
      "420 3 59.35 %\n",
      "420 4 61.96 %\n",
      "440 2 61.519999999999996 %\n",
      "440 3 59.78 %\n",
      "440 4 61.09 %\n",
      "460 2 61.3 %\n",
      "460 3 59.78 %\n",
      "460 4 60.870000000000005 %\n",
      "480 2 61.3 %\n",
      "480 3 60.42999999999999 %\n",
      "480 4 60.650000000000006 %\n",
      "500 2 61.739999999999995 %\n",
      "500 3 60.22 %\n",
      "500 4 60.870000000000005 %\n"
     ]
    }
   ],
   "source": [
    "for i in range(40,501,20):\n",
    "    for j in range(2,5):\n",
    "        RF = RandomForestClassifier(n_estimators=i, max_depth=None,min_samples_split=j, random_state=0)\n",
    "        RF.fit(X_train4,y_train4)\n",
    "        pred_RF = RF.predict(X_test4)\n",
    "        print(i,j,round(np.sum([y_test4==pred_RF])/len(y_test4),4)*100,\"%\")"
   ]
  },
  {
   "cell_type": "code",
   "execution_count": 57,
   "metadata": {},
   "outputs": [
    {
     "name": "stdout",
     "output_type": "stream",
     "text": [
      "              precision    recall  f1-score   support\n",
      "\n",
      "           0       0.64      0.65      0.65       110\n",
      "           2       0.53      0.52      0.53       100\n",
      "           9       0.54      0.52      0.53       111\n",
      "          11       0.66      0.67      0.66       139\n",
      "\n",
      "    accuracy                           0.60       460\n",
      "   macro avg       0.59      0.59      0.59       460\n",
      "weighted avg       0.60      0.60      0.60       460\n",
      "\n",
      "59.78 %\n"
     ]
    },
    {
     "data": {
      "image/png": "[encoded data removed]",
      "text/plain": [
       "<Figure size 600x600 with 2 Axes>"
      ]
     },
     "metadata": {},
     "output_type": "display_data"
    }
   ],
   "source": [
    "RF4 = RandomForestClassifier(n_estimators=440, max_depth=None,min_samples_split=3, random_state=0)\n",
    "RF4.fit(X_train4,y_train4)\n",
    "pred_RF4 = RF4.predict(X_test4)\n",
    "Confusion_Matrix(confusion_matrix(y_test4,pred_RF4))\n",
    "print(classification_report(y_test4, pred_RF4))\n",
    "print(round(np.sum([y_test4==pred_RF4])/len(y_test4),4)*100,\"%\")\n",
    "results.append(['lines, circle, and histogram PCA 100', 'Random Forest',round(np.sum([y_test4==pred_RF4])/len(y_test4),4)*100 ])"
   ]
  },
  {
   "cell_type": "markdown",
   "metadata": {},
   "source": [
    "#### Logistic Regression"
   ]
  },
  {
   "cell_type": "code",
   "execution_count": 58,
   "metadata": {},
   "outputs": [
    {
     "name": "stdout",
     "output_type": "stream",
     "text": [
      "l1"
     ]
    },
    {
     "name": "stdout",
     "output_type": "stream",
     "text": [
      " liblinear 0.1 56.089999999999996 %\n",
      "l1 liblinear 0.01 55.00000000000001 %\n",
      "l1 liblinear 0.001 54.779999999999994 %\n",
      "l1 saga 0.1 52.61 %\n",
      "l1 saga 0.01 54.56999999999999 %\n",
      "l1 saga 0.001 54.779999999999994 %\n",
      "l2 lbfgs 0.1 50.22 %\n",
      "l2 lbfgs 0.01 50.22 %\n",
      "l2 lbfgs 0.001 50.22 %\n",
      "l2 liblinear 0.1 51.739999999999995 %\n",
      "l2 liblinear 0.01 50.22 %\n",
      "l2 liblinear 0.001 53.26 %\n",
      "l2 newton-cg 0.1 50.43 %\n",
      "l2 newton-cg 0.01 50.43 %\n",
      "l2 newton-cg 0.001 50.43 %\n",
      "l2 sag 0.1 53.910000000000004 %\n",
      "l2 sag 0.01 54.35 %\n",
      "l2 sag 0.001 52.61 %\n",
      "l2 saga 0.1 52.61 %\n",
      "l2 saga 0.01 54.56999999999999 %\n",
      "l2 saga 0.001 54.779999999999994 %\n"
     ]
    }
   ],
   "source": [
    "penilties = [\"l1\",\"l2\",\"elasticnet\"]\n",
    "solvers = [\"lbfgs\",\"liblinear\",\"newton-cg\",\"newton-cholesky\",\"sag\",\"saga\"]\n",
    "tols= [0.1 ,0.01, 0.001]\n",
    "\n",
    "for i in penilties:\n",
    "    for j in solvers:\n",
    "        for k in tols:\n",
    "            try:\n",
    "                LR = LogisticRegression(penalty=i, solver=j, tol=k, max_iter=10000, random_state =0)\n",
    "                LR.fit(X_train4,y_train4)\n",
    "                pred_LR = LR.predict(X_test4)\n",
    "                print(i,j,k,round(np.sum([y_test4==pred_LR])/len(y_test4),4)*100,\"%\")\n",
    "            except:\n",
    "                pass"
   ]
  },
  {
   "cell_type": "code",
   "execution_count": 59,
   "metadata": {},
   "outputs": [
    {
     "name": "stdout",
     "output_type": "stream",
     "text": [
      "              precision    recall  f1-score   support\n",
      "\n",
      "           0       0.60      0.56      0.58       110\n",
      "           2       0.49      0.49      0.49       100\n",
      "           9       0.50      0.38      0.43       111\n",
      "          11       0.61      0.76      0.67       139\n",
      "\n",
      "    accuracy                           0.56       460\n",
      "   macro avg       0.55      0.55      0.54       460\n",
      "weighted avg       0.55      0.56      0.55       460\n",
      "\n",
      "56.089999999999996 %\n"
     ]
    },
    {
     "data": {
      "image/png": "[encoded data removed]",
      "text/plain": [
       "<Figure size 600x600 with 2 Axes>"
      ]
     },
     "metadata": {},
     "output_type": "display_data"
    }
   ],
   "source": [
    "LR4 = LogisticRegression(penalty=\"l1\", solver=\"liblinear\", tol=0.1, max_iter=10000, random_state = 0)\n",
    "LR4.fit(X_train4,y_train4)\n",
    "pred_LR4 = LR4.predict(X_test4)\n",
    "Confusion_Matrix(confusion_matrix(y_test4,pred_LR4))\n",
    "print(classification_report(y_test4, pred_LR4))\n",
    "print(round(np.sum([y_test4==pred_LR4])/len(y_test4),4)*100,\"%\")\n",
    "results.append(['lines, circle, and histogram PCA 100', 'Logistic Regression',round(np.sum([y_test4==pred_LR4])/len(y_test4),4)*100 ])"
   ]
  },
  {
   "cell_type": "code",
   "execution_count": 60,
   "metadata": {},
   "outputs": [],
   "source": [
    "cols = [\"df_type\",\"classifier\",\"accuracy\"]\n",
    "df = pd.DataFrame(results, columns=cols)"
   ]
  },
  {
   "cell_type": "code",
   "execution_count": 61,
   "metadata": {},
   "outputs": [
    {
     "data": {
      "text/html": [
       "<div>\n",
       "<style scoped>\n",
       "    .dataframe tbody tr th:only-of-type {\n",
       "        vertical-align: middle;\n",
       "    }\n",
       "\n",
       "    .dataframe tbody tr th {\n",
       "        vertical-align: top;\n",
       "    }\n",
       "\n",
       "    .dataframe thead th {\n",
       "        text-align: right;\n",
       "    }\n",
       "</style>\n",
       "<table border=\"1\" class=\"dataframe\">\n",
       "  <thead>\n",
       "    <tr style=\"text-align: right;\">\n",
       "      <th></th>\n",
       "      <th>df_type</th>\n",
       "      <th>classifier</th>\n",
       "      <th>accuracy</th>\n",
       "    </tr>\n",
       "  </thead>\n",
       "  <tbody>\n",
       "    <tr>\n",
       "      <th>0</th>\n",
       "      <td>lines and circles</td>\n",
       "      <td>SVM</td>\n",
       "      <td>36.74</td>\n",
       "    </tr>\n",
       "    <tr>\n",
       "      <th>1</th>\n",
       "      <td>lines and circles</td>\n",
       "      <td>KNN</td>\n",
       "      <td>41.09</td>\n",
       "    </tr>\n",
       "    <tr>\n",
       "      <th>2</th>\n",
       "      <td>lines and circles</td>\n",
       "      <td>Adaboost</td>\n",
       "      <td>44.57</td>\n",
       "    </tr>\n",
       "    <tr>\n",
       "      <th>3</th>\n",
       "      <td>lines and circles</td>\n",
       "      <td>Random Forest</td>\n",
       "      <td>38.48</td>\n",
       "    </tr>\n",
       "    <tr>\n",
       "      <th>4</th>\n",
       "      <td>lines and circles</td>\n",
       "      <td>Logistic Regression</td>\n",
       "      <td>40.43</td>\n",
       "    </tr>\n",
       "    <tr>\n",
       "      <th>5</th>\n",
       "      <td>histogram</td>\n",
       "      <td>SVM</td>\n",
       "      <td>48.70</td>\n",
       "    </tr>\n",
       "    <tr>\n",
       "      <th>6</th>\n",
       "      <td>histogram</td>\n",
       "      <td>KNN</td>\n",
       "      <td>49.78</td>\n",
       "    </tr>\n",
       "    <tr>\n",
       "      <th>7</th>\n",
       "      <td>histogram</td>\n",
       "      <td>Adaboost</td>\n",
       "      <td>60.00</td>\n",
       "    </tr>\n",
       "    <tr>\n",
       "      <th>8</th>\n",
       "      <td>histogram</td>\n",
       "      <td>Random Forest</td>\n",
       "      <td>67.39</td>\n",
       "    </tr>\n",
       "    <tr>\n",
       "      <th>9</th>\n",
       "      <td>histogram</td>\n",
       "      <td>Logistic Regression</td>\n",
       "      <td>58.26</td>\n",
       "    </tr>\n",
       "    <tr>\n",
       "      <th>10</th>\n",
       "      <td>lines, circle, and histogram</td>\n",
       "      <td>SVM</td>\n",
       "      <td>47.61</td>\n",
       "    </tr>\n",
       "    <tr>\n",
       "      <th>11</th>\n",
       "      <td>lines, circle, and histogram</td>\n",
       "      <td>KNN</td>\n",
       "      <td>49.57</td>\n",
       "    </tr>\n",
       "    <tr>\n",
       "      <th>12</th>\n",
       "      <td>lines, circle, and histogram</td>\n",
       "      <td>Adaboost</td>\n",
       "      <td>61.09</td>\n",
       "    </tr>\n",
       "    <tr>\n",
       "      <th>13</th>\n",
       "      <td>lines, circle, and histogram</td>\n",
       "      <td>Random Forest</td>\n",
       "      <td>68.48</td>\n",
       "    </tr>\n",
       "    <tr>\n",
       "      <th>14</th>\n",
       "      <td>lines, circle, and histogram</td>\n",
       "      <td>Logistic Regression</td>\n",
       "      <td>56.74</td>\n",
       "    </tr>\n",
       "    <tr>\n",
       "      <th>15</th>\n",
       "      <td>lines, circle, and histogram PCA 100</td>\n",
       "      <td>SVM</td>\n",
       "      <td>24.35</td>\n",
       "    </tr>\n",
       "    <tr>\n",
       "      <th>16</th>\n",
       "      <td>lines, circle, and histogram PCA 100</td>\n",
       "      <td>KNN</td>\n",
       "      <td>52.17</td>\n",
       "    </tr>\n",
       "    <tr>\n",
       "      <th>17</th>\n",
       "      <td>lines, circle, and histogram PCA 100</td>\n",
       "      <td>Adaboost</td>\n",
       "      <td>51.74</td>\n",
       "    </tr>\n",
       "    <tr>\n",
       "      <th>18</th>\n",
       "      <td>lines, circle, and histogram PCA 100</td>\n",
       "      <td>Random Forest</td>\n",
       "      <td>59.78</td>\n",
       "    </tr>\n",
       "    <tr>\n",
       "      <th>19</th>\n",
       "      <td>lines, circle, and histogram PCA 100</td>\n",
       "      <td>Logistic Regression</td>\n",
       "      <td>56.09</td>\n",
       "    </tr>\n",
       "  </tbody>\n",
       "</table>\n",
       "</div>"
      ],
      "text/plain": [
       "                                 df_type           classifier  accuracy\n",
       "0                      lines and circles                  SVM     36.74\n",
       "1                      lines and circles                  KNN     41.09\n",
       "2                      lines and circles             Adaboost     44.57\n",
       "3                      lines and circles        Random Forest     38.48\n",
       "4                      lines and circles  Logistic Regression     40.43\n",
       "5                              histogram                  SVM     48.70\n",
       "6                              histogram                  KNN     49.78\n",
       "7                              histogram             Adaboost     60.00\n",
       "8                              histogram        Random Forest     67.39\n",
       "9                              histogram  Logistic Regression     58.26\n",
       "10          lines, circle, and histogram                  SVM     47.61\n",
       "11          lines, circle, and histogram                  KNN     49.57\n",
       "12          lines, circle, and histogram             Adaboost     61.09\n",
       "13          lines, circle, and histogram        Random Forest     68.48\n",
       "14          lines, circle, and histogram  Logistic Regression     56.74\n",
       "15  lines, circle, and histogram PCA 100                  SVM     24.35\n",
       "16  lines, circle, and histogram PCA 100                  KNN     52.17\n",
       "17  lines, circle, and histogram PCA 100             Adaboost     51.74\n",
       "18  lines, circle, and histogram PCA 100        Random Forest     59.78\n",
       "19  lines, circle, and histogram PCA 100  Logistic Regression     56.09"
      ]
     },
     "execution_count": 61,
     "metadata": {},
     "output_type": "execute_result"
    }
   ],
   "source": [
    "df"
   ]
  },
  {
   "cell_type": "code",
   "execution_count": 62,
   "metadata": {},
   "outputs": [],
   "source": [
    "\n",
    "filenames = ['svm1.sav','svm2.sav','svm3.sav','svm4.sav','knn1.sav','knn2.sav','knn3.sav','knn4.sav',\n",
    "             'ada1.sav','ada2.sav','ada3.sav','ada4.sav','RF1.sav','RF2.sav','RF3.sav','RF4.sav',\n",
    "             'LR1.sav','LR2.sav','LR3.sav','LR4.sav']\n",
    "models= [svm1,svm2,svm3,svm4,neigh1,neigh2,neigh3,neigh4,\n",
    "         ada1,ada2,ada3,ada4,RF1,RF2,RF3,RF4,LR1,LR2,LR3,LR4]\n",
    "\n",
    "for i in range(len(filenames)): \n",
    "    pickle.dump(models[i], open(filenames[i], 'wb'))"
   ]
  },
  {
   "cell_type": "code",
   "execution_count": null,
   "metadata": {},
   "outputs": [],
   "source": []
  },
  {
   "cell_type": "code",
   "execution_count": null,
   "metadata": {},
   "outputs": [],
   "source": []
  },
  {
   "cell_type": "code",
   "execution_count": 63,
   "metadata": {},
   "outputs": [
    {
     "data": {
      "text/plain": [
       "array([[ 2.82462058e+04, -8.43807038e+02, -4.60077393e+01, ...,\n",
       "        -9.97544962e+01,  1.71250702e+02, -5.75899426e+00],\n",
       "       [-1.85651652e+04, -1.65641228e+03, -1.56622230e+03, ...,\n",
       "         2.33226818e+02,  2.03817087e+01,  1.56290296e+02],\n",
       "       [-1.87556119e+03, -1.34727453e+03, -1.23444629e+03, ...,\n",
       "         6.61715479e+01, -7.25885447e+01,  1.14949147e+01],\n",
       "       ...,\n",
       "       [ 1.73954276e+04, -1.31135272e+03, -5.37743877e+02, ...,\n",
       "        -6.40114879e+01, -9.23206802e+01,  9.65678677e+01],\n",
       "       [-3.71762953e+03, -1.29235058e+03, -1.32086581e+03, ...,\n",
       "        -1.06433925e+02,  3.73284338e+01,  7.08705159e+02],\n",
       "       [-1.95179797e+04, -4.30432779e+03,  2.28399511e+04, ...,\n",
       "         7.72248832e+01,  7.72240878e+01, -9.37839653e+01]])"
      ]
     },
     "execution_count": 63,
     "metadata": {},
     "output_type": "execute_result"
    }
   ],
   "source": [
    "final_test_X4"
   ]
  },
  {
   "cell_type": "code",
   "execution_count": 71,
   "metadata": {},
   "outputs": [
    {
     "data": {
      "text/plain": [
       "(383, 100)"
      ]
     },
     "execution_count": 71,
     "metadata": {},
     "output_type": "execute_result"
    }
   ],
   "source": []
  },
  {
   "cell_type": "code",
   "execution_count": 64,
   "metadata": {},
   "outputs": [],
   "source": [
    "# svm3 = pickle.load(open('svm3.sav', 'rb'))\n",
    "# neigh3 = pickle.load(open('knn3.sav', 'rb'))\n",
    "# ada3 = pickle.load(open('ada3.sav', 'rb'))\n",
    "# RF3 = pickle.load(open('RF3.sav', 'rb'))\n",
    "# LR3 = pickle.load(open('LR3.sav', 'rb'))"
   ]
  },
  {
   "cell_type": "code",
   "execution_count": 65,
   "metadata": {},
   "outputs": [],
   "source": [
    "# # combo model\n",
    "\n",
    "# weights=[47.61,49.57,61.09,68.48,56.74]\n",
    "# normalizer = 1 / float(sum(weights) )\n",
    "# for i in range(len(weights)):\n",
    "#     weights[i] = normalizer * weights[i]\n",
    "# # print(weights)\n",
    "\n",
    "\n",
    "\n",
    "# svm3.fit(X_train3,y_train3)\n",
    "# pred_svm3= svm3.predict(X_test3)\n",
    "\n",
    "# neigh3.fit(X_train3,y_train3)\n",
    "# pred_knn3= neigh3.predict(X_test3)\n",
    "\n",
    "# ada3.fit(X_train3,y_train3)\n",
    "# pred_ada3= ada3.predict(X_test3)\n",
    "\n",
    "# RF3.fit(X_train3,y_train3)\n",
    "# pred_RF3= RF3.predict(X_test3)\n",
    "\n",
    "# LR3.fit(X_train3,y_train3)\n",
    "# pred_LR3= LR3.predict(X_test3)\n"
   ]
  },
  {
   "cell_type": "code",
   "execution_count": 66,
   "metadata": {},
   "outputs": [],
   "source": [
    "# # def most_frequent(List):\n",
    "# #     occurence_count = Counter(List)\n",
    "    \n",
    "# #     return occurence_count.most_common(1)[0][0]\n",
    "\n",
    "# def find_best(l,weight):\n",
    "#     classes = [0]*12\n",
    "#     ws = [0]*12\n",
    "#     for i in range(len(l)):\n",
    "#         classes[l[i]]+=1\n",
    "#         ws[l[i]]+=weight[i]\n",
    "\n",
    "#     best = -1\n",
    "#     for i in range(len(classes)):\n",
    "#         if classes[i]>=3:\n",
    "#             best = i\n",
    "#     if best ==-1:\n",
    "#         maxx = -1\n",
    "#         for i in range(len(ws)):       \n",
    "#             if ws[i]>maxx:\n",
    "#                 maxx = ws[i]\n",
    "#                 best = i\n",
    "#     return best\n",
    "\n",
    "\n",
    "\n",
    "    "
   ]
  },
  {
   "cell_type": "code",
   "execution_count": null,
   "metadata": {},
   "outputs": [],
   "source": []
  },
  {
   "cell_type": "code",
   "execution_count": 67,
   "metadata": {},
   "outputs": [],
   "source": [
    "# over_all=[]\n",
    "# preds=[pred_svm3,pred_knn3,pred_ada3,pred_RF3,pred_LR3]\n",
    "# for i in range(len(y_test3)):\n",
    "#     p=[]\n",
    "#     for j in preds:\n",
    "#         p.append(j[i])\n",
    "#     over_all.append(p)\n",
    "   \n",
    "\n",
    "# final_pred =[]\n",
    "# for i in over_all:\n",
    "#     c = find_best(i,weights)\n",
    "#     final_pred.append(c)\n",
    "#     print(i,c)\n",
    "# # print(final_pred)"
   ]
  },
  {
   "cell_type": "code",
   "execution_count": 68,
   "metadata": {},
   "outputs": [],
   "source": [
    "# Confusion_Matrix(confusion_matrix(y_test3,final_pred))\n",
    "# print(classification_report(y_test3, final_pred))\n",
    "# print(round(np.sum([y_test3==final_pred])/len(y_test3),4)*100,\"%\")\n",
    "# # results.append(['lines, circle, and histogram PCA 0.99', 'Logistic Regression',round(np.sum([y_test4==pred_LR4])/len(y_test4),4)*100 ])"
   ]
  },
  {
   "cell_type": "code",
   "execution_count": null,
   "metadata": {},
   "outputs": [],
   "source": []
  },
  {
   "cell_type": "code",
   "execution_count": null,
   "metadata": {},
   "outputs": [],
   "source": []
  },
  {
   "cell_type": "code",
   "execution_count": 69,
   "metadata": {},
   "outputs": [],
   "source": [
    "\n",
    "# import necessary packages \n",
    "# import cv2 \n",
    "# import numpy as np\n",
    "# import matplotlib.pyplot as plt \n",
    "# import math\n",
    "  \n",
    "# # load image \n",
    "# image = cv2.imread('boxes 1.jpg',cv2.COLOR_BGR2RGB) \n",
    "# # cv2.imshow(\"image\",image)\n",
    "# # cv2.waitKey(0) \n",
    "\n",
    "# # histogram color https://pyimagesearch.com/2021/04/28/opencv-image-histograms-cv2-calchist/\n",
    "\n",
    "\n",
    "# # chans = cv2.split(image)\n",
    "# # colors = (\"b\", \"g\", \"r\")\n",
    "# # plt.figure()\n",
    "# # plt.title(\"'Flattened' Color Histogram\")\n",
    "# # plt.xlabel(\"Bins\")\n",
    "# # plt.ylabel(\"# of Pixels\")\n",
    "# # # loop over the image channels\n",
    "# # for (chan, color) in zip(chans, colors):\n",
    "# # \t# create a histogram for the current channel and plot it\n",
    "# # \thist = cv2.calcHist([chan], [0], None, [256], [0, 256])\n",
    "# # \tplt.plot(hist, color=color)\n",
    "# # \tplt.xlim([0, 256])\n",
    "# # plt.show()\n",
    "\n",
    "\n",
    "# #https://datacarpentry.org/image-processing/05-creating-histograms.html\n",
    "\n",
    "# histogram_r, bin_edges = np.histogram(image[:, :, 0], bins=256, range=(0, 256)) \n",
    "# print(histogram_r)\n",
    "# histogram_g, bin_edges = np.histogram(image[:, :, 1], bins=256, range=(0, 256)) \n",
    "# print(histogram_g)\n",
    "# histogram_b, bin_edges = np.histogram(image[:, :, 2], bins=256, range=(0, 256)) \n",
    "# print(histogram_b)\n",
    "\n",
    "# for i in histogram_r:\n",
    "#     print(i)\n",
    "\n",
    "\n",
    "# # # edges canny https://docs.opencv.org/4.x/da/d22/tutorial_py_canny.html\n",
    "\t\n",
    "# # edges = cv2.Canny(image,100,200)\n",
    "# # plt.subplot(121),plt.imshow(image)\n",
    "# # plt.title('Original Image'), plt.xticks([]), plt.yticks([])\n",
    "# # plt.subplot(122),plt.imshow(edges,cmap = 'gray')\n",
    "# # plt.title('Edge Image'), plt.xticks([]), plt.yticks([])\n",
    "# # plt.show()\n",
    "\n",
    "\n",
    "# # # hough line https://docs.opencv.org/3.4/d9/db0/tutorial_hough_lines.html\n",
    "# dst = cv2.Canny(image, 50, 200, None, 3)\n",
    "# cdst = cv2.cvtColor(dst, cv2.COLOR_GRAY2BGR)\n",
    "\n",
    "# lines = cv2.HoughLines(dst, 1, np.pi / 180, 150, None, 0, 0)\n",
    "# print(lines.shape)\n",
    "# print(len(lines))\n",
    "\n",
    "# print(image.flatten())\n",
    "# print(dst.flatten())\n",
    "# # if lines is not None:\n",
    "# #     for i in range(0, len(lines)):\n",
    "# #         rho = lines[i][0][0]\n",
    "# #         theta = lines[i][0][1]\n",
    "# #         a = math.cos(theta)\n",
    "# #         b = math.sin(theta)\n",
    "# #         x0 = a * rho\n",
    "# #         y0 = b * rho\n",
    "# #         pt1 = (int(x0 + 1000*(-b)), int(y0 + 1000*(a)))\n",
    "# #         pt2 = (int(x0 - 1000*(-b)), int(y0 - 1000*(a)))\n",
    "\n",
    "# #         plt.line(cdst, pt1, pt2, (0,0,255), 3, cv2.LINE_AA)\n",
    "# # plt.show()\n",
    "\n",
    "# # # #hough circle https://pyimagesearch.com/2014/07/21/detecting-circles-images-using-opencv-hough-circles/\n",
    "\n",
    "# # output = image.copy()\n",
    "# # cv2.imshow(\"output\",output)\n",
    "# gray = cv2.cvtColor(image, cv2.COLOR_BGR2GRAY)\n",
    "# gray = cv2.medianBlur(gray, 5)\n",
    "# rows = gray.shape[0]\n",
    "# circles = cv2.HoughCircles(gray, cv2.HOUGH_GRADIENT, 1, rows / 8,\n",
    "#                 param1=100, param2=30,\n",
    "#                 minRadius=20, maxRadius=200)\n",
    "# # circles = cv2.HoughCircles(gray, cv2.HOUGH_GRADIENT, 1.2, 100)\n",
    "# print(circles.shape[1])\n",
    "# # # if circles is not None:\n",
    "# # # \t# convert the (x, y) coordinates and radius of the circles to integers\n",
    "# # # \tcircles = np.round(circles[0, :]).astype(\"int\")\n",
    "# # # \t# loop over the (x, y) coordinates and radius of the circles\n",
    "# # # \tfor (x, y, r) in circles:\n",
    "# # # \t\t# draw the circle in the output image, then draw a rectangle\n",
    "# # # \t\t# corresponding to the center of the circle\n",
    "# # # \t\tcv2.circle(output, (x, y), r, (0, 255, 0), 4)\n",
    "# # # \t\tcv2.rectangle(output, (x - 5, y - 5), (x + 5, y + 5), (0, 128, 255), -1)\n",
    "# # # \t# show the output image\n",
    "# # # cv2.imshow(\"output\",output)\n",
    "# # # cv2.waitKey(0) \n",
    "# # # cv2.imshow(\"output\", np.hstack([image, output]))\n",
    "# # # cv2.waitKey(0) \n",
    "\n"
   ]
  }
 ],
 "metadata": {
  "kernelspec": {
   "display_name": "Python 3",
   "language": "python",
   "name": "python3"
  },
  "language_info": {
   "codemirror_mode": {
    "name": "ipython",
    "version": 3
   },
   "file_extension": ".py",
   "mimetype": "text/x-python",
   "name": "python",
   "nbconvert_exporter": "python",
   "pygments_lexer": "ipython3",
   "version": "3.10.8"
  }
 },
 "nbformat": 4,
 "nbformat_minor": 2
}
