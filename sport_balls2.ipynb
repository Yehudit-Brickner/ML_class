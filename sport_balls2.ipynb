{
 "cells": [
  {
   "cell_type": "markdown",
   "metadata": {},
   "source": [
    "# ML class final project part2\n",
    "##  Almog Shor\n",
    "## Yehudit Brickner"
   ]
  },
  {
   "cell_type": "markdown",
   "metadata": {},
   "source": [
    "imports"
   ]
  },
  {
   "cell_type": "code",
   "execution_count": 1,
   "metadata": {},
   "outputs": [],
   "source": [
    "import os\n",
    "import cv2 \n",
    "import numpy as np\n",
    "import matplotlib.pyplot as plt \n",
    "import pandas as pd\n",
    "import seaborn as sns\n",
    "import time\n",
    "\n",
    "from sklearn.metrics import confusion_matrix\n",
    "from sklearn.model_selection import train_test_split\n",
    "from sklearn.metrics import classification_report\n",
    "\n",
    "from sklearn.decomposition import PCA\n",
    "\n",
    "import warnings\n",
    "warnings.filterwarnings(action='ignore', category=UserWarning)"
   ]
  },
  {
   "cell_type": "markdown",
   "metadata": {},
   "source": [
    "create the data set with all of the features"
   ]
  },
  {
   "cell_type": "code",
   "execution_count": 2,
   "metadata": {},
   "outputs": [],
   "source": [
    "def create_df(folder, ball_type,number):\n",
    "\n",
    "    folder_dir= os.listdir(folder)\n",
    "    \n",
    "    big_list=[]\n",
    "    my_list=[]\n",
    "    count=0\n",
    "    for i in folder_dir:\n",
    "        if i==ball_type:\n",
    "            print(i)\n",
    "            j = os.listdir(folder+\"/\"+i)\n",
    "            for k in range(len(j)):\n",
    "                try:\n",
    "                    img = cv2.imread(folder+\"/\"+i+\"/\"+j[k], cv2.COLOR_BGR2RGB)\n",
    "                    img = cv2.resize(img,(200,200), interpolation = cv2.INTER_AREA)\n",
    "                    \n",
    "                    histogram_r, bin_edges = np.histogram(img[:, :, 0], bins=256, range=(0, 256)) \n",
    "                    histogram_g, bin_edges = np.histogram(img[:, :, 1], bins=256, range=(0, 256)) \n",
    "                    histogram_b, bin_edges = np.histogram(img[:, :, 2], bins=256, range=(0, 256)) \n",
    "                    \n",
    "                    dst = cv2.Canny(img, 50, 200, None, 3)\n",
    "                    dst1 = cv2.Canny(img, 50, 200, None, 3)\n",
    "                    lines = cv2.HoughLines(dst1, 1, np.pi / 180, 50, None, 0, 0)\n",
    "                    \n",
    "                    gray = cv2.imread(folder+\"/\"+i+\"/\"+j[k],cv2.IMREAD_GRAYSCALE)\n",
    "                    gray =  cv2.resize(gray,(200,200), interpolation = cv2.INTER_AREA)\n",
    "                    gray = cv2.medianBlur(gray, 5)\n",
    "                    rows = gray.shape[0]\n",
    "                    circles = cv2.HoughCircles(gray, cv2.HOUGH_GRADIENT, 1, rows / 8,\n",
    "                                    param1=100, param2=30,\n",
    "                                    minRadius=10, maxRadius=100)\n",
    "                    \n",
    "                    my_list=[]\n",
    "                    my_list.append(folder+\"/\"+i+\"/\"+j[k])\n",
    "                    my_list.append(i)\n",
    "                    my_list.append(number)\n",
    "                    if lines is None:\n",
    "                        my_list.append(0)\n",
    "                        my_list.append(0)   \n",
    "                    else:\n",
    "                        my_list.append(1)\n",
    "                        my_list.append(len(lines))\n",
    "                    if circles is None:\n",
    "                        my_list.append(0)\n",
    "                        my_list.append(0)   \n",
    "                    else:\n",
    "                        my_list.append(1)\n",
    "                        my_list.append(circles.shape[1])\n",
    "                    \n",
    "                    my_list.extend(histogram_r)\n",
    "                    my_list.extend(histogram_g)\n",
    "                    my_list.extend(histogram_b)\n",
    "                    my_list.extend(img.flatten())\n",
    "                    my_list.extend(dst.flatten())\n",
    "\n",
    "                    big_list.append(my_list)\n",
    "                    count+=1\n",
    "                    \n",
    "                except:\n",
    "                    print(\"there was an error with count \",count)\n",
    "\n",
    "    \n",
    "    print(\"creating df\")\n",
    "    cols = ['path','class_name','class_number','lines?','#lines','circles?','#circles']\n",
    "    for h in range(256):\n",
    "        cols.append(\"r\"+str(h))\n",
    "    for h in range(256):\n",
    "        cols.append(\"g\"+str(h))\n",
    "    for h in range(256):\n",
    "        cols.append(\"b\"+str(h))\n",
    "    for h in range(200*200*3):\n",
    "        cols.append(\"i\"+str(h))\n",
    "    for h in range(200*200):\n",
    "        cols.append(\"e\"+str(h))\n",
    "\n",
    "    df = pd.DataFrame(big_list, columns = cols) \n",
    "              \n",
    "    return df\n",
    "\n",
    "\n",
    "def create_df1(folder):\n",
    "\n",
    "    folder_dir= os.listdir(folder)\n",
    "    \n",
    "    big_list=[]\n",
    "    my_list=[]\n",
    "    count=0\n",
    "    c=0\n",
    "    for i in folder_dir:\n",
    "        print(i)\n",
    "        j = os.listdir(folder+\"/\"+i)\n",
    "        for k in range(len(j)):\n",
    "            try:\n",
    "                img = cv2.imread(folder+\"/\"+i+\"/\"+j[k], cv2.COLOR_BGR2RGB)\n",
    "                img = cv2.resize(img,(200,200), interpolation = cv2.INTER_AREA)\n",
    "                \n",
    "                # histogram_r, bin_edges = np.histogram(img[:, :, 0], bins=256, range=(0, 256)) \n",
    "                # histogram_g, bin_edges = np.histogram(img[:, :, 1], bins=256, range=(0, 256)) \n",
    "                # histogram_b, bin_edges = np.histogram(img[:, :, 2], bins=256, range=(0, 256)) \n",
    "                \n",
    "                dst = cv2.Canny(img, 50, 200, None, 3)\n",
    "                # dst1 = cv2.Canny(img, 50, 200, None, 3)\n",
    "                # lines = cv2.HoughLines(dst1, 1, np.pi / 180, 50, None, 0, 0)\n",
    "                \n",
    "                # gray = cv2.imread(folder+\"/\"+i+\"/\"+j[k],cv2.IMREAD_GRAYSCALE)\n",
    "                # gray =  cv2.resize(gray,(200,200), interpolation = cv2.INTER_AREA)\n",
    "                # gray = cv2.medianBlur(gray, 5)\n",
    "                # rows = gray.shape[0]\n",
    "                # circles = cv2.HoughCircles(gray, cv2.HOUGH_GRADIENT, 1, rows / 8,\n",
    "                #                 param1=100, param2=30,\n",
    "                #                 minRadius=10, maxRadius=100)\n",
    "                \n",
    "                my_list=[]\n",
    "                my_list.append(folder+\"/\"+i+\"/\"+j[k])\n",
    "                my_list.append(i)\n",
    "                my_list.append(c)\n",
    "                # if lines is None:\n",
    "                #     my_list.append(0)\n",
    "                #     my_list.append(0)   \n",
    "                # else:\n",
    "                #     my_list.append(1)\n",
    "                #     my_list.append(len(lines))\n",
    "                # if circles is None:\n",
    "                #     my_list.append(0)\n",
    "                #     my_list.append(0)   \n",
    "                # else:\n",
    "                #     my_list.append(1)\n",
    "                #     my_list.append(circles.shape[1])\n",
    "                \n",
    "                # my_list.extend(histogram_r)\n",
    "                # my_list.extend(histogram_g)\n",
    "                # my_list.extend(histogram_b)\n",
    "                # my_list.extend(img.flatten())\n",
    "                my_list.extend(dst.flatten())\n",
    "\n",
    "                big_list.append(my_list)\n",
    "                count+=1\n",
    "                \n",
    "            except:\n",
    "                print(\"there was an error with count \",count)\n",
    "\n",
    "        c+=1\n",
    "\n",
    "    \n",
    "    print(\"creating df\")\n",
    "    # cols = ['path','class_name','class_number','lines?','#lines','circles?','#circles']\n",
    "    cols = ['path','class_name','class_number']\n",
    "    # for h in range(256):\n",
    "    #     cols.append(\"r\"+str(h))\n",
    "    # for h in range(256):\n",
    "    #     cols.append(\"g\"+str(h))\n",
    "    # for h in range(256):\n",
    "    #     cols.append(\"b\"+str(h))\n",
    "    # for h in range(200*200*3):\n",
    "    #     cols.append(\"i\"+str(h))\n",
    "    for h in range(200*200):\n",
    "        cols.append(\"e\"+str(h))\n",
    "\n",
    "    df = pd.DataFrame(big_list, columns = cols) \n",
    "\n",
    "    print(\"created df\")\n",
    "              \n",
    "    return df"
   ]
  },
  {
   "cell_type": "code",
   "execution_count": 17,
   "metadata": {},
   "outputs": [],
   "source": [
    "# folder =\"C:/Users/nechd/Downloads/ball_classification/train\"\n",
    "# start_time = time.time()\n",
    "# full_ball_edge_df = create_df1(folder) \n",
    "# end_time = time.time()\n",
    "# print(\"time taken: \",end_time - start_time)"
   ]
  },
  {
   "cell_type": "code",
   "execution_count": 18,
   "metadata": {},
   "outputs": [],
   "source": [
    "# full_ball_edge_df.shape\n",
    "# full_ball_edge_df.head()"
   ]
  },
  {
   "cell_type": "code",
   "execution_count": 19,
   "metadata": {},
   "outputs": [],
   "source": [
    "# full_ball_edge_df.to_csv('edge.csv', index=False)"
   ]
  },
  {
   "cell_type": "code",
   "execution_count": 3,
   "metadata": {},
   "outputs": [
    {
     "name": "stdout",
     "output_type": "stream",
     "text": [
      "american_football\n",
      "baseball\n",
      "basketball\n",
      "billiard_ball\n",
      "bowling_ball\n",
      "cricket_ball\n",
      "football\n",
      "golf_ball\n",
      "hockey_ball\n",
      "hockey_puck\n",
      "rugby_ball\n",
      "shuttlecock\n",
      "table_tennis_ball\n",
      "tennis_ball\n",
      "volleyball\n",
      "creating df\n",
      "created df\n",
      "time taken:  413.9770224094391\n"
     ]
    }
   ],
   "source": [
    "folder =\"C:/Users/nechd/Downloads/ball_classification/test\"\n",
    "start_time = time.time()\n",
    "full_test_df = create_df1(folder) \n",
    "end_time = time.time()\n",
    "print(\"time taken: \",end_time - start_time)"
   ]
  },
  {
   "cell_type": "code",
   "execution_count": null,
   "metadata": {},
   "outputs": [],
   "source": [
    "full_test_df.to_csv('final_test_data_edge.csv', index=False)"
   ]
  },
  {
   "cell_type": "code",
   "execution_count": 20,
   "metadata": {},
   "outputs": [],
   "source": []
  },
  {
   "cell_type": "code",
   "execution_count": 21,
   "metadata": {},
   "outputs": [],
   "source": []
  },
  {
   "cell_type": "code",
   "execution_count": 22,
   "metadata": {},
   "outputs": [],
   "source": []
  },
  {
   "cell_type": "code",
   "execution_count": 23,
   "metadata": {},
   "outputs": [],
   "source": []
  },
  {
   "cell_type": "code",
   "execution_count": null,
   "metadata": {},
   "outputs": [],
   "source": []
  },
  {
   "cell_type": "markdown",
   "metadata": {},
   "source": [
    "import the data with some/all features"
   ]
  },
  {
   "cell_type": "code",
   "execution_count": 36,
   "metadata": {},
   "outputs": [
    {
     "data": {
      "text/plain": [
       "(1543, 40001)"
      ]
     },
     "execution_count": 36,
     "metadata": {},
     "output_type": "execute_result"
    }
   ],
   "source": [
    "edge = pd.read_csv('edge.csv')\n",
    "del edge['path']\n",
    "del edge['class_name']\n",
    "ball_type = [0,2,9,11]\n",
    "edge_4balls = edge.loc[edge['class_number'].isin(ball_type)]\n",
    "edge_4balls.shape"
   ]
  },
  {
   "cell_type": "code",
   "execution_count": 37,
   "metadata": {},
   "outputs": [],
   "source": [
    "X = edge_4balls.drop(['class_number'], axis=1)\n",
    "y = edge_4balls['class_number']"
   ]
  },
  {
   "cell_type": "markdown",
   "metadata": {},
   "source": [
    "train test split"
   ]
  },
  {
   "cell_type": "code",
   "execution_count": 38,
   "metadata": {},
   "outputs": [],
   "source": [
    "X_train, X_test, y_train, y_test = train_test_split(X, y, test_size=0.3, random_state=42)"
   ]
  },
  {
   "cell_type": "code",
   "execution_count": 39,
   "metadata": {},
   "outputs": [
    {
     "name": "stdout",
     "output_type": "stream",
     "text": [
      "(1080, 702)\n",
      "(463, 702)\n"
     ]
    }
   ],
   "source": [
    "pca1=PCA(n_components=0.9)\n",
    "X_train5=pca1.fit_transform(X_train)\n",
    "X_test5=pca1.transform(X_test)\n",
    "y_train5 = y_train\n",
    "y_test5 = y_test\n",
    "\n",
    "print(X_train5.shape)\n",
    "print(X_test5.shape)"
   ]
  },
  {
   "cell_type": "markdown",
   "metadata": {},
   "source": [
    "extra functions"
   ]
  },
  {
   "cell_type": "code",
   "execution_count": 40,
   "metadata": {},
   "outputs": [],
   "source": [
    "# function to represent the confusion matrix nicely\n",
    "def Confusion_Matrix(cf_matrix):\n",
    "    plt.figure(figsize=(6,6))\n",
    "    sns.heatmap(cf_matrix, annot=True, fmt='', cmap='Greens')"
   ]
  },
  {
   "cell_type": "code",
   "execution_count": 55,
   "metadata": {},
   "outputs": [],
   "source": [
    "# list to hold all final results\n",
    "results=[]"
   ]
  },
  {
   "cell_type": "markdown",
   "metadata": {},
   "source": [
    "model imports"
   ]
  },
  {
   "cell_type": "code",
   "execution_count": 42,
   "metadata": {},
   "outputs": [],
   "source": [
    "from sklearn.multiclass import OneVsOneClassifier\n",
    "from sklearn.multiclass import OutputCodeClassifier\n",
    "from sklearn.multiclass import OneVsRestClassifier\n",
    "from sklearn.svm import LinearSVC\n",
    "\n",
    "from sklearn.neighbors import KNeighborsClassifier\n",
    "\n",
    "from sklearn.ensemble import AdaBoostClassifier\n",
    "\n",
    "from sklearn.ensemble import RandomForestClassifier\n",
    "\n",
    "from sklearn.linear_model import LogisticRegression\n",
    "\n"
   ]
  },
  {
   "cell_type": "markdown",
   "metadata": {},
   "source": [
    "# RUN ON DATA SET WITH LINES AND CIRCLES "
   ]
  },
  {
   "cell_type": "markdown",
   "metadata": {},
   "source": [
    "#### SVM"
   ]
  },
  {
   "cell_type": "code",
   "execution_count": 64,
   "metadata": {},
   "outputs": [
    {
     "name": "stdout",
     "output_type": "stream",
     "text": [
      "OneVsOneClassifier\n",
      "hinge l2 52.480000000000004 %\n",
      "squared_hinge l2 52.480000000000004 %\n",
      "OutputCodeClassifier\n",
      "hinge l2 42.980000000000004 %\n",
      "squared_hinge l2 37.37 %\n",
      "OneVsRestClassifier\n",
      "hinge l2 52.480000000000004 %\n",
      "squared_hinge l2 52.480000000000004 %\n"
     ]
    }
   ],
   "source": [
    "losses = [\"hinge\",\"squared_hinge\"]\n",
    "penalties = [\"l1\",\"l2\"]\n",
    "\n",
    "print(\"OneVsOneClassifier\")\n",
    "for i in losses:\n",
    "    for j in penalties:\n",
    "        try:\n",
    "            svm =  OneVsOneClassifier(LinearSVC(random_state=0, loss=i,penalty=j,)).fit(X_train5, y_train5)\n",
    "            pred_svm = svm.predict(X_test5)\n",
    "            print(i,j,round(np.sum([y_test5==pred_svm])/len(y_test5),4)*100,\"%\")\n",
    "        except:\n",
    "            pass\n",
    "\n",
    "print(\"OutputCodeClassifier\")\n",
    "for i in losses:\n",
    "    for j in penalties:\n",
    "        try:\n",
    "            svm =  OutputCodeClassifier(LinearSVC(random_state=0, loss=i,penalty=j,)).fit(X_train5, y_train5)\n",
    "            pred_svm = svm.predict(X_test5)\n",
    "            print(i,j,round(np.sum([y_test5==pred_svm])/len(y_test5),4)*100,\"%\")\n",
    "        except:\n",
    "            pass\n",
    "\n",
    "\n",
    "print(\"OneVsRestClassifier\")\n",
    "for i in losses:\n",
    "    for j in penalties:\n",
    "        try:\n",
    "            svm =  OneVsRestClassifier(LinearSVC(random_state=0, loss=i,penalty=j,)).fit(X_train5, y_train5)\n",
    "            pred_svm = svm.predict(X_test5)\n",
    "            print(i,j,round(np.sum([y_test5==pred_svm])/len(y_test5),4)*100,\"%\")\n",
    "        except:\n",
    "            pass"
   ]
  },
  {
   "cell_type": "code",
   "execution_count": 65,
   "metadata": {},
   "outputs": [
    {
     "name": "stdout",
     "output_type": "stream",
     "text": [
      "              precision    recall  f1-score   support\n",
      "\n",
      "           0       0.46      0.39      0.43       112\n",
      "           2       0.46      0.55      0.50       106\n",
      "           9       0.50      0.52      0.51       106\n",
      "          11       0.66      0.62      0.64       139\n",
      "\n",
      "    accuracy                           0.52       463\n",
      "   macro avg       0.52      0.52      0.52       463\n",
      "weighted avg       0.53      0.52      0.52       463\n",
      "\n",
      "52.480000000000004 %\n"
     ]
    },
    {
     "data": {
      "image/png": "[encoded data removed]",
      "text/plain": [
       "<Figure size 600x600 with 2 Axes>"
      ]
     },
     "metadata": {},
     "output_type": "display_data"
    }
   ],
   "source": [
    "svm5 =  OneVsOneClassifier(LinearSVC(random_state=0, loss=\"hinge\",penalty=\"l2\")).fit(X_train5, y_train5)\n",
    "pred_svm5 = svm5.predict(X_test5)\n",
    "Confusion_Matrix(confusion_matrix(y_test5,pred_svm5))\n",
    "print(classification_report(y_test5, pred_svm5))\n",
    "print(round(np.sum([y_test5==pred_svm5])/len(y_test5),4)*100,\"%\")\n",
    "results.append(['edges PCA 0.9', 'SVM',round(np.sum([y_test5==pred_svm5])/len(y_test5),4)*100 ])"
   ]
  },
  {
   "cell_type": "markdown",
   "metadata": {},
   "source": [
    "#### KNN"
   ]
  },
  {
   "cell_type": "code",
   "execution_count": 44,
   "metadata": {},
   "outputs": [
    {
     "name": "stdout",
     "output_type": "stream",
     "text": [
      "1 44.92 %\n",
      "2 40.6 %\n",
      "3 38.66 %\n",
      "4 34.99 %\n",
      "5 33.910000000000004 %\n",
      "6 34.13 %\n",
      "7 33.910000000000004 %\n",
      "8 33.26 %\n",
      "9 33.910000000000004 %\n",
      "10 31.97 %\n",
      "11 30.020000000000003 %\n",
      "12 31.319999999999997 %\n",
      "13 33.26 %\n",
      "14 32.4 %\n",
      "15 30.89 %\n",
      "16 31.1 %\n",
      "17 30.45 %\n",
      "18 30.45 %\n",
      "19 30.240000000000002 %\n",
      "20 28.939999999999998 %\n",
      "21 29.59 %\n",
      "22 29.37 %\n",
      "23 28.939999999999998 %\n",
      "24 28.08 %\n",
      "25 27.650000000000002 %\n",
      "26 28.51 %\n",
      "27 27.650000000000002 %\n",
      "28 28.08 %\n",
      "29 27.650000000000002 %\n",
      "30 28.29 %\n",
      "31 28.08 %\n",
      "32 28.08 %\n",
      "33 27.860000000000003 %\n",
      "34 28.29 %\n",
      "35 28.08 %\n",
      "36 28.08 %\n",
      "37 28.08 %\n",
      "38 27.860000000000003 %\n",
      "39 27.650000000000002 %\n",
      "40 26.779999999999998 %\n",
      "41 26.35 %\n",
      "42 27.21 %\n",
      "43 26.779999999999998 %\n",
      "44 26.779999999999998 %\n",
      "45 27.0 %\n",
      "46 26.779999999999998 %\n",
      "47 25.919999999999998 %\n",
      "48 26.35 %\n",
      "49 26.13 %\n",
      "50 26.57 %\n"
     ]
    }
   ],
   "source": [
    "for i in range(1,51):\n",
    "    neigh = KNeighborsClassifier(n_neighbors=i)\n",
    "    neigh.fit(X_train5,y_train5)\n",
    "    pred_knn = neigh.predict(X_test5)\n",
    "    print(i,round(np.sum([y_test5==pred_knn])/len(y_test5),4)*100,\"%\")"
   ]
  },
  {
   "cell_type": "code",
   "execution_count": 57,
   "metadata": {},
   "outputs": [
    {
     "name": "stdout",
     "output_type": "stream",
     "text": [
      "              precision    recall  f1-score   support\n",
      "\n",
      "           0       0.52      0.35      0.42       112\n",
      "           2       0.36      0.18      0.24       106\n",
      "           9       0.35      0.60      0.44       106\n",
      "          11       0.56      0.62      0.59       139\n",
      "\n",
      "    accuracy                           0.45       463\n",
      "   macro avg       0.45      0.44      0.42       463\n",
      "weighted avg       0.46      0.45      0.43       463\n",
      "\n",
      "44.92 %\n"
     ]
    },
    {
     "data": {
      "image/png": "[encoded data removed]",
      "text/plain": [
       "<Figure size 600x600 with 2 Axes>"
      ]
     },
     "metadata": {},
     "output_type": "display_data"
    }
   ],
   "source": [
    "neigh5 = KNeighborsClassifier(n_neighbors=1)\n",
    "neigh5.fit(X_train5,y_train5)\n",
    "pred_knn5 = neigh5.predict(X_test5)\n",
    "Confusion_Matrix(confusion_matrix(y_test5,pred_knn5))\n",
    "print(classification_report(y_test5, pred_knn5))\n",
    "print(round(np.sum([y_test5==pred_knn5])/len(y_test5),4)*100,\"%\")\n",
    "results.append(['edges PCA 0.9', 'KNN',round(np.sum([y_test5==pred_knn5])/len(y_test5),4)*100 ])"
   ]
  },
  {
   "cell_type": "markdown",
   "metadata": {},
   "source": [
    "#### Adaboost"
   ]
  },
  {
   "cell_type": "code",
   "execution_count": 45,
   "metadata": {},
   "outputs": [
    {
     "name": "stdout",
     "output_type": "stream",
     "text": [
      "50 38.23 %\n",
      "100 38.879999999999995 %\n",
      "150 39.739999999999995 %\n",
      "200 40.6 %\n",
      "250 41.68 %\n",
      "300 40.17 %\n",
      "350 42.33 %\n",
      "400 41.25 %\n",
      "450 41.04 %\n",
      "500 41.25 %\n",
      "550 42.33 %\n",
      "600 42.55 %\n",
      "650 42.55 %\n",
      "700 42.55 %\n",
      "750 41.04 %\n",
      "800 43.41 %\n",
      "850 42.33 %\n",
      "900 42.76 %\n",
      "950 42.33 %\n",
      "1000 42.980000000000004 %\n",
      "1050 42.76 %\n",
      "1100 42.980000000000004 %\n",
      "1150 42.76 %\n",
      "1200 43.2 %\n",
      "1250 43.41 %\n",
      "1300 43.41 %\n",
      "1350 43.84 %\n",
      "1400 43.63 %\n",
      "1450 43.84 %\n",
      "1500 42.980000000000004 %\n",
      "1550 42.980000000000004 %\n",
      "1600 43.41 %\n",
      "1650 44.92 %\n",
      "1700 44.92 %\n",
      "1750 43.2 %\n",
      "1800 43.41 %\n",
      "1850 44.06 %\n",
      "1900 45.36 %\n",
      "1950 44.92 %\n",
      "2000 45.36 %\n"
     ]
    }
   ],
   "source": [
    "for i in range(50,2001,50):\n",
    "    ada = AdaBoostClassifier(n_estimators=i, algorithm=\"SAMME\", random_state=0)\n",
    "    ada.fit(X_train5,y_train5)\n",
    "    pred_ada = ada.predict(X_test5)\n",
    "    print(i,round(np.sum([y_test5==pred_ada])/len(y_test5),4)*100,\"%\")"
   ]
  },
  {
   "cell_type": "code",
   "execution_count": 58,
   "metadata": {},
   "outputs": [
    {
     "name": "stdout",
     "output_type": "stream",
     "text": [
      "              precision    recall  f1-score   support\n",
      "\n",
      "           0       0.35      0.42      0.38       112\n",
      "           2       1.00      0.11      0.20       106\n",
      "           9       0.41      0.58      0.48       106\n",
      "          11       0.54      0.65      0.59       139\n",
      "\n",
      "    accuracy                           0.45       463\n",
      "   macro avg       0.57      0.44      0.41       463\n",
      "weighted avg       0.57      0.45      0.42       463\n",
      "\n",
      "45.36 %\n"
     ]
    },
    {
     "data": {
      "image/png": "[encoded data removed]",
      "text/plain": [
       "<Figure size 600x600 with 2 Axes>"
      ]
     },
     "metadata": {},
     "output_type": "display_data"
    }
   ],
   "source": [
    "ada5 = AdaBoostClassifier(n_estimators=2000, algorithm=\"SAMME\",random_state=0)\n",
    "ada5.fit(X_train5,y_train5)\n",
    "pred_ada5 = ada5.predict(X_test5)\n",
    "Confusion_Matrix(confusion_matrix(y_test5,pred_ada5))\n",
    "print(classification_report(y_test5, pred_ada5))\n",
    "print(round(np.sum([y_test5==pred_ada5])/len(y_test5),4)*100,\"%\")\n",
    "results.append(['edges PCA 0.9', 'Adaboost',round(np.sum([y_test5==pred_ada5])/len(y_test5),4)*100 ])"
   ]
  },
  {
   "cell_type": "markdown",
   "metadata": {},
   "source": [
    "#### Random Forest"
   ]
  },
  {
   "cell_type": "code",
   "execution_count": 46,
   "metadata": {},
   "outputs": [
    {
     "name": "stdout",
     "output_type": "stream",
     "text": [
      "40 2 44.92 %\n",
      "40 3 45.14 %\n",
      "40 4 45.36 %\n",
      "60 2 46.44 %\n",
      "60 3 46.22 %\n",
      "60 4 45.57 %\n",
      "80 2 45.36 %\n",
      "80 3 45.57 %\n",
      "80 4 45.36 %\n",
      "100 2 45.79 %\n",
      "100 3 45.79 %\n",
      "100 4 46.22 %\n",
      "120 2 46.22 %\n",
      "120 3 48.16 %\n",
      "120 4 45.79 %\n",
      "140 2 46.87 %\n",
      "140 3 46.22 %\n",
      "140 4 47.52 %\n",
      "160 2 46.0 %\n",
      "160 3 47.08 %\n",
      "160 4 48.6 %\n",
      "180 2 47.73 %\n",
      "180 3 47.08 %\n",
      "180 4 47.73 %\n",
      "200 2 46.22 %\n",
      "200 3 47.08 %\n",
      "200 4 47.949999999999996 %\n",
      "220 2 46.650000000000006 %\n",
      "220 3 46.87 %\n",
      "220 4 47.73 %\n",
      "240 2 46.22 %\n",
      "240 3 47.52 %\n",
      "240 4 47.3 %\n",
      "260 2 47.08 %\n",
      "260 3 47.52 %\n",
      "260 4 46.87 %\n",
      "280 2 46.650000000000006 %\n",
      "280 3 47.3 %\n",
      "280 4 47.08 %\n",
      "300 2 47.949999999999996 %\n",
      "300 3 47.08 %\n",
      "300 4 47.52 %\n",
      "320 2 47.73 %\n",
      "320 3 47.73 %\n",
      "320 4 47.949999999999996 %\n",
      "340 2 47.3 %\n",
      "340 3 47.08 %\n",
      "340 4 47.73 %\n",
      "360 2 47.08 %\n",
      "360 3 47.08 %\n",
      "360 4 48.16 %\n",
      "380 2 47.52 %\n",
      "380 3 47.08 %\n",
      "380 4 48.38 %\n",
      "400 2 47.3 %\n",
      "400 3 47.949999999999996 %\n",
      "400 4 48.16 %\n",
      "420 2 47.52 %\n",
      "420 3 47.3 %\n",
      "420 4 47.73 %\n",
      "440 2 47.08 %\n",
      "440 3 48.16 %\n",
      "440 4 47.52 %\n",
      "460 2 47.08 %\n",
      "460 3 47.73 %\n",
      "460 4 47.73 %\n",
      "480 2 47.3 %\n",
      "480 3 47.949999999999996 %\n",
      "480 4 47.73 %\n",
      "500 2 47.3 %\n",
      "500 3 46.650000000000006 %\n",
      "500 4 47.3 %\n"
     ]
    }
   ],
   "source": [
    "for i in range(40,501,20):\n",
    "    for j in range(2,5):\n",
    "        RF = RandomForestClassifier(n_estimators=i, max_depth=None,min_samples_split=j, random_state=0)\n",
    "        RF.fit(X_train5,y_train5)\n",
    "        pred_RF = RF.predict(X_test5)\n",
    "        print(i,j,round(np.sum([y_test5==pred_RF])/len(y_test5),4)*100,\"%\")"
   ]
  },
  {
   "cell_type": "code",
   "execution_count": 59,
   "metadata": {},
   "outputs": [
    {
     "name": "stdout",
     "output_type": "stream",
     "text": [
      "              precision    recall  f1-score   support\n",
      "\n",
      "           0       0.62      0.22      0.33       112\n",
      "           2       1.00      0.16      0.28       106\n",
      "           9       0.37      0.72      0.49       106\n",
      "          11       0.52      0.76      0.62       139\n",
      "\n",
      "    accuracy                           0.48       463\n",
      "   macro avg       0.63      0.47      0.43       463\n",
      "weighted avg       0.62      0.48      0.44       463\n",
      "\n",
      "48.38 %\n"
     ]
    },
    {
     "data": {
      "image/png": "[encoded data removed]",
      "text/plain": [
       "<Figure size 600x600 with 2 Axes>"
      ]
     },
     "metadata": {},
     "output_type": "display_data"
    }
   ],
   "source": [
    "RF5 = RandomForestClassifier(n_estimators=380, max_depth=None,min_samples_split=4, random_state=0)\n",
    "RF5.fit(X_train5,y_train5)\n",
    "pred_RF5 = RF5.predict(X_test5)\n",
    "Confusion_Matrix(confusion_matrix(y_test5,pred_RF5))\n",
    "print(classification_report(y_test5, pred_RF5))\n",
    "print(round(np.sum([y_test5==pred_RF5])/len(y_test5),4)*100,\"%\")\n",
    "results.append(['edges PCA 0.9', 'Random Forest',round(np.sum([y_test5==pred_RF5])/len(y_test5),4)*100 ])"
   ]
  },
  {
   "cell_type": "markdown",
   "metadata": {},
   "source": [
    "#### Logistic Regression"
   ]
  },
  {
   "cell_type": "code",
   "execution_count": 47,
   "metadata": {},
   "outputs": [
    {
     "name": "stdout",
     "output_type": "stream",
     "text": [
      "l1 liblinear 0.1 55.720000000000006 %\n",
      "l1 liblinear 0.01 52.05 %\n",
      "l1 liblinear 0.001 53.779999999999994 %\n",
      "l1 saga 0.1 52.27 %\n",
      "l1 saga 0.01 54.64 %\n",
      "l1 saga 0.001 54.64 %\n",
      "l2 lbfgs 0.1 49.68 %\n",
      "l2 lbfgs 0.01 51.839999999999996 %\n",
      "l2 lbfgs 0.001 51.190000000000005 %\n",
      "l2 liblinear 0.1 52.7 %\n",
      "l2 liblinear 0.01 53.559999999999995 %\n",
      "l2 liblinear 0.001 54.21 %\n",
      "l2 newton-cg 0.1 51.190000000000005 %\n",
      "l2 newton-cg 0.01 51.190000000000005 %\n",
      "l2 newton-cg 0.001 50.970000000000006 %\n",
      "l2 sag 0.1 54.21 %\n",
      "l2 sag 0.01 54.64 %\n",
      "l2 sag 0.001 54.21 %\n",
      "l2 saga 0.1 52.27 %\n",
      "l2 saga 0.01 54.64 %\n",
      "l2 saga 0.001 54.64 %\n"
     ]
    }
   ],
   "source": [
    "penilties = [\"l1\",\"l2\",\"elasticnet\"]\n",
    "solvers = [\"lbfgs\",\"liblinear\",\"newton-cg\",\"newton-cholesky\",\"sag\",\"saga\"]\n",
    "tols= [0.1 ,0.01, 0.001]\n",
    "\n",
    "for i in penilties:\n",
    "    for j in solvers:\n",
    "        for k in tols:\n",
    "            try:\n",
    "                LR = LogisticRegression(penalty=i, solver=j, tol=k, max_iter=10000,random_state=0)\n",
    "                LR.fit(X_train5,y_train5)\n",
    "                pred_LR = LR.predict(X_test5)\n",
    "                print(i,j,k,round(np.sum([y_test5==pred_LR])/len(y_test5),4)*100,\"%\")\n",
    "            except:\n",
    "                pass\n",
    "        "
   ]
  },
  {
   "cell_type": "code",
   "execution_count": 60,
   "metadata": {},
   "outputs": [
    {
     "name": "stdout",
     "output_type": "stream",
     "text": [
      "              precision    recall  f1-score   support\n",
      "\n",
      "           0       0.50      0.48      0.49       112\n",
      "           2       0.55      0.50      0.52       106\n",
      "           9       0.53      0.56      0.54       106\n",
      "          11       0.63      0.66      0.64       139\n",
      "\n",
      "    accuracy                           0.56       463\n",
      "   macro avg       0.55      0.55      0.55       463\n",
      "weighted avg       0.56      0.56      0.56       463\n",
      "\n",
      "55.720000000000006 %\n"
     ]
    },
    {
     "data": {
      "image/png": "[encoded data removed]",
      "text/plain": [
       "<Figure size 600x600 with 2 Axes>"
      ]
     },
     "metadata": {},
     "output_type": "display_data"
    }
   ],
   "source": [
    "LR5 = LogisticRegression(penalty=\"l1\", solver=\"liblinear\", tol=0.1, max_iter=10000, random_state=0)\n",
    "LR5.fit(X_train5,y_train5)\n",
    "pred_LR5 = LR5.predict(X_test5)\n",
    "Confusion_Matrix(confusion_matrix(y_test5,pred_LR5))\n",
    "print(classification_report(y_test5, pred_LR5))\n",
    "print(round(np.sum([y_test5==pred_LR5])/len(y_test5),4)*100,\"%\")\n",
    "results.append(['edges PCA 0.9', 'Logistic Regression',round(np.sum([y_test5==pred_LR5])/len(y_test5),4)*100 ])"
   ]
  },
  {
   "cell_type": "code",
   "execution_count": 61,
   "metadata": {},
   "outputs": [],
   "source": [
    "cols = [\"df_type\",\"classifier\",\"accuracy\"]\n",
    "df = pd.DataFrame(results, columns=cols)"
   ]
  },
  {
   "cell_type": "code",
   "execution_count": 62,
   "metadata": {},
   "outputs": [
    {
     "data": {
      "text/html": [
       "<div>\n",
       "<style scoped>\n",
       "    .dataframe tbody tr th:only-of-type {\n",
       "        vertical-align: middle;\n",
       "    }\n",
       "\n",
       "    .dataframe tbody tr th {\n",
       "        vertical-align: top;\n",
       "    }\n",
       "\n",
       "    .dataframe thead th {\n",
       "        text-align: right;\n",
       "    }\n",
       "</style>\n",
       "<table border=\"1\" class=\"dataframe\">\n",
       "  <thead>\n",
       "    <tr style=\"text-align: right;\">\n",
       "      <th></th>\n",
       "      <th>df_type</th>\n",
       "      <th>classifier</th>\n",
       "      <th>accuracy</th>\n",
       "    </tr>\n",
       "  </thead>\n",
       "  <tbody>\n",
       "    <tr>\n",
       "      <th>0</th>\n",
       "      <td>edges PCA 0.9</td>\n",
       "      <td>SVM</td>\n",
       "      <td>52.48</td>\n",
       "    </tr>\n",
       "    <tr>\n",
       "      <th>1</th>\n",
       "      <td>edges PCA 0.9</td>\n",
       "      <td>KNN</td>\n",
       "      <td>44.92</td>\n",
       "    </tr>\n",
       "    <tr>\n",
       "      <th>2</th>\n",
       "      <td>edges PCA 0.9</td>\n",
       "      <td>Adaboost</td>\n",
       "      <td>45.36</td>\n",
       "    </tr>\n",
       "    <tr>\n",
       "      <th>3</th>\n",
       "      <td>edges PCA 0.9</td>\n",
       "      <td>Random Forest</td>\n",
       "      <td>48.38</td>\n",
       "    </tr>\n",
       "    <tr>\n",
       "      <th>4</th>\n",
       "      <td>edges PCA 0.9</td>\n",
       "      <td>Logistic Regression</td>\n",
       "      <td>55.72</td>\n",
       "    </tr>\n",
       "  </tbody>\n",
       "</table>\n",
       "</div>"
      ],
      "text/plain": [
       "         df_type           classifier  accuracy\n",
       "0  edges PCA 0.9                  SVM     52.48\n",
       "1  edges PCA 0.9                  KNN     44.92\n",
       "2  edges PCA 0.9             Adaboost     45.36\n",
       "3  edges PCA 0.9        Random Forest     48.38\n",
       "4  edges PCA 0.9  Logistic Regression     55.72"
      ]
     },
     "execution_count": 62,
     "metadata": {},
     "output_type": "execute_result"
    }
   ],
   "source": [
    "df"
   ]
  },
  {
   "cell_type": "code",
   "execution_count": null,
   "metadata": {},
   "outputs": [],
   "source": [
    "import pickle\n",
    "filenames = ['svm5.sav','knn5.sav','ada5.sav','RF5.sav','LR5.sav']\n",
    "models= [svm5,neigh5,ada5,RF5,LR5]\n",
    "\n",
    "for i in range(len(filenames)): \n",
    "    pickle.dump(models[i], open(filenames[i], 'wb'))"
   ]
  },
  {
   "cell_type": "code",
   "execution_count": null,
   "metadata": {},
   "outputs": [],
   "source": []
  },
  {
   "cell_type": "code",
   "execution_count": null,
   "metadata": {},
   "outputs": [],
   "source": []
  },
  {
   "cell_type": "code",
   "execution_count": null,
   "metadata": {},
   "outputs": [],
   "source": []
  }
 ],
 "metadata": {
  "kernelspec": {
   "display_name": "Python 3",
   "language": "python",
   "name": "python3"
  },
  "language_info": {
   "codemirror_mode": {
    "name": "ipython",
    "version": 3
   },
   "file_extension": ".py",
   "mimetype": "text/x-python",
   "name": "python",
   "nbconvert_exporter": "python",
   "pygments_lexer": "ipython3",
   "version": "3.10.8"
  }
 },
 "nbformat": 4,
 "nbformat_minor": 2
}
