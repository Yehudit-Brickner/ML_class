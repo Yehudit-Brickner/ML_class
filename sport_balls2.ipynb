{
 "cells": [
  {
   "cell_type": "markdown",
   "metadata": {},
   "source": [
    "# ML class final project part2\n",
    "##  Almog Shor\n",
    "## Yehudit Brickner"
   ]
  },
  {
   "cell_type": "markdown",
   "metadata": {},
   "source": [
    "imports"
   ]
  },
  {
   "cell_type": "code",
   "execution_count": 1,
   "metadata": {},
   "outputs": [],
   "source": [
    "import os\n",
    "import cv2 \n",
    "import numpy as np\n",
    "import matplotlib.pyplot as plt \n",
    "import pandas as pd\n",
    "import seaborn as sns\n",
    "import time\n",
    "import pickle\n",
    "\n",
    "from sklearn.metrics import confusion_matrix\n",
    "from sklearn.model_selection import train_test_split\n",
    "from sklearn.metrics import classification_report\n",
    "\n",
    "from sklearn.decomposition import PCA\n",
    "\n",
    "import warnings\n",
    "warnings.filterwarnings(action='ignore', category=UserWarning)"
   ]
  },
  {
   "cell_type": "markdown",
   "metadata": {},
   "source": [
    "create the data set with all of the features"
   ]
  },
  {
   "cell_type": "code",
   "execution_count": 2,
   "metadata": {},
   "outputs": [],
   "source": [
    "def create_df(folder, ball_type,number):\n",
    "\n",
    "    folder_dir= os.listdir(folder)\n",
    "    \n",
    "    big_list=[]\n",
    "    my_list=[]\n",
    "    count=0\n",
    "    for i in folder_dir:\n",
    "        if i==ball_type:\n",
    "            print(i)\n",
    "            j = os.listdir(folder+\"/\"+i)\n",
    "            for k in range(len(j)):\n",
    "                try:\n",
    "                    img = cv2.imread(folder+\"/\"+i+\"/\"+j[k], cv2.COLOR_BGR2RGB)\n",
    "                    img = cv2.resize(img,(200,200), interpolation = cv2.INTER_AREA)\n",
    "                    \n",
    "                    histogram_r, bin_edges = np.histogram(img[:, :, 0], bins=256, range=(0, 256)) \n",
    "                    histogram_g, bin_edges = np.histogram(img[:, :, 1], bins=256, range=(0, 256)) \n",
    "                    histogram_b, bin_edges = np.histogram(img[:, :, 2], bins=256, range=(0, 256)) \n",
    "                    \n",
    "                    dst = cv2.Canny(img, 50, 200, None, 3)\n",
    "                    dst1 = cv2.Canny(img, 50, 200, None, 3)\n",
    "                    lines = cv2.HoughLines(dst1, 1, np.pi / 180, 50, None, 0, 0)\n",
    "                    \n",
    "                    gray = cv2.imread(folder+\"/\"+i+\"/\"+j[k],cv2.IMREAD_GRAYSCALE)\n",
    "                    gray =  cv2.resize(gray,(200,200), interpolation = cv2.INTER_AREA)\n",
    "                    gray = cv2.medianBlur(gray, 5)\n",
    "                    rows = gray.shape[0]\n",
    "                    circles = cv2.HoughCircles(gray, cv2.HOUGH_GRADIENT, 1, rows / 8,\n",
    "                                    param1=100, param2=30,\n",
    "                                    minRadius=10, maxRadius=100)\n",
    "                    \n",
    "                    my_list=[]\n",
    "                    my_list.append(folder+\"/\"+i+\"/\"+j[k])\n",
    "                    my_list.append(i)\n",
    "                    my_list.append(number)\n",
    "                    if lines is None:\n",
    "                        my_list.append(0)\n",
    "                        my_list.append(0)   \n",
    "                    else:\n",
    "                        my_list.append(1)\n",
    "                        my_list.append(len(lines))\n",
    "                    if circles is None:\n",
    "                        my_list.append(0)\n",
    "                        my_list.append(0)   \n",
    "                    else:\n",
    "                        my_list.append(1)\n",
    "                        my_list.append(circles.shape[1])\n",
    "                    \n",
    "                    my_list.extend(histogram_r)\n",
    "                    my_list.extend(histogram_g)\n",
    "                    my_list.extend(histogram_b)\n",
    "                    my_list.extend(img.flatten())\n",
    "                    my_list.extend(dst.flatten())\n",
    "\n",
    "                    big_list.append(my_list)\n",
    "                    count+=1\n",
    "                    \n",
    "                except:\n",
    "                    print(\"there was an error with count \",count)\n",
    "\n",
    "    \n",
    "    print(\"creating df\")\n",
    "    cols = ['path','class_name','class_number','lines?','#lines','circles?','#circles']\n",
    "    for h in range(256):\n",
    "        cols.append(\"r\"+str(h))\n",
    "    for h in range(256):\n",
    "        cols.append(\"g\"+str(h))\n",
    "    for h in range(256):\n",
    "        cols.append(\"b\"+str(h))\n",
    "    for h in range(200*200*3):\n",
    "        cols.append(\"i\"+str(h))\n",
    "    for h in range(200*200):\n",
    "        cols.append(\"e\"+str(h))\n",
    "\n",
    "    df = pd.DataFrame(big_list, columns = cols) \n",
    "              \n",
    "    return df\n",
    "\n",
    "\n",
    "def create_df1(folder):\n",
    "\n",
    "    folder_dir= os.listdir(folder)\n",
    "    \n",
    "    big_list=[]\n",
    "    my_list=[]\n",
    "    count=0\n",
    "    c=0\n",
    "    for i in folder_dir:\n",
    "        print(i)\n",
    "        j = os.listdir(folder+\"/\"+i)\n",
    "        for k in range(len(j)):\n",
    "            try:\n",
    "                img = cv2.imread(folder+\"/\"+i+\"/\"+j[k], cv2.COLOR_BGR2RGB)\n",
    "                img = cv2.resize(img,(200,200), interpolation = cv2.INTER_AREA)\n",
    "                \n",
    "                # histogram_r, bin_edges = np.histogram(img[:, :, 0], bins=256, range=(0, 256)) \n",
    "                # histogram_g, bin_edges = np.histogram(img[:, :, 1], bins=256, range=(0, 256)) \n",
    "                # histogram_b, bin_edges = np.histogram(img[:, :, 2], bins=256, range=(0, 256)) \n",
    "                \n",
    "                dst = cv2.Canny(img, 50, 200, None, 3)\n",
    "                # dst1 = cv2.Canny(img, 50, 200, None, 3)\n",
    "                # lines = cv2.HoughLines(dst1, 1, np.pi / 180, 50, None, 0, 0)\n",
    "                \n",
    "                # gray = cv2.imread(folder+\"/\"+i+\"/\"+j[k],cv2.IMREAD_GRAYSCALE)\n",
    "                # gray =  cv2.resize(gray,(200,200), interpolation = cv2.INTER_AREA)\n",
    "                # gray = cv2.medianBlur(gray, 5)\n",
    "                # rows = gray.shape[0]\n",
    "                # circles = cv2.HoughCircles(gray, cv2.HOUGH_GRADIENT, 1, rows / 8,\n",
    "                #                 param1=100, param2=30,\n",
    "                #                 minRadius=10, maxRadius=100)\n",
    "                \n",
    "                my_list=[]\n",
    "                my_list.append(folder+\"/\"+i+\"/\"+j[k])\n",
    "                my_list.append(i)\n",
    "                my_list.append(c)\n",
    "                # if lines is None:\n",
    "                #     my_list.append(0)\n",
    "                #     my_list.append(0)   \n",
    "                # else:\n",
    "                #     my_list.append(1)\n",
    "                #     my_list.append(len(lines))\n",
    "                # if circles is None:\n",
    "                #     my_list.append(0)\n",
    "                #     my_list.append(0)   \n",
    "                # else:\n",
    "                #     my_list.append(1)\n",
    "                #     my_list.append(circles.shape[1])\n",
    "                \n",
    "                # my_list.extend(histogram_r)\n",
    "                # my_list.extend(histogram_g)\n",
    "                # my_list.extend(histogram_b)\n",
    "                # my_list.extend(img.flatten())\n",
    "                my_list.extend(dst.flatten())\n",
    "\n",
    "                big_list.append(my_list)\n",
    "                count+=1\n",
    "                \n",
    "            except:\n",
    "                print(\"there was an error with count \",count)\n",
    "\n",
    "        c+=1\n",
    "\n",
    "    \n",
    "    print(\"creating df\")\n",
    "    # cols = ['path','class_name','class_number','lines?','#lines','circles?','#circles']\n",
    "    cols = ['path','class_name','class_number']\n",
    "    # for h in range(256):\n",
    "    #     cols.append(\"r\"+str(h))\n",
    "    # for h in range(256):\n",
    "    #     cols.append(\"g\"+str(h))\n",
    "    # for h in range(256):\n",
    "    #     cols.append(\"b\"+str(h))\n",
    "    # for h in range(200*200*3):\n",
    "    #     cols.append(\"i\"+str(h))\n",
    "    for h in range(200*200):\n",
    "        cols.append(\"e\"+str(h))\n",
    "\n",
    "    df = pd.DataFrame(big_list, columns = cols) \n",
    "\n",
    "    print(\"created df\")\n",
    "              \n",
    "    return df"
   ]
  },
  {
   "cell_type": "code",
   "execution_count": 3,
   "metadata": {},
   "outputs": [],
   "source": [
    "# folder =\"C:/Users/nechd/Downloads/ball_classification/train\"\n",
    "# start_time = time.time()\n",
    "# full_ball_edge_df = create_df1(folder) \n",
    "# end_time = time.time()\n",
    "# print(\"time taken: \",end_time - start_time)"
   ]
  },
  {
   "cell_type": "code",
   "execution_count": 4,
   "metadata": {},
   "outputs": [],
   "source": [
    "# full_ball_edge_df.shape\n",
    "# full_ball_edge_df.head()"
   ]
  },
  {
   "cell_type": "code",
   "execution_count": 5,
   "metadata": {},
   "outputs": [],
   "source": [
    "# full_ball_edge_df.to_csv('edge.csv', index=False)"
   ]
  },
  {
   "cell_type": "code",
   "execution_count": 6,
   "metadata": {},
   "outputs": [],
   "source": [
    "# folder =\"C:/Users/nechd/Downloads/ball_classification/test\"\n",
    "# start_time = time.time()\n",
    "# full_test_df = create_df1(folder) \n",
    "# end_time = time.time()\n",
    "# print(\"time taken: \",end_time - start_time)"
   ]
  },
  {
   "cell_type": "code",
   "execution_count": 7,
   "metadata": {},
   "outputs": [],
   "source": [
    "# full_test_df.to_csv('final_test_data_edge.csv', index=False)"
   ]
  },
  {
   "cell_type": "code",
   "execution_count": null,
   "metadata": {},
   "outputs": [],
   "source": []
  },
  {
   "cell_type": "code",
   "execution_count": null,
   "metadata": {},
   "outputs": [],
   "source": []
  },
  {
   "cell_type": "code",
   "execution_count": null,
   "metadata": {},
   "outputs": [],
   "source": []
  },
  {
   "cell_type": "code",
   "execution_count": null,
   "metadata": {},
   "outputs": [],
   "source": []
  },
  {
   "cell_type": "code",
   "execution_count": null,
   "metadata": {},
   "outputs": [],
   "source": []
  },
  {
   "cell_type": "markdown",
   "metadata": {},
   "source": [
    "import the data with some/all features"
   ]
  },
  {
   "cell_type": "code",
   "execution_count": 2,
   "metadata": {},
   "outputs": [
    {
     "data": {
      "text/plain": [
       "(1543, 40001)"
      ]
     },
     "execution_count": 2,
     "metadata": {},
     "output_type": "execute_result"
    }
   ],
   "source": [
    "edge = pd.read_csv('edge.csv')\n",
    "del edge['path']\n",
    "del edge['class_name']\n",
    "ball_type = [0,2,9,11]\n",
    "edge_4balls = edge.loc[edge['class_number'].isin(ball_type)]\n",
    "edge_4balls.shape"
   ]
  },
  {
   "cell_type": "code",
   "execution_count": 3,
   "metadata": {},
   "outputs": [
    {
     "data": {
      "text/plain": [
       "(388, 40001)"
      ]
     },
     "execution_count": 3,
     "metadata": {},
     "output_type": "execute_result"
    }
   ],
   "source": [
    "test_data2 = pd.read_csv('final_test_data_edge.csv')\n",
    "del test_data2['path']\n",
    "del test_data2['class_name']\n",
    "ball_type = [0,2,9,11]\n",
    "test_data2 = test_data2.loc[test_data2['class_number'].isin(ball_type)]\n",
    "test_data2.shape"
   ]
  },
  {
   "cell_type": "code",
   "execution_count": 4,
   "metadata": {},
   "outputs": [],
   "source": [
    "X = edge_4balls.drop(['class_number'], axis=1)\n",
    "y = edge_4balls['class_number']\n",
    "\n",
    "final_test_X = test_data2.drop(['class_number'], axis=1)\n",
    "final_test_y = test_data2['class_number']"
   ]
  },
  {
   "cell_type": "markdown",
   "metadata": {},
   "source": [
    "train test split"
   ]
  },
  {
   "cell_type": "code",
   "execution_count": 5,
   "metadata": {},
   "outputs": [],
   "source": [
    "X_train, X_test, y_train, y_test = train_test_split(X, y, test_size=0.3, random_state=42)"
   ]
  },
  {
   "cell_type": "code",
   "execution_count": null,
   "metadata": {},
   "outputs": [],
   "source": [
    "\n"
   ]
  },
  {
   "cell_type": "code",
   "execution_count": null,
   "metadata": {},
   "outputs": [],
   "source": []
  },
  {
   "cell_type": "code",
   "execution_count": 6,
   "metadata": {},
   "outputs": [
    {
     "name": "stdout",
     "output_type": "stream",
     "text": [
      "(1080, 100)\n",
      "(463, 100)\n",
      "(388, 100)\n"
     ]
    }
   ],
   "source": [
    "pca1=PCA(n_components=100)\n",
    "X_train5=pca1.fit_transform(X_train)\n",
    "X_test5=pca1.transform(X_test)\n",
    "final_test_X5=pca1.transform(final_test_X)\n",
    "y_train5 = y_train\n",
    "y_test5 = y_test\n",
    "\n",
    "print(X_train5.shape)\n",
    "print(X_test5.shape)\n",
    "print(final_test_X5.shape)\n"
   ]
  },
  {
   "cell_type": "code",
   "execution_count": 7,
   "metadata": {},
   "outputs": [],
   "source": [
    "cs = [i for i in range(100)]\n",
    "df_X5_final_test = pd.DataFrame(final_test_X5,columns=cs)\n",
    "cy =[]\n",
    "for i in final_test_y:\n",
    "    cy.append(i)\n",
    "df_X5_final_test['class_number']=cy\n",
    "df_X5_final_test.to_csv('df_X5_final_test.csv', index=False)"
   ]
  },
  {
   "cell_type": "code",
   "execution_count": null,
   "metadata": {},
   "outputs": [],
   "source": []
  },
  {
   "cell_type": "markdown",
   "metadata": {},
   "source": [
    "extra functions"
   ]
  },
  {
   "cell_type": "code",
   "execution_count": 14,
   "metadata": {},
   "outputs": [],
   "source": [
    "# function to represent the confusion matrix nicely\n",
    "def Confusion_Matrix(cf_matrix):\n",
    "    plt.figure(figsize=(6,6))\n",
    "    sns.heatmap(cf_matrix, annot=True, fmt='', cmap='Greens')"
   ]
  },
  {
   "cell_type": "code",
   "execution_count": 15,
   "metadata": {},
   "outputs": [],
   "source": [
    "# list to hold all final results\n",
    "results=[]"
   ]
  },
  {
   "cell_type": "markdown",
   "metadata": {},
   "source": [
    "model imports"
   ]
  },
  {
   "cell_type": "code",
   "execution_count": 16,
   "metadata": {},
   "outputs": [],
   "source": [
    "from sklearn.multiclass import OneVsOneClassifier\n",
    "from sklearn.multiclass import OutputCodeClassifier\n",
    "from sklearn.multiclass import OneVsRestClassifier\n",
    "from sklearn.svm import LinearSVC\n",
    "\n",
    "from sklearn.neighbors import KNeighborsClassifier\n",
    "\n",
    "from sklearn.ensemble import AdaBoostClassifier\n",
    "\n",
    "from sklearn.ensemble import RandomForestClassifier\n",
    "\n",
    "from sklearn.linear_model import LogisticRegression\n",
    "\n"
   ]
  },
  {
   "cell_type": "markdown",
   "metadata": {},
   "source": [
    "# RUN ON DATA SET WITH EDGES PCA 100"
   ]
  },
  {
   "cell_type": "markdown",
   "metadata": {},
   "source": [
    "#### SVM"
   ]
  },
  {
   "cell_type": "code",
   "execution_count": 17,
   "metadata": {},
   "outputs": [
    {
     "name": "stdout",
     "output_type": "stream",
     "text": [
      "OneVsOneClassifier\n",
      "hinge l2 42.33 %\n",
      "squared_hinge l2 42.33 %\n",
      "OutputCodeClassifier\n",
      "hinge l2 38.23 %\n",
      "squared_hinge l2 44.71 %\n",
      "OneVsRestClassifier\n",
      "hinge l2 30.45 %\n",
      "squared_hinge l2 30.45 %\n"
     ]
    }
   ],
   "source": [
    "losses = [\"hinge\",\"squared_hinge\"]\n",
    "penalties = [\"l1\",\"l2\"]\n",
    "\n",
    "print(\"OneVsOneClassifier\")\n",
    "for i in losses:\n",
    "    for j in penalties:\n",
    "        try:\n",
    "            svm =  OneVsOneClassifier(LinearSVC(random_state=0, loss=i,penalty=j,)).fit(X_train5, y_train5)\n",
    "            pred_svm = svm.predict(X_test5)\n",
    "            print(i,j,round(np.sum([y_test5==pred_svm])/len(y_test5),4)*100,\"%\")\n",
    "        except:\n",
    "            pass\n",
    "\n",
    "print(\"OutputCodeClassifier\")\n",
    "for i in losses:\n",
    "    for j in penalties:\n",
    "        try:\n",
    "            svm =  OutputCodeClassifier(LinearSVC(random_state=0, loss=i,penalty=j,)).fit(X_train5, y_train5)\n",
    "            pred_svm = svm.predict(X_test5)\n",
    "            print(i,j,round(np.sum([y_test5==pred_svm])/len(y_test5),4)*100,\"%\")\n",
    "        except:\n",
    "            pass\n",
    "\n",
    "\n",
    "print(\"OneVsRestClassifier\")\n",
    "for i in losses:\n",
    "    for j in penalties:\n",
    "        try:\n",
    "            svm =  OneVsRestClassifier(LinearSVC(random_state=0, loss=i,penalty=j,)).fit(X_train5, y_train5)\n",
    "            pred_svm = svm.predict(X_test5)\n",
    "            print(i,j,round(np.sum([y_test5==pred_svm])/len(y_test5),4)*100,\"%\")\n",
    "        except:\n",
    "            pass"
   ]
  },
  {
   "cell_type": "code",
   "execution_count": 18,
   "metadata": {},
   "outputs": [
    {
     "name": "stdout",
     "output_type": "stream",
     "text": [
      "              precision    recall  f1-score   support\n",
      "\n",
      "           0       0.34      0.26      0.29       112\n",
      "           2       0.44      0.45      0.44       106\n",
      "           9       0.37      0.36      0.36       106\n",
      "          11       0.40      0.47      0.44       139\n",
      "\n",
      "    accuracy                           0.39       463\n",
      "   macro avg       0.39      0.39      0.38       463\n",
      "weighted avg       0.39      0.39      0.39       463\n",
      "\n",
      "39.09 %\n"
     ]
    },
    {
     "data": {
      "image/png": "[encoded data removed]",
      "text/plain": [
       "<Figure size 600x600 with 2 Axes>"
      ]
     },
     "metadata": {},
     "output_type": "display_data"
    }
   ],
   "source": [
    "svm5 =  OutputCodeClassifier(LinearSVC(random_state=0, loss=\"hinge\",penalty=\"l2\")).fit(X_train5, y_train5)\n",
    "pred_svm5 = svm5.predict(X_test5)\n",
    "Confusion_Matrix(confusion_matrix(y_test5,pred_svm5))\n",
    "print(classification_report(y_test5, pred_svm5))\n",
    "print(round(np.sum([y_test5==pred_svm5])/len(y_test5),4)*100,\"%\")\n",
    "results.append(['edges PCA 100', 'SVM',round(np.sum([y_test5==pred_svm5])/len(y_test5),4)*100 ])"
   ]
  },
  {
   "cell_type": "markdown",
   "metadata": {},
   "source": [
    "#### KNN"
   ]
  },
  {
   "cell_type": "code",
   "execution_count": 19,
   "metadata": {},
   "outputs": [
    {
     "name": "stdout",
     "output_type": "stream",
     "text": [
      "1 57.45 %\n",
      "2 51.4 %\n",
      "3 53.559999999999995 %\n",
      "4 50.32 %\n",
      "5 50.970000000000006 %\n",
      "6 49.03 %\n",
      "7 48.809999999999995 %\n",
      "8 47.08 %\n",
      "9 48.809999999999995 %\n",
      "10 47.52 %\n",
      "11 47.3 %\n",
      "12 46.44 %\n",
      "13 48.6 %\n",
      "14 46.650000000000006 %\n",
      "15 47.52 %\n",
      "16 47.3 %\n",
      "17 48.38 %\n",
      "18 47.52 %\n",
      "19 48.16 %\n",
      "20 48.6 %\n",
      "21 47.949999999999996 %\n",
      "22 47.73 %\n",
      "23 47.52 %\n",
      "24 47.949999999999996 %\n",
      "25 47.949999999999996 %\n",
      "26 47.73 %\n",
      "27 48.38 %\n",
      "28 48.809999999999995 %\n",
      "29 49.03 %\n",
      "30 47.08 %\n",
      "31 47.73 %\n",
      "32 48.16 %\n",
      "33 46.44 %\n",
      "34 46.87 %\n",
      "35 47.3 %\n",
      "36 47.08 %\n",
      "37 47.08 %\n",
      "38 46.22 %\n",
      "39 46.44 %\n",
      "40 46.0 %\n",
      "41 46.650000000000006 %\n",
      "42 46.87 %\n",
      "43 46.87 %\n",
      "44 46.87 %\n",
      "45 46.22 %\n",
      "46 46.44 %\n",
      "47 47.3 %\n",
      "48 46.44 %\n",
      "49 46.22 %\n",
      "50 47.08 %\n"
     ]
    }
   ],
   "source": [
    "for i in range(1,51):\n",
    "    neigh = KNeighborsClassifier(n_neighbors=i)\n",
    "    neigh.fit(X_train5,y_train5)\n",
    "    pred_knn = neigh.predict(X_test5)\n",
    "    print(i,round(np.sum([y_test5==pred_knn])/len(y_test5),4)*100,\"%\")"
   ]
  },
  {
   "cell_type": "code",
   "execution_count": 20,
   "metadata": {},
   "outputs": [
    {
     "name": "stdout",
     "output_type": "stream",
     "text": [
      "              precision    recall  f1-score   support\n",
      "\n",
      "           0       0.58      0.51      0.54       112\n",
      "           2       0.60      0.50      0.54       106\n",
      "           9       0.46      0.59      0.52       106\n",
      "          11       0.66      0.67      0.67       139\n",
      "\n",
      "    accuracy                           0.57       463\n",
      "   macro avg       0.58      0.57      0.57       463\n",
      "weighted avg       0.58      0.57      0.58       463\n",
      "\n",
      "57.45 %\n"
     ]
    },
    {
     "data": {
      "image/png": "[encoded data removed]",
      "text/plain": [
       "<Figure size 600x600 with 2 Axes>"
      ]
     },
     "metadata": {},
     "output_type": "display_data"
    }
   ],
   "source": [
    "neigh5 = KNeighborsClassifier(n_neighbors=1)\n",
    "neigh5.fit(X_train5,y_train5)\n",
    "pred_knn5 = neigh5.predict(X_test5)\n",
    "Confusion_Matrix(confusion_matrix(y_test5,pred_knn5))\n",
    "print(classification_report(y_test5, pred_knn5))\n",
    "print(round(np.sum([y_test5==pred_knn5])/len(y_test5),4)*100,\"%\")\n",
    "results.append(['edges PCA 100', 'KNN',round(np.sum([y_test5==pred_knn5])/len(y_test5),4)*100 ])"
   ]
  },
  {
   "cell_type": "markdown",
   "metadata": {},
   "source": [
    "#### Adaboost"
   ]
  },
  {
   "cell_type": "code",
   "execution_count": 21,
   "metadata": {},
   "outputs": [
    {
     "name": "stdout",
     "output_type": "stream",
     "text": [
      "50 42.55 %\n",
      "100 43.2 %\n",
      "150 41.25 %\n",
      "200 42.980000000000004 %\n",
      "250 44.28 %\n",
      "300 44.06 %\n",
      "350 46.22 %\n",
      "400 46.44 %\n",
      "450 48.38 %\n",
      "500 46.44 %\n",
      "550 47.3 %\n",
      "600 47.3 %\n",
      "650 47.52 %\n",
      "700 47.3 %\n",
      "750 49.89 %\n",
      "800 48.38 %\n",
      "850 46.650000000000006 %\n",
      "900 47.3 %\n",
      "950 48.809999999999995 %\n",
      "1000 46.87 %\n",
      "1050 46.650000000000006 %\n",
      "1100 46.22 %\n",
      "1150 47.73 %\n",
      "1200 47.3 %\n",
      "1250 47.949999999999996 %\n",
      "1300 47.3 %\n",
      "1350 46.650000000000006 %\n",
      "1400 47.52 %\n",
      "1450 46.44 %\n",
      "1500 46.650000000000006 %\n",
      "1550 46.650000000000006 %\n",
      "1600 45.79 %\n",
      "1650 45.57 %\n",
      "1700 46.44 %\n",
      "1750 46.22 %\n",
      "1800 46.650000000000006 %\n",
      "1850 46.22 %\n",
      "1900 47.73 %\n",
      "1950 46.44 %\n",
      "2000 46.22 %\n"
     ]
    }
   ],
   "source": [
    "for i in range(50,2001,50):\n",
    "    ada = AdaBoostClassifier(n_estimators=i, algorithm=\"SAMME\", random_state=0)\n",
    "    ada.fit(X_train5,y_train5)\n",
    "    pred_ada = ada.predict(X_test5)\n",
    "    print(i,round(np.sum([y_test5==pred_ada])/len(y_test5),4)*100,\"%\")"
   ]
  },
  {
   "cell_type": "code",
   "execution_count": 22,
   "metadata": {},
   "outputs": [
    {
     "name": "stdout",
     "output_type": "stream",
     "text": [
      "              precision    recall  f1-score   support\n",
      "\n",
      "           0       0.38      0.47      0.42       112\n",
      "           2       0.60      0.28      0.38       106\n",
      "           9       0.40      0.45      0.42       106\n",
      "          11       0.52      0.58      0.55       139\n",
      "\n",
      "    accuracy                           0.46       463\n",
      "   macro avg       0.48      0.45      0.44       463\n",
      "weighted avg       0.48      0.46      0.45       463\n",
      "\n",
      "45.57 %\n"
     ]
    },
    {
     "data": {
      "image/png": "[encoded data removed]",
      "text/plain": [
       "<Figure size 600x600 with 2 Axes>"
      ]
     },
     "metadata": {},
     "output_type": "display_data"
    }
   ],
   "source": [
    "ada5 = AdaBoostClassifier(n_estimators=1650, algorithm=\"SAMME\",random_state=0)\n",
    "ada5.fit(X_train5,y_train5)\n",
    "pred_ada5 = ada5.predict(X_test5)\n",
    "Confusion_Matrix(confusion_matrix(y_test5,pred_ada5))\n",
    "print(classification_report(y_test5, pred_ada5))\n",
    "print(round(np.sum([y_test5==pred_ada5])/len(y_test5),4)*100,\"%\")\n",
    "results.append(['edges PCA 100', 'Adaboost',round(np.sum([y_test5==pred_ada5])/len(y_test5),4)*100 ])"
   ]
  },
  {
   "cell_type": "markdown",
   "metadata": {},
   "source": [
    "#### Random Forest"
   ]
  },
  {
   "cell_type": "code",
   "execution_count": 23,
   "metadata": {},
   "outputs": [
    {
     "name": "stdout",
     "output_type": "stream",
     "text": [
      "40 2 57.24 %\n",
      "40 3 52.27 %\n",
      "40 4 50.970000000000006 %\n",
      "60 2 55.08 %\n",
      "60 3 54.64 %\n",
      "60 4 53.559999999999995 %\n",
      "80 2 55.510000000000005 %\n",
      "80 3 55.720000000000006 %\n",
      "80 4 55.510000000000005 %\n",
      "100 2 54.21 %\n",
      "100 3 55.28999999999999 %\n",
      "100 4 54.86 %\n",
      "120 2 54.86 %\n",
      "120 3 55.94 %\n",
      "120 4 55.08 %\n",
      "140 2 54.64 %\n",
      "140 3 55.94 %\n",
      "140 4 55.28999999999999 %\n",
      "160 2 53.779999999999994 %\n",
      "160 3 54.86 %\n",
      "160 4 55.510000000000005 %\n",
      "180 2 54.43 %\n",
      "180 3 55.94 %\n",
      "180 4 54.86 %\n",
      "200 2 53.559999999999995 %\n",
      "200 3 56.37 %\n",
      "200 4 55.08 %\n",
      "220 2 54.21 %\n",
      "220 3 57.45 %\n",
      "220 4 55.510000000000005 %\n",
      "240 2 54.0 %\n",
      "240 3 57.879999999999995 %\n",
      "240 4 55.720000000000006 %\n",
      "260 2 54.0 %\n",
      "260 3 57.02 %\n",
      "260 4 55.28999999999999 %\n",
      "280 2 54.0 %\n",
      "280 3 57.45 %\n",
      "280 4 55.08 %\n",
      "300 2 55.08 %\n",
      "300 3 57.45 %\n",
      "300 4 55.510000000000005 %\n",
      "320 2 54.86 %\n",
      "320 3 57.45 %\n",
      "320 4 56.16 %\n",
      "340 2 54.64 %\n",
      "340 3 57.45 %\n",
      "340 4 55.08 %\n",
      "360 2 54.64 %\n",
      "360 3 56.16 %\n",
      "360 4 54.86 %\n",
      "380 2 55.08 %\n",
      "380 3 55.720000000000006 %\n",
      "380 4 55.28999999999999 %\n",
      "400 2 55.28999999999999 %\n",
      "400 3 55.08 %\n",
      "400 4 55.720000000000006 %\n",
      "420 2 54.86 %\n",
      "420 3 55.28999999999999 %\n",
      "420 4 56.16 %\n",
      "440 2 55.28999999999999 %\n",
      "440 3 55.08 %\n",
      "440 4 56.37 %\n",
      "460 2 55.28999999999999 %\n",
      "460 3 55.510000000000005 %\n",
      "460 4 56.37 %\n",
      "480 2 54.64 %\n",
      "480 3 55.510000000000005 %\n",
      "480 4 55.94 %\n",
      "500 2 55.08 %\n",
      "500 3 55.510000000000005 %\n",
      "500 4 55.94 %\n"
     ]
    }
   ],
   "source": [
    "for i in range(40,501,20):\n",
    "    for j in range(2,5):\n",
    "        RF = RandomForestClassifier(n_estimators=i, max_depth=None,min_samples_split=j, random_state=0)\n",
    "        RF.fit(X_train5,y_train5)\n",
    "        pred_RF = RF.predict(X_test5)\n",
    "        print(i,j,round(np.sum([y_test5==pred_RF])/len(y_test5),4)*100,\"%\")"
   ]
  },
  {
   "cell_type": "code",
   "execution_count": 24,
   "metadata": {},
   "outputs": [
    {
     "name": "stdout",
     "output_type": "stream",
     "text": [
      "              precision    recall  f1-score   support\n",
      "\n",
      "           0       0.51      0.42      0.46       112\n",
      "           2       0.82      0.40      0.54       106\n",
      "           9       0.51      0.56      0.53       106\n",
      "          11       0.53      0.78      0.64       139\n",
      "\n",
      "    accuracy                           0.56       463\n",
      "   macro avg       0.59      0.54      0.54       463\n",
      "weighted avg       0.59      0.56      0.55       463\n",
      "\n",
      "55.510000000000005 %\n"
     ]
    },
    {
     "data": {
      "image/png": "[encoded data removed]",
      "text/plain": [
       "<Figure size 600x600 with 2 Axes>"
      ]
     },
     "metadata": {},
     "output_type": "display_data"
    }
   ],
   "source": [
    "RF5 = RandomForestClassifier(n_estimators=80, max_depth=None,min_samples_split=2, random_state=0)\n",
    "RF5.fit(X_train5,y_train5)\n",
    "pred_RF5 = RF5.predict(X_test5)\n",
    "Confusion_Matrix(confusion_matrix(y_test5,pred_RF5))\n",
    "print(classification_report(y_test5, pred_RF5))\n",
    "print(round(np.sum([y_test5==pred_RF5])/len(y_test5),4)*100,\"%\")\n",
    "results.append(['edges PCA 100', 'Random Forest',round(np.sum([y_test5==pred_RF5])/len(y_test5),4)*100 ])"
   ]
  },
  {
   "cell_type": "markdown",
   "metadata": {},
   "source": [
    "#### Logistic Regression"
   ]
  },
  {
   "cell_type": "code",
   "execution_count": 25,
   "metadata": {},
   "outputs": [
    {
     "name": "stdout",
     "output_type": "stream",
     "text": [
      "l1 liblinear 0.1 48.6 %\n",
      "l1 liblinear 0.01 48.16 %\n",
      "l1 liblinear 0.001 47.73 %\n",
      "l1 saga 0.1 48.16 %\n"
     ]
    },
    {
     "name": "stdout",
     "output_type": "stream",
     "text": [
      "l1 saga 0.01 47.08 %\n",
      "l1 saga 0.001 46.87 %\n",
      "l2 lbfgs 0.1 46.87 %\n",
      "l2 lbfgs 0.01 46.87 %\n",
      "l2 lbfgs 0.001 46.87 %\n",
      "l2 liblinear 0.1 46.650000000000006 %\n",
      "l2 liblinear 0.01 43.84 %\n",
      "l2 liblinear 0.001 47.73 %\n",
      "l2 newton-cg 0.1 47.08 %\n",
      "l2 newton-cg 0.01 47.08 %\n",
      "l2 newton-cg 0.001 47.08 %\n",
      "l2 sag 0.1 46.650000000000006 %\n",
      "l2 sag 0.01 47.08 %\n",
      "l2 sag 0.001 46.87 %\n",
      "l2 saga 0.1 48.16 %\n",
      "l2 saga 0.01 47.08 %\n",
      "l2 saga 0.001 46.87 %\n"
     ]
    }
   ],
   "source": [
    "penilties = [\"l1\",\"l2\",\"elasticnet\"]\n",
    "solvers = [\"lbfgs\",\"liblinear\",\"newton-cg\",\"newton-cholesky\",\"sag\",\"saga\"]\n",
    "tols= [0.1 ,0.01, 0.001]\n",
    "\n",
    "for i in penilties:\n",
    "    for j in solvers:\n",
    "        for k in tols:\n",
    "            try:\n",
    "                LR = LogisticRegression(penalty=i, solver=j, tol=k, max_iter=10000,random_state=0)\n",
    "                LR.fit(X_train5,y_train5)\n",
    "                pred_LR = LR.predict(X_test5)\n",
    "                print(i,j,k,round(np.sum([y_test5==pred_LR])/len(y_test5),4)*100,\"%\")\n",
    "            except:\n",
    "                pass\n",
    "        "
   ]
  },
  {
   "cell_type": "code",
   "execution_count": 26,
   "metadata": {},
   "outputs": [
    {
     "name": "stdout",
     "output_type": "stream",
     "text": [
      "              precision    recall  f1-score   support\n",
      "\n",
      "           0       0.55      0.37      0.44       112\n",
      "           2       0.42      0.47      0.44       106\n",
      "           9       0.41      0.46      0.44       106\n",
      "          11       0.55      0.60      0.57       139\n",
      "\n",
      "    accuracy                           0.48       463\n",
      "   macro avg       0.48      0.47      0.47       463\n",
      "weighted avg       0.49      0.48      0.48       463\n",
      "\n",
      "48.16 %\n"
     ]
    },
    {
     "data": {
      "image/png": "[encoded data removed]",
      "text/plain": [
       "<Figure size 600x600 with 2 Axes>"
      ]
     },
     "metadata": {},
     "output_type": "display_data"
    }
   ],
   "source": [
    "LR5 = LogisticRegression(penalty=\"l1\", solver=\"saga\", tol=0.1, max_iter=10000, random_state=0)\n",
    "LR5.fit(X_train5,y_train5)\n",
    "pred_LR5 = LR5.predict(X_test5)\n",
    "Confusion_Matrix(confusion_matrix(y_test5,pred_LR5))\n",
    "print(classification_report(y_test5, pred_LR5))\n",
    "print(round(np.sum([y_test5==pred_LR5])/len(y_test5),4)*100,\"%\")\n",
    "results.append(['edges PCA 100', 'Logistic Regression',round(np.sum([y_test5==pred_LR5])/len(y_test5),4)*100 ])"
   ]
  },
  {
   "cell_type": "code",
   "execution_count": null,
   "metadata": {},
   "outputs": [],
   "source": []
  },
  {
   "cell_type": "code",
   "execution_count": null,
   "metadata": {},
   "outputs": [],
   "source": []
  },
  {
   "cell_type": "markdown",
   "metadata": {},
   "source": [
    "# RUN ON DATA SET WITH EDGES PCA 400"
   ]
  },
  {
   "cell_type": "code",
   "execution_count": 8,
   "metadata": {},
   "outputs": [
    {
     "name": "stdout",
     "output_type": "stream",
     "text": [
      "(1080, 400)\n",
      "(463, 400)\n",
      "(388, 400)\n"
     ]
    }
   ],
   "source": [
    "pca2=PCA(n_components=400)\n",
    "X_train8=pca2.fit_transform(X_train)\n",
    "X_test8=pca2.transform(X_test)\n",
    "final_test_X8 = pca2.transform(final_test_X)\n",
    "y_train8 = y_train\n",
    "y_test8 = y_test\n",
    "\n",
    "print(X_train8.shape)\n",
    "print(X_test8.shape)\n",
    "print(final_test_X8.shape)"
   ]
  },
  {
   "cell_type": "code",
   "execution_count": 9,
   "metadata": {},
   "outputs": [],
   "source": [
    "cs = [i for i in range(400)]\n",
    "df_X8_final_test = pd.DataFrame(final_test_X8,columns=cs)\n",
    "cy =[]\n",
    "for i in final_test_y:\n",
    "    cy.append(i)\n",
    "df_X8_final_test['class_number']=cy\n",
    "df_X8_final_test.to_csv('df_X8_final_test.csv', index=False)"
   ]
  },
  {
   "cell_type": "markdown",
   "metadata": {},
   "source": [
    "#### SVM"
   ]
  },
  {
   "cell_type": "code",
   "execution_count": 29,
   "metadata": {},
   "outputs": [
    {
     "name": "stdout",
     "output_type": "stream",
     "text": [
      "OneVsOneClassifier\n",
      "hinge l2 51.4 %\n",
      "squared_hinge l2 51.4 %\n",
      "OutputCodeClassifier\n",
      "hinge l2 39.09 %\n",
      "squared_hinge l2 45.14 %\n",
      "OneVsRestClassifier\n",
      "hinge l2 46.0 %\n",
      "squared_hinge l2 46.0 %\n"
     ]
    }
   ],
   "source": [
    "losses = [\"hinge\",\"squared_hinge\"]\n",
    "penalties = [\"l1\",\"l2\"]\n",
    "\n",
    "print(\"OneVsOneClassifier\")\n",
    "for i in losses:\n",
    "    for j in penalties:\n",
    "        try:\n",
    "            svm =  OneVsOneClassifier(LinearSVC(random_state=0, loss=i,penalty=j,)).fit(X_train8, y_train8)\n",
    "            pred_svm = svm.predict(X_test8)\n",
    "            print(i,j,round(np.sum([y_test8==pred_svm])/len(y_test8),4)*100,\"%\")\n",
    "        except:\n",
    "            pass\n",
    "\n",
    "print(\"OutputCodeClassifier\")\n",
    "for i in losses:\n",
    "    for j in penalties:\n",
    "        try:\n",
    "            svm =  OutputCodeClassifier(LinearSVC(random_state=0, loss=i,penalty=j,)).fit(X_train8, y_train8)\n",
    "            pred_svm = svm.predict(X_test8)\n",
    "            print(i,j,round(np.sum([y_test8==pred_svm])/len(y_test8),4)*100,\"%\")\n",
    "        except:\n",
    "            pass\n",
    "\n",
    "\n",
    "print(\"OneVsRestClassifier\")\n",
    "for i in losses:\n",
    "    for j in penalties:\n",
    "        try:\n",
    "            svm =  OneVsRestClassifier(LinearSVC(random_state=0, loss=i,penalty=j,)).fit(X_train8, y_train8)\n",
    "            pred_svm = svm.predict(X_test8)\n",
    "            print(i,j,round(np.sum([y_test8==pred_svm])/len(y_test8),4)*100,\"%\")\n",
    "        except:\n",
    "            pass"
   ]
  },
  {
   "cell_type": "code",
   "execution_count": 30,
   "metadata": {},
   "outputs": [
    {
     "name": "stdout",
     "output_type": "stream",
     "text": [
      "              precision    recall  f1-score   support\n",
      "\n",
      "           0       0.43      0.41      0.42       112\n",
      "           2       0.54      0.54      0.54       106\n",
      "           9       0.48      0.55      0.51       106\n",
      "          11       0.59      0.55      0.57       139\n",
      "\n",
      "    accuracy                           0.51       463\n",
      "   macro avg       0.51      0.51      0.51       463\n",
      "weighted avg       0.52      0.51      0.51       463\n",
      "\n",
      "51.4 %\n"
     ]
    },
    {
     "data": {
      "image/png": "[encoded data removed]",
      "text/plain": [
       "<Figure size 600x600 with 2 Axes>"
      ]
     },
     "metadata": {},
     "output_type": "display_data"
    }
   ],
   "source": [
    "svm8 =  OneVsOneClassifier(LinearSVC(random_state=0, loss=\"hinge\",penalty=\"l2\")).fit(X_train8, y_train8)\n",
    "pred_svm8 = svm8.predict(X_test8)\n",
    "Confusion_Matrix(confusion_matrix(y_test8,pred_svm8))\n",
    "print(classification_report(y_test8, pred_svm8))\n",
    "print(round(np.sum([y_test8==pred_svm8])/len(y_test8),4)*100,\"%\")\n",
    "results.append(['edges PCA 400', 'SVM',round(np.sum([y_test8==pred_svm8])/len(y_test8),4)*100 ])"
   ]
  },
  {
   "cell_type": "markdown",
   "metadata": {},
   "source": [
    "#### KNN"
   ]
  },
  {
   "cell_type": "code",
   "execution_count": 31,
   "metadata": {},
   "outputs": [
    {
     "name": "stdout",
     "output_type": "stream",
     "text": [
      "1 47.73 %\n",
      "2 42.76 %\n",
      "3 38.879999999999995 %\n",
      "4 41.9 %\n",
      "5 40.6 %\n",
      "6 40.17 %\n",
      "7 39.739999999999995 %\n",
      "8 39.739999999999995 %\n",
      "9 40.39 %\n",
      "10 39.739999999999995 %\n",
      "11 38.66 %\n",
      "12 38.66 %\n",
      "13 40.39 %\n",
      "14 38.440000000000005 %\n",
      "15 39.519999999999996 %\n",
      "16 36.720000000000006 %\n",
      "17 35.64 %\n",
      "18 36.93 %\n",
      "19 37.15 %\n",
      "20 38.01 %\n",
      "21 37.580000000000005 %\n",
      "22 39.739999999999995 %\n",
      "23 38.879999999999995 %\n",
      "24 39.31 %\n",
      "25 37.37 %\n",
      "26 36.5 %\n",
      "27 35.42 %\n",
      "28 35.85 %\n",
      "29 35.42 %\n",
      "30 35.21 %\n",
      "31 35.85 %\n",
      "32 35.42 %\n",
      "33 35.42 %\n",
      "34 35.85 %\n",
      "35 35.21 %\n",
      "36 35.42 %\n",
      "37 34.56 %\n",
      "38 35.21 %\n",
      "39 34.77 %\n",
      "40 35.42 %\n",
      "41 33.910000000000004 %\n",
      "42 34.56 %\n",
      "43 34.339999999999996 %\n",
      "44 34.56 %\n",
      "45 34.56 %\n",
      "46 34.56 %\n",
      "47 33.26 %\n",
      "48 33.48 %\n",
      "49 33.48 %\n",
      "50 33.48 %\n"
     ]
    }
   ],
   "source": [
    "for i in range(1,51):\n",
    "    neigh = KNeighborsClassifier(n_neighbors=i)\n",
    "    neigh.fit(X_train8,y_train8)\n",
    "    pred_knn = neigh.predict(X_test8)\n",
    "    print(i,round(np.sum([y_test8==pred_knn])/len(y_test8),4)*100,\"%\")"
   ]
  },
  {
   "cell_type": "code",
   "execution_count": 32,
   "metadata": {},
   "outputs": [
    {
     "name": "stdout",
     "output_type": "stream",
     "text": [
      "              precision    recall  f1-score   support\n",
      "\n",
      "           0       0.50      0.46      0.48       112\n",
      "           2       0.40      0.20      0.26       106\n",
      "           9       0.40      0.58      0.48       106\n",
      "          11       0.57      0.62      0.60       139\n",
      "\n",
      "    accuracy                           0.48       463\n",
      "   macro avg       0.47      0.47      0.45       463\n",
      "weighted avg       0.47      0.48      0.46       463\n",
      "\n",
      "47.73 %\n"
     ]
    },
    {
     "data": {
      "image/png": "[encoded data removed]",
      "text/plain": [
       "<Figure size 600x600 with 2 Axes>"
      ]
     },
     "metadata": {},
     "output_type": "display_data"
    }
   ],
   "source": [
    "neigh8 = KNeighborsClassifier(n_neighbors=1)\n",
    "neigh8.fit(X_train8,y_train8)\n",
    "pred_knn8 = neigh8.predict(X_test8)\n",
    "Confusion_Matrix(confusion_matrix(y_test8,pred_knn8))\n",
    "print(classification_report(y_test8, pred_knn8))\n",
    "print(round(np.sum([y_test8==pred_knn8])/len(y_test8),4)*100,\"%\")\n",
    "results.append(['edges PCA 400', 'KNN',round(np.sum([y_test8==pred_knn8])/len(y_test8),4)*100 ])"
   ]
  },
  {
   "cell_type": "markdown",
   "metadata": {},
   "source": [
    "#### Adaboost"
   ]
  },
  {
   "cell_type": "code",
   "execution_count": 33,
   "metadata": {},
   "outputs": [
    {
     "name": "stdout",
     "output_type": "stream",
     "text": [
      "50 41.04 %\n",
      "100 40.17 %\n",
      "150 38.879999999999995 %\n",
      "200 39.739999999999995 %\n",
      "250 42.120000000000005 %\n",
      "300 41.68 %\n",
      "350 42.120000000000005 %\n",
      "400 41.04 %\n",
      "450 43.2 %\n",
      "500 41.47 %\n",
      "550 40.39 %\n",
      "600 41.9 %\n",
      "650 42.980000000000004 %\n",
      "700 41.68 %\n",
      "750 41.47 %\n",
      "800 42.120000000000005 %\n",
      "850 43.63 %\n",
      "900 43.41 %\n",
      "950 44.06 %\n",
      "1000 42.980000000000004 %\n",
      "1050 42.55 %\n",
      "1100 43.41 %\n",
      "1150 43.2 %\n",
      "1200 42.76 %\n",
      "1250 42.980000000000004 %\n",
      "1300 42.980000000000004 %\n",
      "1350 42.120000000000005 %\n",
      "1400 43.2 %\n",
      "1450 44.49 %\n",
      "1500 43.84 %\n",
      "1550 45.14 %\n",
      "1600 44.06 %\n",
      "1650 44.92 %\n",
      "1700 44.49 %\n",
      "1750 44.06 %\n",
      "1800 44.06 %\n",
      "1850 44.71 %\n",
      "1900 44.06 %\n",
      "1950 43.63 %\n",
      "2000 43.63 %\n"
     ]
    }
   ],
   "source": [
    "for i in range(50,2001,50):\n",
    "    ada = AdaBoostClassifier(n_estimators=i, algorithm=\"SAMME\", random_state=0)\n",
    "    ada.fit(X_train8,y_train8)\n",
    "    pred_ada = ada.predict(X_test8)\n",
    "    print(i,round(np.sum([y_test8==pred_ada])/len(y_test8),4)*100,\"%\")"
   ]
  },
  {
   "cell_type": "code",
   "execution_count": 34,
   "metadata": {},
   "outputs": [
    {
     "name": "stdout",
     "output_type": "stream",
     "text": [
      "              precision    recall  f1-score   support\n",
      "\n",
      "           0       0.34      0.38      0.36       112\n",
      "           2       0.85      0.16      0.27       106\n",
      "           9       0.37      0.56      0.45       106\n",
      "          11       0.50      0.58      0.54       139\n",
      "\n",
      "    accuracy                           0.43       463\n",
      "   macro avg       0.52      0.42      0.40       463\n",
      "weighted avg       0.51      0.43      0.41       463\n",
      "\n",
      "42.980000000000004 %\n"
     ]
    },
    {
     "data": {
      "image/png": "[encoded data removed]",
      "text/plain": [
       "<Figure size 600x600 with 2 Axes>"
      ]
     },
     "metadata": {},
     "output_type": "display_data"
    }
   ],
   "source": [
    "ada8 = AdaBoostClassifier(n_estimators=1250, algorithm=\"SAMME\",random_state=0)\n",
    "ada8.fit(X_train8,y_train8)\n",
    "pred_ada8 = ada8.predict(X_test8)\n",
    "Confusion_Matrix(confusion_matrix(y_test8,pred_ada8))\n",
    "print(classification_report(y_test8, pred_ada8))\n",
    "print(round(np.sum([y_test8==pred_ada8])/len(y_test8),4)*100,\"%\")\n",
    "results.append(['edges PCA 400', 'Adaboost',round(np.sum([y_test8==pred_ada8])/len(y_test8),4)*100 ])"
   ]
  },
  {
   "cell_type": "markdown",
   "metadata": {},
   "source": [
    "#### Random Forest"
   ]
  },
  {
   "cell_type": "code",
   "execution_count": 35,
   "metadata": {},
   "outputs": [
    {
     "name": "stdout",
     "output_type": "stream",
     "text": [
      "40 2 49.03 %\n",
      "40 3 47.3 %\n",
      "40 4 47.73 %\n",
      "60 2 49.89 %\n",
      "60 3 47.949999999999996 %\n",
      "60 4 46.87 %\n",
      "80 2 50.32 %\n",
      "80 3 47.73 %\n",
      "80 4 46.44 %\n",
      "100 2 50.970000000000006 %\n",
      "100 3 48.809999999999995 %\n",
      "100 4 46.650000000000006 %\n",
      "120 2 51.190000000000005 %\n",
      "120 3 48.16 %\n",
      "120 4 46.22 %\n",
      "140 2 51.4 %\n",
      "140 3 49.24 %\n",
      "140 4 47.3 %\n",
      "160 2 50.54 %\n",
      "160 3 48.809999999999995 %\n",
      "160 4 47.08 %\n",
      "180 2 48.6 %\n",
      "180 3 49.46 %\n",
      "180 4 48.6 %\n",
      "200 2 49.89 %\n",
      "200 3 50.11 %\n",
      "200 4 47.73 %\n",
      "220 2 49.68 %\n",
      "220 3 50.32 %\n",
      "220 4 47.949999999999996 %\n",
      "240 2 49.46 %\n",
      "240 3 49.46 %\n",
      "240 4 48.6 %\n",
      "260 2 50.32 %\n",
      "260 3 49.46 %\n",
      "260 4 48.16 %\n",
      "280 2 50.11 %\n",
      "280 3 49.24 %\n",
      "280 4 48.38 %\n",
      "300 2 50.54 %\n",
      "300 3 49.03 %\n",
      "300 4 48.16 %\n",
      "320 2 49.46 %\n",
      "320 3 48.809999999999995 %\n",
      "320 4 47.3 %\n",
      "340 2 50.32 %\n",
      "340 3 49.68 %\n",
      "340 4 47.73 %\n",
      "360 2 49.89 %\n",
      "360 3 49.46 %\n",
      "360 4 47.08 %\n",
      "380 2 50.11 %\n",
      "380 3 49.68 %\n",
      "380 4 47.3 %\n",
      "400 2 50.11 %\n",
      "400 3 49.68 %\n",
      "400 4 47.08 %\n",
      "420 2 51.190000000000005 %\n",
      "420 3 49.24 %\n",
      "420 4 46.44 %\n",
      "440 2 50.970000000000006 %\n",
      "440 3 49.89 %\n",
      "440 4 47.3 %\n",
      "460 2 51.4 %\n",
      "460 3 49.46 %\n",
      "460 4 47.949999999999996 %\n",
      "480 2 51.4 %\n",
      "480 3 49.46 %\n",
      "480 4 47.73 %\n",
      "500 2 50.54 %\n",
      "500 3 49.46 %\n",
      "500 4 48.16 %\n"
     ]
    }
   ],
   "source": [
    "for i in range(40,501,20):\n",
    "    for j in range(2,5):\n",
    "        RF = RandomForestClassifier(n_estimators=i, max_depth=None,min_samples_split=j, random_state=0)\n",
    "        RF.fit(X_train8,y_train8)\n",
    "        pred_RF = RF.predict(X_test8)\n",
    "        print(i,j,round(np.sum([y_test8==pred_RF])/len(y_test8),4)*100,\"%\")"
   ]
  },
  {
   "cell_type": "code",
   "execution_count": 36,
   "metadata": {},
   "outputs": [
    {
     "name": "stdout",
     "output_type": "stream",
     "text": [
      "              precision    recall  f1-score   support\n",
      "\n",
      "           0       0.62      0.23      0.34       112\n",
      "           2       1.00      0.19      0.32       106\n",
      "           9       0.39      0.65      0.48       106\n",
      "          11       0.50      0.79      0.61       139\n",
      "\n",
      "    accuracy                           0.49       463\n",
      "   macro avg       0.63      0.47      0.44       463\n",
      "weighted avg       0.62      0.49      0.45       463\n",
      "\n",
      "48.6 %\n"
     ]
    },
    {
     "data": {
      "image/png": "[encoded data removed]",
      "text/plain": [
       "<Figure size 600x600 with 2 Axes>"
      ]
     },
     "metadata": {},
     "output_type": "display_data"
    }
   ],
   "source": [
    "RF8 = RandomForestClassifier(n_estimators=240, max_depth=None,min_samples_split=4, random_state=0)\n",
    "RF8.fit(X_train8,y_train8)\n",
    "pred_RF8 = RF8.predict(X_test8)\n",
    "Confusion_Matrix(confusion_matrix(y_test8,pred_RF8))\n",
    "print(classification_report(y_test8, pred_RF8))\n",
    "print(round(np.sum([y_test8==pred_RF8])/len(y_test8),4)*100,\"%\")\n",
    "results.append(['edges PCA 400', 'Random Forest',round(np.sum([y_test8==pred_RF8])/len(y_test8),4)*100 ])"
   ]
  },
  {
   "cell_type": "markdown",
   "metadata": {},
   "source": [
    "#### Logistic Regression"
   ]
  },
  {
   "cell_type": "code",
   "execution_count": 37,
   "metadata": {},
   "outputs": [
    {
     "name": "stdout",
     "output_type": "stream",
     "text": [
      "l1 liblinear 0.1 50.970000000000006 %\n",
      "l1 liblinear 0.01 48.6 %\n",
      "l1 liblinear 0.001 46.87 %\n",
      "l1 saga 0.1 50.760000000000005 %\n",
      "l1 saga 0.01 50.760000000000005 %\n",
      "l1 saga 0.001 50.970000000000006 %\n",
      "l2 lbfgs 0.1 49.89 %\n",
      "l2 lbfgs 0.01 49.03 %\n",
      "l2 lbfgs 0.001 49.46 %\n",
      "l2 liblinear 0.1 50.760000000000005 %\n",
      "l2 liblinear 0.01 48.38 %\n",
      "l2 liblinear 0.001 51.62 %\n",
      "l2 newton-cg 0.1 49.03 %\n",
      "l2 newton-cg 0.01 49.24 %\n",
      "l2 newton-cg 0.001 49.24 %\n",
      "l2 sag 0.1 50.11 %\n",
      "l2 sag 0.01 51.190000000000005 %\n",
      "l2 sag 0.001 49.89 %\n",
      "l2 saga 0.1 50.760000000000005 %\n",
      "l2 saga 0.01 50.760000000000005 %\n",
      "l2 saga 0.001 50.970000000000006 %\n"
     ]
    }
   ],
   "source": [
    "penilties = [\"l1\",\"l2\",\"elasticnet\"]\n",
    "solvers = [\"lbfgs\",\"liblinear\",\"newton-cg\",\"newton-cholesky\",\"sag\",\"saga\"]\n",
    "tols= [0.1 ,0.01, 0.001]\n",
    "\n",
    "for i in penilties:\n",
    "    for j in solvers:\n",
    "        for k in tols:\n",
    "            try:\n",
    "                LR = LogisticRegression(penalty=i, solver=j, tol=k, max_iter=10000,random_state=0)\n",
    "                LR.fit(X_train8,y_train8)\n",
    "                pred_LR = LR.predict(X_test8)\n",
    "                print(i,j,k,round(np.sum([y_test8==pred_LR])/len(y_test8),4)*100,\"%\")\n",
    "            except:\n",
    "                pass\n",
    "        "
   ]
  },
  {
   "cell_type": "code",
   "execution_count": 38,
   "metadata": {},
   "outputs": [
    {
     "name": "stdout",
     "output_type": "stream",
     "text": [
      "              precision    recall  f1-score   support\n",
      "\n",
      "           0       0.45      0.40      0.42       112\n",
      "           2       0.53      0.51      0.52       106\n",
      "           9       0.44      0.49      0.46       106\n",
      "          11       0.59      0.61      0.60       139\n",
      "\n",
      "    accuracy                           0.51       463\n",
      "   macro avg       0.50      0.50      0.50       463\n",
      "weighted avg       0.51      0.51      0.51       463\n",
      "\n",
      "50.970000000000006 %\n"
     ]
    },
    {
     "data": {
      "image/png": "[encoded data removed]",
      "text/plain": [
       "<Figure size 600x600 with 2 Axes>"
      ]
     },
     "metadata": {},
     "output_type": "display_data"
    }
   ],
   "source": [
    "LR8 = LogisticRegression(penalty=\"l1\", solver=\"saga\", tol=0.001, max_iter=10000, random_state=0)\n",
    "LR8.fit(X_train8,y_train8)\n",
    "pred_LR8 = LR8.predict(X_test8)\n",
    "Confusion_Matrix(confusion_matrix(y_test8,pred_LR8))\n",
    "print(classification_report(y_test8, pred_LR8))\n",
    "print(round(np.sum([y_test8==pred_LR8])/len(y_test8),4)*100,\"%\")\n",
    "results.append(['edges PCA 400', 'Logistic Regression',round(np.sum([y_test8==pred_LR8])/len(y_test8),4)*100 ])"
   ]
  },
  {
   "cell_type": "code",
   "execution_count": null,
   "metadata": {},
   "outputs": [],
   "source": []
  },
  {
   "cell_type": "code",
   "execution_count": 39,
   "metadata": {},
   "outputs": [],
   "source": [
    "cols = [\"df_type\",\"classifier\",\"accuracy\"]\n",
    "df = pd.DataFrame(results, columns=cols)"
   ]
  },
  {
   "cell_type": "code",
   "execution_count": 40,
   "metadata": {},
   "outputs": [
    {
     "data": {
      "text/html": [
       "<div>\n",
       "<style scoped>\n",
       "    .dataframe tbody tr th:only-of-type {\n",
       "        vertical-align: middle;\n",
       "    }\n",
       "\n",
       "    .dataframe tbody tr th {\n",
       "        vertical-align: top;\n",
       "    }\n",
       "\n",
       "    .dataframe thead th {\n",
       "        text-align: right;\n",
       "    }\n",
       "</style>\n",
       "<table border=\"1\" class=\"dataframe\">\n",
       "  <thead>\n",
       "    <tr style=\"text-align: right;\">\n",
       "      <th></th>\n",
       "      <th>df_type</th>\n",
       "      <th>classifier</th>\n",
       "      <th>accuracy</th>\n",
       "    </tr>\n",
       "  </thead>\n",
       "  <tbody>\n",
       "    <tr>\n",
       "      <th>0</th>\n",
       "      <td>edges PCA 100</td>\n",
       "      <td>SVM</td>\n",
       "      <td>39.09</td>\n",
       "    </tr>\n",
       "    <tr>\n",
       "      <th>1</th>\n",
       "      <td>edges PCA 100</td>\n",
       "      <td>KNN</td>\n",
       "      <td>57.45</td>\n",
       "    </tr>\n",
       "    <tr>\n",
       "      <th>2</th>\n",
       "      <td>edges PCA 100</td>\n",
       "      <td>Adaboost</td>\n",
       "      <td>45.57</td>\n",
       "    </tr>\n",
       "    <tr>\n",
       "      <th>3</th>\n",
       "      <td>edges PCA 100</td>\n",
       "      <td>Random Forest</td>\n",
       "      <td>55.51</td>\n",
       "    </tr>\n",
       "    <tr>\n",
       "      <th>4</th>\n",
       "      <td>edges PCA 100</td>\n",
       "      <td>Logistic Regression</td>\n",
       "      <td>48.16</td>\n",
       "    </tr>\n",
       "    <tr>\n",
       "      <th>5</th>\n",
       "      <td>edges PCA 400</td>\n",
       "      <td>SVM</td>\n",
       "      <td>51.40</td>\n",
       "    </tr>\n",
       "    <tr>\n",
       "      <th>6</th>\n",
       "      <td>edges PCA 400</td>\n",
       "      <td>KNN</td>\n",
       "      <td>47.73</td>\n",
       "    </tr>\n",
       "    <tr>\n",
       "      <th>7</th>\n",
       "      <td>edges PCA 400</td>\n",
       "      <td>Adaboost</td>\n",
       "      <td>42.98</td>\n",
       "    </tr>\n",
       "    <tr>\n",
       "      <th>8</th>\n",
       "      <td>edges PCA 400</td>\n",
       "      <td>Random Forest</td>\n",
       "      <td>48.60</td>\n",
       "    </tr>\n",
       "    <tr>\n",
       "      <th>9</th>\n",
       "      <td>edges PCA 400</td>\n",
       "      <td>Logistic Regression</td>\n",
       "      <td>50.97</td>\n",
       "    </tr>\n",
       "  </tbody>\n",
       "</table>\n",
       "</div>"
      ],
      "text/plain": [
       "         df_type           classifier  accuracy\n",
       "0  edges PCA 100                  SVM     39.09\n",
       "1  edges PCA 100                  KNN     57.45\n",
       "2  edges PCA 100             Adaboost     45.57\n",
       "3  edges PCA 100        Random Forest     55.51\n",
       "4  edges PCA 100  Logistic Regression     48.16\n",
       "5  edges PCA 400                  SVM     51.40\n",
       "6  edges PCA 400                  KNN     47.73\n",
       "7  edges PCA 400             Adaboost     42.98\n",
       "8  edges PCA 400        Random Forest     48.60\n",
       "9  edges PCA 400  Logistic Regression     50.97"
      ]
     },
     "execution_count": 40,
     "metadata": {},
     "output_type": "execute_result"
    }
   ],
   "source": [
    "df"
   ]
  },
  {
   "cell_type": "code",
   "execution_count": 41,
   "metadata": {},
   "outputs": [],
   "source": [
    "import pickle\n",
    "filenames = ['svm5.sav','knn5.sav','ada5.sav','RF5.sav','LR5.sav','svm8.sav','knn8.sav','ada8.sav','RF8.sav','LR8.sav']\n",
    "models= [svm5,neigh5,ada5,RF5,LR5,svm8,neigh8,ada8,RF8,LR8]\n",
    "\n",
    "for i in range(len(filenames)): \n",
    "    pickle.dump(models[i], open(filenames[i], 'wb'))"
   ]
  },
  {
   "cell_type": "code",
   "execution_count": null,
   "metadata": {},
   "outputs": [],
   "source": []
  },
  {
   "cell_type": "code",
   "execution_count": null,
   "metadata": {},
   "outputs": [],
   "source": []
  },
  {
   "cell_type": "code",
   "execution_count": null,
   "metadata": {},
   "outputs": [],
   "source": []
  }
 ],
 "metadata": {
  "kernelspec": {
   "display_name": "Python 3",
   "language": "python",
   "name": "python3"
  },
  "language_info": {
   "codemirror_mode": {
    "name": "ipython",
    "version": 3
   },
   "file_extension": ".py",
   "mimetype": "text/x-python",
   "name": "python",
   "nbconvert_exporter": "python",
   "pygments_lexer": "ipython3",
   "version": "3.10.8"
  }
 },
 "nbformat": 4,
 "nbformat_minor": 2
}
