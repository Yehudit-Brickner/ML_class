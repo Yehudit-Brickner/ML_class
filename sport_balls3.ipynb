{
 "cells": [
  {
   "cell_type": "markdown",
   "metadata": {},
   "source": [
    "# ML class final project part3\n",
    "##  Almog Shor\n",
    "## Yehudit Brickner"
   ]
  },
  {
   "cell_type": "markdown",
   "metadata": {},
   "source": [
    "imports"
   ]
  },
  {
   "cell_type": "code",
   "execution_count": 1,
   "metadata": {},
   "outputs": [],
   "source": [
    "import os\n",
    "import cv2 \n",
    "import numpy as np\n",
    "import matplotlib.pyplot as plt \n",
    "import pandas as pd\n",
    "import seaborn as sns\n",
    "import time\n",
    "import pickle\n",
    "\n",
    "from sklearn.metrics import confusion_matrix\n",
    "from sklearn.model_selection import train_test_split\n",
    "from sklearn.metrics import classification_report\n",
    "\n",
    "from sklearn.decomposition import PCA\n",
    "\n",
    "import warnings\n",
    "warnings.filterwarnings(action='ignore', category=UserWarning)"
   ]
  },
  {
   "cell_type": "markdown",
   "metadata": {},
   "source": [
    "create the data set with all of the features"
   ]
  },
  {
   "cell_type": "code",
   "execution_count": 2,
   "metadata": {},
   "outputs": [],
   "source": [
    "def create_df1(folder):\n",
    "\n",
    "    folder_dir= os.listdir(folder)\n",
    "    \n",
    "    big_list=[]\n",
    "    my_list=[]\n",
    "    count=0\n",
    "    c=0\n",
    "    for i in folder_dir:\n",
    "        print(i)\n",
    "        j = os.listdir(folder+\"/\"+i)\n",
    "        if i in ['american_football','basketball','hockey_puck','shuttlecock']:\n",
    "            for k in range(len(j)):\n",
    "                try:\n",
    "                    img = cv2.imread(folder+\"/\"+i+\"/\"+j[k], cv2.COLOR_BGR2RGB)\n",
    "                    img = cv2.resize(img,(200,200), interpolation = cv2.INTER_AREA)\n",
    "                    \n",
    "                    # histogram_r, bin_edges = np.histogram(img[:, :, 0], bins=256, range=(0, 256)) \n",
    "                    # histogram_g, bin_edges = np.histogram(img[:, :, 1], bins=256, range=(0, 256)) \n",
    "                    # histogram_b, bin_edges = np.histogram(img[:, :, 2], bins=256, range=(0, 256)) \n",
    "                    \n",
    "                    # dst = cv2.Canny(img, 50, 200, None, 3)\n",
    "                    # dst1 = cv2.Canny(img, 50, 200, None, 3)\n",
    "                    # lines = cv2.HoughLines(dst1, 1, np.pi / 180, 50, None, 0, 0)\n",
    "                    \n",
    "                    # gray = cv2.imread(folder+\"/\"+i+\"/\"+j[k],cv2.IMREAD_GRAYSCALE)\n",
    "                    # gray =  cv2.resize(gray,(200,200), interpolation = cv2.INTER_AREA)\n",
    "                    # gray = cv2.medianBlur(gray, 5)\n",
    "                    # rows = gray.shape[0]\n",
    "                    # circles = cv2.HoughCircles(gray, cv2.HOUGH_GRADIENT, 1, rows / 8,\n",
    "                    #                 param1=100, param2=30,\n",
    "                    #                 minRadius=10, maxRadius=100)\n",
    "                    \n",
    "                    my_list=[]\n",
    "                    my_list.append(folder+\"/\"+i+\"/\"+j[k])\n",
    "                    my_list.append(i)\n",
    "                    my_list.append(c)\n",
    "                    # if lines is None:\n",
    "                    #     my_list.append(0)\n",
    "                    #     my_list.append(0)   \n",
    "                    # else:\n",
    "                    #     my_list.append(1)\n",
    "                    #     my_list.append(len(lines))\n",
    "                    # if circles is None:\n",
    "                    #     my_list.append(0)\n",
    "                    #     my_list.append(0)   \n",
    "                    # else:\n",
    "                    #     my_list.append(1)\n",
    "                    #     my_list.append(circles.shape[1])\n",
    "                    \n",
    "                    # my_list.extend(histogram_r)\n",
    "                    # my_list.extend(histogram_g)\n",
    "                    # my_list.extend(histogram_b)\n",
    "                    my_list.extend(img.flatten())\n",
    "                    # my_list.extend(dst.flatten())\n",
    "\n",
    "                    big_list.append(my_list)\n",
    "                    count+=1\n",
    "                    \n",
    "                except:\n",
    "                    print(\"there was an error with count \",count)\n",
    "\n",
    "        c+=1\n",
    "\n",
    "    \n",
    "    print(\"creating df\")\n",
    "    # cols = ['path','class_name','class_number','lines?','#lines','circles?','#circles']\n",
    "    cols = ['path','class_name','class_number']\n",
    "    # for h in range(256):\n",
    "    #     cols.append(\"r\"+str(h))\n",
    "    # for h in range(256):\n",
    "    #     cols.append(\"g\"+str(h))\n",
    "    # for h in range(256):\n",
    "    #     cols.append(\"b\"+str(h))\n",
    "    for h in range(200*200*3):\n",
    "        cols.append(\"i\"+str(h))\n",
    "    # for h in range(200*200):\n",
    "    #     cols.append(\"e\"+str(h))\n",
    "\n",
    "    df = pd.DataFrame(big_list, columns = cols) \n",
    "\n",
    "    print(\"created df\")\n",
    "              \n",
    "    return df"
   ]
  },
  {
   "cell_type": "code",
   "execution_count": 3,
   "metadata": {},
   "outputs": [],
   "source": [
    "# folder =\"C:/Users/nechd/Downloads/ball_classification/train\"\n",
    "# start_time = time.time()\n",
    "# full_ball_edge_df = create_df1(folder) \n",
    "# end_time = time.time()\n",
    "# print(\"time taken: \",end_time - start_time)"
   ]
  },
  {
   "cell_type": "code",
   "execution_count": 4,
   "metadata": {},
   "outputs": [],
   "source": [
    "# full_ball_edge_df.shape\n",
    "# full_ball_edge_df.head()"
   ]
  },
  {
   "cell_type": "code",
   "execution_count": 5,
   "metadata": {},
   "outputs": [],
   "source": [
    "# full_ball_edge_df.to_csv('image.csv', index=False)"
   ]
  },
  {
   "cell_type": "code",
   "execution_count": 6,
   "metadata": {},
   "outputs": [],
   "source": [
    "# folder =\"C:/Users/nechd/Downloads/ball_classification/test\"\n",
    "# start_time = time.time()\n",
    "# full_test_df = create_df1(folder) \n",
    "# end_time = time.time()\n",
    "# print(\"time taken: \",end_time - start_time)"
   ]
  },
  {
   "cell_type": "code",
   "execution_count": 7,
   "metadata": {},
   "outputs": [],
   "source": [
    "# full_test_df.to_csv('final_test_data_image.csv', index=False)"
   ]
  },
  {
   "cell_type": "markdown",
   "metadata": {},
   "source": [
    "import the data with some/all features"
   ]
  },
  {
   "cell_type": "code",
   "execution_count": 8,
   "metadata": {},
   "outputs": [
    {
     "name": "stdout",
     "output_type": "stream",
     "text": [
      "(1543, 120001)\n",
      "(1533, 120001)\n"
     ]
    }
   ],
   "source": [
    "image = pd.read_csv('image.csv')\n",
    "del image['path']\n",
    "del image['class_name']\n",
    "ball_type = [0,2,9,11]\n",
    "image_4balls = image.loc[image['class_number'].isin(ball_type)]\n",
    "print(image_4balls.shape)\n",
    "image_4balls_no_na = image_4balls.dropna()\n",
    "print(image_4balls_no_na.shape)"
   ]
  },
  {
   "cell_type": "code",
   "execution_count": 9,
   "metadata": {},
   "outputs": [
    {
     "data": {
      "text/plain": [
       "(383, 120001)"
      ]
     },
     "execution_count": 9,
     "metadata": {},
     "output_type": "execute_result"
    }
   ],
   "source": [
    "test_data3 = pd.read_csv('final_test_data_image.csv')\n",
    "del test_data3['path']\n",
    "del test_data3['class_name']\n",
    "ball_type = [0,2,9,11]\n",
    "test_data3 = test_data3.loc[test_data3['class_number'].isin(ball_type)]\n",
    "test_data3 = test_data3.dropna()\n",
    "test_data3.shape"
   ]
  },
  {
   "cell_type": "code",
   "execution_count": 10,
   "metadata": {},
   "outputs": [],
   "source": [
    "X = image_4balls_no_na.drop(['class_number'], axis=1)\n",
    "y = image_4balls_no_na['class_number']\n",
    "\n",
    "final_test_X = test_data3.drop(['class_number'], axis=1)\n",
    "final_test_y = test_data3['class_number']"
   ]
  },
  {
   "cell_type": "code",
   "execution_count": null,
   "metadata": {},
   "outputs": [],
   "source": []
  },
  {
   "cell_type": "code",
   "execution_count": null,
   "metadata": {},
   "outputs": [],
   "source": []
  },
  {
   "cell_type": "markdown",
   "metadata": {},
   "source": [
    "train test split"
   ]
  },
  {
   "cell_type": "code",
   "execution_count": 11,
   "metadata": {},
   "outputs": [],
   "source": [
    "X_train, X_test, y_train, y_test = train_test_split(X, y, test_size=0.3, random_state=42)"
   ]
  },
  {
   "cell_type": "markdown",
   "metadata": {},
   "source": [
    "extra functions"
   ]
  },
  {
   "cell_type": "code",
   "execution_count": 12,
   "metadata": {},
   "outputs": [],
   "source": [
    "# function to represent the confusion matrix nicely\n",
    "def Confusion_Matrix(cf_matrix):\n",
    "    plt.figure(figsize=(6,6))\n",
    "    sns.heatmap(cf_matrix, annot=True, fmt='', cmap='Greens')"
   ]
  },
  {
   "cell_type": "code",
   "execution_count": 13,
   "metadata": {},
   "outputs": [],
   "source": [
    "# list to hold all final results\n",
    "results=[]"
   ]
  },
  {
   "cell_type": "markdown",
   "metadata": {},
   "source": [
    "model imports"
   ]
  },
  {
   "cell_type": "code",
   "execution_count": 14,
   "metadata": {},
   "outputs": [],
   "source": [
    "from sklearn.multiclass import OneVsOneClassifier\n",
    "from sklearn.multiclass import OutputCodeClassifier\n",
    "from sklearn.multiclass import OneVsRestClassifier\n",
    "from sklearn.svm import LinearSVC\n",
    "\n",
    "from sklearn.neighbors import KNeighborsClassifier\n",
    "\n",
    "from sklearn.ensemble import AdaBoostClassifier\n",
    "\n",
    "from sklearn.ensemble import RandomForestClassifier\n",
    "\n",
    "from sklearn.linear_model import LogisticRegression\n",
    "\n"
   ]
  },
  {
   "cell_type": "markdown",
   "metadata": {},
   "source": [
    "# RUN ON DATA SET OF IMAGE PCA 100"
   ]
  },
  {
   "cell_type": "code",
   "execution_count": 15,
   "metadata": {},
   "outputs": [
    {
     "name": "stdout",
     "output_type": "stream",
     "text": [
      "(1073, 100)\n",
      "(460, 100)\n",
      "(383, 100)\n"
     ]
    }
   ],
   "source": [
    "pca1=PCA(n_components=100)\n",
    "X_train6=pca1.fit_transform(X_train)\n",
    "X_test6=pca1.transform(X_test)\n",
    "final_test_X6=pca1.transform(final_test_X)\n",
    "y_train6 = y_train\n",
    "y_test6 = y_test\n",
    "\n",
    "print(X_train6.shape)\n",
    "print(X_test6.shape)\n",
    "print(final_test_X6.shape)\n",
    "\n"
   ]
  },
  {
   "cell_type": "code",
   "execution_count": 16,
   "metadata": {},
   "outputs": [],
   "source": [
    "cs = [i for i in range(100)]\n",
    "df_X6_final_test = pd.DataFrame(final_test_X6,columns=cs)\n",
    "cy =[]\n",
    "for i in final_test_y:\n",
    "    cy.append(i)\n",
    "df_X6_final_test['class_number']=cy\n",
    "df_X6_final_test.to_csv('df_X6_final_test.csv', index=False)"
   ]
  },
  {
   "cell_type": "markdown",
   "metadata": {},
   "source": [
    "#### SVM"
   ]
  },
  {
   "cell_type": "code",
   "execution_count": 17,
   "metadata": {},
   "outputs": [
    {
     "name": "stdout",
     "output_type": "stream",
     "text": [
      "OneVsOneClassifier\n",
      "hinge l2 45.43 %\n",
      "squared_hinge l2 45.43 %\n",
      "OutputCodeClassifier\n",
      "hinge l2 45.0 %\n",
      "squared_hinge l2 40.65 %\n",
      "OneVsRestClassifier\n",
      "hinge l2 46.96 %\n",
      "squared_hinge l2 46.96 %\n"
     ]
    }
   ],
   "source": [
    "losses = [\"hinge\",\"squared_hinge\"]\n",
    "penalties = [\"l1\",\"l2\"]\n",
    "\n",
    "print(\"OneVsOneClassifier\")\n",
    "for i in losses:\n",
    "    for j in penalties:\n",
    "        try:\n",
    "            svm =  OneVsOneClassifier(LinearSVC(random_state=0, loss=i,penalty=j,)).fit(X_train6, y_train6)\n",
    "            pred_svm = svm.predict(X_test6)\n",
    "            print(i,j,round(np.sum([y_test6==pred_svm])/len(y_test6),4)*100,\"%\")\n",
    "        except:\n",
    "            pass\n",
    "\n",
    "print(\"OutputCodeClassifier\")\n",
    "for i in losses:\n",
    "    for j in penalties:\n",
    "        try:\n",
    "            svm =  OutputCodeClassifier(LinearSVC(random_state=0, loss=i,penalty=j,)).fit(X_train6, y_train6)\n",
    "            pred_svm = svm.predict(X_test6)\n",
    "            print(i,j,round(np.sum([y_test6==pred_svm])/len(y_test6),4)*100,\"%\")\n",
    "        except:\n",
    "            pass\n",
    "\n",
    "\n",
    "print(\"OneVsRestClassifier\")\n",
    "for i in losses:\n",
    "    for j in penalties:\n",
    "        try:\n",
    "            svm =  OneVsRestClassifier(LinearSVC(random_state=0, loss=i,penalty=j,)).fit(X_train6, y_train6)\n",
    "            pred_svm = svm.predict(X_test6)\n",
    "            print(i,j,round(np.sum([y_test6==pred_svm])/len(y_test6),4)*100,\"%\")\n",
    "        except:\n",
    "            pass"
   ]
  },
  {
   "cell_type": "code",
   "execution_count": 18,
   "metadata": {},
   "outputs": [
    {
     "name": "stdout",
     "output_type": "stream",
     "text": [
      "              precision    recall  f1-score   support\n",
      "\n",
      "           0       0.45      0.43      0.44       110\n",
      "           2       0.43      0.42      0.42       100\n",
      "           9       0.24      0.20      0.22       111\n",
      "          11       0.59      0.71      0.64       139\n",
      "\n",
      "    accuracy                           0.45       460\n",
      "   macro avg       0.43      0.44      0.43       460\n",
      "weighted avg       0.44      0.45      0.44       460\n",
      "\n",
      "45.43 %\n"
     ]
    },
    {
     "data": {
      "image/png": "[encoded data removed]",
      "text/plain": [
       "<Figure size 600x600 with 2 Axes>"
      ]
     },
     "metadata": {},
     "output_type": "display_data"
    }
   ],
   "source": [
    "svm6 =  OneVsOneClassifier(LinearSVC(random_state=0, loss=\"hinge\",penalty=\"l2\")).fit(X_train6, y_train6)\n",
    "pred_svm6 = svm6.predict(X_test6)\n",
    "Confusion_Matrix(confusion_matrix(y_test6,pred_svm6))\n",
    "print(classification_report(y_test6, pred_svm6))\n",
    "print(round(np.sum([y_test6==pred_svm6])/len(y_test6),4)*100,\"%\")\n",
    "results.append(['images PCA 100', 'SVM',round(np.sum([y_test6==pred_svm6])/len(y_test6),4)*100 ])"
   ]
  },
  {
   "cell_type": "markdown",
   "metadata": {},
   "source": [
    "#### KNN"
   ]
  },
  {
   "cell_type": "code",
   "execution_count": 19,
   "metadata": {},
   "outputs": [
    {
     "name": "stdout",
     "output_type": "stream",
     "text": [
      "1 61.09 %\n",
      "2 56.089999999999996 %\n",
      "3 56.74 %\n",
      "4 54.779999999999994 %\n",
      "5 54.56999999999999 %\n",
      "6 54.779999999999994 %\n",
      "7 55.22 %\n",
      "8 54.13 %\n",
      "9 56.3 %\n",
      "10 56.74 %\n",
      "11 56.74 %\n",
      "12 55.43 %\n",
      "13 55.00000000000001 %\n",
      "14 54.13 %\n",
      "15 52.17 %\n",
      "16 54.779999999999994 %\n",
      "17 54.35 %\n",
      "18 54.13 %\n",
      "19 54.56999999999999 %\n",
      "20 53.7 %\n",
      "21 54.35 %\n",
      "22 54.35 %\n",
      "23 55.00000000000001 %\n",
      "24 55.00000000000001 %\n",
      "25 55.65 %\n",
      "26 55.87 %\n",
      "27 55.00000000000001 %\n",
      "28 55.00000000000001 %\n",
      "29 54.35 %\n",
      "30 54.56999999999999 %\n",
      "31 54.779999999999994 %\n",
      "32 55.22 %\n",
      "33 55.22 %\n",
      "34 54.35 %\n",
      "35 54.13 %\n",
      "36 53.26 %\n",
      "37 53.910000000000004 %\n",
      "38 54.779999999999994 %\n",
      "39 55.43 %\n",
      "40 54.35 %\n",
      "41 55.22 %\n",
      "42 55.22 %\n",
      "43 54.779999999999994 %\n",
      "44 54.13 %\n",
      "45 53.26 %\n",
      "46 53.910000000000004 %\n",
      "47 53.480000000000004 %\n",
      "48 51.959999999999994 %\n",
      "49 51.959999999999994 %\n",
      "50 52.61 %\n"
     ]
    }
   ],
   "source": [
    "for i in range(1,51):\n",
    "    neigh = KNeighborsClassifier(n_neighbors=i)\n",
    "    neigh.fit(X_train6,y_train6)\n",
    "    pred_knn = neigh.predict(X_test6)\n",
    "    print(i,round(np.sum([y_test6==pred_knn])/len(y_test6),4)*100,\"%\")"
   ]
  },
  {
   "cell_type": "code",
   "execution_count": 20,
   "metadata": {},
   "outputs": [
    {
     "name": "stdout",
     "output_type": "stream",
     "text": [
      "              precision    recall  f1-score   support\n",
      "\n",
      "           0       0.57      0.56      0.57       110\n",
      "           2       0.61      0.61      0.61       100\n",
      "           9       0.59      0.50      0.54       111\n",
      "          11       0.66      0.74      0.70       139\n",
      "\n",
      "    accuracy                           0.61       460\n",
      "   macro avg       0.60      0.60      0.60       460\n",
      "weighted avg       0.61      0.61      0.61       460\n",
      "\n",
      "61.09 %\n"
     ]
    },
    {
     "data": {
      "image/png": "[encoded data removed]",
      "text/plain": [
       "<Figure size 600x600 with 2 Axes>"
      ]
     },
     "metadata": {},
     "output_type": "display_data"
    }
   ],
   "source": [
    "neigh6 = KNeighborsClassifier(n_neighbors=1)\n",
    "neigh6.fit(X_train6,y_train6)\n",
    "pred_knn6 = neigh6.predict(X_test6)\n",
    "Confusion_Matrix(confusion_matrix(y_test6,pred_knn6))\n",
    "print(classification_report(y_test6, pred_knn6))\n",
    "print(round(np.sum([y_test6==pred_knn6])/len(y_test6),4)*100,\"%\")\n",
    "results.append(['images PCA 100', 'KNN',round(np.sum([y_test6==pred_knn6])/len(y_test6),4)*100 ])"
   ]
  },
  {
   "cell_type": "markdown",
   "metadata": {},
   "source": [
    "#### Adaboost"
   ]
  },
  {
   "cell_type": "code",
   "execution_count": 21,
   "metadata": {},
   "outputs": [
    {
     "name": "stdout",
     "output_type": "stream",
     "text": [
      "50 51.300000000000004 %\n",
      "100 50.64999999999999 %\n",
      "150 54.35 %\n",
      "200 53.7 %\n",
      "250 53.26 %\n",
      "300 51.519999999999996 %\n",
      "350 57.38999999999999 %\n",
      "400 53.7 %\n",
      "450 53.480000000000004 %\n",
      "500 52.83 %\n",
      "550 54.56999999999999 %\n",
      "600 54.56999999999999 %\n",
      "650 52.39 %\n",
      "700 53.26 %\n",
      "750 53.910000000000004 %\n",
      "800 54.35 %\n",
      "850 55.00000000000001 %\n",
      "900 55.65 %\n",
      "950 54.56999999999999 %\n",
      "1000 55.43 %\n",
      "1050 55.43 %\n",
      "1100 55.00000000000001 %\n",
      "1150 54.779999999999994 %\n",
      "1200 54.779999999999994 %\n",
      "1250 55.22 %\n",
      "1300 56.52 %\n",
      "1350 56.3 %\n",
      "1400 55.65 %\n",
      "1450 56.52 %\n",
      "1500 56.74 %\n",
      "1550 56.089999999999996 %\n",
      "1600 56.52 %\n",
      "1650 57.17 %\n",
      "1700 57.38999999999999 %\n",
      "1750 57.60999999999999 %\n",
      "1800 56.74 %\n",
      "1850 56.52 %\n",
      "1900 56.96 %\n",
      "1950 56.96 %\n",
      "2000 56.74 %\n"
     ]
    }
   ],
   "source": [
    "for i in range(50,2001,50):\n",
    "    ada = AdaBoostClassifier(n_estimators=i, algorithm=\"SAMME\", random_state=0)\n",
    "    ada.fit(X_train6,y_train6)\n",
    "    pred_ada = ada.predict(X_test6)\n",
    "    print(i,round(np.sum([y_test6==pred_ada])/len(y_test6),4)*100,\"%\")"
   ]
  },
  {
   "cell_type": "code",
   "execution_count": 22,
   "metadata": {},
   "outputs": [
    {
     "name": "stdout",
     "output_type": "stream",
     "text": [
      "              precision    recall  f1-score   support\n",
      "\n",
      "           0       0.44      0.53      0.48       110\n",
      "           2       0.49      0.49      0.49       100\n",
      "           9       0.47      0.41      0.43       111\n",
      "          11       0.76      0.72      0.74       139\n",
      "\n",
      "    accuracy                           0.55       460\n",
      "   macro avg       0.54      0.54      0.54       460\n",
      "weighted avg       0.55      0.55      0.55       460\n",
      "\n",
      "54.779999999999994 %\n"
     ]
    },
    {
     "data": {
      "image/png": "[encoded data removed]",
      "text/plain": [
       "<Figure size 600x600 with 2 Axes>"
      ]
     },
     "metadata": {},
     "output_type": "display_data"
    }
   ],
   "source": [
    "ada6 = AdaBoostClassifier(n_estimators=1200, algorithm=\"SAMME\",random_state=0)\n",
    "ada6.fit(X_train6,y_train6)\n",
    "pred_ada6 = ada6.predict(X_test6)\n",
    "Confusion_Matrix(confusion_matrix(y_test6,pred_ada6))\n",
    "print(classification_report(y_test6, pred_ada6))\n",
    "print(round(np.sum([y_test6==pred_ada6])/len(y_test6),4)*100,\"%\")\n",
    "results.append(['images PCA 100', 'Adaboost',round(np.sum([y_test6==pred_ada6])/len(y_test6),4)*100 ])"
   ]
  },
  {
   "cell_type": "markdown",
   "metadata": {},
   "source": [
    "#### Random Forest"
   ]
  },
  {
   "cell_type": "code",
   "execution_count": 23,
   "metadata": {},
   "outputs": [
    {
     "name": "stdout",
     "output_type": "stream",
     "text": [
      "40 2 58.91 %\n",
      "40 3 64.57000000000001 %\n",
      "40 4 59.78 %\n",
      "60 2 60.650000000000006 %\n",
      "60 3 64.57000000000001 %\n",
      "60 4 62.17 %\n",
      "80 2 62.61 %\n",
      "80 3 63.91 %\n",
      "80 4 61.96 %\n",
      "100 2 62.39 %\n",
      "100 3 65.0 %\n",
      "100 4 63.480000000000004 %\n",
      "120 2 61.96 %\n",
      "120 3 66.3 %\n",
      "120 4 62.39 %\n",
      "140 2 63.91 %\n",
      "140 3 66.09 %\n",
      "140 4 61.739999999999995 %\n",
      "160 2 64.57000000000001 %\n",
      "160 3 66.3 %\n",
      "160 4 62.39 %\n",
      "180 2 64.78 %\n",
      "180 3 64.78 %\n",
      "180 4 61.739999999999995 %\n",
      "200 2 65.64999999999999 %\n",
      "200 3 65.64999999999999 %\n",
      "200 4 63.260000000000005 %\n",
      "220 2 66.09 %\n",
      "220 3 65.64999999999999 %\n",
      "220 4 63.04 %\n",
      "240 2 65.42999999999999 %\n",
      "240 3 66.3 %\n",
      "240 4 63.480000000000004 %\n",
      "260 2 66.52 %\n",
      "260 3 67.17 %\n",
      "260 4 64.13 %\n",
      "280 2 67.61 %\n",
      "280 3 66.52 %\n",
      "280 4 64.57000000000001 %\n",
      "300 2 66.74 %\n",
      "300 3 65.86999999999999 %\n",
      "300 4 64.57000000000001 %\n",
      "320 2 67.39 %\n",
      "320 3 66.52 %\n",
      "320 4 64.78 %\n",
      "340 2 67.17 %\n",
      "340 3 67.17 %\n",
      "340 4 64.57000000000001 %\n",
      "360 2 66.96 %\n",
      "360 3 66.09 %\n",
      "360 4 65.0 %\n",
      "380 2 67.61 %\n",
      "380 3 65.42999999999999 %\n",
      "380 4 63.7 %\n",
      "400 2 67.83 %\n",
      "400 3 65.64999999999999 %\n",
      "400 4 63.7 %\n",
      "420 2 68.26 %\n",
      "420 3 65.22 %\n",
      "420 4 63.480000000000004 %\n",
      "440 2 67.61 %\n",
      "440 3 65.22 %\n",
      "440 4 63.91 %\n",
      "460 2 67.83 %\n",
      "460 3 65.42999999999999 %\n",
      "460 4 64.35 %\n",
      "480 2 68.04 %\n",
      "480 3 65.86999999999999 %\n",
      "480 4 64.78 %\n",
      "500 2 68.04 %\n",
      "500 3 66.52 %\n",
      "500 4 65.22 %\n"
     ]
    }
   ],
   "source": [
    "for i in range(40,501,20):\n",
    "    for j in range(2,5):\n",
    "        RF = RandomForestClassifier(n_estimators=i, max_depth=None,min_samples_split=j, random_state=0)\n",
    "        RF.fit(X_train6,y_train6)\n",
    "        pred_RF = RF.predict(X_test6)\n",
    "        print(i,j,round(np.sum([y_test6==pred_RF])/len(y_test6),4)*100,\"%\")"
   ]
  },
  {
   "cell_type": "code",
   "execution_count": 24,
   "metadata": {},
   "outputs": [
    {
     "name": "stdout",
     "output_type": "stream",
     "text": [
      "              precision    recall  f1-score   support\n",
      "\n",
      "           0       0.51      0.66      0.58       110\n",
      "           2       0.66      0.49      0.56       100\n",
      "           9       0.65      0.50      0.57       111\n",
      "          11       0.69      0.78      0.73       139\n",
      "\n",
      "    accuracy                           0.62       460\n",
      "   macro avg       0.63      0.61      0.61       460\n",
      "weighted avg       0.63      0.62      0.62       460\n",
      "\n",
      "62.39 %\n"
     ]
    },
    {
     "data": {
      "image/png": "[encoded data removed]",
      "text/plain": [
       "<Figure size 600x600 with 2 Axes>"
      ]
     },
     "metadata": {},
     "output_type": "display_data"
    }
   ],
   "source": [
    "RF6 = RandomForestClassifier(n_estimators=120, max_depth=None,min_samples_split=4, random_state=0)\n",
    "RF6.fit(X_train6,y_train6)\n",
    "pred_RF6 = RF6.predict(X_test6)\n",
    "Confusion_Matrix(confusion_matrix(y_test6,pred_RF6))\n",
    "print(classification_report(y_test6, pred_RF6))\n",
    "print(round(np.sum([y_test6==pred_RF6])/len(y_test6),4)*100,\"%\")\n",
    "results.append(['images PCA 100', 'Random Forest',round(np.sum([y_test6==pred_RF6])/len(y_test6),4)*100 ])"
   ]
  },
  {
   "cell_type": "markdown",
   "metadata": {},
   "source": [
    "#### Logistic Regression"
   ]
  },
  {
   "cell_type": "code",
   "execution_count": 25,
   "metadata": {},
   "outputs": [
    {
     "name": "stdout",
     "output_type": "stream",
     "text": [
      "l1 liblinear 0.1 54.56999999999999 %\n",
      "l1 liblinear 0.01 54.35 %\n",
      "l1 liblinear 0.001 54.56999999999999 %\n",
      "l1 saga 0.1 57.17 %\n",
      "l1 saga 0.01 56.089999999999996 %\n",
      "l1 saga 0.001 55.43 %\n",
      "l2 lbfgs 0.1 55.65 %\n",
      "l2 lbfgs 0.01 55.65 %\n",
      "l2 lbfgs 0.001 55.65 %\n",
      "l2 liblinear 0.1 55.65 %\n",
      "l2 liblinear 0.01 55.00000000000001 %\n",
      "l2 liblinear 0.001 53.910000000000004 %\n",
      "l2 newton-cg 0.1 53.910000000000004 %\n",
      "l2 newton-cg 0.01 53.910000000000004 %\n",
      "l2 newton-cg 0.001 53.910000000000004 %\n",
      "l2 sag 0.1 55.87 %\n",
      "l2 sag 0.01 55.22 %\n",
      "l2 sag 0.001 55.65 %\n",
      "l2 saga 0.1 57.17 %\n",
      "l2 saga 0.01 56.089999999999996 %\n",
      "l2 saga 0.001 55.43 %\n"
     ]
    }
   ],
   "source": [
    "penilties = [\"l1\",\"l2\",\"elasticnet\"]\n",
    "solvers = [\"lbfgs\",\"liblinear\",\"newton-cg\",\"newton-cholesky\",\"sag\",\"saga\"]\n",
    "tols= [0.1 ,0.01, 0.001]\n",
    "\n",
    "for i in penilties:\n",
    "    for j in solvers:\n",
    "        for k in tols:\n",
    "            try:\n",
    "                LR = LogisticRegression(penalty=i, solver=j, tol=k, max_iter=10000,random_state=0)\n",
    "                LR.fit(X_train6,y_train6)\n",
    "                pred_LR = LR.predict(X_test6)\n",
    "                print(i,j,k,round(np.sum([y_test6==pred_LR])/len(y_test6),4)*100,\"%\")\n",
    "            except:\n",
    "                pass\n",
    "        "
   ]
  },
  {
   "cell_type": "code",
   "execution_count": 26,
   "metadata": {},
   "outputs": [
    {
     "name": "stdout",
     "output_type": "stream",
     "text": [
      "              precision    recall  f1-score   support\n",
      "\n",
      "           0       0.54      0.56      0.55       110\n",
      "           2       0.51      0.45      0.48       100\n",
      "           9       0.52      0.33      0.41       111\n",
      "          11       0.64      0.86      0.73       139\n",
      "\n",
      "    accuracy                           0.57       460\n",
      "   macro avg       0.55      0.55      0.54       460\n",
      "weighted avg       0.56      0.57      0.56       460\n",
      "\n",
      "57.17 %\n"
     ]
    },
    {
     "data": {
      "image/png": "[encoded data removed]",
      "text/plain": [
       "<Figure size 600x600 with 2 Axes>"
      ]
     },
     "metadata": {},
     "output_type": "display_data"
    }
   ],
   "source": [
    "LR6 = LogisticRegression(penalty=\"l1\", solver=\"saga\", tol=0.1, max_iter=10000, random_state=0)\n",
    "LR6.fit(X_train6,y_train6)\n",
    "pred_LR6 = LR6.predict(X_test6)\n",
    "Confusion_Matrix(confusion_matrix(y_test6,pred_LR6))\n",
    "print(classification_report(y_test6, pred_LR6))\n",
    "print(round(np.sum([y_test6==pred_LR6])/len(y_test6),4)*100,\"%\")\n",
    "results.append(['images PCA 100', 'Logistic Regression',round(np.sum([y_test6==pred_LR6])/len(y_test6),4)*100 ])"
   ]
  },
  {
   "cell_type": "code",
   "execution_count": null,
   "metadata": {},
   "outputs": [],
   "source": []
  },
  {
   "cell_type": "code",
   "execution_count": null,
   "metadata": {},
   "outputs": [],
   "source": []
  },
  {
   "cell_type": "code",
   "execution_count": null,
   "metadata": {},
   "outputs": [],
   "source": []
  },
  {
   "cell_type": "markdown",
   "metadata": {},
   "source": [
    "# RUN ON DATA SET OF IMAGE PCA 200"
   ]
  },
  {
   "cell_type": "code",
   "execution_count": 27,
   "metadata": {},
   "outputs": [
    {
     "name": "stdout",
     "output_type": "stream",
     "text": [
      "(1073, 200)\n",
      "(460, 200)\n",
      "(383, 200)\n"
     ]
    }
   ],
   "source": [
    "pca2=PCA(n_components=200)\n",
    "X_train7=pca2.fit_transform(X_train)\n",
    "X_test7=pca2.transform(X_test)\n",
    "final_test_X7=pca2.transform(final_test_X)\n",
    "y_train7 = y_train\n",
    "y_test7 = y_test\n",
    "\n",
    "print(X_train7.shape)\n",
    "print(X_test7.shape)\n",
    "print(final_test_X7.shape)\n",
    "\n",
    "cs = [i for i in range(200)]\n",
    "df_X7_final_test = pd.DataFrame(final_test_X7,columns=cs)\n",
    "cy =[]\n",
    "for i in final_test_y:\n",
    "    cy.append(i)\n",
    "df_X7_final_test['class_number']=cy\n",
    "df_X7_final_test.to_csv('df_X7_final_test.csv', index=False)"
   ]
  },
  {
   "cell_type": "markdown",
   "metadata": {},
   "source": [
    "#### SVM"
   ]
  },
  {
   "cell_type": "code",
   "execution_count": 28,
   "metadata": {},
   "outputs": [
    {
     "name": "stdout",
     "output_type": "stream",
     "text": [
      "OneVsOneClassifier\n",
      "hinge l2 49.13 %\n",
      "squared_hinge l2 49.13 %\n",
      "OutputCodeClassifier\n",
      "hinge l2 51.300000000000004 %\n",
      "squared_hinge l2 49.13 %\n",
      "OneVsRestClassifier\n",
      "hinge l2 49.35 %\n",
      "squared_hinge l2 49.35 %\n"
     ]
    }
   ],
   "source": [
    "losses = [\"hinge\",\"squared_hinge\"]\n",
    "penalties = [\"l1\",\"l2\"]\n",
    "\n",
    "print(\"OneVsOneClassifier\")\n",
    "for i in losses:\n",
    "    for j in penalties:\n",
    "        try:\n",
    "            svm =  OneVsOneClassifier(LinearSVC(random_state=0, loss=i,penalty=j,)).fit(X_train7, y_train7)\n",
    "            pred_svm = svm.predict(X_test7)\n",
    "            print(i,j,round(np.sum([y_test7==pred_svm])/len(y_test7),4)*100,\"%\")\n",
    "        except:\n",
    "            pass\n",
    "\n",
    "print(\"OutputCodeClassifier\")\n",
    "for i in losses:\n",
    "    for j in penalties:\n",
    "        try:\n",
    "            svm =  OutputCodeClassifier(LinearSVC(random_state=0, loss=i,penalty=j,)).fit(X_train7, y_train7)\n",
    "            pred_svm = svm.predict(X_test7)\n",
    "            print(i,j,round(np.sum([y_test7==pred_svm])/len(y_test7),4)*100,\"%\")\n",
    "        except:\n",
    "            pass\n",
    "\n",
    "\n",
    "print(\"OneVsRestClassifier\")\n",
    "for i in losses:\n",
    "    for j in penalties:\n",
    "        try:\n",
    "            svm =  OneVsRestClassifier(LinearSVC(random_state=0, loss=i,penalty=j,)).fit(X_train7, y_train7)\n",
    "            pred_svm = svm.predict(X_test7)\n",
    "            print(i,j,round(np.sum([y_test7==pred_svm])/len(y_test7),4)*100,\"%\")\n",
    "        except:\n",
    "            pass"
   ]
  },
  {
   "cell_type": "code",
   "execution_count": 29,
   "metadata": {},
   "outputs": [
    {
     "name": "stdout",
     "output_type": "stream",
     "text": [
      "              precision    recall  f1-score   support\n",
      "\n",
      "           0       0.44      0.45      0.45       110\n",
      "           2       0.45      0.51      0.48       100\n",
      "           9       0.42      0.32      0.37       111\n",
      "          11       0.60      0.64      0.62       139\n",
      "\n",
      "    accuracy                           0.49       460\n",
      "   macro avg       0.48      0.48      0.48       460\n",
      "weighted avg       0.49      0.49      0.49       460\n",
      "\n",
      "49.13 %\n"
     ]
    },
    {
     "data": {
      "image/png": "[encoded data removed]",
      "text/plain": [
       "<Figure size 600x600 with 2 Axes>"
      ]
     },
     "metadata": {},
     "output_type": "display_data"
    }
   ],
   "source": [
    "svm7 = OneVsOneClassifier(LinearSVC(random_state=0, loss=\"hinge\",penalty=\"l2\")).fit(X_train7, y_train7)\n",
    "pred_svm7 = svm7.predict(X_test7)\n",
    "Confusion_Matrix(confusion_matrix(y_test7,pred_svm7))\n",
    "print(classification_report(y_test7, pred_svm7))\n",
    "print(round(np.sum([y_test7==pred_svm7])/len(y_test7),4)*100,\"%\")\n",
    "results.append(['images PCA 200', 'SVM',round(np.sum([y_test7==pred_svm7])/len(y_test7),4)*100 ])"
   ]
  },
  {
   "cell_type": "markdown",
   "metadata": {},
   "source": [
    "#### KNN"
   ]
  },
  {
   "cell_type": "code",
   "execution_count": 30,
   "metadata": {},
   "outputs": [
    {
     "name": "stdout",
     "output_type": "stream",
     "text": [
      "1 60.22 %\n",
      "2 54.56999999999999 %\n",
      "3 56.74 %\n",
      "4 53.26 %\n",
      "5 52.17 %\n",
      "6 53.910000000000004 %\n",
      "7 55.87 %\n",
      "8 54.779999999999994 %\n",
      "9 56.52 %\n",
      "10 58.040000000000006 %\n",
      "11 56.96 %\n",
      "12 55.87 %\n",
      "13 55.43 %\n",
      "14 55.22 %\n",
      "15 55.22 %\n",
      "16 53.910000000000004 %\n",
      "17 54.779999999999994 %\n",
      "18 55.65 %\n",
      "19 54.56999999999999 %\n",
      "20 54.56999999999999 %\n",
      "21 53.910000000000004 %\n",
      "22 55.43 %\n",
      "23 55.00000000000001 %\n",
      "24 55.43 %\n",
      "25 55.87 %\n",
      "26 55.22 %\n",
      "27 54.35 %\n",
      "28 54.35 %\n",
      "29 54.56999999999999 %\n",
      "30 53.910000000000004 %\n",
      "31 54.13 %\n",
      "32 55.22 %\n",
      "33 55.22 %\n",
      "34 55.00000000000001 %\n",
      "35 54.56999999999999 %\n",
      "36 54.56999999999999 %\n",
      "37 55.22 %\n",
      "38 55.22 %\n",
      "39 55.00000000000001 %\n",
      "40 54.35 %\n",
      "41 54.56999999999999 %\n",
      "42 55.43 %\n",
      "43 54.779999999999994 %\n",
      "44 54.13 %\n",
      "45 53.910000000000004 %\n",
      "46 53.480000000000004 %\n",
      "47 53.04 %\n",
      "48 52.39 %\n",
      "49 52.83 %\n",
      "50 52.39 %\n"
     ]
    }
   ],
   "source": [
    "for i in range(1,51):\n",
    "    neigh = KNeighborsClassifier(n_neighbors=i)\n",
    "    neigh.fit(X_train7,y_train7)\n",
    "    pred_knn = neigh.predict(X_test7)\n",
    "    print(i,round(np.sum([y_test7==pred_knn])/len(y_test7),4)*100,\"%\")"
   ]
  },
  {
   "cell_type": "code",
   "execution_count": 31,
   "metadata": {},
   "outputs": [
    {
     "name": "stdout",
     "output_type": "stream",
     "text": [
      "              precision    recall  f1-score   support\n",
      "\n",
      "           0       0.56      0.56      0.56       110\n",
      "           2       0.63      0.60      0.62       100\n",
      "           9       0.54      0.47      0.50       111\n",
      "          11       0.65      0.74      0.69       139\n",
      "\n",
      "    accuracy                           0.60       460\n",
      "   macro avg       0.60      0.59      0.59       460\n",
      "weighted avg       0.60      0.60      0.60       460\n",
      "\n",
      "60.22 %\n"
     ]
    },
    {
     "data": {
      "image/png": "[encoded data removed]",
      "text/plain": [
       "<Figure size 600x600 with 2 Axes>"
      ]
     },
     "metadata": {},
     "output_type": "display_data"
    }
   ],
   "source": [
    "neigh7 = KNeighborsClassifier(n_neighbors=1)\n",
    "neigh7.fit(X_train7,y_train7)\n",
    "pred_knn7 = neigh7.predict(X_test7)\n",
    "Confusion_Matrix(confusion_matrix(y_test7,pred_knn7))\n",
    "print(classification_report(y_test7, pred_knn7))\n",
    "print(round(np.sum([y_test7==pred_knn7])/len(y_test7),4)*100,\"%\")\n",
    "results.append(['images PCA 200', 'KNN',round(np.sum([y_test7==pred_knn7])/len(y_test7),4)*100 ])"
   ]
  },
  {
   "cell_type": "markdown",
   "metadata": {},
   "source": [
    "#### Adaboost"
   ]
  },
  {
   "cell_type": "code",
   "execution_count": 32,
   "metadata": {},
   "outputs": [
    {
     "name": "stdout",
     "output_type": "stream",
     "text": [
      "50 50.870000000000005 %\n",
      "100 52.61 %\n",
      "150 52.17 %\n",
      "200 53.04 %\n",
      "250 53.04 %\n",
      "300 52.83 %\n",
      "350 51.959999999999994 %\n",
      "400 50.64999999999999 %\n",
      "450 52.83 %\n",
      "500 54.35 %\n",
      "550 54.56999999999999 %\n",
      "600 53.7 %\n",
      "650 52.83 %\n",
      "700 51.739999999999995 %\n",
      "750 51.739999999999995 %\n",
      "800 51.959999999999994 %\n",
      "850 52.61 %\n",
      "900 53.26 %\n",
      "950 53.26 %\n",
      "1000 53.04 %\n",
      "1050 53.04 %\n",
      "1100 52.61 %\n",
      "1150 54.35 %\n",
      "1200 54.779999999999994 %\n",
      "1250 54.779999999999994 %\n",
      "1300 53.480000000000004 %\n",
      "1350 53.910000000000004 %\n",
      "1400 54.13 %\n",
      "1450 53.7 %\n",
      "1500 53.26 %\n",
      "1550 53.04 %\n",
      "1600 51.300000000000004 %\n",
      "1650 51.739999999999995 %\n",
      "1700 51.300000000000004 %\n",
      "1750 52.17 %\n",
      "1800 51.959999999999994 %\n",
      "1850 52.61 %\n",
      "1900 52.83 %\n",
      "1950 53.480000000000004 %\n",
      "2000 52.83 %\n"
     ]
    }
   ],
   "source": [
    "for i in range(50,2001,50):\n",
    "    ada = AdaBoostClassifier(n_estimators=i, algorithm=\"SAMME\", random_state=0)\n",
    "    ada.fit(X_train7,y_train7)\n",
    "    pred_ada = ada.predict(X_test7)\n",
    "    print(i,round(np.sum([y_test7==pred_ada])/len(y_test7),4)*100,\"%\")"
   ]
  },
  {
   "cell_type": "code",
   "execution_count": 33,
   "metadata": {},
   "outputs": [
    {
     "name": "stdout",
     "output_type": "stream",
     "text": [
      "              precision    recall  f1-score   support\n",
      "\n",
      "           0       0.44      0.49      0.46       110\n",
      "           2       0.49      0.44      0.46       100\n",
      "           9       0.49      0.48      0.48       111\n",
      "          11       0.70      0.69      0.69       139\n",
      "\n",
      "    accuracy                           0.54       460\n",
      "   macro avg       0.53      0.52      0.53       460\n",
      "weighted avg       0.54      0.54      0.54       460\n",
      "\n",
      "53.7 %\n"
     ]
    },
    {
     "data": {
      "image/png": "[encoded data removed]",
      "text/plain": [
       "<Figure size 600x600 with 2 Axes>"
      ]
     },
     "metadata": {},
     "output_type": "display_data"
    }
   ],
   "source": [
    "ada7 = AdaBoostClassifier(n_estimators=600, algorithm=\"SAMME\",random_state=0)\n",
    "ada7.fit(X_train7,y_train7)\n",
    "pred_ada7 = ada7.predict(X_test7)\n",
    "Confusion_Matrix(confusion_matrix(y_test7,pred_ada7))\n",
    "print(classification_report(y_test7, pred_ada7))\n",
    "print(round(np.sum([y_test7==pred_ada7])/len(y_test7),4)*100,\"%\")\n",
    "results.append(['images PCA 200', 'Adaboost',round(np.sum([y_test7==pred_ada7])/len(y_test7),4)*100 ])"
   ]
  },
  {
   "cell_type": "markdown",
   "metadata": {},
   "source": [
    "#### Random Forest"
   ]
  },
  {
   "cell_type": "code",
   "execution_count": 34,
   "metadata": {},
   "outputs": [
    {
     "name": "stdout",
     "output_type": "stream",
     "text": [
      "40 2 57.38999999999999 %\n",
      "40 3 57.830000000000005 %\n",
      "40 4 58.040000000000006 %\n",
      "60 2 58.040000000000006 %\n",
      "60 3 59.13 %\n",
      "60 4 60.0 %\n",
      "80 2 59.13 %\n",
      "80 3 59.57 %\n",
      "80 4 59.35 %\n",
      "100 2 58.91 %\n",
      "100 3 62.17 %\n",
      "100 4 59.78 %\n",
      "120 2 60.870000000000005 %\n",
      "120 3 60.650000000000006 %\n",
      "120 4 60.42999999999999 %\n",
      "140 2 60.22 %\n",
      "140 3 61.09 %\n",
      "140 4 62.17 %\n",
      "160 2 60.22 %\n",
      "160 3 62.61 %\n",
      "160 4 61.519999999999996 %\n",
      "180 2 60.870000000000005 %\n",
      "180 3 61.96 %\n",
      "180 4 61.519999999999996 %\n",
      "200 2 60.650000000000006 %\n",
      "200 3 60.870000000000005 %\n",
      "200 4 62.17 %\n",
      "220 2 61.519999999999996 %\n",
      "220 3 61.09 %\n",
      "220 4 62.17 %\n",
      "240 2 61.519999999999996 %\n",
      "240 3 61.739999999999995 %\n",
      "240 4 61.739999999999995 %\n",
      "260 2 62.17 %\n",
      "260 3 60.650000000000006 %\n",
      "260 4 62.39 %\n",
      "280 2 62.61 %\n",
      "280 3 62.17 %\n",
      "280 4 63.7 %\n",
      "300 2 62.83 %\n",
      "300 3 62.17 %\n",
      "300 4 63.04 %\n",
      "320 2 62.61 %\n",
      "320 3 62.39 %\n",
      "320 4 62.83 %\n",
      "340 2 61.96 %\n",
      "340 3 61.96 %\n",
      "340 4 63.260000000000005 %\n",
      "360 2 62.83 %\n",
      "360 3 62.39 %\n",
      "360 4 63.480000000000004 %\n",
      "380 2 62.17 %\n",
      "380 3 62.39 %\n",
      "380 4 63.91 %\n",
      "400 2 63.260000000000005 %\n",
      "400 3 62.83 %\n",
      "400 4 63.91 %\n",
      "420 2 63.7 %\n",
      "420 3 63.260000000000005 %\n",
      "420 4 64.57000000000001 %\n",
      "440 2 64.35 %\n",
      "440 3 64.57000000000001 %\n",
      "440 4 64.57000000000001 %\n",
      "460 2 65.0 %\n",
      "460 3 64.78 %\n",
      "460 4 65.0 %\n",
      "480 2 65.0 %\n",
      "480 3 65.64999999999999 %\n",
      "480 4 64.78 %\n",
      "500 2 63.04 %\n",
      "500 3 64.57000000000001 %\n",
      "500 4 64.35 %\n"
     ]
    }
   ],
   "source": [
    "for i in range(40,501,20):\n",
    "    for j in range(2,5):\n",
    "        RF = RandomForestClassifier(n_estimators=i, max_depth=None,min_samples_split=j, random_state=0)\n",
    "        RF.fit(X_train7,y_train7)\n",
    "        pred_RF = RF.predict(X_test7)\n",
    "        print(i,j,round(np.sum([y_test7==pred_RF])/len(y_test7),4)*100,\"%\")"
   ]
  },
  {
   "cell_type": "code",
   "execution_count": 35,
   "metadata": {},
   "outputs": [
    {
     "name": "stdout",
     "output_type": "stream",
     "text": [
      "              precision    recall  f1-score   support\n",
      "\n",
      "           0       0.49      0.67      0.57       110\n",
      "           2       0.72      0.49      0.58       100\n",
      "           9       0.69      0.53      0.60       111\n",
      "          11       0.70      0.78      0.74       139\n",
      "\n",
      "    accuracy                           0.63       460\n",
      "   macro avg       0.65      0.62      0.62       460\n",
      "weighted avg       0.65      0.63      0.63       460\n",
      "\n",
      "63.260000000000005 %\n"
     ]
    },
    {
     "data": {
      "image/png": "[encoded data removed]",
      "text/plain": [
       "<Figure size 600x600 with 2 Axes>"
      ]
     },
     "metadata": {},
     "output_type": "display_data"
    }
   ],
   "source": [
    "RF7 = RandomForestClassifier(n_estimators=400, max_depth=None,min_samples_split=2, random_state=0)\n",
    "RF7.fit(X_train7,y_train7)\n",
    "pred_RF7 = RF7.predict(X_test7)\n",
    "Confusion_Matrix(confusion_matrix(y_test7,pred_RF7))\n",
    "print(classification_report(y_test7, pred_RF7))\n",
    "print(round(np.sum([y_test7==pred_RF7])/len(y_test7),4)*100,\"%\")\n",
    "results.append(['images PCA 200', 'Random Forest',round(np.sum([y_test7==pred_RF7])/len(y_test7),4)*100 ])"
   ]
  },
  {
   "cell_type": "markdown",
   "metadata": {},
   "source": [
    "#### Logistic Regression"
   ]
  },
  {
   "cell_type": "code",
   "execution_count": 36,
   "metadata": {},
   "outputs": [
    {
     "name": "stdout",
     "output_type": "stream",
     "text": [
      "l1 liblinear 0.1 56.52 %\n",
      "l1 liblinear 0.01 55.65 %\n",
      "l1 liblinear 0.001 56.089999999999996 %\n",
      "l1 saga 0.1 55.43 %\n",
      "l1 saga 0.01 54.56999999999999 %\n",
      "l1 saga 0.001 54.779999999999994 %\n",
      "l2 lbfgs 0.1 54.779999999999994 %\n",
      "l2 lbfgs 0.01 54.779999999999994 %\n",
      "l2 lbfgs 0.001 54.779999999999994 %\n",
      "l2 liblinear 0.1 54.35 %\n",
      "l2 liblinear 0.01 55.87 %\n",
      "l2 liblinear 0.001 55.43 %\n",
      "l2 newton-cg 0.1 55.43 %\n",
      "l2 newton-cg 0.01 55.43 %\n",
      "l2 newton-cg 0.001 55.43 %\n",
      "l2 sag 0.1 56.52 %\n",
      "l2 sag 0.01 54.35 %\n",
      "l2 sag 0.001 55.00000000000001 %\n",
      "l2 saga 0.1 55.43 %\n",
      "l2 saga 0.01 54.56999999999999 %\n",
      "l2 saga 0.001 54.779999999999994 %\n"
     ]
    }
   ],
   "source": [
    "penilties = [\"l1\",\"l2\",\"elasticnet\"]\n",
    "solvers = [\"lbfgs\",\"liblinear\",\"newton-cg\",\"newton-cholesky\",\"sag\",\"saga\"]\n",
    "tols= [0.1 ,0.01, 0.001]\n",
    "\n",
    "for i in penilties:\n",
    "    for j in solvers:\n",
    "        for k in tols:\n",
    "            try:\n",
    "                LR = LogisticRegression(penalty=i, solver=j, tol=k, max_iter=10000,random_state=0)\n",
    "                LR.fit(X_train7,y_train7)\n",
    "                pred_LR = LR.predict(X_test7)\n",
    "                print(i,j,k,round(np.sum([y_test7==pred_LR])/len(y_test7),4)*100,\"%\")\n",
    "            except:\n",
    "                pass\n",
    "        "
   ]
  },
  {
   "cell_type": "code",
   "execution_count": 37,
   "metadata": {},
   "outputs": [
    {
     "name": "stdout",
     "output_type": "stream",
     "text": [
      "              precision    recall  f1-score   support\n",
      "\n",
      "           0       0.51      0.51      0.51       110\n",
      "           2       0.51      0.43      0.47       100\n",
      "           9       0.46      0.39      0.42       111\n",
      "          11       0.63      0.78      0.70       139\n",
      "\n",
      "    accuracy                           0.55       460\n",
      "   macro avg       0.53      0.53      0.52       460\n",
      "weighted avg       0.53      0.55      0.54       460\n",
      "\n",
      "54.56999999999999 %\n"
     ]
    },
    {
     "data": {
      "image/png": "[encoded data removed]",
      "text/plain": [
       "<Figure size 600x600 with 2 Axes>"
      ]
     },
     "metadata": {},
     "output_type": "display_data"
    }
   ],
   "source": [
    "LR7 = LogisticRegression(penalty=\"l1\", solver=\"saga\", tol=0.01, max_iter=10000, random_state=0)\n",
    "LR7.fit(X_train7,y_train7)\n",
    "pred_LR7 = LR7.predict(X_test7)\n",
    "Confusion_Matrix(confusion_matrix(y_test7,pred_LR7))\n",
    "print(classification_report(y_test7, pred_LR7))\n",
    "print(round(np.sum([y_test7==pred_LR7])/len(y_test7),4)*100,\"%\")\n",
    "results.append(['images PCA 200', 'Logistic Regression',round(np.sum([y_test7==pred_LR7])/len(y_test7),4)*100 ])"
   ]
  },
  {
   "cell_type": "markdown",
   "metadata": {},
   "source": [
    "# RUN ON DATA SET OF IMAGE PCA 500"
   ]
  },
  {
   "cell_type": "code",
   "execution_count": 38,
   "metadata": {},
   "outputs": [
    {
     "name": "stdout",
     "output_type": "stream",
     "text": [
      "(1073, 500)\n",
      "(460, 500)\n",
      "(383, 500)\n"
     ]
    }
   ],
   "source": [
    "pca3=PCA(n_components=500)\n",
    "X_train9=pca3.fit_transform(X_train)\n",
    "X_test9=pca3.transform(X_test)\n",
    "final_test_X9=pca3.transform(final_test_X)\n",
    "y_train9 = y_train\n",
    "y_test9 = y_test\n",
    "\n",
    "print(X_train9.shape)\n",
    "print(X_test9.shape)\n",
    "print(final_test_X9.shape)\n",
    "\n",
    "cs = [i for i in range(500)]\n",
    "df_X9_final_test = pd.DataFrame(final_test_X9,columns=cs)\n",
    "cy =[]\n",
    "for i in final_test_y:\n",
    "    cy.append(i)\n",
    "df_X9_final_test['class_number']=cy\n",
    "df_X9_final_test.to_csv('df_X9_final_test.csv', index=False)"
   ]
  },
  {
   "cell_type": "markdown",
   "metadata": {},
   "source": [
    "#### SVM"
   ]
  },
  {
   "cell_type": "code",
   "execution_count": 39,
   "metadata": {},
   "outputs": [
    {
     "name": "stdout",
     "output_type": "stream",
     "text": [
      "OneVsOneClassifier\n",
      "hinge l2 57.38999999999999 %\n",
      "squared_hinge l2 57.38999999999999 %\n",
      "OutputCodeClassifier\n",
      "hinge l2 51.300000000000004 %\n",
      "squared_hinge l2 51.519999999999996 %\n",
      "OneVsRestClassifier\n",
      "hinge l2 52.17 %\n",
      "squared_hinge l2 52.17 %\n"
     ]
    }
   ],
   "source": [
    "losses = [\"hinge\",\"squared_hinge\"]\n",
    "penalties = [\"l1\",\"l2\"]\n",
    "\n",
    "print(\"OneVsOneClassifier\")\n",
    "for i in losses:\n",
    "    for j in penalties:\n",
    "        try:\n",
    "            svm =  OneVsOneClassifier(LinearSVC(random_state=0, loss=i,penalty=j,)).fit(X_train9, y_train9)\n",
    "            pred_svm = svm.predict(X_test9)\n",
    "            print(i,j,round(np.sum([y_test9==pred_svm])/len(y_test9),4)*100,\"%\")\n",
    "        except:\n",
    "            pass\n",
    "\n",
    "print(\"OutputCodeClassifier\")\n",
    "for i in losses:\n",
    "    for j in penalties:\n",
    "        try:\n",
    "            svm =  OutputCodeClassifier(LinearSVC(random_state=0, loss=i,penalty=j,)).fit(X_train9, y_train9)\n",
    "            pred_svm = svm.predict(X_test9)\n",
    "            print(i,j,round(np.sum([y_test9==pred_svm])/len(y_test9),4)*100,\"%\")\n",
    "        except:\n",
    "            pass\n",
    "\n",
    "\n",
    "print(\"OneVsRestClassifier\")\n",
    "for i in losses:\n",
    "    for j in penalties:\n",
    "        try:\n",
    "            svm =  OneVsRestClassifier(LinearSVC(random_state=0, loss=i,penalty=j,)).fit(X_train9, y_train9)\n",
    "            pred_svm = svm.predict(X_test9)\n",
    "            print(i,j,round(np.sum([y_test9==pred_svm])/len(y_test9),4)*100,\"%\")\n",
    "        except:\n",
    "            pass"
   ]
  },
  {
   "cell_type": "code",
   "execution_count": 40,
   "metadata": {},
   "outputs": [
    {
     "name": "stdout",
     "output_type": "stream",
     "text": [
      "              precision    recall  f1-score   support\n",
      "\n",
      "           0       0.60      0.54      0.57       110\n",
      "           2       0.54      0.61      0.57       100\n",
      "           9       0.46      0.39      0.42       111\n",
      "          11       0.65      0.73      0.69       139\n",
      "\n",
      "    accuracy                           0.57       460\n",
      "   macro avg       0.56      0.57      0.56       460\n",
      "weighted avg       0.57      0.57      0.57       460\n",
      "\n",
      "57.38999999999999 %\n"
     ]
    },
    {
     "data": {
      "image/png": "[encoded data removed]",
      "text/plain": [
       "<Figure size 600x600 with 2 Axes>"
      ]
     },
     "metadata": {},
     "output_type": "display_data"
    }
   ],
   "source": [
    "svm9 = OneVsOneClassifier(LinearSVC(random_state=0, loss=\"hinge\",penalty=\"l2\")).fit(X_train9, y_train9)\n",
    "pred_svm9 = svm9.predict(X_test9)\n",
    "Confusion_Matrix(confusion_matrix(y_test9,pred_svm9))\n",
    "print(classification_report(y_test9, pred_svm9))\n",
    "print(round(np.sum([y_test9==pred_svm9])/len(y_test9),4)*100,\"%\")\n",
    "results.append(['images PCA 500', 'SVM',round(np.sum([y_test9==pred_svm9])/len(y_test9),4)*100 ])"
   ]
  },
  {
   "cell_type": "markdown",
   "metadata": {},
   "source": [
    "#### KNN"
   ]
  },
  {
   "cell_type": "code",
   "execution_count": 41,
   "metadata": {},
   "outputs": [
    {
     "name": "stdout",
     "output_type": "stream",
     "text": [
      "1 59.13 %\n",
      "2 53.910000000000004 %\n",
      "3 54.35 %\n",
      "4 55.43 %\n",
      "5 54.779999999999994 %\n",
      "6 55.65 %\n",
      "7 56.52 %\n",
      "8 55.65 %\n",
      "9 56.96 %\n",
      "10 55.22 %\n",
      "11 55.00000000000001 %\n",
      "12 54.56999999999999 %\n",
      "13 54.35 %\n",
      "14 54.13 %\n",
      "15 53.7 %\n",
      "16 54.13 %\n",
      "17 54.779999999999994 %\n",
      "18 54.56999999999999 %\n",
      "19 54.56999999999999 %\n",
      "20 54.35 %\n",
      "21 55.22 %\n",
      "22 55.00000000000001 %\n",
      "23 55.00000000000001 %\n",
      "24 53.910000000000004 %\n",
      "25 53.26 %\n",
      "26 53.04 %\n",
      "27 53.7 %\n",
      "28 54.779999999999994 %\n",
      "29 54.13 %\n",
      "30 54.56999999999999 %\n",
      "31 54.56999999999999 %\n",
      "32 53.7 %\n",
      "33 54.35 %\n",
      "34 54.13 %\n",
      "35 54.779999999999994 %\n",
      "36 54.35 %\n",
      "37 54.13 %\n",
      "38 54.13 %\n",
      "39 54.35 %\n",
      "40 53.04 %\n",
      "41 53.7 %\n",
      "42 53.910000000000004 %\n",
      "43 53.480000000000004 %\n",
      "44 53.7 %\n",
      "45 53.26 %\n",
      "46 53.480000000000004 %\n",
      "47 53.26 %\n",
      "48 52.39 %\n",
      "49 52.83 %\n",
      "50 53.04 %\n"
     ]
    }
   ],
   "source": [
    "for i in range(1,51):\n",
    "    neigh = KNeighborsClassifier(n_neighbors=i)\n",
    "    neigh.fit(X_train9,y_train9)\n",
    "    pred_knn = neigh.predict(X_test9)\n",
    "    print(i,round(np.sum([y_test9==pred_knn])/len(y_test9),4)*100,\"%\")"
   ]
  },
  {
   "cell_type": "code",
   "execution_count": 42,
   "metadata": {},
   "outputs": [
    {
     "name": "stdout",
     "output_type": "stream",
     "text": [
      "              precision    recall  f1-score   support\n",
      "\n",
      "           0       0.57      0.55      0.56       110\n",
      "           2       0.59      0.60      0.60       100\n",
      "           9       0.52      0.44      0.48       111\n",
      "          11       0.65      0.74      0.69       139\n",
      "\n",
      "    accuracy                           0.59       460\n",
      "   macro avg       0.58      0.58      0.58       460\n",
      "weighted avg       0.59      0.59      0.59       460\n",
      "\n",
      "59.13 %\n"
     ]
    },
    {
     "data": {
      "image/png": "[encoded data removed]",
      "text/plain": [
       "<Figure size 600x600 with 2 Axes>"
      ]
     },
     "metadata": {},
     "output_type": "display_data"
    }
   ],
   "source": [
    "neigh9 = KNeighborsClassifier(n_neighbors=1)\n",
    "neigh9.fit(X_train9,y_train9)\n",
    "pred_knn9 = neigh9.predict(X_test9)\n",
    "Confusion_Matrix(confusion_matrix(y_test9,pred_knn9))\n",
    "print(classification_report(y_test9, pred_knn9))\n",
    "print(round(np.sum([y_test9==pred_knn9])/len(y_test9),4)*100,\"%\")\n",
    "results.append(['images PCA 500', 'KNN',round(np.sum([y_test9==pred_knn9])/len(y_test9),4)*100 ])"
   ]
  },
  {
   "cell_type": "markdown",
   "metadata": {},
   "source": [
    "#### Adaboost"
   ]
  },
  {
   "cell_type": "code",
   "execution_count": 43,
   "metadata": {},
   "outputs": [
    {
     "name": "stdout",
     "output_type": "stream",
     "text": [
      "50 51.519999999999996 %\n",
      "100 48.699999999999996 %\n",
      "150 51.09 %\n",
      "200 49.57 %\n",
      "250 53.7 %\n",
      "300 53.7 %\n",
      "350 53.910000000000004 %\n",
      "400 53.26 %\n",
      "450 54.13 %\n",
      "500 54.13 %\n",
      "550 54.56999999999999 %\n",
      "600 54.35 %\n",
      "650 54.13 %\n",
      "700 53.7 %\n",
      "750 54.13 %\n",
      "800 53.480000000000004 %\n",
      "850 52.83 %\n",
      "900 54.779999999999994 %\n",
      "950 53.26 %\n",
      "1000 53.910000000000004 %\n",
      "1050 54.779999999999994 %\n",
      "1100 54.13 %\n",
      "1150 54.779999999999994 %\n",
      "1200 54.56999999999999 %\n",
      "1250 53.7 %\n",
      "1300 53.7 %\n",
      "1350 53.7 %\n",
      "1400 54.779999999999994 %\n",
      "1450 53.04 %\n",
      "1500 53.480000000000004 %\n",
      "1550 53.04 %\n",
      "1600 54.56999999999999 %\n",
      "1650 53.480000000000004 %\n",
      "1700 53.480000000000004 %\n",
      "1750 54.779999999999994 %\n",
      "1800 55.00000000000001 %\n",
      "1850 55.00000000000001 %\n",
      "1900 55.43 %\n",
      "1950 54.779999999999994 %\n",
      "2000 54.779999999999994 %\n"
     ]
    }
   ],
   "source": [
    "for i in range(50,2001,50):\n",
    "    ada = AdaBoostClassifier(n_estimators=i, algorithm=\"SAMME\", random_state=0)\n",
    "    ada.fit(X_train9,y_train9)\n",
    "    pred_ada = ada.predict(X_test9)\n",
    "    print(i,round(np.sum([y_test9==pred_ada])/len(y_test9),4)*100,\"%\")"
   ]
  },
  {
   "cell_type": "code",
   "execution_count": 44,
   "metadata": {},
   "outputs": [
    {
     "name": "stdout",
     "output_type": "stream",
     "text": [
      "              precision    recall  f1-score   support\n",
      "\n",
      "           0       0.50      0.50      0.50       110\n",
      "           2       0.51      0.38      0.43       100\n",
      "           9       0.47      0.55      0.50       111\n",
      "          11       0.71      0.73      0.72       139\n",
      "\n",
      "    accuracy                           0.55       460\n",
      "   macro avg       0.54      0.54      0.54       460\n",
      "weighted avg       0.55      0.55      0.55       460\n",
      "\n",
      "55.43 %\n"
     ]
    },
    {
     "data": {
      "image/png": "[encoded data removed]",
      "text/plain": [
       "<Figure size 600x600 with 2 Axes>"
      ]
     },
     "metadata": {},
     "output_type": "display_data"
    }
   ],
   "source": [
    "ada9 = AdaBoostClassifier(n_estimators=1900, algorithm=\"SAMME\",random_state=0)\n",
    "ada9.fit(X_train9,y_train9)\n",
    "pred_ada9 = ada9.predict(X_test9)\n",
    "Confusion_Matrix(confusion_matrix(y_test9,pred_ada9))\n",
    "print(classification_report(y_test9, pred_ada9))\n",
    "print(round(np.sum([y_test9==pred_ada9])/len(y_test9),4)*100,\"%\")\n",
    "results.append(['images PCA 500', 'Adaboost',round(np.sum([y_test9==pred_ada9])/len(y_test9),4)*100 ])"
   ]
  },
  {
   "cell_type": "markdown",
   "metadata": {},
   "source": [
    "#### Random Forest"
   ]
  },
  {
   "cell_type": "code",
   "execution_count": 45,
   "metadata": {},
   "outputs": [
    {
     "name": "stdout",
     "output_type": "stream",
     "text": [
      "40 2 53.7 %\n",
      "40 3 53.480000000000004 %\n",
      "40 4 53.26 %\n",
      "60 2 55.00000000000001 %\n",
      "60 3 54.56999999999999 %\n",
      "60 4 55.22 %\n",
      "80 2 57.38999999999999 %\n",
      "80 3 56.3 %\n",
      "80 4 56.96 %\n",
      "100 2 56.96 %\n",
      "100 3 55.43 %\n",
      "100 4 57.60999999999999 %\n",
      "120 2 58.040000000000006 %\n",
      "120 3 57.38999999999999 %\n",
      "120 4 59.13 %\n",
      "140 2 57.17 %\n",
      "140 3 57.830000000000005 %\n",
      "140 4 61.3 %\n",
      "160 2 57.830000000000005 %\n",
      "160 3 58.48 %\n",
      "160 4 61.09 %\n",
      "180 2 58.91 %\n",
      "180 3 58.26 %\n",
      "180 4 59.78 %\n",
      "200 2 59.35 %\n",
      "200 3 58.91 %\n",
      "200 4 60.650000000000006 %\n",
      "220 2 58.91 %\n",
      "220 3 59.78 %\n",
      "220 4 60.870000000000005 %\n",
      "240 2 58.91 %\n",
      "240 3 59.78 %\n",
      "240 4 61.3 %\n",
      "260 2 58.91 %\n",
      "260 3 60.650000000000006 %\n",
      "260 4 60.650000000000006 %\n",
      "280 2 58.26 %\n",
      "280 3 60.650000000000006 %\n",
      "280 4 61.3 %\n",
      "300 2 58.699999999999996 %\n",
      "300 3 59.57 %\n",
      "300 4 59.57 %\n",
      "320 2 59.13 %\n",
      "320 3 60.42999999999999 %\n",
      "320 4 60.870000000000005 %\n",
      "340 2 59.57 %\n",
      "340 3 60.650000000000006 %\n",
      "340 4 61.09 %\n",
      "360 2 58.91 %\n",
      "360 3 60.870000000000005 %\n",
      "360 4 61.09 %\n",
      "380 2 59.57 %\n",
      "380 3 62.17 %\n",
      "380 4 61.519999999999996 %\n",
      "400 2 60.0 %\n",
      "400 3 61.739999999999995 %\n",
      "400 4 61.09 %\n",
      "420 2 60.650000000000006 %\n",
      "420 3 61.96 %\n",
      "420 4 60.870000000000005 %\n",
      "440 2 59.35 %\n",
      "440 3 61.519999999999996 %\n",
      "440 4 61.09 %\n",
      "460 2 59.13 %\n",
      "460 3 61.96 %\n",
      "460 4 60.42999999999999 %\n",
      "480 2 59.78 %\n",
      "480 3 61.09 %\n",
      "480 4 61.09 %\n",
      "500 2 60.42999999999999 %\n",
      "500 3 61.519999999999996 %\n",
      "500 4 60.22 %\n"
     ]
    }
   ],
   "source": [
    "for i in range(40,501,20):\n",
    "    for j in range(2,5):\n",
    "        RF = RandomForestClassifier(n_estimators=i, max_depth=None,min_samples_split=j, random_state=0)\n",
    "        RF.fit(X_train9,y_train9)\n",
    "        pred_RF = RF.predict(X_test9)\n",
    "        print(i,j,round(np.sum([y_test9==pred_RF])/len(y_test9),4)*100,\"%\")"
   ]
  },
  {
   "cell_type": "code",
   "execution_count": 46,
   "metadata": {},
   "outputs": [
    {
     "name": "stdout",
     "output_type": "stream",
     "text": [
      "              precision    recall  f1-score   support\n",
      "\n",
      "           0       0.51      0.55      0.53       110\n",
      "           2       0.80      0.41      0.54       100\n",
      "           9       0.51      0.59      0.55       111\n",
      "          11       0.66      0.76      0.71       139\n",
      "\n",
      "    accuracy                           0.60       460\n",
      "   macro avg       0.62      0.58      0.58       460\n",
      "weighted avg       0.62      0.60      0.59       460\n",
      "\n",
      "59.57 %\n"
     ]
    },
    {
     "data": {
      "image/png": "[encoded data removed]",
      "text/plain": [
       "<Figure size 600x600 with 2 Axes>"
      ]
     },
     "metadata": {},
     "output_type": "display_data"
    }
   ],
   "source": [
    "RF9 = RandomForestClassifier(n_estimators=340, max_depth=None,min_samples_split=2, random_state=0)\n",
    "RF9.fit(X_train9,y_train9)\n",
    "pred_RF9 = RF9.predict(X_test9)\n",
    "Confusion_Matrix(confusion_matrix(y_test9,pred_RF9))\n",
    "print(classification_report(y_test9, pred_RF9))\n",
    "print(round(np.sum([y_test9==pred_RF9])/len(y_test9),4)*100,\"%\")\n",
    "results.append(['images PCA 500', 'Random Forest',round(np.sum([y_test9==pred_RF9])/len(y_test9),4)*100 ])"
   ]
  },
  {
   "cell_type": "markdown",
   "metadata": {},
   "source": [
    "#### Logistic Regression"
   ]
  },
  {
   "cell_type": "code",
   "execution_count": 47,
   "metadata": {},
   "outputs": [
    {
     "name": "stdout",
     "output_type": "stream",
     "text": [
      "l1 liblinear 0.1 56.96 %\n",
      "l1 liblinear 0.01 55.00000000000001 %\n",
      "l1 liblinear 0.001 54.35 %\n",
      "l1 saga 0.1 57.830000000000005 %\n",
      "l1 saga 0.01 57.60999999999999 %\n",
      "l1 saga 0.001 57.38999999999999 %\n",
      "l2 lbfgs 0.1 55.87 %\n",
      "l2 lbfgs 0.01 57.60999999999999 %\n",
      "l2 lbfgs 0.001 57.60999999999999 %\n",
      "l2 liblinear 0.1 54.13 %\n",
      "l2 liblinear 0.01 52.61 %\n",
      "l2 liblinear 0.001 52.61 %\n",
      "l2 newton-cg 0.1 57.38999999999999 %\n",
      "l2 newton-cg 0.01 57.38999999999999 %\n",
      "l2 newton-cg 0.001 57.17 %\n",
      "l2 sag 0.1 57.830000000000005 %\n",
      "l2 sag 0.01 56.089999999999996 %\n",
      "l2 sag 0.001 57.830000000000005 %\n",
      "l2 saga 0.1 57.830000000000005 %\n",
      "l2 saga 0.01 57.60999999999999 %\n",
      "l2 saga 0.001 57.38999999999999 %\n"
     ]
    }
   ],
   "source": [
    "penilties = [\"l1\",\"l2\",\"elasticnet\"]\n",
    "solvers = [\"lbfgs\",\"liblinear\",\"newton-cg\",\"newton-cholesky\",\"sag\",\"saga\"]\n",
    "tols= [0.1 ,0.01, 0.001]\n",
    "\n",
    "for i in penilties:\n",
    "    for j in solvers:\n",
    "        for k in tols:\n",
    "            try:\n",
    "                LR = LogisticRegression(penalty=i, solver=j, tol=k, max_iter=10000,random_state=0)\n",
    "                LR.fit(X_train9,y_train9)\n",
    "                pred_LR = LR.predict(X_test9)\n",
    "                print(i,j,k,round(np.sum([y_test9==pred_LR])/len(y_test9),4)*100,\"%\")\n",
    "            except:\n",
    "                pass\n",
    "        "
   ]
  },
  {
   "cell_type": "code",
   "execution_count": 48,
   "metadata": {},
   "outputs": [
    {
     "name": "stdout",
     "output_type": "stream",
     "text": [
      "              precision    recall  f1-score   support\n",
      "\n",
      "           0       0.52      0.54      0.53       110\n",
      "           2       0.52      0.50      0.51       100\n",
      "           9       0.55      0.39      0.46       111\n",
      "          11       0.66      0.82      0.73       139\n",
      "\n",
      "    accuracy                           0.58       460\n",
      "   macro avg       0.56      0.56      0.56       460\n",
      "weighted avg       0.57      0.58      0.57       460\n",
      "\n",
      "57.830000000000005 %\n"
     ]
    },
    {
     "data": {
      "image/png": "[encoded data removed]",
      "text/plain": [
       "<Figure size 600x600 with 2 Axes>"
      ]
     },
     "metadata": {},
     "output_type": "display_data"
    }
   ],
   "source": [
    "LR9 = LogisticRegression(penalty=\"l2\", solver=\"sag\", tol=0.1, max_iter=10000, random_state=0)\n",
    "LR9.fit(X_train9,y_train9)\n",
    "pred_LR9 = LR9.predict(X_test9)\n",
    "Confusion_Matrix(confusion_matrix(y_test9,pred_LR9))\n",
    "print(classification_report(y_test9, pred_LR9))\n",
    "print(round(np.sum([y_test9==pred_LR9])/len(y_test9),4)*100,\"%\")\n",
    "results.append(['images PCA 500', 'Logistic Regression',round(np.sum([y_test9==pred_LR9])/len(y_test9),4)*100 ])"
   ]
  },
  {
   "cell_type": "code",
   "execution_count": 49,
   "metadata": {},
   "outputs": [],
   "source": [
    "cols = [\"df_type\",\"classifier\",\"accuracy\"]\n",
    "df = pd.DataFrame(results, columns=cols)"
   ]
  },
  {
   "cell_type": "code",
   "execution_count": 50,
   "metadata": {},
   "outputs": [
    {
     "data": {
      "text/html": [
       "<div>\n",
       "<style scoped>\n",
       "    .dataframe tbody tr th:only-of-type {\n",
       "        vertical-align: middle;\n",
       "    }\n",
       "\n",
       "    .dataframe tbody tr th {\n",
       "        vertical-align: top;\n",
       "    }\n",
       "\n",
       "    .dataframe thead th {\n",
       "        text-align: right;\n",
       "    }\n",
       "</style>\n",
       "<table border=\"1\" class=\"dataframe\">\n",
       "  <thead>\n",
       "    <tr style=\"text-align: right;\">\n",
       "      <th></th>\n",
       "      <th>df_type</th>\n",
       "      <th>classifier</th>\n",
       "      <th>accuracy</th>\n",
       "    </tr>\n",
       "  </thead>\n",
       "  <tbody>\n",
       "    <tr>\n",
       "      <th>0</th>\n",
       "      <td>images PCA 100</td>\n",
       "      <td>SVM</td>\n",
       "      <td>45.43</td>\n",
       "    </tr>\n",
       "    <tr>\n",
       "      <th>1</th>\n",
       "      <td>images PCA 100</td>\n",
       "      <td>KNN</td>\n",
       "      <td>61.09</td>\n",
       "    </tr>\n",
       "    <tr>\n",
       "      <th>2</th>\n",
       "      <td>images PCA 100</td>\n",
       "      <td>Adaboost</td>\n",
       "      <td>54.78</td>\n",
       "    </tr>\n",
       "    <tr>\n",
       "      <th>3</th>\n",
       "      <td>images PCA 100</td>\n",
       "      <td>Random Forest</td>\n",
       "      <td>62.39</td>\n",
       "    </tr>\n",
       "    <tr>\n",
       "      <th>4</th>\n",
       "      <td>images PCA 100</td>\n",
       "      <td>Logistic Regression</td>\n",
       "      <td>57.17</td>\n",
       "    </tr>\n",
       "    <tr>\n",
       "      <th>5</th>\n",
       "      <td>images PCA 200</td>\n",
       "      <td>SVM</td>\n",
       "      <td>49.13</td>\n",
       "    </tr>\n",
       "    <tr>\n",
       "      <th>6</th>\n",
       "      <td>images PCA 200</td>\n",
       "      <td>KNN</td>\n",
       "      <td>60.22</td>\n",
       "    </tr>\n",
       "    <tr>\n",
       "      <th>7</th>\n",
       "      <td>images PCA 200</td>\n",
       "      <td>Adaboost</td>\n",
       "      <td>53.70</td>\n",
       "    </tr>\n",
       "    <tr>\n",
       "      <th>8</th>\n",
       "      <td>images PCA 200</td>\n",
       "      <td>Random Forest</td>\n",
       "      <td>63.26</td>\n",
       "    </tr>\n",
       "    <tr>\n",
       "      <th>9</th>\n",
       "      <td>images PCA 200</td>\n",
       "      <td>Logistic Regression</td>\n",
       "      <td>54.57</td>\n",
       "    </tr>\n",
       "    <tr>\n",
       "      <th>10</th>\n",
       "      <td>images PCA 500</td>\n",
       "      <td>SVM</td>\n",
       "      <td>57.39</td>\n",
       "    </tr>\n",
       "    <tr>\n",
       "      <th>11</th>\n",
       "      <td>images PCA 500</td>\n",
       "      <td>KNN</td>\n",
       "      <td>59.13</td>\n",
       "    </tr>\n",
       "    <tr>\n",
       "      <th>12</th>\n",
       "      <td>images PCA 500</td>\n",
       "      <td>Adaboost</td>\n",
       "      <td>55.43</td>\n",
       "    </tr>\n",
       "    <tr>\n",
       "      <th>13</th>\n",
       "      <td>images PCA 500</td>\n",
       "      <td>Random Forest</td>\n",
       "      <td>59.57</td>\n",
       "    </tr>\n",
       "    <tr>\n",
       "      <th>14</th>\n",
       "      <td>images PCA 500</td>\n",
       "      <td>Logistic Regression</td>\n",
       "      <td>57.83</td>\n",
       "    </tr>\n",
       "  </tbody>\n",
       "</table>\n",
       "</div>"
      ],
      "text/plain": [
       "           df_type           classifier  accuracy\n",
       "0   images PCA 100                  SVM     45.43\n",
       "1   images PCA 100                  KNN     61.09\n",
       "2   images PCA 100             Adaboost     54.78\n",
       "3   images PCA 100        Random Forest     62.39\n",
       "4   images PCA 100  Logistic Regression     57.17\n",
       "5   images PCA 200                  SVM     49.13\n",
       "6   images PCA 200                  KNN     60.22\n",
       "7   images PCA 200             Adaboost     53.70\n",
       "8   images PCA 200        Random Forest     63.26\n",
       "9   images PCA 200  Logistic Regression     54.57\n",
       "10  images PCA 500                  SVM     57.39\n",
       "11  images PCA 500                  KNN     59.13\n",
       "12  images PCA 500             Adaboost     55.43\n",
       "13  images PCA 500        Random Forest     59.57\n",
       "14  images PCA 500  Logistic Regression     57.83"
      ]
     },
     "execution_count": 50,
     "metadata": {},
     "output_type": "execute_result"
    }
   ],
   "source": [
    "df"
   ]
  },
  {
   "cell_type": "code",
   "execution_count": 51,
   "metadata": {},
   "outputs": [],
   "source": [
    "import pickle\n",
    "filenames = ['svm6.sav','knn6.sav','ada6.sav','RF6.sav','LR6.sav',\n",
    "             'svm7.sav','knn7.sav','ada7.sav','RF7.sav','LR7.sav',\n",
    "             'svm9.sav','knn9.sav','ada9.sav','RF9.sav','LR9.sav']\n",
    "models= [svm6,neigh6,ada6,RF6,LR6,\n",
    "        svm7,neigh7,ada7,RF7,LR7,\n",
    "        svm9,neigh9,ada9,RF9,LR9]\n",
    "\n",
    "for i in range(len(filenames)): \n",
    "    pickle.dump(models[i], open(filenames[i], 'wb'))"
   ]
  },
  {
   "cell_type": "code",
   "execution_count": null,
   "metadata": {},
   "outputs": [],
   "source": []
  }
 ],
 "metadata": {
  "kernelspec": {
   "display_name": "Python 3",
   "language": "python",
   "name": "python3"
  },
  "language_info": {
   "codemirror_mode": {
    "name": "ipython",
    "version": 3
   },
   "file_extension": ".py",
   "mimetype": "text/x-python",
   "name": "python",
   "nbconvert_exporter": "python",
   "pygments_lexer": "ipython3",
   "version": "3.10.8"
  }
 },
 "nbformat": 4,
 "nbformat_minor": 2
}
