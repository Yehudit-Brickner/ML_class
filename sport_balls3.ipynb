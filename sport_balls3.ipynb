{
 "cells": [
  {
   "cell_type": "markdown",
   "metadata": {},
   "source": [
    "# ML class final project part3\n",
    "##  Almog Shor\n",
    "## Yehudit Brickner"
   ]
  },
  {
   "cell_type": "markdown",
   "metadata": {},
   "source": [
    "imports"
   ]
  },
  {
   "cell_type": "code",
   "execution_count": 59,
   "metadata": {},
   "outputs": [],
   "source": [
    "import os\n",
    "import cv2 \n",
    "import numpy as np\n",
    "import matplotlib.pyplot as plt \n",
    "import pandas as pd\n",
    "import seaborn as sns\n",
    "import time\n",
    "import pickle\n",
    "\n",
    "from sklearn.metrics import confusion_matrix\n",
    "from sklearn.model_selection import train_test_split\n",
    "from sklearn.metrics import classification_report\n",
    "\n",
    "from sklearn.decomposition import PCA\n",
    "\n",
    "import warnings\n",
    "warnings.filterwarnings(action='ignore', category=UserWarning)"
   ]
  },
  {
   "cell_type": "markdown",
   "metadata": {},
   "source": [
    "create the data set with all of the features"
   ]
  },
  {
   "cell_type": "code",
   "execution_count": 60,
   "metadata": {},
   "outputs": [],
   "source": [
    "def create_df1(folder):\n",
    "\n",
    "    folder_dir= os.listdir(folder)\n",
    "    \n",
    "    big_list=[]\n",
    "    my_list=[]\n",
    "    count=0\n",
    "    c=0\n",
    "    for i in folder_dir:\n",
    "        print(i)\n",
    "        j = os.listdir(folder+\"/\"+i)\n",
    "        if i in ['american_football','basketball','hockey_puck','shuttlecock']:\n",
    "            for k in range(len(j)):\n",
    "                try:\n",
    "                    img = cv2.imread(folder+\"/\"+i+\"/\"+j[k], cv2.COLOR_BGR2RGB)\n",
    "                    img = cv2.resize(img,(200,200), interpolation = cv2.INTER_AREA)\n",
    "                    \n",
    "                    # histogram_r, bin_edges = np.histogram(img[:, :, 0], bins=256, range=(0, 256)) \n",
    "                    # histogram_g, bin_edges = np.histogram(img[:, :, 1], bins=256, range=(0, 256)) \n",
    "                    # histogram_b, bin_edges = np.histogram(img[:, :, 2], bins=256, range=(0, 256)) \n",
    "                    \n",
    "                    # dst = cv2.Canny(img, 50, 200, None, 3)\n",
    "                    # dst1 = cv2.Canny(img, 50, 200, None, 3)\n",
    "                    # lines = cv2.HoughLines(dst1, 1, np.pi / 180, 50, None, 0, 0)\n",
    "                    \n",
    "                    # gray = cv2.imread(folder+\"/\"+i+\"/\"+j[k],cv2.IMREAD_GRAYSCALE)\n",
    "                    # gray =  cv2.resize(gray,(200,200), interpolation = cv2.INTER_AREA)\n",
    "                    # gray = cv2.medianBlur(gray, 5)\n",
    "                    # rows = gray.shape[0]\n",
    "                    # circles = cv2.HoughCircles(gray, cv2.HOUGH_GRADIENT, 1, rows / 8,\n",
    "                    #                 param1=100, param2=30,\n",
    "                    #                 minRadius=10, maxRadius=100)\n",
    "                    \n",
    "                    my_list=[]\n",
    "                    my_list.append(folder+\"/\"+i+\"/\"+j[k])\n",
    "                    my_list.append(i)\n",
    "                    my_list.append(c)\n",
    "                    # if lines is None:\n",
    "                    #     my_list.append(0)\n",
    "                    #     my_list.append(0)   \n",
    "                    # else:\n",
    "                    #     my_list.append(1)\n",
    "                    #     my_list.append(len(lines))\n",
    "                    # if circles is None:\n",
    "                    #     my_list.append(0)\n",
    "                    #     my_list.append(0)   \n",
    "                    # else:\n",
    "                    #     my_list.append(1)\n",
    "                    #     my_list.append(circles.shape[1])\n",
    "                    \n",
    "                    # my_list.extend(histogram_r)\n",
    "                    # my_list.extend(histogram_g)\n",
    "                    # my_list.extend(histogram_b)\n",
    "                    my_list.extend(img.flatten())\n",
    "                    # my_list.extend(dst.flatten())\n",
    "\n",
    "                    big_list.append(my_list)\n",
    "                    count+=1\n",
    "                    \n",
    "                except:\n",
    "                    print(\"there was an error with count \",count)\n",
    "\n",
    "        c+=1\n",
    "\n",
    "    \n",
    "    print(\"creating df\")\n",
    "    # cols = ['path','class_name','class_number','lines?','#lines','circles?','#circles']\n",
    "    cols = ['path','class_name','class_number']\n",
    "    # for h in range(256):\n",
    "    #     cols.append(\"r\"+str(h))\n",
    "    # for h in range(256):\n",
    "    #     cols.append(\"g\"+str(h))\n",
    "    # for h in range(256):\n",
    "    #     cols.append(\"b\"+str(h))\n",
    "    for h in range(200*200*3):\n",
    "        cols.append(\"i\"+str(h))\n",
    "    # for h in range(200*200):\n",
    "    #     cols.append(\"e\"+str(h))\n",
    "\n",
    "    df = pd.DataFrame(big_list, columns = cols) \n",
    "\n",
    "    print(\"created df\")\n",
    "              \n",
    "    return df"
   ]
  },
  {
   "cell_type": "code",
   "execution_count": 61,
   "metadata": {},
   "outputs": [],
   "source": [
    "# folder =\"C:/Users/nechd/Downloads/ball_classification/train\"\n",
    "# start_time = time.time()\n",
    "# full_ball_edge_df = create_df1(folder) \n",
    "# end_time = time.time()\n",
    "# print(\"time taken: \",end_time - start_time)"
   ]
  },
  {
   "cell_type": "code",
   "execution_count": 62,
   "metadata": {},
   "outputs": [],
   "source": [
    "# full_ball_edge_df.shape\n",
    "# full_ball_edge_df.head()"
   ]
  },
  {
   "cell_type": "code",
   "execution_count": 63,
   "metadata": {},
   "outputs": [],
   "source": [
    "# full_ball_edge_df.to_csv('image.csv', index=False)"
   ]
  },
  {
   "cell_type": "code",
   "execution_count": 64,
   "metadata": {},
   "outputs": [],
   "source": [
    "# folder =\"C:/Users/nechd/Downloads/ball_classification/test\"\n",
    "# start_time = time.time()\n",
    "# full_test_df = create_df1(folder) \n",
    "# end_time = time.time()\n",
    "# print(\"time taken: \",end_time - start_time)"
   ]
  },
  {
   "cell_type": "code",
   "execution_count": 65,
   "metadata": {},
   "outputs": [],
   "source": [
    "# full_test_df.to_csv('final_test_data_image.csv', index=False)"
   ]
  },
  {
   "cell_type": "markdown",
   "metadata": {},
   "source": [
    "import the data with some/all features"
   ]
  },
  {
   "cell_type": "code",
   "execution_count": 66,
   "metadata": {},
   "outputs": [
    {
     "name": "stdout",
     "output_type": "stream",
     "text": [
      "(1543, 120001)\n",
      "(1533, 120001)\n"
     ]
    }
   ],
   "source": [
    "image = pd.read_csv('image.csv')\n",
    "del image['path']\n",
    "del image['class_name']\n",
    "ball_type = [0,2,9,11]\n",
    "edge_4balls = image.loc[image['class_number'].isin(ball_type)]\n",
    "print(edge_4balls.shape)\n",
    "edge_4balls_no_na = edge_4balls.dropna()\n",
    "print(edge_4balls_no_na.shape)"
   ]
  },
  {
   "cell_type": "code",
   "execution_count": 67,
   "metadata": {},
   "outputs": [],
   "source": [
    "X = edge_4balls_no_na.drop(['class_number'], axis=1)\n",
    "y = edge_4balls_no_na['class_number']"
   ]
  },
  {
   "cell_type": "markdown",
   "metadata": {},
   "source": [
    "train test split"
   ]
  },
  {
   "cell_type": "code",
   "execution_count": 68,
   "metadata": {},
   "outputs": [],
   "source": [
    "X_train, X_test, y_train, y_test = train_test_split(X, y, test_size=0.3, random_state=42)"
   ]
  },
  {
   "cell_type": "markdown",
   "metadata": {},
   "source": [
    "extra functions"
   ]
  },
  {
   "cell_type": "code",
   "execution_count": 69,
   "metadata": {},
   "outputs": [],
   "source": [
    "# function to represent the confusion matrix nicely\n",
    "def Confusion_Matrix(cf_matrix):\n",
    "    plt.figure(figsize=(6,6))\n",
    "    sns.heatmap(cf_matrix, annot=True, fmt='', cmap='Greens')"
   ]
  },
  {
   "cell_type": "code",
   "execution_count": 70,
   "metadata": {},
   "outputs": [],
   "source": [
    "# list to hold all final results\n",
    "results=[]"
   ]
  },
  {
   "cell_type": "markdown",
   "metadata": {},
   "source": [
    "model imports"
   ]
  },
  {
   "cell_type": "code",
   "execution_count": 71,
   "metadata": {},
   "outputs": [],
   "source": [
    "from sklearn.multiclass import OneVsOneClassifier\n",
    "from sklearn.multiclass import OutputCodeClassifier\n",
    "from sklearn.multiclass import OneVsRestClassifier\n",
    "from sklearn.svm import LinearSVC\n",
    "\n",
    "from sklearn.neighbors import KNeighborsClassifier\n",
    "\n",
    "from sklearn.ensemble import AdaBoostClassifier\n",
    "\n",
    "from sklearn.ensemble import RandomForestClassifier\n",
    "\n",
    "from sklearn.linear_model import LogisticRegression\n",
    "\n"
   ]
  },
  {
   "cell_type": "markdown",
   "metadata": {},
   "source": [
    "# RUN ON DATA SET OF IMAGE PCA 100"
   ]
  },
  {
   "cell_type": "code",
   "execution_count": 72,
   "metadata": {},
   "outputs": [
    {
     "name": "stdout",
     "output_type": "stream",
     "text": [
      "(1073, 100)\n",
      "(460, 100)\n"
     ]
    }
   ],
   "source": [
    "pca1=PCA(n_components=100)\n",
    "X_train6=pca1.fit_transform(X_train)\n",
    "X_test6=pca1.transform(X_test)\n",
    "y_train6 = y_train\n",
    "y_test6 = y_test\n",
    "\n",
    "print(X_train6.shape)\n",
    "print(X_test6.shape)"
   ]
  },
  {
   "cell_type": "markdown",
   "metadata": {},
   "source": [
    "#### SVM"
   ]
  },
  {
   "cell_type": "code",
   "execution_count": 73,
   "metadata": {},
   "outputs": [
    {
     "name": "stdout",
     "output_type": "stream",
     "text": [
      "OneVsOneClassifier\n",
      "hinge l2 47.17 %\n",
      "squared_hinge l2 47.17 %\n",
      "OutputCodeClassifier\n",
      "hinge l2 28.04 %\n",
      "squared_hinge l2 40.87 %\n",
      "OneVsRestClassifier\n",
      "hinge l2 47.17 %\n",
      "squared_hinge l2 47.17 %\n"
     ]
    }
   ],
   "source": [
    "losses = [\"hinge\",\"squared_hinge\"]\n",
    "penalties = [\"l1\",\"l2\"]\n",
    "\n",
    "print(\"OneVsOneClassifier\")\n",
    "for i in losses:\n",
    "    for j in penalties:\n",
    "        try:\n",
    "            svm =  OneVsOneClassifier(LinearSVC(random_state=0, loss=i,penalty=j,)).fit(X_train6, y_train6)\n",
    "            pred_svm = svm.predict(X_test6)\n",
    "            print(i,j,round(np.sum([y_test6==pred_svm])/len(y_test6),4)*100,\"%\")\n",
    "        except:\n",
    "            pass\n",
    "\n",
    "print(\"OutputCodeClassifier\")\n",
    "for i in losses:\n",
    "    for j in penalties:\n",
    "        try:\n",
    "            svm =  OutputCodeClassifier(LinearSVC(random_state=0, loss=i,penalty=j,)).fit(X_train6, y_train6)\n",
    "            pred_svm = svm.predict(X_test6)\n",
    "            print(i,j,round(np.sum([y_test6==pred_svm])/len(y_test6),4)*100,\"%\")\n",
    "        except:\n",
    "            pass\n",
    "\n",
    "\n",
    "print(\"OneVsRestClassifier\")\n",
    "for i in losses:\n",
    "    for j in penalties:\n",
    "        try:\n",
    "            svm =  OneVsRestClassifier(LinearSVC(random_state=0, loss=i,penalty=j,)).fit(X_train6, y_train6)\n",
    "            pred_svm = svm.predict(X_test6)\n",
    "            print(i,j,round(np.sum([y_test6==pred_svm])/len(y_test6),4)*100,\"%\")\n",
    "        except:\n",
    "            pass"
   ]
  },
  {
   "cell_type": "code",
   "execution_count": 74,
   "metadata": {},
   "outputs": [
    {
     "name": "stdout",
     "output_type": "stream",
     "text": [
      "              precision    recall  f1-score   support\n",
      "\n",
      "           0       0.42      0.40      0.41       110\n",
      "           2       0.38      0.55      0.45       100\n",
      "           9       0.43      0.18      0.25       111\n",
      "          11       0.60      0.71      0.65       139\n",
      "\n",
      "    accuracy                           0.47       460\n",
      "   macro avg       0.46      0.46      0.44       460\n",
      "weighted avg       0.47      0.47      0.45       460\n",
      "\n",
      "47.17 %\n"
     ]
    },
    {
     "data": {
      "image/png": "[encoded data removed]",
      "text/plain": [
       "<Figure size 600x600 with 2 Axes>"
      ]
     },
     "metadata": {},
     "output_type": "display_data"
    }
   ],
   "source": [
    "svm6 =  OneVsOneClassifier(LinearSVC(random_state=0, loss=\"hinge\",penalty=\"l2\")).fit(X_train6, y_train6)\n",
    "pred_svm6 = svm6.predict(X_test6)\n",
    "Confusion_Matrix(confusion_matrix(y_test6,pred_svm6))\n",
    "print(classification_report(y_test6, pred_svm6))\n",
    "print(round(np.sum([y_test6==pred_svm6])/len(y_test6),4)*100,\"%\")\n",
    "results.append(['images PCA 100', 'SVM',round(np.sum([y_test6==pred_svm6])/len(y_test6),4)*100 ])"
   ]
  },
  {
   "cell_type": "markdown",
   "metadata": {},
   "source": [
    "#### KNN"
   ]
  },
  {
   "cell_type": "code",
   "execution_count": 75,
   "metadata": {},
   "outputs": [
    {
     "name": "stdout",
     "output_type": "stream",
     "text": [
      "1 60.870000000000005 %\n",
      "2 56.3 %\n",
      "3 56.74 %\n",
      "4 54.779999999999994 %\n",
      "5 54.35 %\n",
      "6 54.35 %\n",
      "7 55.22 %\n",
      "8 55.65 %\n",
      "9 56.96 %\n",
      "10 56.74 %\n",
      "11 56.74 %\n",
      "12 55.43 %\n",
      "13 55.00000000000001 %\n",
      "14 53.910000000000004 %\n",
      "15 52.17 %\n",
      "16 54.13 %\n",
      "17 54.13 %\n",
      "18 53.7 %\n",
      "19 54.56999999999999 %\n",
      "20 54.13 %\n",
      "21 53.7 %\n",
      "22 54.56999999999999 %\n",
      "23 54.779999999999994 %\n",
      "24 55.00000000000001 %\n",
      "25 55.87 %\n",
      "26 55.00000000000001 %\n",
      "27 55.00000000000001 %\n",
      "28 55.43 %\n",
      "29 54.56999999999999 %\n",
      "30 54.35 %\n",
      "31 54.35 %\n",
      "32 54.779999999999994 %\n",
      "33 55.00000000000001 %\n",
      "34 53.910000000000004 %\n",
      "35 54.56999999999999 %\n",
      "36 53.910000000000004 %\n",
      "37 53.7 %\n",
      "38 54.779999999999994 %\n",
      "39 54.779999999999994 %\n",
      "40 54.56999999999999 %\n",
      "41 55.22 %\n",
      "42 54.779999999999994 %\n",
      "43 54.35 %\n",
      "44 53.910000000000004 %\n",
      "45 53.910000000000004 %\n",
      "46 54.13 %\n",
      "47 53.910000000000004 %\n",
      "48 52.39 %\n",
      "49 51.739999999999995 %\n",
      "50 52.17 %\n"
     ]
    }
   ],
   "source": [
    "for i in range(1,51):\n",
    "    neigh = KNeighborsClassifier(n_neighbors=i)\n",
    "    neigh.fit(X_train6,y_train6)\n",
    "    pred_knn = neigh.predict(X_test6)\n",
    "    print(i,round(np.sum([y_test6==pred_knn])/len(y_test6),4)*100,\"%\")"
   ]
  },
  {
   "cell_type": "code",
   "execution_count": 76,
   "metadata": {},
   "outputs": [
    {
     "name": "stdout",
     "output_type": "stream",
     "text": [
      "              precision    recall  f1-score   support\n",
      "\n",
      "           0       0.57      0.56      0.57       110\n",
      "           2       0.60      0.61      0.60       100\n",
      "           9       0.58      0.49      0.53       111\n",
      "          11       0.66      0.74      0.70       139\n",
      "\n",
      "    accuracy                           0.61       460\n",
      "   macro avg       0.60      0.60      0.60       460\n",
      "weighted avg       0.61      0.61      0.61       460\n",
      "\n",
      "60.870000000000005 %\n"
     ]
    },
    {
     "data": {
      "image/png": "[encoded data removed]",
      "text/plain": [
       "<Figure size 600x600 with 2 Axes>"
      ]
     },
     "metadata": {},
     "output_type": "display_data"
    }
   ],
   "source": [
    "neigh6 = KNeighborsClassifier(n_neighbors=1)\n",
    "neigh6.fit(X_train6,y_train6)\n",
    "pred_knn6 = neigh6.predict(X_test6)\n",
    "Confusion_Matrix(confusion_matrix(y_test6,pred_knn6))\n",
    "print(classification_report(y_test6, pred_knn6))\n",
    "print(round(np.sum([y_test6==pred_knn6])/len(y_test6),4)*100,\"%\")\n",
    "results.append(['images PCA 100', 'KNN',round(np.sum([y_test6==pred_knn6])/len(y_test6),4)*100 ])"
   ]
  },
  {
   "cell_type": "markdown",
   "metadata": {},
   "source": [
    "#### Adaboost"
   ]
  },
  {
   "cell_type": "code",
   "execution_count": 77,
   "metadata": {},
   "outputs": [
    {
     "name": "stdout",
     "output_type": "stream",
     "text": [
      "50 49.57 %\n",
      "100 48.699999999999996 %\n",
      "150 48.26 %\n",
      "200 50.22 %\n",
      "250 52.61 %\n",
      "300 53.04 %\n",
      "350 52.17 %\n",
      "400 54.779999999999994 %\n",
      "450 56.089999999999996 %\n",
      "500 54.13 %\n",
      "550 54.779999999999994 %\n",
      "600 54.56999999999999 %\n",
      "650 55.00000000000001 %\n",
      "700 53.26 %\n",
      "750 54.779999999999994 %\n",
      "800 54.35 %\n",
      "850 54.779999999999994 %\n",
      "900 54.56999999999999 %\n",
      "950 56.3 %\n",
      "1000 56.74 %\n",
      "1050 56.089999999999996 %\n",
      "1100 54.779999999999994 %\n",
      "1150 55.43 %\n",
      "1200 54.779999999999994 %\n",
      "1250 55.22 %\n",
      "1300 55.87 %\n",
      "1350 55.43 %\n",
      "1400 56.74 %\n",
      "1450 55.65 %\n",
      "1500 55.65 %\n",
      "1550 56.089999999999996 %\n",
      "1600 55.43 %\n",
      "1650 56.089999999999996 %\n",
      "1700 56.96 %\n",
      "1750 57.17 %\n",
      "1800 55.65 %\n",
      "1850 55.22 %\n",
      "1900 55.00000000000001 %\n",
      "1950 55.65 %\n",
      "2000 55.65 %\n"
     ]
    }
   ],
   "source": [
    "for i in range(50,2001,50):\n",
    "    ada = AdaBoostClassifier(n_estimators=i, algorithm=\"SAMME\", random_state=0)\n",
    "    ada.fit(X_train6,y_train6)\n",
    "    pred_ada = ada.predict(X_test6)\n",
    "    print(i,round(np.sum([y_test6==pred_ada])/len(y_test6),4)*100,\"%\")"
   ]
  },
  {
   "cell_type": "code",
   "execution_count": 78,
   "metadata": {},
   "outputs": [
    {
     "name": "stdout",
     "output_type": "stream",
     "text": [
      "              precision    recall  f1-score   support\n",
      "\n",
      "           0       0.45      0.51      0.48       110\n",
      "           2       0.51      0.47      0.49       100\n",
      "           9       0.46      0.44      0.45       111\n",
      "          11       0.74      0.72      0.73       139\n",
      "\n",
      "    accuracy                           0.55       460\n",
      "   macro avg       0.54      0.53      0.54       460\n",
      "weighted avg       0.55      0.55      0.55       460\n",
      "\n",
      "54.779999999999994 %\n"
     ]
    },
    {
     "data": {
      "image/png": "[encoded data removed]",
      "text/plain": [
       "<Figure size 600x600 with 2 Axes>"
      ]
     },
     "metadata": {},
     "output_type": "display_data"
    }
   ],
   "source": [
    "ada6 = AdaBoostClassifier(n_estimators=1200, algorithm=\"SAMME\",random_state=0)\n",
    "ada6.fit(X_train6,y_train6)\n",
    "pred_ada6 = ada6.predict(X_test6)\n",
    "Confusion_Matrix(confusion_matrix(y_test6,pred_ada6))\n",
    "print(classification_report(y_test6, pred_ada6))\n",
    "print(round(np.sum([y_test6==pred_ada6])/len(y_test6),4)*100,\"%\")\n",
    "results.append(['images PCA 100', 'Adaboost',round(np.sum([y_test6==pred_ada6])/len(y_test6),4)*100 ])"
   ]
  },
  {
   "cell_type": "markdown",
   "metadata": {},
   "source": [
    "#### Random Forest"
   ]
  },
  {
   "cell_type": "code",
   "execution_count": 79,
   "metadata": {},
   "outputs": [
    {
     "name": "stdout",
     "output_type": "stream",
     "text": [
      "40 2 58.699999999999996 %\n",
      "40 3 58.91 %\n",
      "40 4 61.739999999999995 %\n",
      "60 2 60.870000000000005 %\n",
      "60 3 63.04 %\n",
      "60 4 62.39 %\n",
      "80 2 60.650000000000006 %\n",
      "80 3 62.39 %\n",
      "80 4 64.78 %\n",
      "100 2 61.519999999999996 %\n",
      "100 3 64.13 %\n",
      "100 4 63.7 %\n",
      "120 2 62.39 %\n",
      "120 3 64.13 %\n",
      "120 4 63.04 %\n",
      "140 2 62.17 %\n",
      "140 3 64.57000000000001 %\n",
      "140 4 64.13 %\n",
      "160 2 61.739999999999995 %\n",
      "160 3 65.42999999999999 %\n",
      "160 4 64.35 %\n",
      "180 2 61.519999999999996 %\n",
      "180 3 65.42999999999999 %\n",
      "180 4 63.260000000000005 %\n",
      "200 2 62.83 %\n",
      "200 3 64.78 %\n",
      "200 4 64.78 %\n",
      "220 2 62.83 %\n",
      "220 3 65.42999999999999 %\n",
      "220 4 64.57000000000001 %\n",
      "240 2 62.17 %\n",
      "240 3 65.22 %\n",
      "240 4 64.35 %\n",
      "260 2 62.83 %\n",
      "260 3 65.86999999999999 %\n",
      "260 4 65.22 %\n",
      "280 2 64.35 %\n",
      "280 3 66.09 %\n",
      "280 4 65.0 %\n",
      "300 2 62.83 %\n",
      "300 3 65.86999999999999 %\n",
      "300 4 65.86999999999999 %\n",
      "320 2 61.96 %\n",
      "320 3 66.3 %\n",
      "320 4 65.42999999999999 %\n",
      "340 2 63.260000000000005 %\n",
      "340 3 66.09 %\n",
      "340 4 65.0 %\n",
      "360 2 63.260000000000005 %\n",
      "360 3 65.42999999999999 %\n",
      "360 4 64.57000000000001 %\n",
      "380 2 63.7 %\n",
      "380 3 66.09 %\n",
      "380 4 65.42999999999999 %\n",
      "400 2 64.13 %\n",
      "400 3 66.3 %\n",
      "400 4 65.86999999999999 %\n",
      "420 2 64.13 %\n",
      "420 3 66.52 %\n",
      "420 4 65.42999999999999 %\n",
      "440 2 63.480000000000004 %\n",
      "440 3 65.64999999999999 %\n",
      "440 4 66.96 %\n",
      "460 2 63.7 %\n",
      "460 3 66.09 %\n",
      "460 4 66.3 %\n",
      "480 2 64.13 %\n",
      "480 3 66.52 %\n",
      "480 4 65.42999999999999 %\n",
      "500 2 63.7 %\n",
      "500 3 65.64999999999999 %\n",
      "500 4 66.09 %\n"
     ]
    }
   ],
   "source": [
    "for i in range(40,501,20):\n",
    "    for j in range(2,5):\n",
    "        RF = RandomForestClassifier(n_estimators=i, max_depth=None,min_samples_split=j, random_state=0)\n",
    "        RF.fit(X_train6,y_train6)\n",
    "        pred_RF = RF.predict(X_test6)\n",
    "        print(i,j,round(np.sum([y_test6==pred_RF])/len(y_test6),4)*100,\"%\")"
   ]
  },
  {
   "cell_type": "code",
   "execution_count": 80,
   "metadata": {},
   "outputs": [
    {
     "name": "stdout",
     "output_type": "stream",
     "text": [
      "              precision    recall  f1-score   support\n",
      "\n",
      "           0       0.53      0.72      0.61       110\n",
      "           2       0.66      0.52      0.58       100\n",
      "           9       0.67      0.49      0.56       111\n",
      "          11       0.70      0.76      0.73       139\n",
      "\n",
      "    accuracy                           0.63       460\n",
      "   macro avg       0.64      0.62      0.62       460\n",
      "weighted avg       0.64      0.63      0.63       460\n",
      "\n",
      "63.04 %\n"
     ]
    },
    {
     "data": {
      "image/png": "[encoded data removed]",
      "text/plain": [
       "<Figure size 600x600 with 2 Axes>"
      ]
     },
     "metadata": {},
     "output_type": "display_data"
    }
   ],
   "source": [
    "RF6 = RandomForestClassifier(n_estimators=120, max_depth=None,min_samples_split=4, random_state=0)\n",
    "RF6.fit(X_train6,y_train6)\n",
    "pred_RF6 = RF6.predict(X_test6)\n",
    "Confusion_Matrix(confusion_matrix(y_test6,pred_RF6))\n",
    "print(classification_report(y_test6, pred_RF6))\n",
    "print(round(np.sum([y_test6==pred_RF6])/len(y_test6),4)*100,\"%\")\n",
    "results.append(['images PCA 100', 'Random Forest',round(np.sum([y_test6==pred_RF6])/len(y_test6),4)*100 ])"
   ]
  },
  {
   "cell_type": "markdown",
   "metadata": {},
   "source": [
    "#### Logistic Regression"
   ]
  },
  {
   "cell_type": "code",
   "execution_count": 81,
   "metadata": {},
   "outputs": [
    {
     "name": "stdout",
     "output_type": "stream",
     "text": [
      "l1 liblinear 0.1 56.089999999999996 %\n",
      "l1 liblinear 0.01 55.43 %\n",
      "l1 liblinear 0.001 54.779999999999994 %\n",
      "l1 saga 0.1 56.96 %\n",
      "l1 saga 0.01 55.87 %\n",
      "l1 saga 0.001 55.65 %\n",
      "l2 lbfgs 0.1 55.87 %\n",
      "l2 lbfgs 0.01 55.87 %\n",
      "l2 lbfgs 0.001 55.87 %\n",
      "l2 liblinear 0.1 54.779999999999994 %\n",
      "l2 liblinear 0.01 55.00000000000001 %\n",
      "l2 liblinear 0.001 54.779999999999994 %\n",
      "l2 newton-cg 0.1 53.910000000000004 %\n",
      "l2 newton-cg 0.01 53.910000000000004 %\n"
     ]
    },
    {
     "name": "stderr",
     "output_type": "stream",
     "text": [
      "c:\\Users\\nechd\\AppData\\Local\\Programs\\Python\\Python310\\lib\\site-packages\\scipy\\optimize\\_linesearch.py:305: LineSearchWarning: The line search algorithm did not converge\n",
      "  warn('The line search algorithm did not converge', LineSearchWarning)\n"
     ]
    },
    {
     "name": "stdout",
     "output_type": "stream",
     "text": [
      "l2 newton-cg 0.001 53.910000000000004 %\n",
      "l2 sag 0.1 56.3 %\n",
      "l2 sag 0.01 55.87 %\n",
      "l2 sag 0.001 55.87 %\n",
      "l2 saga 0.1 56.96 %\n",
      "l2 saga 0.01 55.87 %\n",
      "l2 saga 0.001 55.65 %\n"
     ]
    }
   ],
   "source": [
    "penilties = [\"l1\",\"l2\",\"elasticnet\"]\n",
    "solvers = [\"lbfgs\",\"liblinear\",\"newton-cg\",\"newton-cholesky\",\"sag\",\"saga\"]\n",
    "tols= [0.1 ,0.01, 0.001]\n",
    "\n",
    "for i in penilties:\n",
    "    for j in solvers:\n",
    "        for k in tols:\n",
    "            try:\n",
    "                LR = LogisticRegression(penalty=i, solver=j, tol=k, max_iter=10000,random_state=0)\n",
    "                LR.fit(X_train6,y_train6)\n",
    "                pred_LR = LR.predict(X_test6)\n",
    "                print(i,j,k,round(np.sum([y_test6==pred_LR])/len(y_test6),4)*100,\"%\")\n",
    "            except:\n",
    "                pass\n",
    "        "
   ]
  },
  {
   "cell_type": "code",
   "execution_count": 82,
   "metadata": {},
   "outputs": [
    {
     "name": "stdout",
     "output_type": "stream",
     "text": [
      "              precision    recall  f1-score   support\n",
      "\n",
      "           0       0.52      0.56      0.54       110\n",
      "           2       0.54      0.45      0.49       100\n",
      "           9       0.53      0.33      0.41       111\n",
      "          11       0.63      0.85      0.72       139\n",
      "\n",
      "    accuracy                           0.57       460\n",
      "   macro avg       0.55      0.55      0.54       460\n",
      "weighted avg       0.56      0.57      0.55       460\n",
      "\n",
      "56.96 %\n"
     ]
    },
    {
     "data": {
      "image/png": "[encoded data removed]",
      "text/plain": [
       "<Figure size 600x600 with 2 Axes>"
      ]
     },
     "metadata": {},
     "output_type": "display_data"
    }
   ],
   "source": [
    "LR6 = LogisticRegression(penalty=\"l1\", solver=\"saga\", tol=0.1, max_iter=10000, random_state=0)\n",
    "LR6.fit(X_train6,y_train6)\n",
    "pred_LR6 = LR6.predict(X_test6)\n",
    "Confusion_Matrix(confusion_matrix(y_test6,pred_LR6))\n",
    "print(classification_report(y_test6, pred_LR6))\n",
    "print(round(np.sum([y_test6==pred_LR6])/len(y_test6),4)*100,\"%\")\n",
    "results.append(['images PCA 100', 'Logistic Regression',round(np.sum([y_test6==pred_LR6])/len(y_test6),4)*100 ])"
   ]
  },
  {
   "cell_type": "code",
   "execution_count": null,
   "metadata": {},
   "outputs": [],
   "source": []
  },
  {
   "cell_type": "code",
   "execution_count": null,
   "metadata": {},
   "outputs": [],
   "source": []
  },
  {
   "cell_type": "code",
   "execution_count": null,
   "metadata": {},
   "outputs": [],
   "source": []
  },
  {
   "cell_type": "markdown",
   "metadata": {},
   "source": [
    "# RUN ON DATA SET OF IMAGE PCA 200"
   ]
  },
  {
   "cell_type": "code",
   "execution_count": 83,
   "metadata": {},
   "outputs": [
    {
     "name": "stdout",
     "output_type": "stream",
     "text": [
      "(1073, 200)\n",
      "(460, 200)\n"
     ]
    }
   ],
   "source": [
    "pca2=PCA(n_components=200)\n",
    "X_train7=pca2.fit_transform(X_train)\n",
    "X_test7=pca2.transform(X_test)\n",
    "y_train7 = y_train\n",
    "y_test7 = y_test\n",
    "\n",
    "print(X_train7.shape)\n",
    "print(X_test7.shape)"
   ]
  },
  {
   "cell_type": "markdown",
   "metadata": {},
   "source": [
    "#### SVM"
   ]
  },
  {
   "cell_type": "code",
   "execution_count": 84,
   "metadata": {},
   "outputs": [
    {
     "name": "stdout",
     "output_type": "stream",
     "text": [
      "OneVsOneClassifier\n",
      "hinge l2 51.519999999999996 %\n",
      "squared_hinge l2 51.519999999999996 %\n",
      "OutputCodeClassifier\n",
      "hinge l2 43.7 %\n",
      "squared_hinge l2 48.26 %\n",
      "OneVsRestClassifier\n",
      "hinge l2 42.83 %\n",
      "squared_hinge l2 42.83 %\n"
     ]
    }
   ],
   "source": [
    "losses = [\"hinge\",\"squared_hinge\"]\n",
    "penalties = [\"l1\",\"l2\"]\n",
    "\n",
    "print(\"OneVsOneClassifier\")\n",
    "for i in losses:\n",
    "    for j in penalties:\n",
    "        try:\n",
    "            svm =  OneVsOneClassifier(LinearSVC(random_state=0, loss=i,penalty=j,)).fit(X_train7, y_train7)\n",
    "            pred_svm = svm.predict(X_test7)\n",
    "            print(i,j,round(np.sum([y_test7==pred_svm])/len(y_test7),4)*100,\"%\")\n",
    "        except:\n",
    "            pass\n",
    "\n",
    "print(\"OutputCodeClassifier\")\n",
    "for i in losses:\n",
    "    for j in penalties:\n",
    "        try:\n",
    "            svm =  OutputCodeClassifier(LinearSVC(random_state=0, loss=i,penalty=j,)).fit(X_train7, y_train7)\n",
    "            pred_svm = svm.predict(X_test7)\n",
    "            print(i,j,round(np.sum([y_test7==pred_svm])/len(y_test7),4)*100,\"%\")\n",
    "        except:\n",
    "            pass\n",
    "\n",
    "\n",
    "print(\"OneVsRestClassifier\")\n",
    "for i in losses:\n",
    "    for j in penalties:\n",
    "        try:\n",
    "            svm =  OneVsRestClassifier(LinearSVC(random_state=0, loss=i,penalty=j,)).fit(X_train7, y_train7)\n",
    "            pred_svm = svm.predict(X_test7)\n",
    "            print(i,j,round(np.sum([y_test7==pred_svm])/len(y_test7),4)*100,\"%\")\n",
    "        except:\n",
    "            pass"
   ]
  },
  {
   "cell_type": "code",
   "execution_count": 85,
   "metadata": {},
   "outputs": [
    {
     "name": "stdout",
     "output_type": "stream",
     "text": [
      "              precision    recall  f1-score   support\n",
      "\n",
      "           0       0.45      0.45      0.45       110\n",
      "           2       0.43      0.51      0.47       100\n",
      "           9       0.46      0.36      0.40       111\n",
      "          11       0.66      0.70      0.68       139\n",
      "\n",
      "    accuracy                           0.52       460\n",
      "   macro avg       0.50      0.50      0.50       460\n",
      "weighted avg       0.51      0.52      0.51       460\n",
      "\n",
      "51.519999999999996 %\n"
     ]
    },
    {
     "data": {
      "image/png": "[encoded data removed]",
      "text/plain": [
       "<Figure size 600x600 with 2 Axes>"
      ]
     },
     "metadata": {},
     "output_type": "display_data"
    }
   ],
   "source": [
    "svm7 = OneVsOneClassifier(LinearSVC(random_state=0, loss=\"hinge\",penalty=\"l2\")).fit(X_train7, y_train7)\n",
    "pred_svm7 = svm7.predict(X_test7)\n",
    "Confusion_Matrix(confusion_matrix(y_test7,pred_svm7))\n",
    "print(classification_report(y_test7, pred_svm7))\n",
    "print(round(np.sum([y_test7==pred_svm7])/len(y_test7),4)*100,\"%\")\n",
    "results.append(['images PCA 200', 'SVM',round(np.sum([y_test7==pred_svm7])/len(y_test7),4)*100 ])"
   ]
  },
  {
   "cell_type": "markdown",
   "metadata": {},
   "source": [
    "#### KNN"
   ]
  },
  {
   "cell_type": "code",
   "execution_count": 86,
   "metadata": {},
   "outputs": [
    {
     "name": "stdout",
     "output_type": "stream",
     "text": [
      "1 59.35 %\n",
      "2 54.13 %\n",
      "3 56.74 %\n",
      "4 53.26 %\n",
      "5 51.959999999999994 %\n",
      "6 53.26 %\n",
      "7 55.65 %\n",
      "8 55.43 %\n",
      "9 56.3 %\n",
      "10 58.040000000000006 %\n",
      "11 57.60999999999999 %\n",
      "12 56.089999999999996 %\n",
      "13 54.56999999999999 %\n",
      "14 55.65 %\n",
      "15 55.00000000000001 %\n",
      "16 53.910000000000004 %\n",
      "17 53.7 %\n",
      "18 54.779999999999994 %\n",
      "19 55.00000000000001 %\n",
      "20 54.56999999999999 %\n",
      "21 54.56999999999999 %\n",
      "22 55.22 %\n",
      "23 55.43 %\n",
      "24 55.87 %\n",
      "25 55.87 %\n",
      "26 55.22 %\n",
      "27 54.35 %\n",
      "28 54.13 %\n",
      "29 54.779999999999994 %\n",
      "30 54.13 %\n",
      "31 54.13 %\n",
      "32 54.56999999999999 %\n",
      "33 55.22 %\n",
      "34 54.779999999999994 %\n",
      "35 54.35 %\n",
      "36 55.00000000000001 %\n",
      "37 55.00000000000001 %\n",
      "38 55.22 %\n",
      "39 54.35 %\n",
      "40 54.779999999999994 %\n",
      "41 53.910000000000004 %\n",
      "42 55.22 %\n",
      "43 54.779999999999994 %\n",
      "44 53.480000000000004 %\n",
      "45 53.910000000000004 %\n",
      "46 53.7 %\n",
      "47 53.7 %\n",
      "48 53.480000000000004 %\n",
      "49 52.61 %\n",
      "50 52.61 %\n"
     ]
    }
   ],
   "source": [
    "for i in range(1,51):\n",
    "    neigh = KNeighborsClassifier(n_neighbors=i)\n",
    "    neigh.fit(X_train7,y_train7)\n",
    "    pred_knn = neigh.predict(X_test7)\n",
    "    print(i,round(np.sum([y_test7==pred_knn])/len(y_test7),4)*100,\"%\")"
   ]
  },
  {
   "cell_type": "code",
   "execution_count": 87,
   "metadata": {},
   "outputs": [
    {
     "name": "stdout",
     "output_type": "stream",
     "text": [
      "              precision    recall  f1-score   support\n",
      "\n",
      "           0       0.56      0.54      0.55       110\n",
      "           2       0.61      0.59      0.60       100\n",
      "           9       0.54      0.47      0.50       111\n",
      "          11       0.64      0.74      0.69       139\n",
      "\n",
      "    accuracy                           0.59       460\n",
      "   macro avg       0.59      0.58      0.58       460\n",
      "weighted avg       0.59      0.59      0.59       460\n",
      "\n",
      "59.35 %\n"
     ]
    },
    {
     "data": {
      "image/png": "[encoded data removed]",
      "text/plain": [
       "<Figure size 600x600 with 2 Axes>"
      ]
     },
     "metadata": {},
     "output_type": "display_data"
    }
   ],
   "source": [
    "neigh7 = KNeighborsClassifier(n_neighbors=1)\n",
    "neigh7.fit(X_train7,y_train7)\n",
    "pred_knn7 = neigh7.predict(X_test7)\n",
    "Confusion_Matrix(confusion_matrix(y_test7,pred_knn7))\n",
    "print(classification_report(y_test7, pred_knn7))\n",
    "print(round(np.sum([y_test7==pred_knn7])/len(y_test7),4)*100,\"%\")\n",
    "results.append(['images PCA 200', 'KNN',round(np.sum([y_test7==pred_knn7])/len(y_test7),4)*100 ])"
   ]
  },
  {
   "cell_type": "markdown",
   "metadata": {},
   "source": [
    "#### Adaboost"
   ]
  },
  {
   "cell_type": "code",
   "execution_count": 88,
   "metadata": {},
   "outputs": [
    {
     "name": "stdout",
     "output_type": "stream",
     "text": [
      "50 50.870000000000005 %\n",
      "100 50.22 %\n",
      "150 53.7 %\n",
      "200 53.7 %\n",
      "250 53.04 %\n",
      "300 52.83 %\n",
      "350 53.04 %\n",
      "400 52.61 %\n",
      "450 52.61 %\n",
      "500 52.17 %\n",
      "550 54.13 %\n",
      "600 54.35 %\n",
      "650 55.65 %\n",
      "700 52.83 %\n",
      "750 54.13 %\n",
      "800 52.83 %\n",
      "850 52.17 %\n",
      "900 53.04 %\n",
      "950 54.56999999999999 %\n",
      "1000 52.83 %\n",
      "1050 52.61 %\n",
      "1100 52.39 %\n",
      "1150 53.04 %\n",
      "1200 52.83 %\n",
      "1250 53.26 %\n",
      "1300 51.959999999999994 %\n",
      "1350 51.519999999999996 %\n",
      "1400 51.959999999999994 %\n",
      "1450 51.959999999999994 %\n",
      "1500 52.39 %\n",
      "1550 52.61 %\n",
      "1600 52.61 %\n",
      "1650 52.61 %\n",
      "1700 52.61 %\n",
      "1750 51.959999999999994 %\n",
      "1800 51.300000000000004 %\n",
      "1850 52.17 %\n",
      "1900 50.64999999999999 %\n",
      "1950 51.739999999999995 %\n",
      "2000 51.519999999999996 %\n"
     ]
    }
   ],
   "source": [
    "for i in range(50,2001,50):\n",
    "    ada = AdaBoostClassifier(n_estimators=i, algorithm=\"SAMME\", random_state=0)\n",
    "    ada.fit(X_train7,y_train7)\n",
    "    pred_ada = ada.predict(X_test7)\n",
    "    print(i,round(np.sum([y_test7==pred_ada])/len(y_test7),4)*100,\"%\")"
   ]
  },
  {
   "cell_type": "code",
   "execution_count": 89,
   "metadata": {},
   "outputs": [
    {
     "name": "stdout",
     "output_type": "stream",
     "text": [
      "              precision    recall  f1-score   support\n",
      "\n",
      "           0       0.43      0.51      0.46       110\n",
      "           2       0.48      0.40      0.43       100\n",
      "           9       0.52      0.43      0.47       111\n",
      "          11       0.69      0.76      0.73       139\n",
      "\n",
      "    accuracy                           0.54       460\n",
      "   macro avg       0.53      0.53      0.52       460\n",
      "weighted avg       0.54      0.54      0.54       460\n",
      "\n",
      "54.35 %\n"
     ]
    },
    {
     "data": {
      "image/png": "[encoded data removed]",
      "text/plain": [
       "<Figure size 600x600 with 2 Axes>"
      ]
     },
     "metadata": {},
     "output_type": "display_data"
    }
   ],
   "source": [
    "ada7 = AdaBoostClassifier(n_estimators=600, algorithm=\"SAMME\",random_state=0)\n",
    "ada7.fit(X_train7,y_train7)\n",
    "pred_ada7 = ada7.predict(X_test7)\n",
    "Confusion_Matrix(confusion_matrix(y_test7,pred_ada7))\n",
    "print(classification_report(y_test7, pred_ada7))\n",
    "print(round(np.sum([y_test7==pred_ada7])/len(y_test7),4)*100,\"%\")\n",
    "results.append(['images PCA 200', 'Adaboost',round(np.sum([y_test7==pred_ada7])/len(y_test7),4)*100 ])"
   ]
  },
  {
   "cell_type": "markdown",
   "metadata": {},
   "source": [
    "#### Random Forest"
   ]
  },
  {
   "cell_type": "code",
   "execution_count": 90,
   "metadata": {},
   "outputs": [
    {
     "name": "stdout",
     "output_type": "stream",
     "text": [
      "40 2 57.17 %\n",
      "40 3 57.17 %\n",
      "40 4 59.35 %\n",
      "60 2 58.91 %\n",
      "60 3 58.26 %\n",
      "60 4 59.57 %\n",
      "80 2 60.870000000000005 %\n",
      "80 3 58.91 %\n",
      "80 4 61.3 %\n",
      "100 2 60.870000000000005 %\n",
      "100 3 59.78 %\n",
      "100 4 61.96 %\n",
      "120 2 60.22 %\n",
      "120 3 60.650000000000006 %\n",
      "120 4 62.39 %\n",
      "140 2 62.39 %\n",
      "140 3 60.870000000000005 %\n",
      "140 4 61.3 %\n",
      "160 2 62.17 %\n",
      "160 3 59.78 %\n",
      "160 4 61.96 %\n",
      "180 2 62.61 %\n",
      "180 3 60.870000000000005 %\n",
      "180 4 61.3 %\n",
      "200 2 63.7 %\n",
      "200 3 61.739999999999995 %\n",
      "200 4 60.870000000000005 %\n",
      "220 2 63.260000000000005 %\n",
      "220 3 62.39 %\n",
      "220 4 60.42999999999999 %\n",
      "240 2 64.57000000000001 %\n",
      "240 3 62.17 %\n",
      "240 4 61.09 %\n",
      "260 2 64.13 %\n",
      "260 3 62.83 %\n",
      "260 4 61.3 %\n",
      "280 2 63.480000000000004 %\n",
      "280 3 63.260000000000005 %\n",
      "280 4 62.17 %\n",
      "300 2 63.04 %\n",
      "300 3 63.480000000000004 %\n",
      "300 4 62.39 %\n",
      "320 2 63.04 %\n",
      "320 3 63.260000000000005 %\n",
      "320 4 62.17 %\n",
      "340 2 63.04 %\n",
      "340 3 65.22 %\n",
      "340 4 61.96 %\n",
      "360 2 64.13 %\n",
      "360 3 65.22 %\n",
      "360 4 61.96 %\n",
      "380 2 64.13 %\n",
      "380 3 65.86999999999999 %\n",
      "380 4 61.739999999999995 %\n",
      "400 2 63.480000000000004 %\n",
      "400 3 65.42999999999999 %\n",
      "400 4 61.96 %\n",
      "420 2 63.7 %\n",
      "420 3 64.57000000000001 %\n",
      "420 4 61.519999999999996 %\n",
      "440 2 63.91 %\n",
      "440 3 65.22 %\n",
      "440 4 61.519999999999996 %\n",
      "460 2 62.83 %\n",
      "460 3 64.78 %\n",
      "460 4 60.870000000000005 %\n",
      "480 2 64.35 %\n",
      "480 3 65.0 %\n",
      "480 4 62.61 %\n",
      "500 2 63.91 %\n",
      "500 3 65.22 %\n",
      "500 4 62.39 %\n"
     ]
    }
   ],
   "source": [
    "for i in range(40,501,20):\n",
    "    for j in range(2,5):\n",
    "        RF = RandomForestClassifier(n_estimators=i, max_depth=None,min_samples_split=j, random_state=0)\n",
    "        RF.fit(X_train7,y_train7)\n",
    "        pred_RF = RF.predict(X_test7)\n",
    "        print(i,j,round(np.sum([y_test7==pred_RF])/len(y_test7),4)*100,\"%\")"
   ]
  },
  {
   "cell_type": "code",
   "execution_count": 91,
   "metadata": {},
   "outputs": [
    {
     "name": "stdout",
     "output_type": "stream",
     "text": [
      "              precision    recall  f1-score   support\n",
      "\n",
      "           0       0.53      0.75      0.62       110\n",
      "           2       0.71      0.46      0.56       100\n",
      "           9       0.67      0.52      0.59       111\n",
      "          11       0.68      0.76      0.72       139\n",
      "\n",
      "    accuracy                           0.63       460\n",
      "   macro avg       0.65      0.62      0.62       460\n",
      "weighted avg       0.65      0.63      0.63       460\n",
      "\n",
      "63.480000000000004 %\n"
     ]
    },
    {
     "data": {
      "image/png": "[encoded data removed]",
      "text/plain": [
       "<Figure size 600x600 with 2 Axes>"
      ]
     },
     "metadata": {},
     "output_type": "display_data"
    }
   ],
   "source": [
    "RF7 = RandomForestClassifier(n_estimators=400, max_depth=None,min_samples_split=2, random_state=0)\n",
    "RF7.fit(X_train7,y_train7)\n",
    "pred_RF7 = RF7.predict(X_test7)\n",
    "Confusion_Matrix(confusion_matrix(y_test7,pred_RF7))\n",
    "print(classification_report(y_test7, pred_RF7))\n",
    "print(round(np.sum([y_test7==pred_RF7])/len(y_test7),4)*100,\"%\")\n",
    "results.append(['images PCA 200', 'Random Forest',round(np.sum([y_test7==pred_RF7])/len(y_test7),4)*100 ])"
   ]
  },
  {
   "cell_type": "markdown",
   "metadata": {},
   "source": [
    "#### Logistic Regression"
   ]
  },
  {
   "cell_type": "code",
   "execution_count": 92,
   "metadata": {},
   "outputs": [
    {
     "name": "stdout",
     "output_type": "stream",
     "text": [
      "l1 liblinear 0.1 54.779999999999994 %\n",
      "l1 liblinear 0.01 53.26 %\n",
      "l1 liblinear 0.001 53.04 %\n",
      "l1 saga 0.1 55.87 %\n",
      "l1 saga 0.01 55.65 %\n",
      "l1 saga 0.001 54.13 %\n",
      "l2 lbfgs 0.1 53.7 %\n",
      "l2 lbfgs 0.01 53.7 %\n",
      "l2 lbfgs 0.001 53.7 %\n",
      "l2 liblinear 0.1 54.779999999999994 %\n",
      "l2 liblinear 0.01 54.35 %\n",
      "l2 liblinear 0.001 52.83 %\n",
      "l2 newton-cg 0.1 52.61 %\n",
      "l2 newton-cg 0.01 52.61 %\n",
      "l2 newton-cg 0.001 52.61 %\n",
      "l2 sag 0.1 56.3 %\n",
      "l2 sag 0.01 55.22 %\n",
      "l2 sag 0.001 54.35 %\n",
      "l2 saga 0.1 55.87 %\n",
      "l2 saga 0.01 55.65 %\n",
      "l2 saga 0.001 54.13 %\n"
     ]
    }
   ],
   "source": [
    "penilties = [\"l1\",\"l2\",\"elasticnet\"]\n",
    "solvers = [\"lbfgs\",\"liblinear\",\"newton-cg\",\"newton-cholesky\",\"sag\",\"saga\"]\n",
    "tols= [0.1 ,0.01, 0.001]\n",
    "\n",
    "for i in penilties:\n",
    "    for j in solvers:\n",
    "        for k in tols:\n",
    "            try:\n",
    "                LR = LogisticRegression(penalty=i, solver=j, tol=k, max_iter=10000,random_state=0)\n",
    "                LR.fit(X_train7,y_train7)\n",
    "                pred_LR = LR.predict(X_test7)\n",
    "                print(i,j,k,round(np.sum([y_test7==pred_LR])/len(y_test7),4)*100,\"%\")\n",
    "            except:\n",
    "                pass\n",
    "        "
   ]
  },
  {
   "cell_type": "code",
   "execution_count": 93,
   "metadata": {},
   "outputs": [
    {
     "name": "stdout",
     "output_type": "stream",
     "text": [
      "              precision    recall  f1-score   support\n",
      "\n",
      "           0       0.52      0.49      0.50       110\n",
      "           2       0.52      0.50      0.51       100\n",
      "           9       0.49      0.37      0.42       111\n",
      "          11       0.63      0.80      0.71       139\n",
      "\n",
      "    accuracy                           0.56       460\n",
      "   macro avg       0.54      0.54      0.53       460\n",
      "weighted avg       0.55      0.56      0.55       460\n",
      "\n",
      "55.65 %\n"
     ]
    },
    {
     "data": {
      "image/png": "[encoded data removed]",
      "text/plain": [
       "<Figure size 600x600 with 2 Axes>"
      ]
     },
     "metadata": {},
     "output_type": "display_data"
    }
   ],
   "source": [
    "LR7 = LogisticRegression(penalty=\"l1\", solver=\"saga\", tol=0.01, max_iter=10000, random_state=0)\n",
    "LR7.fit(X_train7,y_train7)\n",
    "pred_LR7 = LR7.predict(X_test7)\n",
    "Confusion_Matrix(confusion_matrix(y_test7,pred_LR7))\n",
    "print(classification_report(y_test7, pred_LR7))\n",
    "print(round(np.sum([y_test7==pred_LR7])/len(y_test7),4)*100,\"%\")\n",
    "results.append(['images PCA 200', 'Logistic Regression',round(np.sum([y_test7==pred_LR7])/len(y_test7),4)*100 ])"
   ]
  },
  {
   "cell_type": "markdown",
   "metadata": {},
   "source": [
    "# RUN ON DATA SET OF IMAGE PCA 500"
   ]
  },
  {
   "cell_type": "code",
   "execution_count": 94,
   "metadata": {},
   "outputs": [
    {
     "name": "stdout",
     "output_type": "stream",
     "text": [
      "(1073, 500)\n",
      "(460, 500)\n"
     ]
    }
   ],
   "source": [
    "pca3=PCA(n_components=500)\n",
    "X_train9=pca3.fit_transform(X_train)\n",
    "X_test9=pca3.transform(X_test)\n",
    "y_train9 = y_train\n",
    "y_test9 = y_test\n",
    "\n",
    "print(X_train9.shape)\n",
    "print(X_test9.shape)"
   ]
  },
  {
   "cell_type": "markdown",
   "metadata": {},
   "source": [
    "#### SVM"
   ]
  },
  {
   "cell_type": "code",
   "execution_count": 95,
   "metadata": {},
   "outputs": [
    {
     "name": "stdout",
     "output_type": "stream",
     "text": [
      "OneVsOneClassifier\n",
      "hinge l2 59.35 %\n",
      "squared_hinge l2 59.35 %\n",
      "OutputCodeClassifier\n",
      "hinge l2 53.910000000000004 %\n",
      "squared_hinge l2 31.52 %\n",
      "OneVsRestClassifier\n",
      "hinge l2 53.910000000000004 %\n",
      "squared_hinge l2 53.910000000000004 %\n"
     ]
    }
   ],
   "source": [
    "losses = [\"hinge\",\"squared_hinge\"]\n",
    "penalties = [\"l1\",\"l2\"]\n",
    "\n",
    "print(\"OneVsOneClassifier\")\n",
    "for i in losses:\n",
    "    for j in penalties:\n",
    "        try:\n",
    "            svm =  OneVsOneClassifier(LinearSVC(random_state=0, loss=i,penalty=j,)).fit(X_train9, y_train9)\n",
    "            pred_svm = svm.predict(X_test9)\n",
    "            print(i,j,round(np.sum([y_test9==pred_svm])/len(y_test9),4)*100,\"%\")\n",
    "        except:\n",
    "            pass\n",
    "\n",
    "print(\"OutputCodeClassifier\")\n",
    "for i in losses:\n",
    "    for j in penalties:\n",
    "        try:\n",
    "            svm =  OutputCodeClassifier(LinearSVC(random_state=0, loss=i,penalty=j,)).fit(X_train9, y_train9)\n",
    "            pred_svm = svm.predict(X_test9)\n",
    "            print(i,j,round(np.sum([y_test9==pred_svm])/len(y_test9),4)*100,\"%\")\n",
    "        except:\n",
    "            pass\n",
    "\n",
    "\n",
    "print(\"OneVsRestClassifier\")\n",
    "for i in losses:\n",
    "    for j in penalties:\n",
    "        try:\n",
    "            svm =  OneVsRestClassifier(LinearSVC(random_state=0, loss=i,penalty=j,)).fit(X_train9, y_train9)\n",
    "            pred_svm = svm.predict(X_test9)\n",
    "            print(i,j,round(np.sum([y_test9==pred_svm])/len(y_test9),4)*100,\"%\")\n",
    "        except:\n",
    "            pass"
   ]
  },
  {
   "cell_type": "code",
   "execution_count": 96,
   "metadata": {},
   "outputs": [
    {
     "name": "stdout",
     "output_type": "stream",
     "text": [
      "              precision    recall  f1-score   support\n",
      "\n",
      "           0       0.60      0.54      0.56       110\n",
      "           2       0.56      0.66      0.61       100\n",
      "           9       0.51      0.41      0.45       111\n",
      "          11       0.66      0.74      0.70       139\n",
      "\n",
      "    accuracy                           0.59       460\n",
      "   macro avg       0.58      0.59      0.58       460\n",
      "weighted avg       0.59      0.59      0.59       460\n",
      "\n",
      "59.35 %\n"
     ]
    },
    {
     "data": {
      "image/png": "[encoded data removed]",
      "text/plain": [
       "<Figure size 600x600 with 2 Axes>"
      ]
     },
     "metadata": {},
     "output_type": "display_data"
    }
   ],
   "source": [
    "svm9 = OneVsOneClassifier(LinearSVC(random_state=0, loss=\"hinge\",penalty=\"l2\")).fit(X_train9, y_train9)\n",
    "pred_svm9 = svm9.predict(X_test9)\n",
    "Confusion_Matrix(confusion_matrix(y_test9,pred_svm9))\n",
    "print(classification_report(y_test9, pred_svm9))\n",
    "print(round(np.sum([y_test9==pred_svm9])/len(y_test9),4)*100,\"%\")\n",
    "results.append(['images PCA 500', 'SVM',round(np.sum([y_test9==pred_svm9])/len(y_test9),4)*100 ])"
   ]
  },
  {
   "cell_type": "markdown",
   "metadata": {},
   "source": [
    "#### KNN"
   ]
  },
  {
   "cell_type": "code",
   "execution_count": 97,
   "metadata": {},
   "outputs": [
    {
     "name": "stdout",
     "output_type": "stream",
     "text": [
      "1 59.13 %\n",
      "2 53.7 %\n",
      "3 55.00000000000001 %\n",
      "4 54.35 %\n",
      "5 54.779999999999994 %\n",
      "6 55.87 %\n",
      "7 56.52 %\n",
      "8 56.089999999999996 %\n",
      "9 57.38999999999999 %\n",
      "10 55.22 %\n",
      "11 55.43 %\n",
      "12 54.56999999999999 %\n",
      "13 54.56999999999999 %\n",
      "14 54.56999999999999 %\n",
      "15 53.480000000000004 %\n",
      "16 53.910000000000004 %\n",
      "17 54.56999999999999 %\n",
      "18 54.56999999999999 %\n",
      "19 54.13 %\n",
      "20 54.779999999999994 %\n",
      "21 54.779999999999994 %\n",
      "22 54.779999999999994 %\n",
      "23 55.00000000000001 %\n",
      "24 53.480000000000004 %\n",
      "25 53.7 %\n",
      "26 53.7 %\n",
      "27 53.26 %\n",
      "28 54.56999999999999 %\n",
      "29 54.13 %\n",
      "30 54.13 %\n",
      "31 53.7 %\n",
      "32 53.26 %\n",
      "33 54.35 %\n",
      "34 54.35 %\n",
      "35 54.56999999999999 %\n",
      "36 53.910000000000004 %\n",
      "37 54.35 %\n",
      "38 53.910000000000004 %\n",
      "39 54.35 %\n",
      "40 53.26 %\n",
      "41 54.13 %\n",
      "42 53.910000000000004 %\n",
      "43 53.7 %\n",
      "44 53.7 %\n",
      "45 53.480000000000004 %\n",
      "46 53.04 %\n",
      "47 53.04 %\n",
      "48 52.61 %\n",
      "49 53.26 %\n",
      "50 53.04 %\n"
     ]
    }
   ],
   "source": [
    "for i in range(1,51):\n",
    "    neigh = KNeighborsClassifier(n_neighbors=i)\n",
    "    neigh.fit(X_train9,y_train9)\n",
    "    pred_knn = neigh.predict(X_test9)\n",
    "    print(i,round(np.sum([y_test9==pred_knn])/len(y_test9),4)*100,\"%\")"
   ]
  },
  {
   "cell_type": "code",
   "execution_count": 98,
   "metadata": {},
   "outputs": [
    {
     "name": "stdout",
     "output_type": "stream",
     "text": [
      "              precision    recall  f1-score   support\n",
      "\n",
      "           0       0.56      0.55      0.55       110\n",
      "           2       0.59      0.60      0.60       100\n",
      "           9       0.52      0.44      0.48       111\n",
      "          11       0.66      0.74      0.70       139\n",
      "\n",
      "    accuracy                           0.59       460\n",
      "   macro avg       0.58      0.58      0.58       460\n",
      "weighted avg       0.59      0.59      0.59       460\n",
      "\n",
      "59.13 %\n"
     ]
    },
    {
     "data": {
      "image/png": "[encoded data removed]",
      "text/plain": [
       "<Figure size 600x600 with 2 Axes>"
      ]
     },
     "metadata": {},
     "output_type": "display_data"
    }
   ],
   "source": [
    "neigh9 = KNeighborsClassifier(n_neighbors=1)\n",
    "neigh9.fit(X_train9,y_train9)\n",
    "pred_knn9 = neigh9.predict(X_test9)\n",
    "Confusion_Matrix(confusion_matrix(y_test9,pred_knn9))\n",
    "print(classification_report(y_test9, pred_knn9))\n",
    "print(round(np.sum([y_test9==pred_knn9])/len(y_test9),4)*100,\"%\")\n",
    "results.append(['images PCA 500', 'KNN',round(np.sum([y_test9==pred_knn9])/len(y_test9),4)*100 ])"
   ]
  },
  {
   "cell_type": "markdown",
   "metadata": {},
   "source": [
    "#### Adaboost"
   ]
  },
  {
   "cell_type": "code",
   "execution_count": 99,
   "metadata": {},
   "outputs": [
    {
     "name": "stdout",
     "output_type": "stream",
     "text": [
      "50 47.61 %\n",
      "100 47.17 %\n",
      "150 47.83 %\n",
      "200 48.699999999999996 %\n",
      "250 51.300000000000004 %\n",
      "300 53.26 %\n",
      "350 53.04 %\n",
      "400 51.09 %\n",
      "450 53.26 %\n",
      "500 51.739999999999995 %\n",
      "550 52.39 %\n",
      "600 53.26 %\n",
      "650 53.910000000000004 %\n",
      "700 55.00000000000001 %\n",
      "750 55.22 %\n",
      "800 54.56999999999999 %\n",
      "850 53.7 %\n",
      "900 52.39 %\n",
      "950 51.519999999999996 %\n",
      "1000 52.83 %\n",
      "1050 52.39 %\n",
      "1100 51.739999999999995 %\n",
      "1150 51.959999999999994 %\n",
      "1200 52.17 %\n",
      "1250 53.04 %\n",
      "1300 53.910000000000004 %\n",
      "1350 53.7 %\n",
      "1400 52.61 %\n",
      "1450 53.7 %\n",
      "1500 53.480000000000004 %\n",
      "1550 53.7 %\n",
      "1600 54.13 %\n",
      "1650 53.480000000000004 %\n",
      "1700 53.04 %\n",
      "1750 53.04 %\n",
      "1800 53.04 %\n",
      "1850 52.61 %\n",
      "1900 53.04 %\n",
      "1950 52.61 %\n",
      "2000 52.17 %\n"
     ]
    }
   ],
   "source": [
    "for i in range(50,2001,50):\n",
    "    ada = AdaBoostClassifier(n_estimators=i, algorithm=\"SAMME\", random_state=0)\n",
    "    ada.fit(X_train9,y_train9)\n",
    "    pred_ada = ada.predict(X_test9)\n",
    "    print(i,round(np.sum([y_test9==pred_ada])/len(y_test9),4)*100,\"%\")"
   ]
  },
  {
   "cell_type": "code",
   "execution_count": 100,
   "metadata": {},
   "outputs": [
    {
     "name": "stdout",
     "output_type": "stream",
     "text": [
      "              precision    recall  f1-score   support\n",
      "\n",
      "           0       0.41      0.37      0.39       110\n",
      "           2       0.46      0.50      0.48       100\n",
      "           9       0.48      0.45      0.46       111\n",
      "          11       0.70      0.74      0.72       139\n",
      "\n",
      "    accuracy                           0.53       460\n",
      "   macro avg       0.51      0.52      0.51       460\n",
      "weighted avg       0.53      0.53      0.53       460\n",
      "\n",
      "53.04 %\n"
     ]
    },
    {
     "data": {
      "image/png": "[encoded data removed]",
      "text/plain": [
       "<Figure size 600x600 with 2 Axes>"
      ]
     },
     "metadata": {},
     "output_type": "display_data"
    }
   ],
   "source": [
    "ada9 = AdaBoostClassifier(n_estimators=1900, algorithm=\"SAMME\",random_state=0)\n",
    "ada9.fit(X_train9,y_train9)\n",
    "pred_ada9 = ada9.predict(X_test9)\n",
    "Confusion_Matrix(confusion_matrix(y_test9,pred_ada9))\n",
    "print(classification_report(y_test9, pred_ada9))\n",
    "print(round(np.sum([y_test9==pred_ada9])/len(y_test9),4)*100,\"%\")\n",
    "results.append(['images PCA 500', 'Adaboost',round(np.sum([y_test9==pred_ada9])/len(y_test9),4)*100 ])"
   ]
  },
  {
   "cell_type": "markdown",
   "metadata": {},
   "source": [
    "#### Random Forest"
   ]
  },
  {
   "cell_type": "code",
   "execution_count": 101,
   "metadata": {},
   "outputs": [
    {
     "name": "stdout",
     "output_type": "stream",
     "text": [
      "40 2 55.87 %\n",
      "40 3 56.96 %\n",
      "40 4 57.17 %\n",
      "60 2 54.13 %\n",
      "60 3 57.830000000000005 %\n",
      "60 4 58.91 %\n",
      "80 2 54.13 %\n",
      "80 3 59.78 %\n",
      "80 4 58.48 %\n",
      "100 2 56.74 %\n",
      "100 3 58.040000000000006 %\n",
      "100 4 60.0 %\n",
      "120 2 58.26 %\n",
      "120 3 58.48 %\n",
      "120 4 59.57 %\n",
      "140 2 59.35 %\n",
      "140 3 59.13 %\n",
      "140 4 61.09 %\n",
      "160 2 58.48 %\n",
      "160 3 59.35 %\n",
      "160 4 61.739999999999995 %\n",
      "180 2 57.60999999999999 %\n",
      "180 3 59.13 %\n",
      "180 4 61.3 %\n",
      "200 2 58.26 %\n",
      "200 3 58.91 %\n",
      "200 4 62.17 %\n",
      "220 2 59.57 %\n",
      "220 3 60.870000000000005 %\n",
      "220 4 62.61 %\n",
      "240 2 58.26 %\n",
      "240 3 60.650000000000006 %\n",
      "240 4 62.61 %\n",
      "260 2 58.26 %\n",
      "260 3 60.650000000000006 %\n",
      "260 4 61.96 %\n",
      "280 2 58.48 %\n",
      "280 3 61.09 %\n",
      "280 4 61.739999999999995 %\n",
      "300 2 58.48 %\n",
      "300 3 61.739999999999995 %\n",
      "300 4 60.22 %\n",
      "320 2 58.040000000000006 %\n",
      "320 3 61.3 %\n",
      "320 4 61.96 %\n",
      "340 2 59.35 %\n",
      "340 3 60.870000000000005 %\n",
      "340 4 61.09 %\n",
      "360 2 59.78 %\n",
      "360 3 60.42999999999999 %\n",
      "360 4 61.3 %\n",
      "380 2 59.57 %\n",
      "380 3 60.0 %\n",
      "380 4 61.739999999999995 %\n",
      "400 2 58.699999999999996 %\n",
      "400 3 60.42999999999999 %\n",
      "400 4 61.09 %\n",
      "420 2 58.48 %\n",
      "420 3 60.22 %\n",
      "420 4 61.519999999999996 %\n",
      "440 2 58.699999999999996 %\n",
      "440 3 59.57 %\n",
      "440 4 60.870000000000005 %\n",
      "460 2 58.91 %\n",
      "460 3 60.0 %\n",
      "460 4 61.519999999999996 %\n",
      "480 2 59.57 %\n",
      "480 3 59.35 %\n",
      "480 4 61.3 %\n",
      "500 2 58.91 %\n",
      "500 3 59.35 %\n",
      "500 4 62.17 %\n"
     ]
    }
   ],
   "source": [
    "for i in range(40,501,20):\n",
    "    for j in range(2,5):\n",
    "        RF = RandomForestClassifier(n_estimators=i, max_depth=None,min_samples_split=j, random_state=0)\n",
    "        RF.fit(X_train9,y_train9)\n",
    "        pred_RF = RF.predict(X_test9)\n",
    "        print(i,j,round(np.sum([y_test9==pred_RF])/len(y_test9),4)*100,\"%\")"
   ]
  },
  {
   "cell_type": "code",
   "execution_count": 102,
   "metadata": {},
   "outputs": [
    {
     "name": "stdout",
     "output_type": "stream",
     "text": [
      "              precision    recall  f1-score   support\n",
      "\n",
      "           0       0.50      0.54      0.52       110\n",
      "           2       0.76      0.45      0.57       100\n",
      "           9       0.50      0.51      0.51       111\n",
      "          11       0.66      0.81      0.72       139\n",
      "\n",
      "    accuracy                           0.59       460\n",
      "   macro avg       0.61      0.58      0.58       460\n",
      "weighted avg       0.61      0.59      0.59       460\n",
      "\n",
      "59.35 %\n"
     ]
    },
    {
     "data": {
      "image/png": "[encoded data removed]",
      "text/plain": [
       "<Figure size 600x600 with 2 Axes>"
      ]
     },
     "metadata": {},
     "output_type": "display_data"
    }
   ],
   "source": [
    "RF9 = RandomForestClassifier(n_estimators=340, max_depth=None,min_samples_split=2, random_state=0)\n",
    "RF9.fit(X_train9,y_train9)\n",
    "pred_RF9 = RF9.predict(X_test9)\n",
    "Confusion_Matrix(confusion_matrix(y_test9,pred_RF9))\n",
    "print(classification_report(y_test9, pred_RF9))\n",
    "print(round(np.sum([y_test9==pred_RF9])/len(y_test9),4)*100,\"%\")\n",
    "results.append(['images PCA 500', 'Random Forest',round(np.sum([y_test9==pred_RF9])/len(y_test9),4)*100 ])"
   ]
  },
  {
   "cell_type": "markdown",
   "metadata": {},
   "source": [
    "#### Logistic Regression"
   ]
  },
  {
   "cell_type": "code",
   "execution_count": 103,
   "metadata": {},
   "outputs": [
    {
     "name": "stdout",
     "output_type": "stream",
     "text": [
      "l1 liblinear 0.1 55.65 %\n",
      "l1 liblinear 0.01 53.480000000000004 %\n",
      "l1 liblinear 0.001 52.61 %\n",
      "l1 saga 0.1 57.17 %\n",
      "l1 saga 0.01 58.040000000000006 %\n",
      "l1 saga 0.001 57.38999999999999 %\n",
      "l2 lbfgs 0.1 55.87 %\n",
      "l2 lbfgs 0.01 56.3 %\n",
      "l2 lbfgs 0.001 56.52 %\n",
      "l2 liblinear 0.1 55.22 %\n",
      "l2 liblinear 0.01 52.39 %\n",
      "l2 liblinear 0.001 53.7 %\n",
      "l2 newton-cg 0.1 56.74 %\n",
      "l2 newton-cg 0.01 56.52 %\n",
      "l2 newton-cg 0.001 56.52 %\n",
      "l2 sag 0.1 58.699999999999996 %\n",
      "l2 sag 0.01 56.52 %\n",
      "l2 sag 0.001 58.26 %\n",
      "l2 saga 0.1 57.17 %\n",
      "l2 saga 0.01 58.040000000000006 %\n",
      "l2 saga 0.001 57.38999999999999 %\n"
     ]
    }
   ],
   "source": [
    "penilties = [\"l1\",\"l2\",\"elasticnet\"]\n",
    "solvers = [\"lbfgs\",\"liblinear\",\"newton-cg\",\"newton-cholesky\",\"sag\",\"saga\"]\n",
    "tols= [0.1 ,0.01, 0.001]\n",
    "\n",
    "for i in penilties:\n",
    "    for j in solvers:\n",
    "        for k in tols:\n",
    "            try:\n",
    "                LR = LogisticRegression(penalty=i, solver=j, tol=k, max_iter=10000,random_state=0)\n",
    "                LR.fit(X_train9,y_train9)\n",
    "                pred_LR = LR.predict(X_test9)\n",
    "                print(i,j,k,round(np.sum([y_test9==pred_LR])/len(y_test9),4)*100,\"%\")\n",
    "            except:\n",
    "                pass\n",
    "        "
   ]
  },
  {
   "cell_type": "code",
   "execution_count": 104,
   "metadata": {},
   "outputs": [
    {
     "name": "stdout",
     "output_type": "stream",
     "text": [
      "              precision    recall  f1-score   support\n",
      "\n",
      "           0       0.54      0.55      0.55       110\n",
      "           2       0.52      0.51      0.52       100\n",
      "           9       0.58      0.40      0.47       111\n",
      "          11       0.66      0.82      0.73       139\n",
      "\n",
      "    accuracy                           0.59       460\n",
      "   macro avg       0.57      0.57      0.57       460\n",
      "weighted avg       0.58      0.59      0.58       460\n",
      "\n",
      "58.699999999999996 %\n"
     ]
    },
    {
     "data": {
      "image/png": "[encoded data removed]",
      "text/plain": [
       "<Figure size 600x600 with 2 Axes>"
      ]
     },
     "metadata": {},
     "output_type": "display_data"
    }
   ],
   "source": [
    "LR9 = LogisticRegression(penalty=\"l2\", solver=\"sag\", tol=0.1, max_iter=10000, random_state=0)\n",
    "LR9.fit(X_train9,y_train9)\n",
    "pred_LR9 = LR9.predict(X_test9)\n",
    "Confusion_Matrix(confusion_matrix(y_test9,pred_LR9))\n",
    "print(classification_report(y_test9, pred_LR9))\n",
    "print(round(np.sum([y_test9==pred_LR9])/len(y_test9),4)*100,\"%\")\n",
    "results.append(['images PCA 500', 'Logistic Regression',round(np.sum([y_test9==pred_LR9])/len(y_test9),4)*100 ])"
   ]
  },
  {
   "cell_type": "code",
   "execution_count": 105,
   "metadata": {},
   "outputs": [],
   "source": [
    "cols = [\"df_type\",\"classifier\",\"accuracy\"]\n",
    "df = pd.DataFrame(results, columns=cols)"
   ]
  },
  {
   "cell_type": "code",
   "execution_count": 106,
   "metadata": {},
   "outputs": [
    {
     "data": {
      "text/html": [
       "<div>\n",
       "<style scoped>\n",
       "    .dataframe tbody tr th:only-of-type {\n",
       "        vertical-align: middle;\n",
       "    }\n",
       "\n",
       "    .dataframe tbody tr th {\n",
       "        vertical-align: top;\n",
       "    }\n",
       "\n",
       "    .dataframe thead th {\n",
       "        text-align: right;\n",
       "    }\n",
       "</style>\n",
       "<table border=\"1\" class=\"dataframe\">\n",
       "  <thead>\n",
       "    <tr style=\"text-align: right;\">\n",
       "      <th></th>\n",
       "      <th>df_type</th>\n",
       "      <th>classifier</th>\n",
       "      <th>accuracy</th>\n",
       "    </tr>\n",
       "  </thead>\n",
       "  <tbody>\n",
       "    <tr>\n",
       "      <th>0</th>\n",
       "      <td>images PCA 100</td>\n",
       "      <td>SVM</td>\n",
       "      <td>47.17</td>\n",
       "    </tr>\n",
       "    <tr>\n",
       "      <th>1</th>\n",
       "      <td>images PCA 100</td>\n",
       "      <td>KNN</td>\n",
       "      <td>60.87</td>\n",
       "    </tr>\n",
       "    <tr>\n",
       "      <th>2</th>\n",
       "      <td>images PCA 100</td>\n",
       "      <td>Adaboost</td>\n",
       "      <td>54.78</td>\n",
       "    </tr>\n",
       "    <tr>\n",
       "      <th>3</th>\n",
       "      <td>images PCA 100</td>\n",
       "      <td>Random Forest</td>\n",
       "      <td>63.04</td>\n",
       "    </tr>\n",
       "    <tr>\n",
       "      <th>4</th>\n",
       "      <td>images PCA 100</td>\n",
       "      <td>Logistic Regression</td>\n",
       "      <td>56.96</td>\n",
       "    </tr>\n",
       "    <tr>\n",
       "      <th>5</th>\n",
       "      <td>images PCA 200</td>\n",
       "      <td>SVM</td>\n",
       "      <td>51.52</td>\n",
       "    </tr>\n",
       "    <tr>\n",
       "      <th>6</th>\n",
       "      <td>images PCA 200</td>\n",
       "      <td>KNN</td>\n",
       "      <td>59.35</td>\n",
       "    </tr>\n",
       "    <tr>\n",
       "      <th>7</th>\n",
       "      <td>images PCA 200</td>\n",
       "      <td>Adaboost</td>\n",
       "      <td>54.35</td>\n",
       "    </tr>\n",
       "    <tr>\n",
       "      <th>8</th>\n",
       "      <td>images PCA 200</td>\n",
       "      <td>Random Forest</td>\n",
       "      <td>63.48</td>\n",
       "    </tr>\n",
       "    <tr>\n",
       "      <th>9</th>\n",
       "      <td>images PCA 200</td>\n",
       "      <td>Logistic Regression</td>\n",
       "      <td>55.65</td>\n",
       "    </tr>\n",
       "    <tr>\n",
       "      <th>10</th>\n",
       "      <td>images PCA 500</td>\n",
       "      <td>SVM</td>\n",
       "      <td>59.35</td>\n",
       "    </tr>\n",
       "    <tr>\n",
       "      <th>11</th>\n",
       "      <td>images PCA 500</td>\n",
       "      <td>KNN</td>\n",
       "      <td>59.13</td>\n",
       "    </tr>\n",
       "    <tr>\n",
       "      <th>12</th>\n",
       "      <td>images PCA 500</td>\n",
       "      <td>Adaboost</td>\n",
       "      <td>53.04</td>\n",
       "    </tr>\n",
       "    <tr>\n",
       "      <th>13</th>\n",
       "      <td>images PCA 500</td>\n",
       "      <td>Random Forest</td>\n",
       "      <td>59.35</td>\n",
       "    </tr>\n",
       "    <tr>\n",
       "      <th>14</th>\n",
       "      <td>images PCA 500</td>\n",
       "      <td>Logistic Regression</td>\n",
       "      <td>58.70</td>\n",
       "    </tr>\n",
       "  </tbody>\n",
       "</table>\n",
       "</div>"
      ],
      "text/plain": [
       "           df_type           classifier  accuracy\n",
       "0   images PCA 100                  SVM     47.17\n",
       "1   images PCA 100                  KNN     60.87\n",
       "2   images PCA 100             Adaboost     54.78\n",
       "3   images PCA 100        Random Forest     63.04\n",
       "4   images PCA 100  Logistic Regression     56.96\n",
       "5   images PCA 200                  SVM     51.52\n",
       "6   images PCA 200                  KNN     59.35\n",
       "7   images PCA 200             Adaboost     54.35\n",
       "8   images PCA 200        Random Forest     63.48\n",
       "9   images PCA 200  Logistic Regression     55.65\n",
       "10  images PCA 500                  SVM     59.35\n",
       "11  images PCA 500                  KNN     59.13\n",
       "12  images PCA 500             Adaboost     53.04\n",
       "13  images PCA 500        Random Forest     59.35\n",
       "14  images PCA 500  Logistic Regression     58.70"
      ]
     },
     "execution_count": 106,
     "metadata": {},
     "output_type": "execute_result"
    }
   ],
   "source": [
    "df"
   ]
  },
  {
   "cell_type": "code",
   "execution_count": 107,
   "metadata": {},
   "outputs": [],
   "source": [
    "import pickle\n",
    "filenames = ['svm6.sav','knn6.sav','ada6.sav','RF6.sav','LR6.sav',\n",
    "             'svm7.sav','knn7.sav','ada7.sav','RF7.sav','LR7.sav',\n",
    "             'svm9.sav','knn9.sav','ada9.sav','RF9.sav','LR9.sav']\n",
    "models= [svm6,neigh6,ada6,RF6,LR6,\n",
    "        svm7,neigh7,ada7,RF7,LR7,\n",
    "        svm9,neigh9,ada9,RF9,LR9]\n",
    "\n",
    "for i in range(len(filenames)): \n",
    "    pickle.dump(models[i], open(filenames[i], 'wb'))"
   ]
  },
  {
   "cell_type": "code",
   "execution_count": null,
   "metadata": {},
   "outputs": [],
   "source": []
  }
 ],
 "metadata": {
  "kernelspec": {
   "display_name": "Python 3",
   "language": "python",
   "name": "python3"
  },
  "language_info": {
   "codemirror_mode": {
    "name": "ipython",
    "version": 3
   },
   "file_extension": ".py",
   "mimetype": "text/x-python",
   "name": "python",
   "nbconvert_exporter": "python",
   "pygments_lexer": "ipython3",
   "version": "3.10.8"
  }
 },
 "nbformat": 4,
 "nbformat_minor": 2
}
