{
 "cells": [
  {
   "cell_type": "markdown",
   "metadata": {},
   "source": [
    "# ML class final project part3\n",
    "##  Almog Shor\n",
    "## Yehudit Brickner"
   ]
  },
  {
   "cell_type": "markdown",
   "metadata": {},
   "source": [
    "imports"
   ]
  },
  {
   "cell_type": "code",
   "execution_count": 1,
   "metadata": {},
   "outputs": [],
   "source": [
    "import os\n",
    "import cv2 \n",
    "import numpy as np\n",
    "import matplotlib.pyplot as plt \n",
    "import pandas as pd\n",
    "import seaborn as sns\n",
    "import time\n",
    "\n",
    "from sklearn.metrics import confusion_matrix\n",
    "from sklearn.model_selection import train_test_split\n",
    "from sklearn.metrics import classification_report\n",
    "\n",
    "from sklearn.decomposition import PCA\n",
    "\n",
    "import warnings\n",
    "warnings.filterwarnings(action='ignore', category=UserWarning)"
   ]
  },
  {
   "cell_type": "markdown",
   "metadata": {},
   "source": [
    "create the data set with all of the features"
   ]
  },
  {
   "cell_type": "code",
   "execution_count": 2,
   "metadata": {},
   "outputs": [],
   "source": [
    "def create_df1(folder):\n",
    "\n",
    "    folder_dir= os.listdir(folder)\n",
    "    \n",
    "    big_list=[]\n",
    "    my_list=[]\n",
    "    count=0\n",
    "    c=0\n",
    "    for i in folder_dir:\n",
    "        print(i)\n",
    "        j = os.listdir(folder+\"/\"+i)\n",
    "        if i in ['american_football','basketball','hockey_puck','shuttlecock']:\n",
    "            for k in range(len(j)):\n",
    "                try:\n",
    "                    img = cv2.imread(folder+\"/\"+i+\"/\"+j[k], cv2.COLOR_BGR2RGB)\n",
    "                    img = cv2.resize(img,(200,200), interpolation = cv2.INTER_AREA)\n",
    "                    \n",
    "                    # histogram_r, bin_edges = np.histogram(img[:, :, 0], bins=256, range=(0, 256)) \n",
    "                    # histogram_g, bin_edges = np.histogram(img[:, :, 1], bins=256, range=(0, 256)) \n",
    "                    # histogram_b, bin_edges = np.histogram(img[:, :, 2], bins=256, range=(0, 256)) \n",
    "                    \n",
    "                    # dst = cv2.Canny(img, 50, 200, None, 3)\n",
    "                    # dst1 = cv2.Canny(img, 50, 200, None, 3)\n",
    "                    # lines = cv2.HoughLines(dst1, 1, np.pi / 180, 50, None, 0, 0)\n",
    "                    \n",
    "                    # gray = cv2.imread(folder+\"/\"+i+\"/\"+j[k],cv2.IMREAD_GRAYSCALE)\n",
    "                    # gray =  cv2.resize(gray,(200,200), interpolation = cv2.INTER_AREA)\n",
    "                    # gray = cv2.medianBlur(gray, 5)\n",
    "                    # rows = gray.shape[0]\n",
    "                    # circles = cv2.HoughCircles(gray, cv2.HOUGH_GRADIENT, 1, rows / 8,\n",
    "                    #                 param1=100, param2=30,\n",
    "                    #                 minRadius=10, maxRadius=100)\n",
    "                    \n",
    "                    my_list=[]\n",
    "                    my_list.append(folder+\"/\"+i+\"/\"+j[k])\n",
    "                    my_list.append(i)\n",
    "                    my_list.append(c)\n",
    "                    # if lines is None:\n",
    "                    #     my_list.append(0)\n",
    "                    #     my_list.append(0)   \n",
    "                    # else:\n",
    "                    #     my_list.append(1)\n",
    "                    #     my_list.append(len(lines))\n",
    "                    # if circles is None:\n",
    "                    #     my_list.append(0)\n",
    "                    #     my_list.append(0)   \n",
    "                    # else:\n",
    "                    #     my_list.append(1)\n",
    "                    #     my_list.append(circles.shape[1])\n",
    "                    \n",
    "                    # my_list.extend(histogram_r)\n",
    "                    # my_list.extend(histogram_g)\n",
    "                    # my_list.extend(histogram_b)\n",
    "                    my_list.extend(img.flatten())\n",
    "                    # my_list.extend(dst.flatten())\n",
    "\n",
    "                    big_list.append(my_list)\n",
    "                    count+=1\n",
    "                    \n",
    "                except:\n",
    "                    print(\"there was an error with count \",count)\n",
    "\n",
    "        c+=1\n",
    "\n",
    "    \n",
    "    print(\"creating df\")\n",
    "    # cols = ['path','class_name','class_number','lines?','#lines','circles?','#circles']\n",
    "    cols = ['path','class_name','class_number']\n",
    "    # for h in range(256):\n",
    "    #     cols.append(\"r\"+str(h))\n",
    "    # for h in range(256):\n",
    "    #     cols.append(\"g\"+str(h))\n",
    "    # for h in range(256):\n",
    "    #     cols.append(\"b\"+str(h))\n",
    "    for h in range(200*200*3):\n",
    "        cols.append(\"i\"+str(h))\n",
    "    # for h in range(200*200):\n",
    "    #     cols.append(\"e\"+str(h))\n",
    "\n",
    "    df = pd.DataFrame(big_list, columns = cols) \n",
    "\n",
    "    print(\"created df\")\n",
    "              \n",
    "    return df"
   ]
  },
  {
   "cell_type": "code",
   "execution_count": 3,
   "metadata": {},
   "outputs": [],
   "source": [
    "# folder =\"C:/Users/nechd/Downloads/ball_classification/train\"\n",
    "# start_time = time.time()\n",
    "# full_ball_edge_df = create_df1(folder) \n",
    "# end_time = time.time()\n",
    "# print(\"time taken: \",end_time - start_time)"
   ]
  },
  {
   "cell_type": "code",
   "execution_count": 4,
   "metadata": {},
   "outputs": [],
   "source": [
    "# full_ball_edge_df.shape\n",
    "# full_ball_edge_df.head()"
   ]
  },
  {
   "cell_type": "code",
   "execution_count": 5,
   "metadata": {},
   "outputs": [],
   "source": [
    "# full_ball_edge_df.to_csv('image.csv', index=False)"
   ]
  },
  {
   "cell_type": "code",
   "execution_count": 6,
   "metadata": {},
   "outputs": [],
   "source": [
    "# folder =\"C:/Users/nechd/Downloads/ball_classification/test\"\n",
    "# start_time = time.time()\n",
    "# full_test_df = create_df1(folder) \n",
    "# end_time = time.time()\n",
    "# print(\"time taken: \",end_time - start_time)"
   ]
  },
  {
   "cell_type": "code",
   "execution_count": 7,
   "metadata": {},
   "outputs": [],
   "source": [
    "# full_test_df.to_csv('final_test_data_image.csv', index=False)"
   ]
  },
  {
   "cell_type": "markdown",
   "metadata": {},
   "source": [
    "import the data with some/all features"
   ]
  },
  {
   "cell_type": "code",
   "execution_count": 8,
   "metadata": {},
   "outputs": [
    {
     "name": "stdout",
     "output_type": "stream",
     "text": [
      "(1543, 120001)\n",
      "(1533, 120001)\n"
     ]
    }
   ],
   "source": [
    "image = pd.read_csv('image.csv')\n",
    "del image['path']\n",
    "del image['class_name']\n",
    "ball_type = [0,2,9,11]\n",
    "edge_4balls = image.loc[image['class_number'].isin(ball_type)]\n",
    "print(edge_4balls.shape)\n",
    "edge_4balls_no_na = edge_4balls.dropna()\n",
    "print(edge_4balls_no_na.shape)"
   ]
  },
  {
   "cell_type": "code",
   "execution_count": 9,
   "metadata": {},
   "outputs": [],
   "source": [
    "X = edge_4balls_no_na.drop(['class_number'], axis=1)\n",
    "y = edge_4balls_no_na['class_number']"
   ]
  },
  {
   "cell_type": "markdown",
   "metadata": {},
   "source": [
    "train test split"
   ]
  },
  {
   "cell_type": "code",
   "execution_count": 10,
   "metadata": {},
   "outputs": [],
   "source": [
    "X_train, X_test, y_train, y_test = train_test_split(X, y, test_size=0.3, random_state=42)"
   ]
  },
  {
   "cell_type": "code",
   "execution_count": 11,
   "metadata": {},
   "outputs": [
    {
     "name": "stdout",
     "output_type": "stream",
     "text": [
      "(1073, 146)\n",
      "(460, 146)\n"
     ]
    }
   ],
   "source": [
    "pca1=PCA(n_components=0.9)\n",
    "X_train6=pca1.fit_transform(X_train)\n",
    "X_test6=pca1.transform(X_test)\n",
    "y_train6 = y_train\n",
    "y_test6 = y_test\n",
    "\n",
    "print(X_train6.shape)\n",
    "print(X_test6.shape)"
   ]
  },
  {
   "cell_type": "markdown",
   "metadata": {},
   "source": [
    "extra functions"
   ]
  },
  {
   "cell_type": "code",
   "execution_count": 12,
   "metadata": {},
   "outputs": [],
   "source": [
    "# function to represent the confusion matrix nicely\n",
    "def Confusion_Matrix(cf_matrix):\n",
    "    plt.figure(figsize=(6,6))\n",
    "    sns.heatmap(cf_matrix, annot=True, fmt='', cmap='Greens')"
   ]
  },
  {
   "cell_type": "code",
   "execution_count": 13,
   "metadata": {},
   "outputs": [],
   "source": [
    "# list to hold all final results\n",
    "results=[]"
   ]
  },
  {
   "cell_type": "code",
   "execution_count": null,
   "metadata": {},
   "outputs": [],
   "source": []
  },
  {
   "cell_type": "markdown",
   "metadata": {},
   "source": [
    "model imports"
   ]
  },
  {
   "cell_type": "code",
   "execution_count": 14,
   "metadata": {},
   "outputs": [],
   "source": [
    "from sklearn.multiclass import OneVsOneClassifier\n",
    "from sklearn.multiclass import OutputCodeClassifier\n",
    "from sklearn.multiclass import OneVsRestClassifier\n",
    "from sklearn.svm import LinearSVC\n",
    "\n",
    "from sklearn.neighbors import KNeighborsClassifier\n",
    "\n",
    "from sklearn.ensemble import AdaBoostClassifier\n",
    "\n",
    "from sklearn.ensemble import RandomForestClassifier\n",
    "\n",
    "from sklearn.linear_model import LogisticRegression\n",
    "\n"
   ]
  },
  {
   "cell_type": "markdown",
   "metadata": {},
   "source": [
    "# RUN ON DATA SET OF IMAGE PCA 0.9"
   ]
  },
  {
   "cell_type": "markdown",
   "metadata": {},
   "source": [
    "#### SVM"
   ]
  },
  {
   "cell_type": "code",
   "execution_count": 15,
   "metadata": {},
   "outputs": [
    {
     "name": "stdout",
     "output_type": "stream",
     "text": [
      "OneVsOneClassifier\n",
      "hinge l2 47.61 %\n",
      "squared_hinge l2 47.61 %\n",
      "OutputCodeClassifier\n",
      "hinge l2 43.04 %\n",
      "squared_hinge l2 31.96 %\n",
      "OneVsRestClassifier\n",
      "hinge l2 47.39 %\n",
      "squared_hinge l2 47.39 %\n"
     ]
    }
   ],
   "source": [
    "losses = [\"hinge\",\"squared_hinge\"]\n",
    "penalties = [\"l1\",\"l2\"]\n",
    "\n",
    "print(\"OneVsOneClassifier\")\n",
    "for i in losses:\n",
    "    for j in penalties:\n",
    "        try:\n",
    "            svm =  OneVsOneClassifier(LinearSVC(random_state=0, loss=i,penalty=j,)).fit(X_train6, y_train6)\n",
    "            pred_svm = svm.predict(X_test6)\n",
    "            print(i,j,round(np.sum([y_test6==pred_svm])/len(y_test6),4)*100,\"%\")\n",
    "        except:\n",
    "            pass\n",
    "\n",
    "print(\"OutputCodeClassifier\")\n",
    "for i in losses:\n",
    "    for j in penalties:\n",
    "        try:\n",
    "            svm =  OutputCodeClassifier(LinearSVC(random_state=0, loss=i,penalty=j,)).fit(X_train6, y_train6)\n",
    "            pred_svm = svm.predict(X_test6)\n",
    "            print(i,j,round(np.sum([y_test6==pred_svm])/len(y_test6),4)*100,\"%\")\n",
    "        except:\n",
    "            pass\n",
    "\n",
    "\n",
    "print(\"OneVsRestClassifier\")\n",
    "for i in losses:\n",
    "    for j in penalties:\n",
    "        try:\n",
    "            svm =  OneVsRestClassifier(LinearSVC(random_state=0, loss=i,penalty=j,)).fit(X_train6, y_train6)\n",
    "            pred_svm = svm.predict(X_test6)\n",
    "            print(i,j,round(np.sum([y_test6==pred_svm])/len(y_test6),4)*100,\"%\")\n",
    "        except:\n",
    "            pass"
   ]
  },
  {
   "cell_type": "code",
   "execution_count": 16,
   "metadata": {},
   "outputs": [
    {
     "name": "stdout",
     "output_type": "stream",
     "text": [
      "              precision    recall  f1-score   support\n",
      "\n",
      "           0       0.44      0.51      0.47       110\n",
      "           2       0.26      0.33      0.29       100\n",
      "           9       0.00      0.00      0.00       111\n",
      "          11       0.45      0.66      0.54       139\n",
      "\n",
      "    accuracy                           0.39       460\n",
      "   macro avg       0.29      0.38      0.32       460\n",
      "weighted avg       0.30      0.39      0.34       460\n",
      "\n",
      "39.35 %\n"
     ]
    },
    {
     "data": {
      "image/png": "[encoded data removed]",
      "text/plain": [
       "<Figure size 600x600 with 2 Axes>"
      ]
     },
     "metadata": {},
     "output_type": "display_data"
    }
   ],
   "source": [
    "svm6 =  OutputCodeClassifier(LinearSVC(random_state=0, loss=\"hinge\",penalty=\"l2\")).fit(X_train6, y_train6)\n",
    "pred_svm6 = svm6.predict(X_test6)\n",
    "Confusion_Matrix(confusion_matrix(y_test6,pred_svm6))\n",
    "print(classification_report(y_test6, pred_svm6))\n",
    "print(round(np.sum([y_test6==pred_svm6])/len(y_test6),4)*100,\"%\")\n",
    "results.append(['images PCA 0.9', 'SVM',round(np.sum([y_test6==pred_svm6])/len(y_test6),4)*100 ])"
   ]
  },
  {
   "cell_type": "markdown",
   "metadata": {},
   "source": [
    "#### KNN"
   ]
  },
  {
   "cell_type": "code",
   "execution_count": 17,
   "metadata": {},
   "outputs": [
    {
     "name": "stdout",
     "output_type": "stream",
     "text": [
      "1 60.42999999999999 %\n",
      "2 55.87 %\n",
      "3 56.52 %\n",
      "4 53.7 %\n",
      "5 52.83 %\n",
      "6 53.04 %\n",
      "7 55.22 %\n",
      "8 55.22 %\n",
      "9 56.52 %\n",
      "10 57.60999999999999 %\n",
      "11 56.3 %\n",
      "12 55.87 %\n",
      "13 55.43 %\n",
      "14 55.22 %\n",
      "15 53.910000000000004 %\n",
      "16 55.00000000000001 %\n",
      "17 55.00000000000001 %\n",
      "18 55.00000000000001 %\n",
      "19 54.35 %\n",
      "20 53.910000000000004 %\n",
      "21 54.35 %\n",
      "22 55.65 %\n",
      "23 55.43 %\n",
      "24 55.43 %\n",
      "25 56.089999999999996 %\n",
      "26 56.089999999999996 %\n",
      "27 55.00000000000001 %\n",
      "28 55.00000000000001 %\n",
      "29 54.13 %\n",
      "30 54.56999999999999 %\n",
      "31 54.56999999999999 %\n",
      "32 55.22 %\n",
      "33 53.910000000000004 %\n",
      "34 54.56999999999999 %\n",
      "35 54.56999999999999 %\n",
      "36 54.779999999999994 %\n",
      "37 54.779999999999994 %\n",
      "38 54.779999999999994 %\n",
      "39 54.56999999999999 %\n",
      "40 54.56999999999999 %\n",
      "41 54.35 %\n",
      "42 54.56999999999999 %\n",
      "43 54.56999999999999 %\n",
      "44 54.56999999999999 %\n",
      "45 54.13 %\n",
      "46 53.910000000000004 %\n",
      "47 53.04 %\n",
      "48 51.959999999999994 %\n",
      "49 52.61 %\n",
      "50 52.39 %\n"
     ]
    }
   ],
   "source": [
    "for i in range(1,51):\n",
    "    neigh = KNeighborsClassifier(n_neighbors=i)\n",
    "    neigh.fit(X_train6,y_train6)\n",
    "    pred_knn = neigh.predict(X_test6)\n",
    "    print(i,round(np.sum([y_test6==pred_knn])/len(y_test6),4)*100,\"%\")"
   ]
  },
  {
   "cell_type": "code",
   "execution_count": 18,
   "metadata": {},
   "outputs": [
    {
     "name": "stdout",
     "output_type": "stream",
     "text": [
      "              precision    recall  f1-score   support\n",
      "\n",
      "           0       0.58      0.57      0.58       110\n",
      "           2       0.62      0.60      0.61       100\n",
      "           9       0.56      0.48      0.51       111\n",
      "          11       0.64      0.73      0.68       139\n",
      "\n",
      "    accuracy                           0.60       460\n",
      "   macro avg       0.60      0.60      0.60       460\n",
      "weighted avg       0.60      0.60      0.60       460\n",
      "\n",
      "60.42999999999999 %\n"
     ]
    },
    {
     "data": {
      "image/png": "[encoded data removed]",
      "text/plain": [
       "<Figure size 600x600 with 2 Axes>"
      ]
     },
     "metadata": {},
     "output_type": "display_data"
    }
   ],
   "source": [
    "neigh6 = KNeighborsClassifier(n_neighbors=1)\n",
    "neigh6.fit(X_train6,y_train6)\n",
    "pred_knn6 = neigh6.predict(X_test6)\n",
    "Confusion_Matrix(confusion_matrix(y_test6,pred_knn6))\n",
    "print(classification_report(y_test6, pred_knn6))\n",
    "print(round(np.sum([y_test6==pred_knn6])/len(y_test6),4)*100,\"%\")\n",
    "results.append(['images PCA 0.9', 'KNN',round(np.sum([y_test6==pred_knn6])/len(y_test6),4)*100 ])"
   ]
  },
  {
   "cell_type": "markdown",
   "metadata": {},
   "source": [
    "#### Adaboost"
   ]
  },
  {
   "cell_type": "code",
   "execution_count": 19,
   "metadata": {},
   "outputs": [
    {
     "name": "stdout",
     "output_type": "stream",
     "text": [
      "50 49.57 %\n",
      "100 48.26 %\n",
      "150 51.959999999999994 %\n",
      "200 52.83 %\n",
      "250 52.39 %\n",
      "300 53.7 %\n",
      "350 53.7 %\n",
      "400 53.7 %\n",
      "450 53.910000000000004 %\n",
      "500 52.61 %\n",
      "550 54.13 %\n",
      "600 54.13 %\n",
      "650 55.22 %\n",
      "700 54.56999999999999 %\n",
      "750 54.13 %\n",
      "800 53.26 %\n",
      "850 53.04 %\n",
      "900 53.480000000000004 %\n",
      "950 53.04 %\n",
      "1000 53.26 %\n",
      "1050 53.26 %\n",
      "1100 55.00000000000001 %\n",
      "1150 55.43 %\n",
      "1200 54.56999999999999 %\n",
      "1250 54.779999999999994 %\n",
      "1300 55.00000000000001 %\n",
      "1350 53.910000000000004 %\n",
      "1400 55.22 %\n",
      "1450 54.13 %\n",
      "1500 52.83 %\n",
      "1550 53.26 %\n",
      "1600 54.35 %\n",
      "1650 54.779999999999994 %\n",
      "1700 54.56999999999999 %\n",
      "1750 54.779999999999994 %\n",
      "1800 54.13 %\n",
      "1850 54.56999999999999 %\n",
      "1900 54.35 %\n",
      "1950 54.56999999999999 %\n",
      "2000 54.13 %\n"
     ]
    }
   ],
   "source": [
    "for i in range(50,2001,50):\n",
    "    ada = AdaBoostClassifier(n_estimators=i, algorithm=\"SAMME\", random_state=0)\n",
    "    ada.fit(X_train6,y_train6)\n",
    "    pred_ada = ada.predict(X_test6)\n",
    "    print(i,round(np.sum([y_test6==pred_ada])/len(y_test6),4)*100,\"%\")"
   ]
  },
  {
   "cell_type": "code",
   "execution_count": 20,
   "metadata": {},
   "outputs": [
    {
     "name": "stdout",
     "output_type": "stream",
     "text": [
      "              precision    recall  f1-score   support\n",
      "\n",
      "           0       0.47      0.56      0.51       110\n",
      "           2       0.53      0.50      0.52       100\n",
      "           9       0.46      0.41      0.44       111\n",
      "          11       0.72      0.70      0.71       139\n",
      "\n",
      "    accuracy                           0.55       460\n",
      "   macro avg       0.55      0.54      0.54       460\n",
      "weighted avg       0.56      0.55      0.55       460\n",
      "\n",
      "55.43 %\n"
     ]
    },
    {
     "data": {
      "image/png": "[encoded data removed]",
      "text/plain": [
       "<Figure size 600x600 with 2 Axes>"
      ]
     },
     "metadata": {},
     "output_type": "display_data"
    }
   ],
   "source": [
    "ada6 = AdaBoostClassifier(n_estimators=1150, algorithm=\"SAMME\",random_state=0)\n",
    "ada6.fit(X_train6,y_train6)\n",
    "pred_ada6 = ada6.predict(X_test6)\n",
    "Confusion_Matrix(confusion_matrix(y_test6,pred_ada6))\n",
    "print(classification_report(y_test6, pred_ada6))\n",
    "print(round(np.sum([y_test6==pred_ada6])/len(y_test6),4)*100,\"%\")\n",
    "results.append(['images PCA 0.9', 'Adaboost',round(np.sum([y_test6==pred_ada6])/len(y_test6),4)*100 ])"
   ]
  },
  {
   "cell_type": "markdown",
   "metadata": {},
   "source": [
    "#### Random Forest"
   ]
  },
  {
   "cell_type": "code",
   "execution_count": 21,
   "metadata": {},
   "outputs": [
    {
     "name": "stdout",
     "output_type": "stream",
     "text": [
      "40 2 57.17 %\n",
      "40 3 61.09 %\n",
      "40 4 58.699999999999996 %\n",
      "60 2 57.38999999999999 %\n",
      "60 3 61.739999999999995 %\n",
      "60 4 60.0 %\n",
      "80 2 60.22 %\n",
      "80 3 61.96 %\n",
      "80 4 60.42999999999999 %\n",
      "100 2 60.22 %\n",
      "100 3 61.96 %\n",
      "100 4 60.870000000000005 %\n",
      "120 2 61.3 %\n",
      "120 3 62.61 %\n",
      "120 4 62.61 %\n",
      "140 2 63.04 %\n",
      "140 3 64.13 %\n",
      "140 4 62.61 %\n",
      "160 2 64.35 %\n",
      "160 3 66.09 %\n",
      "160 4 63.04 %\n",
      "180 2 62.83 %\n",
      "180 3 64.57000000000001 %\n",
      "180 4 62.61 %\n",
      "200 2 62.61 %\n",
      "200 3 64.57000000000001 %\n",
      "200 4 62.39 %\n",
      "220 2 64.13 %\n",
      "220 3 65.0 %\n",
      "220 4 62.17 %\n",
      "240 2 63.480000000000004 %\n",
      "240 3 65.22 %\n",
      "240 4 62.61 %\n",
      "260 2 62.39 %\n",
      "260 3 65.22 %\n",
      "260 4 62.83 %\n",
      "280 2 63.260000000000005 %\n",
      "280 3 66.3 %\n",
      "280 4 62.17 %\n",
      "300 2 62.83 %\n",
      "300 3 66.74 %\n",
      "300 4 62.83 %\n",
      "320 2 63.7 %\n",
      "320 3 66.09 %\n",
      "320 4 62.83 %\n",
      "340 2 63.260000000000005 %\n",
      "340 3 66.96 %\n",
      "340 4 62.83 %\n",
      "360 2 63.04 %\n",
      "360 3 66.96 %\n",
      "360 4 63.91 %\n",
      "380 2 62.83 %\n",
      "380 3 66.09 %\n",
      "380 4 63.91 %\n",
      "400 2 62.83 %\n",
      "400 3 66.3 %\n",
      "400 4 65.0 %\n",
      "420 2 63.480000000000004 %\n",
      "420 3 66.3 %\n",
      "420 4 64.78 %\n",
      "440 2 64.13 %\n",
      "440 3 66.09 %\n",
      "440 4 64.35 %\n",
      "460 2 64.13 %\n",
      "460 3 65.64999999999999 %\n",
      "460 4 64.35 %\n",
      "480 2 63.91 %\n",
      "480 3 65.64999999999999 %\n",
      "480 4 63.91 %\n",
      "500 2 64.57000000000001 %\n",
      "500 3 65.64999999999999 %\n",
      "500 4 64.13 %\n"
     ]
    }
   ],
   "source": [
    "for i in range(40,501,20):\n",
    "    for j in range(2,5):\n",
    "        RF = RandomForestClassifier(n_estimators=i, max_depth=None,min_samples_split=j, random_state=0)\n",
    "        RF.fit(X_train6,y_train6)\n",
    "        pred_RF = RF.predict(X_test6)\n",
    "        print(i,j,round(np.sum([y_test6==pred_RF])/len(y_test6),4)*100,\"%\")"
   ]
  },
  {
   "cell_type": "code",
   "execution_count": 22,
   "metadata": {},
   "outputs": [
    {
     "name": "stdout",
     "output_type": "stream",
     "text": [
      "              precision    recall  f1-score   support\n",
      "\n",
      "           0       0.57      0.76      0.65       110\n",
      "           2       0.76      0.55      0.64       100\n",
      "           9       0.69      0.52      0.59       111\n",
      "          11       0.71      0.80      0.75       139\n",
      "\n",
      "    accuracy                           0.67       460\n",
      "   macro avg       0.68      0.66      0.66       460\n",
      "weighted avg       0.68      0.67      0.67       460\n",
      "\n",
      "66.96 %\n"
     ]
    },
    {
     "data": {
      "image/png": "[encoded data removed]",
      "text/plain": [
       "<Figure size 600x600 with 2 Axes>"
      ]
     },
     "metadata": {},
     "output_type": "display_data"
    }
   ],
   "source": [
    "RF6 = RandomForestClassifier(n_estimators=340, max_depth=None,min_samples_split=3, random_state=0)\n",
    "RF6.fit(X_train6,y_train6)\n",
    "pred_RF6 = RF6.predict(X_test6)\n",
    "Confusion_Matrix(confusion_matrix(y_test6,pred_RF6))\n",
    "print(classification_report(y_test6, pred_RF6))\n",
    "print(round(np.sum([y_test6==pred_RF6])/len(y_test6),4)*100,\"%\")\n",
    "results.append(['images PCA 0.9', 'Random Forest',round(np.sum([y_test6==pred_RF6])/len(y_test6),4)*100 ])"
   ]
  },
  {
   "cell_type": "markdown",
   "metadata": {},
   "source": [
    "#### Logistic Regression"
   ]
  },
  {
   "cell_type": "code",
   "execution_count": 23,
   "metadata": {},
   "outputs": [
    {
     "name": "stdout",
     "output_type": "stream",
     "text": [
      "l1 liblinear 0.1 54.13 %\n",
      "l1 liblinear 0.01 54.779999999999994 %\n",
      "l1 liblinear 0.001 55.00000000000001 %\n",
      "l1 saga 0.1 55.22 %\n",
      "l1 saga 0.01 54.779999999999994 %\n",
      "l1 saga 0.001 53.910000000000004 %\n",
      "l2 lbfgs 0.1 53.480000000000004 %\n",
      "l2 lbfgs 0.01 53.480000000000004 %\n",
      "l2 lbfgs 0.001 53.480000000000004 %\n",
      "l2 liblinear 0.1 53.04 %\n",
      "l2 liblinear 0.01 54.13 %\n",
      "l2 liblinear 0.001 53.910000000000004 %\n",
      "l2 newton-cg 0.1 53.7 %\n",
      "l2 newton-cg 0.01 53.7 %\n",
      "l2 newton-cg 0.001 53.7 %\n",
      "l2 sag 0.1 56.52 %\n",
      "l2 sag 0.01 53.910000000000004 %\n",
      "l2 sag 0.001 53.7 %\n",
      "l2 saga 0.1 55.22 %\n",
      "l2 saga 0.01 54.779999999999994 %\n",
      "l2 saga 0.001 53.910000000000004 %\n"
     ]
    }
   ],
   "source": [
    "penilties = [\"l1\",\"l2\",\"elasticnet\"]\n",
    "solvers = [\"lbfgs\",\"liblinear\",\"newton-cg\",\"newton-cholesky\",\"sag\",\"saga\"]\n",
    "tols= [0.1 ,0.01, 0.001]\n",
    "\n",
    "for i in penilties:\n",
    "    for j in solvers:\n",
    "        for k in tols:\n",
    "            try:\n",
    "                LR = LogisticRegression(penalty=i, solver=j, tol=k, max_iter=10000,random_state=0)\n",
    "                LR.fit(X_train6,y_train6)\n",
    "                pred_LR = LR.predict(X_test6)\n",
    "                print(i,j,k,round(np.sum([y_test6==pred_LR])/len(y_test6),4)*100,\"%\")\n",
    "            except:\n",
    "                pass\n",
    "        "
   ]
  },
  {
   "cell_type": "code",
   "execution_count": 24,
   "metadata": {},
   "outputs": [
    {
     "name": "stdout",
     "output_type": "stream",
     "text": [
      "              precision    recall  f1-score   support\n",
      "\n",
      "           0       0.52      0.52      0.52       110\n",
      "           2       0.48      0.46      0.47       100\n",
      "           9       0.56      0.40      0.46       111\n",
      "          11       0.64      0.81      0.72       139\n",
      "\n",
      "    accuracy                           0.57       460\n",
      "   macro avg       0.55      0.55      0.54       460\n",
      "weighted avg       0.56      0.57      0.55       460\n",
      "\n",
      "56.52 %\n"
     ]
    },
    {
     "data": {
      "image/png": "[encoded data removed]",
      "text/plain": [
       "<Figure size 600x600 with 2 Axes>"
      ]
     },
     "metadata": {},
     "output_type": "display_data"
    }
   ],
   "source": [
    "LR6 = LogisticRegression(penalty=\"l2\", solver=\"sag\", tol=0.1, max_iter=10000, random_state=0)\n",
    "LR6.fit(X_train6,y_train6)\n",
    "pred_LR6 = LR6.predict(X_test6)\n",
    "Confusion_Matrix(confusion_matrix(y_test6,pred_LR6))\n",
    "print(classification_report(y_test6, pred_LR6))\n",
    "print(round(np.sum([y_test6==pred_LR6])/len(y_test6),4)*100,\"%\")\n",
    "results.append(['images PCA 0.9', 'Logistic Regression',round(np.sum([y_test6==pred_LR6])/len(y_test6),4)*100 ])"
   ]
  },
  {
   "cell_type": "code",
   "execution_count": 25,
   "metadata": {},
   "outputs": [],
   "source": [
    "import pickle\n",
    "filenames = ['svm6.sav','knn6.sav','ada6.sav','RF6.sav','LR6.sav']\n",
    "models= [svm6,neigh6,ada6,RF6,LR6]\n",
    "\n",
    "for i in range(len(filenames)): \n",
    "    pickle.dump(models[i], open(filenames[i], 'wb'))"
   ]
  },
  {
   "cell_type": "code",
   "execution_count": null,
   "metadata": {},
   "outputs": [],
   "source": []
  },
  {
   "cell_type": "code",
   "execution_count": 26,
   "metadata": {},
   "outputs": [
    {
     "name": "stdout",
     "output_type": "stream",
     "text": [
      "(1073, 311)\n",
      "(460, 311)\n"
     ]
    }
   ],
   "source": [
    "pca1=PCA(n_components=0.95)\n",
    "X_train7=pca1.fit_transform(X_train)\n",
    "X_test7=pca1.transform(X_test)\n",
    "y_train7 = y_train\n",
    "y_test7 = y_test\n",
    "\n",
    "print(X_train7.shape)\n",
    "print(X_test7.shape)"
   ]
  },
  {
   "cell_type": "markdown",
   "metadata": {},
   "source": [
    "# RUN ON DATA SET OF IMAGE PCA 0.95"
   ]
  },
  {
   "cell_type": "markdown",
   "metadata": {},
   "source": [
    "#### SVM"
   ]
  },
  {
   "cell_type": "code",
   "execution_count": 27,
   "metadata": {},
   "outputs": [
    {
     "name": "stdout",
     "output_type": "stream",
     "text": [
      "OneVsOneClassifier\n",
      "hinge l2 55.87 %\n",
      "squared_hinge l2 55.87 %\n",
      "OutputCodeClassifier\n",
      "hinge l2 33.910000000000004 %\n",
      "squared_hinge l2 43.26 %\n",
      "OneVsRestClassifier\n",
      "hinge l2 47.61 %\n",
      "squared_hinge l2 47.61 %\n"
     ]
    }
   ],
   "source": [
    "losses = [\"hinge\",\"squared_hinge\"]\n",
    "penalties = [\"l1\",\"l2\"]\n",
    "\n",
    "print(\"OneVsOneClassifier\")\n",
    "for i in losses:\n",
    "    for j in penalties:\n",
    "        try:\n",
    "            svm =  OneVsOneClassifier(LinearSVC(random_state=0, loss=i,penalty=j,)).fit(X_train7, y_train7)\n",
    "            pred_svm = svm.predict(X_test7)\n",
    "            print(i,j,round(np.sum([y_test7==pred_svm])/len(y_test7),4)*100,\"%\")\n",
    "        except:\n",
    "            pass\n",
    "\n",
    "print(\"OutputCodeClassifier\")\n",
    "for i in losses:\n",
    "    for j in penalties:\n",
    "        try:\n",
    "            svm =  OutputCodeClassifier(LinearSVC(random_state=0, loss=i,penalty=j,)).fit(X_train7, y_train7)\n",
    "            pred_svm = svm.predict(X_test7)\n",
    "            print(i,j,round(np.sum([y_test7==pred_svm])/len(y_test7),4)*100,\"%\")\n",
    "        except:\n",
    "            pass\n",
    "\n",
    "\n",
    "print(\"OneVsRestClassifier\")\n",
    "for i in losses:\n",
    "    for j in penalties:\n",
    "        try:\n",
    "            svm =  OneVsRestClassifier(LinearSVC(random_state=0, loss=i,penalty=j,)).fit(X_train7, y_train7)\n",
    "            pred_svm = svm.predict(X_test7)\n",
    "            print(i,j,round(np.sum([y_test7==pred_svm])/len(y_test7),4)*100,\"%\")\n",
    "        except:\n",
    "            pass"
   ]
  },
  {
   "cell_type": "code",
   "execution_count": 28,
   "metadata": {},
   "outputs": [
    {
     "name": "stdout",
     "output_type": "stream",
     "text": [
      "              precision    recall  f1-score   support\n",
      "\n",
      "           0       0.54      0.52      0.53       110\n",
      "           2       0.50      0.59      0.54       100\n",
      "           9       0.44      0.35      0.39       111\n",
      "          11       0.68      0.73      0.71       139\n",
      "\n",
      "    accuracy                           0.56       460\n",
      "   macro avg       0.54      0.55      0.54       460\n",
      "weighted avg       0.55      0.56      0.55       460\n",
      "\n",
      "55.87 %\n"
     ]
    },
    {
     "data": {
      "image/png": "[encoded data removed]",
      "text/plain": [
       "<Figure size 600x600 with 2 Axes>"
      ]
     },
     "metadata": {},
     "output_type": "display_data"
    }
   ],
   "source": [
    "svm7 = OneVsOneClassifier(LinearSVC(random_state=0, loss=\"hinge\",penalty=\"l2\")).fit(X_train7, y_train7)\n",
    "pred_svm7 = svm7.predict(X_test7)\n",
    "Confusion_Matrix(confusion_matrix(y_test7,pred_svm7))\n",
    "print(classification_report(y_test7, pred_svm7))\n",
    "print(round(np.sum([y_test7==pred_svm7])/len(y_test7),4)*100,\"%\")\n",
    "results.append(['images PCA 0.95', 'SVM',round(np.sum([y_test7==pred_svm7])/len(y_test7),4)*100 ])"
   ]
  },
  {
   "cell_type": "markdown",
   "metadata": {},
   "source": [
    "#### KNN"
   ]
  },
  {
   "cell_type": "code",
   "execution_count": 29,
   "metadata": {},
   "outputs": [
    {
     "name": "stdout",
     "output_type": "stream",
     "text": [
      "1 59.35 %\n",
      "2 53.04 %\n",
      "3 55.65 %\n",
      "4 55.43 %\n",
      "5 52.61 %\n",
      "6 54.35 %\n",
      "7 55.43 %\n",
      "8 55.22 %\n",
      "9 55.87 %\n",
      "10 57.17 %\n",
      "11 56.089999999999996 %\n",
      "12 55.65 %\n",
      "13 54.35 %\n",
      "14 56.089999999999996 %\n",
      "15 54.13 %\n",
      "16 54.779999999999994 %\n",
      "17 53.26 %\n",
      "18 54.35 %\n",
      "19 53.910000000000004 %\n",
      "20 54.13 %\n",
      "21 53.26 %\n",
      "22 53.7 %\n",
      "23 53.7 %\n",
      "24 54.35 %\n",
      "25 55.00000000000001 %\n",
      "26 54.13 %\n",
      "27 54.35 %\n",
      "28 55.22 %\n",
      "29 53.480000000000004 %\n",
      "30 53.26 %\n",
      "31 53.910000000000004 %\n",
      "32 53.04 %\n",
      "33 54.56999999999999 %\n",
      "34 54.779999999999994 %\n",
      "35 55.00000000000001 %\n",
      "36 54.13 %\n",
      "37 53.910000000000004 %\n",
      "38 54.56999999999999 %\n",
      "39 54.56999999999999 %\n",
      "40 55.22 %\n",
      "41 53.910000000000004 %\n",
      "42 54.35 %\n",
      "43 53.480000000000004 %\n",
      "44 53.7 %\n",
      "45 53.910000000000004 %\n",
      "46 53.480000000000004 %\n",
      "47 53.910000000000004 %\n",
      "48 53.480000000000004 %\n",
      "49 52.83 %\n",
      "50 53.26 %\n"
     ]
    }
   ],
   "source": [
    "for i in range(1,51):\n",
    "    neigh = KNeighborsClassifier(n_neighbors=i)\n",
    "    neigh.fit(X_train7,y_train7)\n",
    "    pred_knn = neigh.predict(X_test7)\n",
    "    print(i,round(np.sum([y_test7==pred_knn])/len(y_test7),4)*100,\"%\")"
   ]
  },
  {
   "cell_type": "code",
   "execution_count": 30,
   "metadata": {},
   "outputs": [
    {
     "name": "stdout",
     "output_type": "stream",
     "text": [
      "              precision    recall  f1-score   support\n",
      "\n",
      "           0       0.56      0.55      0.55       110\n",
      "           2       0.60      0.60      0.60       100\n",
      "           9       0.53      0.44      0.48       111\n",
      "          11       0.65      0.75      0.70       139\n",
      "\n",
      "    accuracy                           0.59       460\n",
      "   macro avg       0.58      0.58      0.58       460\n",
      "weighted avg       0.59      0.59      0.59       460\n",
      "\n",
      "59.35 %\n"
     ]
    },
    {
     "data": {
      "image/png": "[encoded data removed]",
      "text/plain": [
       "<Figure size 600x600 with 2 Axes>"
      ]
     },
     "metadata": {},
     "output_type": "display_data"
    }
   ],
   "source": [
    "neigh7 = KNeighborsClassifier(n_neighbors=1)\n",
    "neigh7.fit(X_train7,y_train7)\n",
    "pred_knn7 = neigh7.predict(X_test7)\n",
    "Confusion_Matrix(confusion_matrix(y_test7,pred_knn7))\n",
    "print(classification_report(y_test7, pred_knn7))\n",
    "print(round(np.sum([y_test7==pred_knn7])/len(y_test7),4)*100,\"%\")\n",
    "results.append(['images PCA 0.95', 'KNN',round(np.sum([y_test7==pred_knn7])/len(y_test7),4)*100 ])"
   ]
  },
  {
   "cell_type": "markdown",
   "metadata": {},
   "source": [
    "#### Adaboost"
   ]
  },
  {
   "cell_type": "code",
   "execution_count": 31,
   "metadata": {},
   "outputs": [
    {
     "name": "stdout",
     "output_type": "stream",
     "text": [
      "50 49.57 %\n",
      "100 50.64999999999999 %\n",
      "150 51.300000000000004 %\n",
      "200 49.78 %\n",
      "250 52.61 %\n",
      "300 54.13 %\n",
      "350 54.779999999999994 %\n",
      "400 54.35 %\n",
      "450 56.3 %\n",
      "500 56.089999999999996 %\n",
      "550 55.87 %\n",
      "600 55.43 %\n",
      "650 55.87 %\n",
      "700 55.87 %\n",
      "750 54.56999999999999 %\n",
      "800 55.22 %\n",
      "850 56.52 %\n",
      "900 55.87 %\n",
      "950 55.22 %\n",
      "1000 55.87 %\n",
      "1050 54.56999999999999 %\n",
      "1100 55.87 %\n",
      "1150 55.65 %\n",
      "1200 57.17 %\n",
      "1250 55.65 %\n",
      "1300 55.43 %\n",
      "1350 55.22 %\n",
      "1400 55.87 %\n",
      "1450 56.3 %\n",
      "1500 57.17 %\n",
      "1550 56.96 %\n",
      "1600 56.96 %\n",
      "1650 56.96 %\n",
      "1700 56.3 %\n",
      "1750 57.38999999999999 %\n",
      "1800 55.65 %\n",
      "1850 56.089999999999996 %\n",
      "1900 54.779999999999994 %\n",
      "1950 55.43 %\n",
      "2000 54.56999999999999 %\n"
     ]
    }
   ],
   "source": [
    "for i in range(50,2001,50):\n",
    "    ada = AdaBoostClassifier(n_estimators=i, algorithm=\"SAMME\", random_state=0)\n",
    "    ada.fit(X_train7,y_train7)\n",
    "    pred_ada = ada.predict(X_test7)\n",
    "    print(i,round(np.sum([y_test7==pred_ada])/len(y_test7),4)*100,\"%\")"
   ]
  },
  {
   "cell_type": "code",
   "execution_count": 32,
   "metadata": {},
   "outputs": [
    {
     "name": "stdout",
     "output_type": "stream",
     "text": [
      "              precision    recall  f1-score   support\n",
      "\n",
      "           0       0.46      0.51      0.48       110\n",
      "           2       0.56      0.44      0.49       100\n",
      "           9       0.51      0.48      0.49       111\n",
      "          11       0.72      0.80      0.76       139\n",
      "\n",
      "    accuracy                           0.57       460\n",
      "   macro avg       0.56      0.56      0.56       460\n",
      "weighted avg       0.57      0.57      0.57       460\n",
      "\n",
      "57.38999999999999 %\n"
     ]
    },
    {
     "data": {
      "image/png": "[encoded data removed]",
      "text/plain": [
       "<Figure size 600x600 with 2 Axes>"
      ]
     },
     "metadata": {},
     "output_type": "display_data"
    }
   ],
   "source": [
    "ada7 = AdaBoostClassifier(n_estimators=1750, algorithm=\"SAMME\",random_state=0)\n",
    "ada7.fit(X_train7,y_train7)\n",
    "pred_ada7 = ada7.predict(X_test7)\n",
    "Confusion_Matrix(confusion_matrix(y_test7,pred_ada7))\n",
    "print(classification_report(y_test7, pred_ada7))\n",
    "print(round(np.sum([y_test7==pred_ada7])/len(y_test7),4)*100,\"%\")\n",
    "results.append(['images PCA 0.95', 'Adaboost',round(np.sum([y_test7==pred_ada7])/len(y_test7),4)*100 ])"
   ]
  },
  {
   "cell_type": "markdown",
   "metadata": {},
   "source": [
    "#### Random Forest"
   ]
  },
  {
   "cell_type": "code",
   "execution_count": 33,
   "metadata": {},
   "outputs": [
    {
     "name": "stdout",
     "output_type": "stream",
     "text": [
      "40 2 59.13 %\n",
      "40 3 58.040000000000006 %\n",
      "40 4 56.74 %\n",
      "60 2 59.78 %\n",
      "60 3 59.13 %\n",
      "60 4 58.91 %\n",
      "80 2 60.42999999999999 %\n",
      "80 3 59.78 %\n",
      "80 4 59.13 %\n",
      "100 2 59.57 %\n",
      "100 3 60.42999999999999 %\n",
      "100 4 58.91 %\n",
      "120 2 63.7 %\n",
      "120 3 63.260000000000005 %\n",
      "120 4 62.61 %\n",
      "140 2 62.83 %\n",
      "140 3 61.3 %\n",
      "140 4 62.61 %\n",
      "160 2 62.61 %\n",
      "160 3 61.519999999999996 %\n",
      "160 4 61.739999999999995 %\n",
      "180 2 62.17 %\n",
      "180 3 61.96 %\n",
      "180 4 62.83 %\n",
      "200 2 61.739999999999995 %\n",
      "200 3 62.61 %\n",
      "200 4 61.96 %\n",
      "220 2 61.739999999999995 %\n",
      "220 3 62.83 %\n",
      "220 4 61.739999999999995 %\n",
      "240 2 61.96 %\n",
      "240 3 62.61 %\n",
      "240 4 61.739999999999995 %\n",
      "260 2 62.83 %\n",
      "260 3 62.17 %\n",
      "260 4 63.7 %\n",
      "280 2 63.7 %\n",
      "280 3 62.83 %\n",
      "280 4 61.739999999999995 %\n",
      "300 2 63.91 %\n",
      "300 3 62.61 %\n",
      "300 4 61.739999999999995 %\n",
      "320 2 64.35 %\n",
      "320 3 62.83 %\n",
      "320 4 61.09 %\n",
      "340 2 62.61 %\n",
      "340 3 63.91 %\n",
      "340 4 61.96 %\n",
      "360 2 63.91 %\n",
      "360 3 61.519999999999996 %\n",
      "360 4 62.17 %\n",
      "380 2 64.78 %\n",
      "380 3 62.61 %\n",
      "380 4 62.61 %\n",
      "400 2 64.78 %\n",
      "400 3 63.7 %\n",
      "400 4 61.519999999999996 %\n",
      "420 2 65.22 %\n",
      "420 3 63.260000000000005 %\n",
      "420 4 61.3 %\n",
      "440 2 65.0 %\n",
      "440 3 63.480000000000004 %\n",
      "440 4 61.96 %\n",
      "460 2 64.78 %\n",
      "460 3 63.260000000000005 %\n",
      "460 4 62.83 %\n",
      "480 2 65.42999999999999 %\n",
      "480 3 64.13 %\n",
      "480 4 61.96 %\n",
      "500 2 65.64999999999999 %\n",
      "500 3 63.7 %\n",
      "500 4 63.04 %\n"
     ]
    }
   ],
   "source": [
    "for i in range(40,501,20):\n",
    "    for j in range(2,5):\n",
    "        RF = RandomForestClassifier(n_estimators=i, max_depth=None,min_samples_split=j, random_state=0)\n",
    "        RF.fit(X_train7,y_train7)\n",
    "        pred_RF = RF.predict(X_test7)\n",
    "        print(i,j,round(np.sum([y_test7==pred_RF])/len(y_test7),4)*100,\"%\")"
   ]
  },
  {
   "cell_type": "code",
   "execution_count": 34,
   "metadata": {},
   "outputs": [
    {
     "name": "stdout",
     "output_type": "stream",
     "text": [
      "              precision    recall  f1-score   support\n",
      "\n",
      "           0       0.52      0.68      0.59       110\n",
      "           2       0.79      0.50      0.61       100\n",
      "           9       0.68      0.58      0.62       111\n",
      "          11       0.70      0.81      0.75       139\n",
      "\n",
      "    accuracy                           0.65       460\n",
      "   macro avg       0.67      0.64      0.65       460\n",
      "weighted avg       0.67      0.65      0.65       460\n",
      "\n",
      "65.42999999999999 %\n"
     ]
    },
    {
     "data": {
      "image/png": "[encoded data removed]",
      "text/plain": [
       "<Figure size 600x600 with 2 Axes>"
      ]
     },
     "metadata": {},
     "output_type": "display_data"
    }
   ],
   "source": [
    "RF7 = RandomForestClassifier(n_estimators=480, max_depth=None,min_samples_split=2, random_state=0)\n",
    "RF7.fit(X_train7,y_train7)\n",
    "pred_RF7 = RF7.predict(X_test7)\n",
    "Confusion_Matrix(confusion_matrix(y_test7,pred_RF7))\n",
    "print(classification_report(y_test7, pred_RF7))\n",
    "print(round(np.sum([y_test7==pred_RF7])/len(y_test7),4)*100,\"%\")\n",
    "results.append(['images PCA 0.95', 'Random Forest',round(np.sum([y_test7==pred_RF7])/len(y_test7),4)*100 ])"
   ]
  },
  {
   "cell_type": "markdown",
   "metadata": {},
   "source": [
    "#### Logistic Regression"
   ]
  },
  {
   "cell_type": "code",
   "execution_count": 35,
   "metadata": {},
   "outputs": [
    {
     "name": "stdout",
     "output_type": "stream",
     "text": [
      "l1 liblinear 0.1 53.910000000000004 %\n",
      "l1 liblinear 0.01 53.7 %\n",
      "l1 liblinear 0.001 52.83 %\n",
      "l1 saga 0.1 57.38999999999999 %\n",
      "l1 saga 0.01 55.65 %\n",
      "l1 saga 0.001 55.00000000000001 %\n",
      "l2 lbfgs 0.1 55.43 %\n",
      "l2 lbfgs 0.01 54.779999999999994 %\n",
      "l2 lbfgs 0.001 54.779999999999994 %\n",
      "l2 liblinear 0.1 53.26 %\n",
      "l2 liblinear 0.01 53.480000000000004 %\n",
      "l2 liblinear 0.001 52.61 %\n",
      "l2 newton-cg 0.1 54.35 %\n",
      "l2 newton-cg 0.01 54.56999999999999 %\n",
      "l2 newton-cg 0.001 54.56999999999999 %\n",
      "l2 sag 0.1 57.830000000000005 %\n",
      "l2 sag 0.01 53.26 %\n",
      "l2 sag 0.001 55.00000000000001 %\n",
      "l2 saga 0.1 57.38999999999999 %\n",
      "l2 saga 0.01 55.65 %\n",
      "l2 saga 0.001 55.00000000000001 %\n"
     ]
    }
   ],
   "source": [
    "penilties = [\"l1\",\"l2\",\"elasticnet\"]\n",
    "solvers = [\"lbfgs\",\"liblinear\",\"newton-cg\",\"newton-cholesky\",\"sag\",\"saga\"]\n",
    "tols= [0.1 ,0.01, 0.001]\n",
    "\n",
    "for i in penilties:\n",
    "    for j in solvers:\n",
    "        for k in tols:\n",
    "            try:\n",
    "                LR = LogisticRegression(penalty=i, solver=j, tol=k, max_iter=10000,random_state=0)\n",
    "                LR.fit(X_train7,y_train7)\n",
    "                pred_LR = LR.predict(X_test7)\n",
    "                print(i,j,k,round(np.sum([y_test7==pred_LR])/len(y_test7),4)*100,\"%\")\n",
    "            except:\n",
    "                pass\n",
    "        "
   ]
  },
  {
   "cell_type": "code",
   "execution_count": 36,
   "metadata": {},
   "outputs": [
    {
     "name": "stdout",
     "output_type": "stream",
     "text": [
      "              precision    recall  f1-score   support\n",
      "\n",
      "           0       0.53      0.52      0.53       110\n",
      "           2       0.52      0.51      0.52       100\n",
      "           9       0.54      0.40      0.46       111\n",
      "          11       0.66      0.82      0.73       139\n",
      "\n",
      "    accuracy                           0.58       460\n",
      "   macro avg       0.56      0.56      0.56       460\n",
      "weighted avg       0.57      0.58      0.57       460\n",
      "\n",
      "57.830000000000005 %\n"
     ]
    },
    {
     "data": {
      "image/png": "[encoded data removed]",
      "text/plain": [
       "<Figure size 600x600 with 2 Axes>"
      ]
     },
     "metadata": {},
     "output_type": "display_data"
    }
   ],
   "source": [
    "LR7 = LogisticRegression(penalty=\"l2\", solver=\"sag\", tol=0.1, max_iter=10000, random_state=0)\n",
    "LR7.fit(X_train7,y_train7)\n",
    "pred_LR7 = LR7.predict(X_test7)\n",
    "Confusion_Matrix(confusion_matrix(y_test7,pred_LR7))\n",
    "print(classification_report(y_test7, pred_LR7))\n",
    "print(round(np.sum([y_test7==pred_LR7])/len(y_test7),4)*100,\"%\")\n",
    "results.append(['images PCA 0.95', 'Logistic Regression',round(np.sum([y_test7==pred_LR7])/len(y_test7),4)*100 ])"
   ]
  },
  {
   "cell_type": "code",
   "execution_count": 37,
   "metadata": {},
   "outputs": [],
   "source": [
    "cols = [\"df_type\",\"classifier\",\"accuracy\"]\n",
    "df = pd.DataFrame(results, columns=cols)"
   ]
  },
  {
   "cell_type": "code",
   "execution_count": 38,
   "metadata": {},
   "outputs": [
    {
     "data": {
      "text/html": [
       "<div>\n",
       "<style scoped>\n",
       "    .dataframe tbody tr th:only-of-type {\n",
       "        vertical-align: middle;\n",
       "    }\n",
       "\n",
       "    .dataframe tbody tr th {\n",
       "        vertical-align: top;\n",
       "    }\n",
       "\n",
       "    .dataframe thead th {\n",
       "        text-align: right;\n",
       "    }\n",
       "</style>\n",
       "<table border=\"1\" class=\"dataframe\">\n",
       "  <thead>\n",
       "    <tr style=\"text-align: right;\">\n",
       "      <th></th>\n",
       "      <th>df_type</th>\n",
       "      <th>classifier</th>\n",
       "      <th>accuracy</th>\n",
       "    </tr>\n",
       "  </thead>\n",
       "  <tbody>\n",
       "    <tr>\n",
       "      <th>0</th>\n",
       "      <td>images PCA 0.9</td>\n",
       "      <td>SVM</td>\n",
       "      <td>39.35</td>\n",
       "    </tr>\n",
       "    <tr>\n",
       "      <th>1</th>\n",
       "      <td>images PCA 0.9</td>\n",
       "      <td>KNN</td>\n",
       "      <td>60.43</td>\n",
       "    </tr>\n",
       "    <tr>\n",
       "      <th>2</th>\n",
       "      <td>images PCA 0.9</td>\n",
       "      <td>Adaboost</td>\n",
       "      <td>55.43</td>\n",
       "    </tr>\n",
       "    <tr>\n",
       "      <th>3</th>\n",
       "      <td>images PCA 0.9</td>\n",
       "      <td>Random Forest</td>\n",
       "      <td>66.96</td>\n",
       "    </tr>\n",
       "    <tr>\n",
       "      <th>4</th>\n",
       "      <td>images PCA 0.9</td>\n",
       "      <td>Logistic Regression</td>\n",
       "      <td>56.52</td>\n",
       "    </tr>\n",
       "    <tr>\n",
       "      <th>5</th>\n",
       "      <td>images PCA 0.95</td>\n",
       "      <td>SVM</td>\n",
       "      <td>55.87</td>\n",
       "    </tr>\n",
       "    <tr>\n",
       "      <th>6</th>\n",
       "      <td>images PCA 0.95</td>\n",
       "      <td>KNN</td>\n",
       "      <td>59.35</td>\n",
       "    </tr>\n",
       "    <tr>\n",
       "      <th>7</th>\n",
       "      <td>images PCA 0.95</td>\n",
       "      <td>Adaboost</td>\n",
       "      <td>57.39</td>\n",
       "    </tr>\n",
       "    <tr>\n",
       "      <th>8</th>\n",
       "      <td>images PCA 0.95</td>\n",
       "      <td>Random Forest</td>\n",
       "      <td>65.43</td>\n",
       "    </tr>\n",
       "    <tr>\n",
       "      <th>9</th>\n",
       "      <td>images PCA 0.95</td>\n",
       "      <td>Logistic Regression</td>\n",
       "      <td>57.83</td>\n",
       "    </tr>\n",
       "  </tbody>\n",
       "</table>\n",
       "</div>"
      ],
      "text/plain": [
       "           df_type           classifier  accuracy\n",
       "0   images PCA 0.9                  SVM     39.35\n",
       "1   images PCA 0.9                  KNN     60.43\n",
       "2   images PCA 0.9             Adaboost     55.43\n",
       "3   images PCA 0.9        Random Forest     66.96\n",
       "4   images PCA 0.9  Logistic Regression     56.52\n",
       "5  images PCA 0.95                  SVM     55.87\n",
       "6  images PCA 0.95                  KNN     59.35\n",
       "7  images PCA 0.95             Adaboost     57.39\n",
       "8  images PCA 0.95        Random Forest     65.43\n",
       "9  images PCA 0.95  Logistic Regression     57.83"
      ]
     },
     "execution_count": 38,
     "metadata": {},
     "output_type": "execute_result"
    }
   ],
   "source": [
    "df"
   ]
  },
  {
   "cell_type": "code",
   "execution_count": 39,
   "metadata": {},
   "outputs": [],
   "source": [
    "import pickle\n",
    "filenames = ['svm7.sav','knn7.sav','ada7.sav','RF7.sav','LR7.sav']\n",
    "models= [svm7,neigh7,ada7,RF7,LR7]\n",
    "\n",
    "for i in range(len(filenames)): \n",
    "    pickle.dump(models[i], open(filenames[i], 'wb'))"
   ]
  },
  {
   "cell_type": "code",
   "execution_count": null,
   "metadata": {},
   "outputs": [],
   "source": []
  },
  {
   "cell_type": "code",
   "execution_count": null,
   "metadata": {},
   "outputs": [],
   "source": []
  }
 ],
 "metadata": {
  "kernelspec": {
   "display_name": "Python 3",
   "language": "python",
   "name": "python3"
  },
  "language_info": {
   "codemirror_mode": {
    "name": "ipython",
    "version": 3
   },
   "file_extension": ".py",
   "mimetype": "text/x-python",
   "name": "python",
   "nbconvert_exporter": "python",
   "pygments_lexer": "ipython3",
   "version": "3.10.8"
  }
 },
 "nbformat": 4,
 "nbformat_minor": 2
}
